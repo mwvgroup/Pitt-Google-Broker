{
 "cells": [
  {
   "cell_type": "markdown",
   "metadata": {},
   "source": [
    "# ZTF Kafka Demo\n",
    "\n",
    "## Setup:\n",
    "\n",
    "You will need to download/acquire the authentication and configuration files: `pitt-reader.user.keytab` and `krb5.conf`\n"
   ]
  },
  {
   "cell_type": "code",
   "execution_count": null,
   "metadata": {},
   "outputs": [],
   "source": [
    "import os\n",
    "\n",
    "from confluent_kafka import Consumer, KafkaException, OFFSET_BEGINNING\n"
   ]
  },
  {
   "cell_type": "markdown",
   "metadata": {},
   "source": [
    "## Configure a consumer\n",
    "\n",
    "- For details on configuration options see https://github.com/edenhill/librdkafka/blob/master/CONFIGURATION.md\n",
    "- For API docs see https://docs.confluent.io/current/clients/confluent-kafka-python/"
   ]
  },
  {
   "cell_type": "code",
   "execution_count": null,
   "metadata": {},
   "outputs": [],
   "source": [
    "os.environ['KRB5_CONFIG'] = './krb5.conf'\n",
    "\n",
    "# Consumer configuration\n",
    "conf = {\n",
    "    'bootstrap.servers': 'public2.alerts.ztf.uw.edu:9094',\n",
    "    'group.id': 'group',\n",
    "    'session.timeout.ms': 6000,\n",
    "    'enable.auto.commit': 'FALSE',  \n",
    "    'sasl.kerberos.principal': 'pitt-reader@KAFKA.SECURE',\n",
    "    'sasl.kerberos.kinit.cmd': 'kinit -t \"%{sasl.kerberos.keytab}\" -k %{sasl.kerberos.principal}',\n",
    "    'sasl.kerberos.keytab': './pitt-reader.user.keytab',\n",
    "    'sasl.kerberos.service.name': 'kafka',\n",
    "    'security.protocol': 'SASL_PLAINTEXT',\n",
    "    'sasl.mechanisms': 'GSSAPI',\n",
    "    'auto.offset.reset': 'earliest'\n",
    "}\n",
    "\n",
    "# Create Consumer instance\n",
    "c = Consumer(conf)\n"
   ]
  },
  {
   "cell_type": "markdown",
   "metadata": {},
   "source": [
    "## Subscribe and retrieve an assignment\n",
    "\n",
    "Note that each observing night is it's own topic."
   ]
  },
  {
   "cell_type": "code",
   "execution_count": null,
   "metadata": {},
   "outputs": [],
   "source": [
    "year = 2020\n",
    "month = 2\n",
    "day = 11\n",
    "\n",
    "# Each topic is its own date\n",
    "topic = f'ztf_{year}{month:02d}{day:02d}_programid1'\n",
    "c.subscribe([topic])\n"
   ]
  },
  {
   "cell_type": "code",
   "execution_count": null,
   "metadata": {},
   "outputs": [],
   "source": [
    "# Poll until our consumer is automatically assigned to a partition(s)\n",
    "while not c.assignment():\n",
    "    c.poll(timeout=1)\n",
    "\n",
    "c.assignment()\n"
   ]
  },
  {
   "cell_type": "code",
   "execution_count": null,
   "metadata": {},
   "outputs": [],
   "source": [
    "# If we want, we can manually reset to the beggining of each partition\n",
    "topic_partitions = c.assignment()\n",
    "for tp in topic_partitions:\n",
    "    tp.offset = OFFSET_BEGINNING\n",
    "    \n",
    "c.assign(topic_partitions)\n"
   ]
  },
  {
   "cell_type": "markdown",
   "metadata": {},
   "source": [
    "### Poll for data"
   ]
  },
  {
   "cell_type": "code",
   "execution_count": null,
   "metadata": {
    "scrolled": false
   },
   "outputs": [],
   "source": [
    "msg = None\n",
    "while not msg:\n",
    "    msg = c.poll(timeout=1.0)\n",
    "    \n",
    "if msg.error():\n",
    "    raise KafkaException(msg.error())\n",
    "\n",
    "print('topic:    ', msg.topic())\n",
    "print('partition:', msg.partition())\n",
    "print('offset:   ', msg.offset())\n",
    "print('key:      ', str(msg.key()), '\\n') \n",
    "    "
   ]
  },
  {
   "cell_type": "code",
   "execution_count": null,
   "metadata": {},
   "outputs": [],
   "source": []
  }
 ],
 "metadata": {
  "kernelspec": {
   "display_name": "Python [conda env:ztf]",
   "language": "python",
   "name": "conda-env-ztf-py"
  },
  "language_info": {
   "codemirror_mode": {
    "name": "ipython",
    "version": 3
   },
   "file_extension": ".py",
   "mimetype": "text/x-python",
   "name": "python",
   "nbconvert_exporter": "python",
   "pygments_lexer": "ipython3",
   "version": "3.7.0"
  }
 },
 "nbformat": 4,
 "nbformat_minor": 2
}
