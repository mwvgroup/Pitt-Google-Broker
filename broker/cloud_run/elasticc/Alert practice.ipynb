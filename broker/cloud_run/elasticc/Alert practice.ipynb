{
 "cells": [
  {
   "cell_type": "code",
   "execution_count": 4,
   "id": "1b2c24bb",
   "metadata": {},
   "outputs": [],
   "source": [
    "import datetime\n",
    "import base64\n",
    "import os\n",
    "import io\n",
    "from typing import Tuple\n",
    "import fastavro\n",
    "from flask import Flask, request\n",
    "from google.cloud import logging\n",
    "from broker_utils import data_utils, gcp_utils, schema_maps\n",
    "import yaml\n",
    "\n",
    "\n",
    "# replace this with a path to a single, unzipped alert (file extension should be .avro)\n",
    "f = \"/Users/hndz/Downloads/LSST_ALERTS_BATCH/ALERTS/NITE59581/alert_mjd59582.0513_obj1130_src2260000.avro\"\n",
    "fin = \"/Users/hndz/Pitt-Google-Broker/broker/broker_utils/schema_maps/elasticc.yaml\"\n",
    "with open(fin, \"rt\") as f_schema:\n",
    "    schema_map = yaml.safe_load(f_schema)\n",
    "    \n",
    "    \n",
    "# load the alert\n",
    "elasticc_alert = data_utils.decode_alert(f)\n",
    "\n",
    "# for the SuperNNova results, you can use this dummy data:\n",
    "supernnova_results = {\n",
    "    \"diaObjectId\": 1130,\n",
    "    \"diaSourceId\": 2260000,\n",
    "    \"prob_class0\": 0.201,\n",
    "    \"prob_class1\": 0.799,\n",
    "    \"predicted_class\": 1,\n",
    "}\n",
    "\n",
    "alert_dict = {\"alert\": elasticc_alert, \"SuperNNova\": supernnova_results}\n",
    "now = datetime.datetime.now(datetime.timezone.utc)\n",
    "attrs = {\"kafka.timestamp\": now, \"ingest_time\": now}\n",
    "schema_out = fastavro.schema.load_schema(\"elasticc.v0_9.brokerClassfication.avsc\")"
   ]
  },
  {
   "cell_type": "code",
   "execution_count": 5,
   "id": "219e6106",
   "metadata": {},
   "outputs": [],
   "source": [
    "def _create_elasticc_msg(alert_dict, attrs):\n",
    "    \"\"\"Create a message according to the ELAsTiCC broker classifications schema.\n",
    "\n",
    "    https://github.com/LSSTDESC/plasticc_alerts/blob/main/Examples/plasticc_schema\n",
    "    \"\"\"\n",
    "    # original elasticc alert as a dict\n",
    "    elasticc_alert = alert_dict[\"alert\"]\n",
    "\n",
    "    # dict with the following keys:\n",
    "    #   schema_map[\"objectId\"]\n",
    "    #   schema_map[\"sourceId\"]\n",
    "    #   \"prob_class0\"\n",
    "    #   \"prob_class1\"\n",
    "    #   \"predicted_class\"\n",
    "    supernnova_results = alert_dict[\"SuperNNova\"]\n",
    "\n",
    "    # here are a few things you'll need\n",
    "    elasticcPublishTimestamp = attrs[\"kafka.timestamp\"]\n",
    "    brokerIngestTimestamp = attrs[\"ingest_time\"]  # Troy: attach this in first module\n",
    "    brokerVersion = \"v0.6\"\n",
    "\n",
    "    classifications = [\n",
    "        {\n",
    "            \"classifierName\": \"SuperNNova_v1.3\",  # Troy: pin version in classify_snn\n",
    "            # Chris: fill these two in. classIds are listed here:\n",
    "            #        https://docs.google.com/presentation/d/1FwOdELG-XgdNtySeIjF62bDRVU5EsCToi2Svo_kXA50/edit#slide=id.ge52201f94a_0_12\n",
    "            \"classifierParams\": \"\",  # leave this blank for now\n",
    "            \"classId\": 111120,\n",
    "            \"probability\": supernnova_results[\"prob_class0\"], \n",
    "        },\n",
    "    ]\n",
    "\n",
    "    # Chris: fill this in with the correct key/value pairs.\n",
    "    #        it is the dictionary that will be sent to elasticc, so it needs these:\n",
    "    #        https://github.com/LSSTDESC/plasticc_alerts/blob/main/Examples/plasticc_schema/elasticc.v0_9.brokerClassification.avsc\n",
    "    msg = {\n",
    "        \"alertId\": elasticc_alert[\"alertId\"],\n",
    "        \"diaSourceId\": elasticc_alert[schema_map[\"source\"]][schema_map[\"sourceId\"]],\n",
    "        \"elasticcPublishTimestamp\": elasticcPublishTimestamp, \n",
    "        \"brokerIngestTimestamp\": brokerIngestTimestamp,\n",
    "        \"brokerName\": \"Pitt-Google Broker\",\n",
    "        \"brokerVersion\": brokerVersion,\n",
    "        \"classifications\": classifications\n",
    "    }\n",
    "\n",
    "    # avro serialize the dictionary\n",
    "    avro = _dict_to_avro(msg, schema_out)\n",
    "\n",
    "    return avro\n",
    "\n",
    "def _dict_to_avro(msg: dict, schema: dict):\n",
    "    \"\"\"Avro serialize a dictionary.\"\"\"\n",
    "    fout = io.BytesIO()\n",
    "    fastavro.writer(fout, schema, [msg])\n",
    "    fout.seek(0)\n",
    "    avro = fout.getvalue()\n",
    "    return avro"
   ]
  },
  {
   "cell_type": "code",
   "execution_count": 6,
   "id": "8c89f8e7",
   "metadata": {},
   "outputs": [
    {
     "data": {
      "text/plain": [
       "b'Obj\\x01\\x04\\x14avro.codec\\x08null\\x16avro.schema\\xaa\\x14{\"type\": \"record\", \"doc\": \"sample avro alert schema v4.1\", \"name\": \"elasticc.v0_9.brokerClassfication\", \"fields\": [{\"doc\": \"unique alert identifer\", \"name\": \"alertId\", \"type\": \"long\"}, {\"doc\": \"id of source that triggered this classification\", \"name\": \"diaSourceId\", \"type\": \"long\"}, {\"doc\": \"timestamp from originating ELAsTiCC alert\", \"name\": \"elasticcPublishTimestamp\", \"type\": {\"logicalType\": \"timestamp-micros\", \"type\": \"long\"}}, {\"doc\": \"timestamp of broker ingestion of ELAsTiCC alert\", \"name\": \"brokerIngestTimestamp\", \"type\": [\"null\", {\"logicalType\": \"timestamp-micros\", \"type\": \"long\"}]}, {\"doc\": \"Name of broker (never changes)\", \"name\": \"brokerName\", \"type\": \"string\"}, {\"doc\": \"Version/Release of broker\\'s software\", \"name\": \"brokerVersion\", \"type\": \"string\"}, {\"name\": \"classifications\", \"type\": {\"type\": \"array\", \"items\": {\"type\": \"record\", \"name\": \"elasticc.v0_9.classificationDict\", \"fields\": [{\"doc\": \"Name of classifier broker is using, including software version\", \"name\": \"classifierName\", \"type\": \"string\"}, {\"doc\": \"Any classifier parameter information worth noting for this classification\", \"name\": \"classifierParams\", \"type\": \"string\"}, {\"doc\": \"See <filename> for specification\", \"name\": \"classId\", \"type\": \"int\"}, {\"doc\": \"0-1\", \"name\": \"probability\", \"type\": \"float\"}]}}}]}\\x00z\\x88\\x9e\\xc6&\\xca\\xe3\\xef\\x9e\\x99\\xd6\\x82\\t\\xdf\\xd5o\\x02\\x98\\x01\\xd2\\xe3\\xa3\\x96\\t\\xc0\\xf0\\x93\\x02\\xec\\x9b\\xbe\\xf9\\xa8\\xb5\\xef\\x05\\x02\\xec\\x9b\\xbe\\xf9\\xa8\\xb5\\xef\\x05$Pitt-Google Broker\\x08v0.6\\x02\\x1eSuperNNova_v1.3\\x00\\xa0\\xc8\\r\\xf2\\xd2M>\\x00z\\x88\\x9e\\xc6&\\xca\\xe3\\xef\\x9e\\x99\\xd6\\x82\\t\\xdf\\xd5o'"
      ]
     },
     "execution_count": 6,
     "metadata": {},
     "output_type": "execute_result"
    }
   ],
   "source": [
    "_create_elasticc_msg(alert_dict, attrs)"
   ]
  }
 ],
 "metadata": {
  "kernelspec": {
   "display_name": "Python [conda env:pgb]",
   "language": "python",
   "name": "conda-env-pgb-py"
  },
  "language_info": {
   "codemirror_mode": {
    "name": "ipython",
    "version": 3
   },
   "file_extension": ".py",
   "mimetype": "text/x-python",
   "name": "python",
   "nbconvert_exporter": "python",
   "pygments_lexer": "ipython3",
   "version": "3.7.11"
  }
 },
 "nbformat": 4,
 "nbformat_minor": 5
}
