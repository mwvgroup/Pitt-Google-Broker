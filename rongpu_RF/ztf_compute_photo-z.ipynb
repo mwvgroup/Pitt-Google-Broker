{
 "cells": [
  {
   "cell_type": "code",
   "execution_count": 1,
   "metadata": {},
   "outputs": [],
   "source": [
    "from __future__ import division, print_function\n",
    "import numpy as np\n",
    "import matplotlib.pyplot as plt\n",
    "# import fitsio\n",
    "from astropy.table import Table\n",
    "import sys, os, time, gc, warnings\n",
    "\n",
    "from run_rf_photoz import get_radius, compute_photoz, nmad"
   ]
  },
  {
   "cell_type": "markdown",
   "metadata": {},
   "source": [
    "__Specify which data release of Legacy Survey__"
   ]
  },
  {
   "cell_type": "code",
   "execution_count": 2,
   "metadata": {},
   "outputs": [],
   "source": [
    "# dr = 6 # dr6\n",
    "dr = 7 # dr7"
   ]
  },
  {
   "cell_type": "markdown",
   "metadata": {},
   "source": [
    "__Load data__"
   ]
  },
  {
   "cell_type": "code",
   "execution_count": 3,
   "metadata": {},
   "outputs": [],
   "source": [
    "cat = Table.read('data/ztf19aathmll_host.csv')\n",
    "cat = cat.filled(-99)"
   ]
  },
  {
   "cell_type": "code",
   "execution_count": 4,
   "metadata": {},
   "outputs": [
    {
     "data": {
      "text/html": [
       "<i>Table length=1</i>\n",
       "<table id=\"table46913478405144\" class=\"table-striped table-bordered table-condensed\">\n",
       "<thead><tr><th>ra</th><th>dec</th><th>mjd_min</th><th>mjd_max</th><th>glon</th><th>glat</th><th>elon</th><th>elat</th><th>brickid</th><th>objid</th><th>ra_ivar</th><th>dec_ivar</th><th>bx</th><th>by</th><th>dchisq_1</th><th>dchisq_2</th><th>dchisq_3</th><th>dchisq_4</th><th>dchisq_5</th><th>ebv</th><th>ref_id</th><th>pmra</th><th>pmdec</th><th>parallax</th><th>pmra_ivar</th><th>pmdec_ivar</th><th>parallax_ivar</th><th>ref_epoch</th><th>gaia_phot_g_mean_mag</th><th>gaia_phot_g_mean_flux_over_error</th><th>gaia_phot_bp_mean_mag</th><th>gaia_phot_bp_mean_flux_over_error</th><th>gaia_phot_rp_mean_mag</th><th>gaia_phot_rp_mean_flux_over_error</th><th>gaia_astrometric_excess_noise</th><th>gaia_astrometric_excess_noise_sig</th><th>gaia_astrometric_weight_al</th><th>flux_g</th><th>flux_r</th><th>flux_z</th><th>flux_w1</th><th>flux_w2</th><th>flux_w3</th><th>flux_w4</th><th>flux_ivar_g</th><th>flux_ivar_r</th><th>flux_ivar_z</th><th>flux_ivar_w1</th><th>flux_ivar_w2</th><th>flux_ivar_w3</th><th>flux_ivar_w4</th><th>fiberflux_u</th><th>fiberflux_g</th><th>fiberflux_r</th><th>fiberflux_i</th><th>fiberflux_z</th><th>fiberflux_y</th><th>fibertotflux_u</th><th>fibertotflux_g</th><th>fibertotflux_r</th><th>fibertotflux_i</th><th>fibertotflux_z</th><th>fibertotflux_y</th><th>mw_transmission_g</th><th>mw_transmission_r</th><th>mw_transmission_z</th><th>mw_transmission_w1</th><th>mw_transmission_w2</th><th>mw_transmission_w3</th><th>mw_transmission_w4</th><th>rchisq_g</th><th>rchisq_r</th><th>rchisq_z</th><th>rchisq_w1</th><th>rchisq_w2</th><th>rchisq_w3</th><th>rchisq_w4</th><th>fracflux_g</th><th>fracflux_r</th><th>fracflux_z</th><th>fracflux_w1</th><th>fracflux_w2</th><th>fracflux_w3</th><th>fracflux_w4</th><th>fracmasked_g</th><th>fracmasked_r</th><th>fracmasked_z</th><th>fracin_g</th><th>fracin_r</th><th>fracin_z</th><th>psfsize_g</th><th>psfsize_r</th><th>psfsize_z</th><th>psfdepth_g</th><th>psfdepth_r</th><th>psfdepth_z</th><th>galdepth_g</th><th>galdepth_r</th><th>galdepth_z</th><th>fracdev</th><th>fracdev_ivar</th><th>shapeexp_r</th><th>shapeexp_r_ivar</th><th>shapeexp_e1</th><th>shapeexp_e1_ivar</th><th>shapeexp_e2</th><th>shapeexp_e2_ivar</th><th>shapedev_r</th><th>shapedev_r_ivar</th><th>shapedev_e1</th><th>shapedev_e1_ivar</th><th>shapedev_e2</th><th>shapedev_e2_ivar</th><th>htm9</th><th>ring256</th><th>nest4096</th><th>decals_id</th><th>mag_g</th><th>mag_r</th><th>mag_z</th><th>mag_w1</th><th>mag_w2</th><th>mag_w3</th><th>mag_w4</th><th>dered_flux_g</th><th>dered_flux_r</th><th>dered_flux_z</th><th>dered_flux_w1</th><th>dered_flux_w2</th><th>dered_flux_w3</th><th>dered_flux_w4</th><th>dered_mag_g</th><th>dered_mag_r</th><th>dered_mag_z</th><th>dered_mag_w1</th><th>dered_mag_w2</th><th>dered_mag_w3</th><th>dered_mag_w4</th><th>snr_g</th><th>snr_r</th><th>snr_z</th><th>snr_w1</th><th>snr_w2</th><th>snr_w3</th><th>snr_w4</th><th>g_r</th><th>r_z</th><th>z_w1</th><th>w1_w2</th><th>w2_w3</th><th>w3_w4</th><th>random_id</th><th>release</th><th>brick_primary</th><th>brightstarinblob</th><th>gaia_pointsource</th><th>gaia_phot_g_n_obs</th><th>gaia_phot_bp_n_obs</th><th>gaia_phot_rp_n_obs</th><th>gaia_phot_variable_flag</th><th>gaia_astrometric_n_obs_al</th><th>gaia_astrometric_n_good_obs_al</th><th>gaia_duplicated_source</th><th>nobs_g</th><th>nobs_r</th><th>nobs_z</th><th>nobs_w1</th><th>nobs_w2</th><th>nobs_w3</th><th>nobs_w4</th><th>anymask_g</th><th>anymask_r</th><th>anymask_z</th><th>allmask_g</th><th>allmask_r</th><th>allmask_z</th><th>wisemask_w1</th><th>wisemask_w2</th><th>brickname</th><th>type</th><th>ref_cat</th><th>wise_coadd_id</th></tr></thead>\n",
       "<thead><tr><th>float64</th><th>float64</th><th>float64</th><th>float64</th><th>float64</th><th>float64</th><th>float64</th><th>float64</th><th>int64</th><th>int64</th><th>float64</th><th>float64</th><th>float64</th><th>float64</th><th>float64</th><th>float64</th><th>float64</th><th>float64</th><th>float64</th><th>float64</th><th>int64</th><th>int64</th><th>int64</th><th>int64</th><th>int64</th><th>int64</th><th>int64</th><th>int64</th><th>int64</th><th>int64</th><th>int64</th><th>int64</th><th>int64</th><th>int64</th><th>int64</th><th>int64</th><th>int64</th><th>float64</th><th>float64</th><th>float64</th><th>float64</th><th>float64</th><th>float64</th><th>float64</th><th>float64</th><th>float64</th><th>float64</th><th>float64</th><th>float64</th><th>float64</th><th>float64</th><th>int64</th><th>float64</th><th>float64</th><th>int64</th><th>float64</th><th>int64</th><th>int64</th><th>float64</th><th>float64</th><th>int64</th><th>float64</th><th>int64</th><th>float64</th><th>float64</th><th>float64</th><th>float64</th><th>float64</th><th>float64</th><th>float64</th><th>float64</th><th>float64</th><th>float64</th><th>float64</th><th>float64</th><th>float64</th><th>float64</th><th>float64</th><th>float64</th><th>float64</th><th>float64</th><th>float64</th><th>float64</th><th>float64</th><th>float64</th><th>float64</th><th>float64</th><th>float64</th><th>float64</th><th>float64</th><th>float64</th><th>float64</th><th>float64</th><th>float64</th><th>float64</th><th>float64</th><th>float64</th><th>float64</th><th>float64</th><th>int64</th><th>int64</th><th>float64</th><th>float64</th><th>float64</th><th>float64</th><th>float64</th><th>float64</th><th>int64</th><th>int64</th><th>int64</th><th>int64</th><th>int64</th><th>int64</th><th>int64</th><th>int64</th><th>int64</th><th>int64</th><th>float64</th><th>float64</th><th>float64</th><th>float64</th><th>float64</th><th>float64</th><th>float64</th><th>float64</th><th>float64</th><th>float64</th><th>float64</th><th>float64</th><th>float64</th><th>float64</th><th>float64</th><th>float64</th><th>float64</th><th>float64</th><th>float64</th><th>float64</th><th>float64</th><th>float64</th><th>float64</th><th>float64</th><th>float64</th><th>float64</th><th>float64</th><th>float64</th><th>float64</th><th>float64</th><th>float64</th><th>float64</th><th>float64</th><th>float64</th><th>float64</th><th>int64</th><th>int64</th><th>int64</th><th>int64</th><th>int64</th><th>int64</th><th>int64</th><th>int64</th><th>int64</th><th>int64</th><th>int64</th><th>int64</th><th>int64</th><th>int64</th><th>int64</th><th>int64</th><th>int64</th><th>int64</th><th>int64</th><th>int64</th><th>int64</th><th>int64</th><th>int64</th><th>int64</th><th>int64</th><th>int64</th><th>str8</th><th>str3</th><th>int64</th><th>str8</th></tr></thead>\n",
       "<tr><td>266.204932293</td><td>16.5228246279</td><td>57829.3505693</td><td>57959.1214914</td><td>40.8546018493</td><td>21.9760419062</td><td>265.255480374</td><td>39.8996385209</td><td>425237</td><td>4647</td><td>30409900000.0</td><td>10288600000.0</td><td>319.993</td><td>2113.53</td><td>3461.53</td><td>5118.51</td><td>5572.1</td><td>5646.7</td><td>4574.39</td><td>0.08246</td><td>0</td><td>0</td><td>0</td><td>0</td><td>0</td><td>0</td><td>0</td><td>0</td><td>0</td><td>0</td><td>0</td><td>0</td><td>0</td><td>0</td><td>0</td><td>0</td><td>0</td><td>3.88583</td><td>6.21489</td><td>8.4989</td><td>2.25261</td><td>3.53152</td><td>-19.9077</td><td>-751.073</td><td>241.826</td><td>44.9474</td><td>3.76895</td><td>3.2124</td><td>0.689963</td><td>0.001107</td><td>2.5e-05</td><td>0</td><td>0.638855</td><td>1.02177</td><td>0</td><td>1.39727</td><td>0</td><td>0</td><td>0.638855</td><td>1.02177</td><td>0</td><td>1.39727</td><td>0</td><td>0.783411</td><td>0.848379</td><td>0.912129</td><td>0.986123</td><td>0.991455</td><td>0.998171</td><td>0.999309</td><td>0.926327</td><td>1.18067</td><td>0.968202</td><td>2.34684</td><td>0.795544</td><td>0.570258</td><td>0.13075</td><td>0.007143</td><td>0.008301</td><td>0.000658</td><td>0.833082</td><td>0.471931</td><td>1.80696</td><td>0.688332</td><td>0.019694</td><td>0.021168</td><td>0.012372</td><td>0.999016</td><td>0.998843</td><td>0.999475</td><td>1.80604</td><td>2.08599</td><td>1.28532</td><td>1249.73</td><td>184.985</td><td>27.8802</td><td>867.097</td><td>140.713</td><td>16.3071</td><td>0</td><td>0</td><td>2.41568</td><td>648.755</td><td>0.431873</td><td>5025.48</td><td>0.195617</td><td>3429.74</td><td>0</td><td>0</td><td>0</td><td>0</td><td>0</td><td>0</td><td>3415733</td><td>281845</td><td>132401016</td><td>7696609262768679</td><td>21.0263</td><td>20.5164</td><td>20.1766</td><td>21.6183</td><td>21.1301</td><td>nan</td><td>nan</td><td>4.96015</td><td>7.3256</td><td>9.31764</td><td>2.28431</td><td>3.56195</td><td>-19.9441</td><td>-751.592</td><td>20.7613</td><td>20.3379</td><td>20.0767</td><td>21.6031</td><td>21.1208</td><td>nan</td><td>nan</td><td>60.4276</td><td>41.6664</td><td>16.4996</td><td>4.0374</td><td>2.93342</td><td>-0.662434</td><td>-3.75577</td><td>0.509872</td><td>0.339823</td><td>-1.44169</td><td>0.488188</td><td>nan</td><td>nan</td><td>17.7945</td><td>7000</td><td>1</td><td>0</td><td>0</td><td>0</td><td>0</td><td>0</td><td>0</td><td>0</td><td>0</td><td>0</td><td>2</td><td>1</td><td>1</td><td>174</td><td>176</td><td>15</td><td>15</td><td>0</td><td>0</td><td>0</td><td>0</td><td>0</td><td>0</td><td>0</td><td>0</td><td>2660p165</td><td>EXP</td><td>-99</td><td>2656p166</td></tr>\n",
       "</table>"
      ],
      "text/plain": [
       "<Table length=1>\n",
       "      ra           dec         mjd_min    ... type ref_cat wise_coadd_id\n",
       "   float64       float64       float64    ... str3  int64       str8    \n",
       "------------- ------------- ------------- ... ---- ------- -------------\n",
       "266.204932293 16.5228246279 57829.3505693 ...  EXP     -99      2656p166"
      ]
     },
     "execution_count": 4,
     "metadata": {},
     "output_type": "execute_result"
    }
   ],
   "source": [
    "# print(cat.colnames)\n",
    "cat"
   ]
  },
  {
   "cell_type": "code",
   "execution_count": 5,
   "metadata": {},
   "outputs": [],
   "source": [
    "# Rename columns\n",
    "for temp in cat.colnames:\n",
    "    cat.rename_column(temp, temp.upper())\n",
    "    \n",
    "columns = ['RA', 'DEC', 'FLUX_G', 'FLUX_R', 'FLUX_Z', 'FLUX_W1', 'FLUX_W2',\n",
    "'FLUX_IVAR_G', 'FLUX_IVAR_R', 'FLUX_IVAR_Z', 'FLUX_IVAR_W1', 'FLUX_IVAR_W2',\n",
    "'NOBS_G', 'NOBS_R', 'NOBS_Z',\n",
    "'TYPE', 'EBV', 'FRACDEV',\n",
    "'SHAPEDEV_R', 'SHAPEDEV_E1', 'SHAPEDEV_E2', 'SHAPEEXP_R', 'SHAPEEXP_E1', 'SHAPEEXP_E2',\n",
    "'MW_TRANSMISSION_G', 'MW_TRANSMISSION_R', 'MW_TRANSMISSION_Z', 'MW_TRANSMISSION_W1', 'MW_TRANSMISSION_W2',\n",
    "]\n",
    "\n",
    "cat_new = cat[columns]\n",
    "\n",
    "cat_new['DCHISQ'] = np.zeros((1, 5))\n",
    "cat_new['DCHISQ'][:, 0] = cat['DCHISQ_1']\n",
    "cat_new['DCHISQ'][:, 1] = cat['DCHISQ_2']\n",
    "cat_new['DCHISQ'][:, 2] = cat['DCHISQ_3']\n",
    "cat_new['DCHISQ'][:, 3] = cat['DCHISQ_4']\n",
    "cat_new['DCHISQ'][:, 4] = cat['DCHISQ_5']\n",
    "\n",
    "cat = cat_new.copy()"
   ]
  },
  {
   "cell_type": "code",
   "execution_count": 6,
   "metadata": {},
   "outputs": [],
   "source": [
    "# Apply extinction correction\n",
    "cat['FLUX_G'] = cat['FLUX_G']/cat['MW_TRANSMISSION_G']\n",
    "cat['FLUX_R'] = cat['FLUX_R']/cat['MW_TRANSMISSION_R']\n",
    "cat['FLUX_Z'] = cat['FLUX_Z']/cat['MW_TRANSMISSION_Z']\n",
    "cat['FLUX_W1'] = cat['FLUX_W1']/cat['MW_TRANSMISSION_W1']\n",
    "cat['FLUX_W2'] = cat['FLUX_W2']/cat['MW_TRANSMISSION_W2']"
   ]
  },
  {
   "cell_type": "code",
   "execution_count": 7,
   "metadata": {},
   "outputs": [],
   "source": [
    "with warnings.catch_warnings():\n",
    "    warnings.simplefilter(\"ignore\")\n",
    "    cat['gmag'] = 22.5 - 2.5*np.log10(cat['FLUX_G'])\n",
    "    cat['rmag'] = 22.5 - 2.5*np.log10(cat['FLUX_R'])\n",
    "    cat['zmag'] = 22.5 - 2.5*np.log10(cat['FLUX_Z'])\n",
    "    cat['w1mag'] = 22.5 - 2.5*np.log10(cat['FLUX_W1'])\n",
    "    cat['w2mag'] = 22.5 - 2.5*np.log10(cat['FLUX_W2'])\n",
    "    cat['gmagerr'] = 1/np.sqrt(cat['FLUX_IVAR_G'])/cat['FLUX_G']\n",
    "    cat['rmagerr'] = 1/np.sqrt(cat['FLUX_IVAR_R'])/cat['FLUX_R']\n",
    "    cat['zmagerr'] = 1/np.sqrt(cat['FLUX_IVAR_Z'])/cat['FLUX_Z']\n",
    "    cat['w1magerr'] = 1/np.sqrt(cat['FLUX_IVAR_W1'])/cat['FLUX_W1']\n",
    "    cat['w2magerr'] = 1/np.sqrt(cat['FLUX_IVAR_W2'])/cat['FLUX_W2']"
   ]
  },
  {
   "cell_type": "code",
   "execution_count": 8,
   "metadata": {},
   "outputs": [
    {
     "data": {
      "text/html": [
       "<i>Table length=1</i>\n",
       "<table id=\"table46913481382824\" class=\"table-striped table-bordered table-condensed\">\n",
       "<thead><tr><th>RA</th><th>DEC</th><th>FLUX_G</th><th>FLUX_R</th><th>FLUX_Z</th><th>FLUX_W1</th><th>FLUX_W2</th><th>FLUX_IVAR_G</th><th>FLUX_IVAR_R</th><th>FLUX_IVAR_Z</th><th>FLUX_IVAR_W1</th><th>FLUX_IVAR_W2</th><th>NOBS_G</th><th>NOBS_R</th><th>NOBS_Z</th><th>TYPE</th><th>EBV</th><th>FRACDEV</th><th>SHAPEDEV_R</th><th>SHAPEDEV_E1</th><th>SHAPEDEV_E2</th><th>SHAPEEXP_R</th><th>SHAPEEXP_E1</th><th>SHAPEEXP_E2</th><th>MW_TRANSMISSION_G</th><th>MW_TRANSMISSION_R</th><th>MW_TRANSMISSION_Z</th><th>MW_TRANSMISSION_W1</th><th>MW_TRANSMISSION_W2</th><th>DCHISQ [5]</th><th>gmag</th><th>rmag</th><th>zmag</th><th>w1mag</th><th>w2mag</th><th>gmagerr</th><th>rmagerr</th><th>zmagerr</th><th>w1magerr</th><th>w2magerr</th></tr></thead>\n",
       "<thead><tr><th>float64</th><th>float64</th><th>float64</th><th>float64</th><th>float64</th><th>float64</th><th>float64</th><th>float64</th><th>float64</th><th>float64</th><th>float64</th><th>float64</th><th>int64</th><th>int64</th><th>int64</th><th>str3</th><th>float64</th><th>int64</th><th>int64</th><th>int64</th><th>int64</th><th>float64</th><th>float64</th><th>float64</th><th>float64</th><th>float64</th><th>float64</th><th>float64</th><th>float64</th><th>float64</th><th>float64</th><th>float64</th><th>float64</th><th>float64</th><th>float64</th><th>float64</th><th>float64</th><th>float64</th><th>float64</th><th>float64</th></tr></thead>\n",
       "<tr><td>266.204932293</td><td>16.5228246279</td><td>4.96014224973</td><td>7.32560565502</td><td>9.31765134098</td><td>2.284309361</td><td>3.5619569219</td><td>241.826</td><td>44.9474</td><td>3.76895</td><td>3.2124</td><td>0.689963</td><td>2</td><td>1</td><td>1</td><td>EXP</td><td>0.08246</td><td>0</td><td>0</td><td>0</td><td>0</td><td>2.41568</td><td>0.431873</td><td>0.195617</td><td>0.783411</td><td>0.848379</td><td>0.912129</td><td>0.986123</td><td>0.991455</td><td>3461.53 .. 4574.39</td><td>20.761264671</td><td>20.3378911589</td><td>20.0767338613</td><td>21.6031127013</td><td>21.1207783429</td><td>0.0129644582123</td><td>0.0203612378022</td><td>0.0552819503451</td><td>0.244247581387</td><td>0.337985785881</td></tr>\n",
       "</table>"
      ],
      "text/plain": [
       "<Table length=1>\n",
       "      RA           DEC          FLUX_G    ...    w1magerr       w2magerr   \n",
       "   float64       float64       float64    ...    float64        float64    \n",
       "------------- ------------- ------------- ... -------------- --------------\n",
       "266.204932293 16.5228246279 4.96014224973 ... 0.244247581387 0.337985785881"
      ]
     },
     "execution_count": 8,
     "metadata": {},
     "output_type": "execute_result"
    }
   ],
   "source": [
    "cat"
   ]
  },
  {
   "cell_type": "markdown",
   "metadata": {},
   "source": [
    "__Check the photo-z quality cuts (no effect on the photo-z)__"
   ]
  },
  {
   "cell_type": "code",
   "execution_count": 9,
   "metadata": {},
   "outputs": [
    {
     "name": "stdout",
     "output_type": "stream",
     "text": [
      "Quality in r: [ True]\n",
      "& Quality in z: [ True]\n",
      "& Quality in W1: [ True]\n",
      "& None-stellar color: [False]\n",
      "BGS cut: [False]\n",
      "All photo-z quality cuts: [False]\n"
     ]
    }
   ],
   "source": [
    "# Quality in r: SNR_R > 0 && RFLUX > 0\n",
    "mask = (cat['FLUX_R']>0) & (cat['FLUX_IVAR_R']>0)\n",
    "print('Quality in r:', mask)\n",
    "\n",
    "# Quality in z: SNR_Z > 0 && ZFLUX > 0\n",
    "mask &= (cat['FLUX_Z']>0) & (cat['FLUX_IVAR_Z']>0)\n",
    "print('& Quality in z:', mask)\n",
    "\n",
    "# Quality in W1: FLUX_IVAR_W1 > 0 && W1FLUX > 0\n",
    "mask &= (cat['FLUX_W1']>0) & (cat['FLUX_IVAR_W1']>0)\n",
    "print('& Quality in W1:', mask)\n",
    "\n",
    "############################## Broad cuts ##############################\n",
    "\n",
    "# None-stellar color: (z-w1) > 0.8*(r-z) - 1.0 => -0.8*r + 1.8*z - W1 > -1.0\n",
    "mask &= (cat['FLUX_R']**(-0.8) * cat['FLUX_Z']**1.8 / cat['FLUX_W1'] < 10**(-0.4*(-1.0)))\n",
    "print('& None-stellar color:', mask)\n",
    "\n",
    "############################## Include BGS targets ##############################\n",
    "\n",
    "mask_bgs = np.ones(len(cat), dtype=bool)\n",
    "\n",
    "# Quality in r: SNR_R > 0 && RFLUX > 0\n",
    "mask_bgs &= (cat['FLUX_R']>0) & (cat['FLUX_IVAR_R']>0)\n",
    "# magnitude limit r<20.\n",
    "mask_bgs &= (cat['FLUX_R'] > 10**(0.4*(22.5-20.0))) # r<20.0\n",
    "# Remove PSF objects\n",
    "mask_bgs &= (cat['TYPE']!='PSF ') & (cat['TYPE']!='PSF')\n",
    "print('BGS cut:', mask)\n",
    "\n",
    "mask |= mask_bgs\n",
    "print('All photo-z quality cuts:', mask)"
   ]
  },
  {
   "cell_type": "markdown",
   "metadata": {},
   "source": [
    "__Compute photo-z__"
   ]
  },
  {
   "cell_type": "code",
   "execution_count": 10,
   "metadata": {},
   "outputs": [
    {
     "name": "stdout",
     "output_type": "stream",
     "text": [
      "Computing radius for COMP objects\n",
      "0\n",
      "0 objects with no solution in r < 30 arcsec\n"
     ]
    }
   ],
   "source": [
    "# Add half-light radius for photo-z estimation\n",
    "cat['radius'] = get_radius(cat)"
   ]
  },
  {
   "cell_type": "code",
   "execution_count": 11,
   "metadata": {},
   "outputs": [
    {
     "name": "stdout",
     "output_type": "stream",
     "text": [
      "Computing photo-z's and errors with perturbed photometry\n",
      "0 / 1000\n",
      "20 / 1000\n",
      "40 / 1000\n",
      "60 / 1000\n",
      "80 / 1000\n",
      "100 / 1000\n",
      "120 / 1000\n",
      "140 / 1000\n",
      "160 / 1000\n",
      "180 / 1000\n",
      "200 / 1000\n",
      "220 / 1000\n",
      "240 / 1000\n",
      "260 / 1000\n",
      "280 / 1000\n",
      "300 / 1000\n",
      "320 / 1000\n",
      "340 / 1000\n",
      "360 / 1000\n",
      "380 / 1000\n",
      "400 / 1000\n",
      "420 / 1000\n",
      "440 / 1000\n",
      "460 / 1000\n",
      "480 / 1000\n",
      "500 / 1000\n",
      "520 / 1000\n",
      "540 / 1000\n",
      "560 / 1000\n",
      "580 / 1000\n",
      "600 / 1000\n",
      "620 / 1000\n",
      "640 / 1000\n",
      "660 / 1000\n",
      "680 / 1000\n",
      "700 / 1000\n",
      "720 / 1000\n",
      "740 / 1000\n",
      "760 / 1000\n",
      "780 / 1000\n",
      "800 / 1000\n",
      "820 / 1000\n",
      "840 / 1000\n",
      "860 / 1000\n",
      "880 / 1000\n",
      "900 / 1000\n",
      "920 / 1000\n",
      "940 / 1000\n",
      "960 / 1000\n",
      "980 / 1000\n",
      "Matching to truth table\n",
      "0 matches\n",
      "0 matches\n"
     ]
    }
   ],
   "source": [
    "cat_pz = compute_photoz(cat, dr, n_perturb=20)"
   ]
  },
  {
   "cell_type": "code",
   "execution_count": 12,
   "metadata": {},
   "outputs": [
    {
     "data": {
      "text/html": [
       "<i>Table length=1</i>\n",
       "<table id=\"table46913481904648\" class=\"table-striped table-bordered table-condensed\">\n",
       "<thead><tr><th>z_phot</th><th>z_phot_err</th><th>z_phot_all [1000]</th><th>z_spec</th><th>survey</th><th>training</th></tr></thead>\n",
       "<thead><tr><th>float32</th><th>float32</th><th>float32</th><th>float32</th><th>str7</th><th>bool</th></tr></thead>\n",
       "<tr><td>0.120793</td><td>0.0673434</td><td>0.202228 .. 0.193685</td><td>-99.0</td><td></td><td>False</td></tr>\n",
       "</table>"
      ],
      "text/plain": [
       "<Table length=1>\n",
       " z_phot  z_phot_err  z_phot_all [1000]    z_spec  survey training\n",
       "float32   float32         float32        float32   str7    bool  \n",
       "-------- ---------- -------------------- ------- ------- --------\n",
       "0.120793  0.0673434 0.202228 .. 0.193685   -99.0            False"
      ]
     },
     "execution_count": 12,
     "metadata": {},
     "output_type": "execute_result"
    }
   ],
   "source": [
    "cat_pz"
   ]
  },
  {
   "cell_type": "code",
   "execution_count": 13,
   "metadata": {},
   "outputs": [
    {
     "name": "stdout",
     "output_type": "stream",
     "text": [
      "Mean =   0.1208\n",
      "Median = 0.1093\n",
      "\n",
      "STD =  0.0673\n",
      "NMAD = 0.0326\n",
      "16th percentile = 0.0799\n",
      "84th percentile = 0.1528\n",
      "2.5th percentile =  0.0521\n",
      "97.5th percentile = 0.2818\n"
     ]
    }
   ],
   "source": [
    "print('Mean =   {:.4f}'.format(np.mean(cat_pz['z_phot_all'][0])))\n",
    "print('Median = {:.4f}'.format(np.median(cat_pz['z_phot_all'][0])))\n",
    "print()\n",
    "print('STD =  {:.4f}'.format(np.std(cat_pz['z_phot_all'][0])))\n",
    "print('NMAD = {:.4f}'.format(nmad(cat_pz['z_phot_all'][0])))\n",
    "print('16th percentile = {:.4f}'.format(np.percentile(cat_pz['z_phot_all'][0], 16)))\n",
    "print('84th percentile = {:.4f}'.format(np.percentile(cat_pz['z_phot_all'][0], 84)))\n",
    "print('2.5th percentile =  {:.4f}'.format(np.percentile(cat_pz['z_phot_all'][0], 2.5)))\n",
    "print('97.5th percentile = {:.4f}'.format(np.percentile(cat_pz['z_phot_all'][0], 97.5)))"
   ]
  },
  {
   "cell_type": "code",
   "execution_count": 14,
   "metadata": {},
   "outputs": [
    {
     "data": {
      "image/png": "[encoded data removed]",
      "text/plain": [
       "<Figure size 432x288 with 1 Axes>"
      ]
     },
     "metadata": {
      "needs_background": "light"
     },
     "output_type": "display_data"
    }
   ],
   "source": [
    "plt.hist(cat_pz['z_phot_all'][0], 60, range=(0, 0.6), normed=True)\n",
    "plt.grid(alpha=0.5);"
   ]
  },
  {
   "cell_type": "code",
   "execution_count": 15,
   "metadata": {},
   "outputs": [
    {
     "name": "stdout",
     "output_type": "stream",
     "text": [
      "Probability of z<0.1: 0.418\n"
     ]
    }
   ],
   "source": [
    "mask = cat_pz['z_phot_all'][0]<0.1\n",
    "print('Probability of z<0.1:', np.sum(mask)/len(mask))"
   ]
  },
  {
   "cell_type": "code",
   "execution_count": null,
   "metadata": {},
   "outputs": [],
   "source": []
  }
 ],
 "metadata": {
  "kernelspec": {
   "display_name": "Python 3",
   "language": "python",
   "name": "python3"
  },
  "language_info": {
   "codemirror_mode": {
    "name": "ipython",
    "version": 3
   },
   "file_extension": ".py",
   "mimetype": "text/x-python",
   "name": "python",
   "nbconvert_exporter": "python",
   "pygments_lexer": "ipython3",
   "version": "3.6.8"
  }
 },
 "nbformat": 4,
 "nbformat_minor": 2
}
