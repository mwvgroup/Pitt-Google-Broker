{
  "nbformat": 4,
  "nbformat_minor": 0,
  "metadata": {
    "colab": {
      "name": "Pitt-Google-Tutorial-Code-Samples.ipynb",
      "provenance": [],
      "collapsed_sections": [
        "cCcdjz1v3fuJ",
        "tXTEuyccOJoa",
        "gVNNwPBfOBrZ",
        "3nDSzXh1khgt",
        "jwxBVDcgVsOZ",
        "VbkGy7YPV8IH"
      ]
    },
    "kernelspec": {
      "name": "python3",
      "display_name": "Python 3"
    },
    "language_info": {
      "name": "python"
    }
  },
  "cells": [
    {
      "cell_type": "markdown",
      "metadata": {
        "id": "HLKPXqDBCCHh"
      },
      "source": [
        "# Pitt-Google Broker Tutorial: Code Samples"
      ]
    },
    {
      "cell_type": "markdown",
      "metadata": {
        "id": "S_oOEo3Rr8cP"
      },
      "source": [
        "| | Learning Objective | Section | Notes |\n",
        "|---|---|---|---|\n",
        "| 1. | Understand What, Where, How to access | 1) Introduction | ZTF data. Google Cloud SDK (Python, command-line). `pgb-utils` Python package. |\n",
        "| 2. | Access the data | 3) BigQuery Database | Alert data (no cutouts), lightcurves, cone search. Standard SQL queries (Python, command-line). `pgb-utils` helper functions. |\n",
        "| | | 4) Files in Cloud Storage | Alert packets in Avro file format (includes cutouts). Direct downloads. |\n",
        "| 3. | Process the data | 5) Apache Beam data pipelines |  End-to-end, working examples with templates for user-defined functions. |\n",
        "\n",
        "---\n",
        "This \"Code Samples\" notebook is a condensed version of the full [Pitt-Google-Tutorial.ipynb](https://colab.research.google.com/github/broker-workshop/tutorials/blob/main/Pitt-Google/Pitt-Google-Tutorial.ipynb), which you can refer to for further information. "
      ]
    },
    {
      "cell_type": "markdown",
      "metadata": {
        "id": "Htm4fDjtonqP"
      },
      "source": [
        "---"
      ]
    },
    {
      "cell_type": "markdown",
      "metadata": {
        "id": "cCcdjz1v3fuJ"
      },
      "source": [
        "# 1) Introduction"
      ]
    },
    {
      "cell_type": "markdown",
      "metadata": {
        "id": "a-5iWHDq13Np"
      },
      "source": [
        "## 1a) Data overview\n",
        "\n",
        "See full tutorial."
      ]
    },
    {
      "cell_type": "markdown",
      "metadata": {
        "id": "W_JYHktO2Q7V"
      },
      "source": [
        "## 1b) `pgb_utils` overview\n",
        "\n",
        "See full tutorial."
      ]
    },
    {
      "cell_type": "markdown",
      "metadata": {
        "id": "Cw-BDfrmoCHN"
      },
      "source": [
        "## 1c) Note on costs\n",
        "\n",
        "Everything we do in this tutorial falls well within Google's [Free Tier](https://cloud.google.com/free). See full tutorial for more information."
      ]
    },
    {
      "cell_type": "markdown",
      "metadata": {
        "id": "ALIGt4P12KB-"
      },
      "source": [
        "---"
      ]
    },
    {
      "cell_type": "markdown",
      "metadata": {
        "id": "pdVlJmWWawvx"
      },
      "source": [
        "# 2) Setup"
      ]
    },
    {
      "cell_type": "markdown",
      "metadata": {
        "id": "3qjOE_7Ka1zR"
      },
      "source": [
        "1. Use the [Cloud Resource Manager](https://console.cloud.google.com/cloud-resource-manager) to create a GCP project. \n",
        "It is a simple process, and you do not need to enable billing of any kind. Take note of the auto-generated \"Project ID\", you will need it below in order to make API calls.\n",
        "\n",
        "![create GCP project](https://raw.githubusercontent.com/mwvgroup/Pitt-Google-Broker/master/pgb_utils/tutorials/img/create_GCP_project.png)\n",
        "\n",
        "2. Installs, imports, etc.:"
      ]
    },
    {
      "cell_type": "code",
      "metadata": {
        "id": "ZwISaJSymrhh"
      },
      "source": [
        "pgb_project_name = 'pitt-google-broker-prototype'\n",
        "pgb_project_id = 'ardent-cycling-243415'"
      ],
      "execution_count": 1,
      "outputs": []
    },
    {
      "cell_type": "code",
      "metadata": {
        "id": "ubkZqvJuuMrR"
      },
      "source": [
        "# ENTER YOUR GCP PROJECT ID HERE\n",
        "my_project_id = "
      ],
      "execution_count": 2,
      "outputs": []
    },
    {
      "cell_type": "code",
      "metadata": {
        "id": "kCFKfH5pbZBN",
        "colab": {
          "base_uri": "https://localhost:8080/"
        },
        "outputId": "3d584a2c-da87-44d0-8ef1-52d5c599b693"
      },
      "source": [
        "!{'pip install pgb-utils'}"
      ],
      "execution_count": 3,
      "outputs": [
        {
          "output_type": "stream",
          "text": [
            "Collecting pgb-utils\n",
            "  Downloading https://files.pythonhosted.org/packages/53/49/0459f53bdb2081c5c690678a863cce004a49957d38070b8127735b796cd1/pgb_utils-0.1.2-py3-none-any.whl\n",
            "Requirement already satisfied: matplotlib in /usr/local/lib/python3.7/dist-packages (from pgb-utils) (3.2.2)\n",
            "Collecting beautifulsoup4==4.8\n",
            "\u001b[?25l  Downloading https://files.pythonhosted.org/packages/1a/b7/34eec2fe5a49718944e215fde81288eec1fa04638aa3fb57c1c6cd0f98c3/beautifulsoup4-4.8.0-py3-none-any.whl (97kB)\n",
            "\u001b[K     |████████████████████████████████| 102kB 4.0MB/s \n",
            "\u001b[?25hRequirement already satisfied: numpy in /usr/local/lib/python3.7/dist-packages (from pgb-utils) (1.19.5)\n",
            "Requirement already satisfied: google-cloud-bigquery in /usr/local/lib/python3.7/dist-packages (from pgb-utils) (1.21.0)\n",
            "Collecting aplpy\n",
            "\u001b[?25l  Downloading https://files.pythonhosted.org/packages/92/5b/cb15d46774105bc536165f2ffa9e114509915f5983c51666512752635b8c/APLpy-2.0.3-py2.py3-none-any.whl (89kB)\n",
            "\u001b[K     |████████████████████████████████| 92kB 5.6MB/s \n",
            "\u001b[?25hCollecting astropy==3.2.1\n",
            "\u001b[?25l  Downloading https://files.pythonhosted.org/packages/ae/27/4cd019143d3af49be9dd2a8ac69b27bd08a66cee8e43f8639bc59d374ae3/astropy-3.2.1-cp37-cp37m-manylinux1_x86_64.whl (6.3MB)\n",
            "\u001b[K     |████████████████████████████████| 6.3MB 12.3MB/s \n",
            "\u001b[?25hRequirement already satisfied: tabulate in /usr/local/lib/python3.7/dist-packages (from pgb-utils) (0.8.9)\n",
            "Collecting typing\n",
            "\u001b[?25l  Downloading https://files.pythonhosted.org/packages/05/d9/6eebe19d46bd05360c9a9aae822e67a80f9242aabbfc58b641b957546607/typing-3.7.4.3.tar.gz (78kB)\n",
            "\u001b[K     |████████████████████████████████| 81kB 8.0MB/s \n",
            "\u001b[?25hRequirement already satisfied: pandas in /usr/local/lib/python3.7/dist-packages (from pgb-utils) (1.1.5)\n",
            "Requirement already satisfied: google-cloud-storage in /usr/local/lib/python3.7/dist-packages (from pgb-utils) (1.18.1)\n",
            "Collecting astropy-healpix==0.6\n",
            "\u001b[?25l  Downloading https://files.pythonhosted.org/packages/50/53/3158aaf86e25f5062555d18903519e501b93df556c1b675f30b1e18d9400/astropy_healpix-0.6-cp37-cp37m-manylinux2010_x86_64.whl (208kB)\n",
            "\u001b[K     |████████████████████████████████| 215kB 48.3MB/s \n",
            "\u001b[?25hCollecting apache-beam\n",
            "\u001b[?25l  Downloading https://files.pythonhosted.org/packages/e1/e7/d6e5a3786d9a037a38af966bf154bcd6cb3cbea2edffda00cf6c417cc9a2/apache_beam-2.28.0-cp37-cp37m-manylinux2010_x86_64.whl (9.0MB)\n",
            "\u001b[K     |████████████████████████████████| 9.0MB 53.2MB/s \n",
            "\u001b[?25hCollecting google-apitools\n",
            "\u001b[?25l  Downloading https://files.pythonhosted.org/packages/19/da/aefc4cf4c168b5d875344cd9dddc77e3a2d11986b630251af5ce47dd2843/google-apitools-0.5.31.tar.gz (173kB)\n",
            "\u001b[K     |████████████████████████████████| 174kB 41.2MB/s \n",
            "\u001b[?25hRequirement already satisfied: cycler>=0.10 in /usr/local/lib/python3.7/dist-packages (from matplotlib->pgb-utils) (0.10.0)\n",
            "Requirement already satisfied: pyparsing!=2.0.4,!=2.1.2,!=2.1.6,>=2.0.1 in /usr/local/lib/python3.7/dist-packages (from matplotlib->pgb-utils) (2.4.7)\n",
            "Requirement already satisfied: kiwisolver>=1.0.1 in /usr/local/lib/python3.7/dist-packages (from matplotlib->pgb-utils) (1.3.1)\n",
            "Requirement already satisfied: python-dateutil>=2.1 in /usr/local/lib/python3.7/dist-packages (from matplotlib->pgb-utils) (2.8.1)\n",
            "Collecting soupsieve>=1.2\n",
            "  Downloading https://files.pythonhosted.org/packages/36/69/d82d04022f02733bf9a72bc3b96332d360c0c5307096d76f6bb7489f7e57/soupsieve-2.2.1-py3-none-any.whl\n",
            "Requirement already satisfied: protobuf>=3.6.0 in /usr/local/lib/python3.7/dist-packages (from google-cloud-bigquery->pgb-utils) (3.12.4)\n",
            "Requirement already satisfied: google-cloud-core<2.0dev,>=1.0.3 in /usr/local/lib/python3.7/dist-packages (from google-cloud-bigquery->pgb-utils) (1.0.3)\n",
            "Requirement already satisfied: google-resumable-media!=0.4.0,<0.5.0dev,>=0.3.1 in /usr/local/lib/python3.7/dist-packages (from google-cloud-bigquery->pgb-utils) (0.4.1)\n",
            "Collecting reproject>=0.4\n",
            "\u001b[?25l  Downloading https://files.pythonhosted.org/packages/31/94/94e1d697cec0e965ea00fb08dd787859e04dfe7531886c97de5cfa4130cc/reproject-0.7.1-cp37-cp37m-manylinux2010_x86_64.whl (1.3MB)\n",
            "\u001b[K     |████████████████████████████████| 1.3MB 41.6MB/s \n",
            "\u001b[?25hCollecting pyregion>=2.0\n",
            "\u001b[?25l  Downloading https://files.pythonhosted.org/packages/9d/e9/739397a25a6197f9af396e8ab249ea04d3cc2eb32e96870e2aafcfccf7f4/pyregion-2.0.tar.gz (1.1MB)\n",
            "\u001b[K     |████████████████████████████████| 1.1MB 47.7MB/s \n",
            "\u001b[?25hCollecting pyavm>=0.9.4\n",
            "\u001b[?25l  Downloading https://files.pythonhosted.org/packages/dc/d6/af61e7fcdd39b7d2303e6cafaee3b043bd59938d0ef69a4b7cb7bdbdb892/PyAVM-0.9.5-py2.py3-none-any.whl (378kB)\n",
            "\u001b[K     |████████████████████████████████| 378kB 46.2MB/s \n",
            "\u001b[?25hRequirement already satisfied: scikit-image>=0.14 in /usr/local/lib/python3.7/dist-packages (from aplpy->pgb-utils) (0.16.2)\n",
            "Requirement already satisfied: pillow>=4.0 in /usr/local/lib/python3.7/dist-packages (from aplpy->pgb-utils) (7.1.2)\n",
            "Requirement already satisfied: shapely>=1.6 in /usr/local/lib/python3.7/dist-packages (from aplpy->pgb-utils) (1.7.1)\n",
            "Requirement already satisfied: pytz>=2017.2 in /usr/local/lib/python3.7/dist-packages (from pandas->pgb-utils) (2018.9)\n",
            "Requirement already satisfied: google-auth>=1.2.0 in /usr/local/lib/python3.7/dist-packages (from google-cloud-storage->pgb-utils) (1.28.0)\n",
            "Requirement already satisfied: pymongo<4.0.0,>=3.8.0 in /usr/local/lib/python3.7/dist-packages (from apache-beam->pgb-utils) (3.11.3)\n",
            "Requirement already satisfied: grpcio<2,>=1.29.0 in /usr/local/lib/python3.7/dist-packages (from apache-beam->pgb-utils) (1.32.0)\n",
            "Requirement already satisfied: typing-extensions<3.8.0,>=3.7.0 in /usr/local/lib/python3.7/dist-packages (from apache-beam->pgb-utils) (3.7.4.3)\n",
            "Requirement already satisfied: httplib2<0.18.0,>=0.8 in /usr/local/lib/python3.7/dist-packages (from apache-beam->pgb-utils) (0.17.4)\n",
            "Collecting avro-python3!=1.9.2,<1.10.0,>=1.8.1\n",
            "  Downloading https://files.pythonhosted.org/packages/5a/80/acd1455bea0a9fcdc60a748a97dcbb3ff624726fb90987a0fc1c19e7a5a5/avro-python3-1.9.2.1.tar.gz\n",
            "Requirement already satisfied: pydot<2,>=1.2.0 in /usr/local/lib/python3.7/dist-packages (from apache-beam->pgb-utils) (1.3.0)\n",
            "Collecting fastavro<2,>=0.21.4\n",
            "\u001b[?25l  Downloading https://files.pythonhosted.org/packages/c5/c7/9ef9fda5e178aa5f5cda00c0d7505749506c540f9caf876d23c6cf915bf9/fastavro-1.3.5-cp37-cp37m-manylinux2014_x86_64.whl (2.2MB)\n",
            "\u001b[K     |████████████████████████████████| 2.2MB 44.4MB/s \n",
            "\u001b[?25hRequirement already satisfied: crcmod<2.0,>=1.7 in /usr/local/lib/python3.7/dist-packages (from apache-beam->pgb-utils) (1.7)\n",
            "Collecting mock<3.0.0,>=1.0.1\n",
            "\u001b[?25l  Downloading https://files.pythonhosted.org/packages/e6/35/f187bdf23be87092bd0f1200d43d23076cee4d0dec109f195173fd3ebc79/mock-2.0.0-py2.py3-none-any.whl (56kB)\n",
            "\u001b[K     |████████████████████████████████| 61kB 6.7MB/s \n",
            "\u001b[?25hCollecting pyarrow<3.0.0,>=0.15.1\n",
            "\u001b[?25l  Downloading https://files.pythonhosted.org/packages/2e/8d/c002e27767595f22aa09ed0d364327922f673d12b36526c967a2bf6b2ed7/pyarrow-2.0.0-cp37-cp37m-manylinux2014_x86_64.whl (17.7MB)\n",
            "\u001b[K     |████████████████████████████████| 17.7MB 249kB/s \n",
            "\u001b[?25hCollecting dill<0.3.2,>=0.3.1.1\n",
            "\u001b[?25l  Downloading https://files.pythonhosted.org/packages/c7/11/345f3173809cea7f1a193bfbf02403fff250a3360e0e118a1630985e547d/dill-0.3.1.1.tar.gz (151kB)\n",
            "\u001b[K     |████████████████████████████████| 153kB 39.0MB/s \n",
            "\u001b[?25hRequirement already satisfied: oauth2client<5,>=2.0.1 in /usr/local/lib/python3.7/dist-packages (from apache-beam->pgb-utils) (4.1.3)\n",
            "Collecting hdfs<3.0.0,>=2.1.0\n",
            "  Downloading https://files.pythonhosted.org/packages/08/f7/4c3fad73123a24d7394b6f40d1ec9c1cbf2e921cfea1797216ffd0a51fb1/hdfs-2.6.0-py3-none-any.whl\n",
            "Collecting future<1.0.0,>=0.18.2\n",
            "\u001b[?25l  Downloading https://files.pythonhosted.org/packages/45/0b/38b06fd9b92dc2b68d58b75f900e97884c45bedd2ff83203d933cf5851c9/future-0.18.2.tar.gz (829kB)\n",
            "\u001b[K     |████████████████████████████████| 829kB 38.8MB/s \n",
            "\u001b[?25hCollecting requests<3.0.0,>=2.24.0\n",
            "\u001b[?25l  Downloading https://files.pythonhosted.org/packages/29/c1/24814557f1d22c56d50280771a17307e6bf87b70727d975fd6b2ce6b014a/requests-2.25.1-py2.py3-none-any.whl (61kB)\n",
            "\u001b[K     |████████████████████████████████| 61kB 5.7MB/s \n",
            "\u001b[?25hCollecting fasteners>=0.14\n",
            "  Downloading https://files.pythonhosted.org/packages/78/20/c862d765287e9e8b29f826749ebae8775bdca50b2cb2ca079346d5fbfd76/fasteners-0.16-py2.py3-none-any.whl\n",
            "Requirement already satisfied: six>=1.12.0 in /usr/local/lib/python3.7/dist-packages (from google-apitools->pgb-utils) (1.15.0)\n",
            "Requirement already satisfied: setuptools in /usr/local/lib/python3.7/dist-packages (from protobuf>=3.6.0->google-cloud-bigquery->pgb-utils) (54.2.0)\n",
            "Requirement already satisfied: google-api-core<2.0.0dev,>=1.14.0 in /usr/local/lib/python3.7/dist-packages (from google-cloud-core<2.0dev,>=1.0.3->google-cloud-bigquery->pgb-utils) (1.26.2)\n",
            "Requirement already satisfied: scipy>=1.1 in /usr/local/lib/python3.7/dist-packages (from reproject>=0.4->aplpy->pgb-utils) (1.4.1)\n",
            "Requirement already satisfied: Cython in /usr/local/lib/python3.7/dist-packages (from pyregion>=2.0->aplpy->pgb-utils) (0.29.22)\n",
            "Requirement already satisfied: networkx>=2.0 in /usr/local/lib/python3.7/dist-packages (from scikit-image>=0.14->aplpy->pgb-utils) (2.5)\n",
            "Requirement already satisfied: PyWavelets>=0.4.0 in /usr/local/lib/python3.7/dist-packages (from scikit-image>=0.14->aplpy->pgb-utils) (1.1.1)\n",
            "Requirement already satisfied: imageio>=2.3.0 in /usr/local/lib/python3.7/dist-packages (from scikit-image>=0.14->aplpy->pgb-utils) (2.4.1)\n",
            "Requirement already satisfied: cachetools<5.0,>=2.0.0 in /usr/local/lib/python3.7/dist-packages (from google-auth>=1.2.0->google-cloud-storage->pgb-utils) (4.2.1)\n",
            "Requirement already satisfied: rsa<5,>=3.1.4; python_version >= \"3.6\" in /usr/local/lib/python3.7/dist-packages (from google-auth>=1.2.0->google-cloud-storage->pgb-utils) (4.7.2)\n",
            "Requirement already satisfied: pyasn1-modules>=0.2.1 in /usr/local/lib/python3.7/dist-packages (from google-auth>=1.2.0->google-cloud-storage->pgb-utils) (0.2.8)\n",
            "Collecting pbr>=0.11\n",
            "\u001b[?25l  Downloading https://files.pythonhosted.org/packages/fb/48/69046506f6ac61c1eaa9a0d42d22d54673b69e176d30ca98e3f61513e980/pbr-5.5.1-py2.py3-none-any.whl (106kB)\n",
            "\u001b[K     |████████████████████████████████| 112kB 33.4MB/s \n",
            "\u001b[?25hRequirement already satisfied: pyasn1>=0.1.7 in /usr/local/lib/python3.7/dist-packages (from oauth2client<5,>=2.0.1->apache-beam->pgb-utils) (0.4.8)\n",
            "Requirement already satisfied: docopt in /usr/local/lib/python3.7/dist-packages (from hdfs<3.0.0,>=2.1.0->apache-beam->pgb-utils) (0.6.2)\n",
            "Requirement already satisfied: urllib3<1.27,>=1.21.1 in /usr/local/lib/python3.7/dist-packages (from requests<3.0.0,>=2.24.0->apache-beam->pgb-utils) (1.24.3)\n",
            "Requirement already satisfied: idna<3,>=2.5 in /usr/local/lib/python3.7/dist-packages (from requests<3.0.0,>=2.24.0->apache-beam->pgb-utils) (2.10)\n",
            "Requirement already satisfied: certifi>=2017.4.17 in /usr/local/lib/python3.7/dist-packages (from requests<3.0.0,>=2.24.0->apache-beam->pgb-utils) (2020.12.5)\n",
            "Requirement already satisfied: chardet<5,>=3.0.2 in /usr/local/lib/python3.7/dist-packages (from requests<3.0.0,>=2.24.0->apache-beam->pgb-utils) (3.0.4)\n",
            "Requirement already satisfied: packaging>=14.3 in /usr/local/lib/python3.7/dist-packages (from google-api-core<2.0.0dev,>=1.14.0->google-cloud-core<2.0dev,>=1.0.3->google-cloud-bigquery->pgb-utils) (20.9)\n",
            "Requirement already satisfied: googleapis-common-protos<2.0dev,>=1.6.0 in /usr/local/lib/python3.7/dist-packages (from google-api-core<2.0.0dev,>=1.14.0->google-cloud-core<2.0dev,>=1.0.3->google-cloud-bigquery->pgb-utils) (1.53.0)\n",
            "Requirement already satisfied: decorator>=4.3.0 in /usr/local/lib/python3.7/dist-packages (from networkx>=2.0->scikit-image>=0.14->aplpy->pgb-utils) (4.4.2)\n",
            "Building wheels for collected packages: typing, google-apitools, pyregion, avro-python3, dill, future\n",
            "  Building wheel for typing (setup.py) ... \u001b[?25l\u001b[?25hdone\n",
            "  Created wheel for typing: filename=typing-3.7.4.3-cp37-none-any.whl size=26308 sha256=66d50386fafa614d8f02e94fb41ec106eea40812041fa6b9c91422848144f711\n",
            "  Stored in directory: /root/.cache/pip/wheels/2d/04/41/8e1836e79581989c22eebac3f4e70aaac9af07b0908da173be\n",
            "  Building wheel for google-apitools (setup.py) ... \u001b[?25l\u001b[?25hdone\n",
            "  Created wheel for google-apitools: filename=google_apitools-0.5.31-cp37-none-any.whl size=131043 sha256=6e750599b61d4b90571ca20b84de35a65ecec3338eedf5967c0a3c1b626d84b6\n",
            "  Stored in directory: /root/.cache/pip/wheels/3b/43/31/09a9dad88d3aec6fed2d63bd35dfc532fca372e2edec5af5bf\n",
            "  Building wheel for pyregion (setup.py) ... \u001b[?25l\u001b[?25hdone\n",
            "  Created wheel for pyregion: filename=pyregion-2.0-cp37-cp37m-linux_x86_64.whl size=309318 sha256=5d7a0443d9e92063a0b9a73af33cb159cb99ff63ccae842cbd0029646df25750\n",
            "  Stored in directory: /root/.cache/pip/wheels/ca/2c/2b/c95350df7d42ba9044b7528c5ba549bead550433b189008a7f\n",
            "  Building wheel for avro-python3 (setup.py) ... \u001b[?25l\u001b[?25hdone\n",
            "  Created wheel for avro-python3: filename=avro_python3-1.9.2.1-cp37-none-any.whl size=43516 sha256=e32a7b6b0f873697bbb014514b3287bc9f3d5bb1cde601bee4078cde05052098\n",
            "  Stored in directory: /root/.cache/pip/wheels/5a/d3/be/86620c9dd3fca68986c33b9c616510289fc0abb81ec9aa70bd\n",
            "  Building wheel for dill (setup.py) ... \u001b[?25l\u001b[?25hdone\n",
            "  Created wheel for dill: filename=dill-0.3.1.1-cp37-none-any.whl size=78532 sha256=9860e063e9bef9b04abf44aca8bc6d04f3b57f76e21a6fcaba3fe3dae3700b1f\n",
            "  Stored in directory: /root/.cache/pip/wheels/59/b1/91/f02e76c732915c4015ab4010f3015469866c1eb9b14058d8e7\n",
            "  Building wheel for future (setup.py) ... \u001b[?25l\u001b[?25hdone\n",
            "  Created wheel for future: filename=future-0.18.2-cp37-none-any.whl size=491058 sha256=536f5aa91eb1e6ee4617858eeb8ffa6388f4af838197c3069c1c8a5562da2fa4\n",
            "  Stored in directory: /root/.cache/pip/wheels/8b/99/a0/81daf51dcd359a9377b110a8a886b3895921802d2fc1b2397e\n",
            "Successfully built typing google-apitools pyregion avro-python3 dill future\n",
            "\u001b[31mERROR: multiprocess 0.70.11.1 has requirement dill>=0.3.3, but you'll have dill 0.3.1.1 which is incompatible.\u001b[0m\n",
            "\u001b[31mERROR: google-colab 1.0.0 has requirement requests~=2.23.0, but you'll have requests 2.25.1 which is incompatible.\u001b[0m\n",
            "\u001b[31mERROR: datascience 0.10.6 has requirement folium==0.2.1, but you'll have folium 0.8.3 which is incompatible.\u001b[0m\n",
            "Installing collected packages: soupsieve, beautifulsoup4, astropy, astropy-healpix, reproject, pyregion, pyavm, aplpy, typing, avro-python3, fastavro, pbr, mock, pyarrow, dill, requests, hdfs, future, apache-beam, fasteners, google-apitools, pgb-utils\n",
            "  Found existing installation: beautifulsoup4 4.6.3\n",
            "    Uninstalling beautifulsoup4-4.6.3:\n",
            "      Successfully uninstalled beautifulsoup4-4.6.3\n",
            "  Found existing installation: astropy 4.2\n",
            "    Uninstalling astropy-4.2:\n",
            "      Successfully uninstalled astropy-4.2\n",
            "  Found existing installation: pyarrow 3.0.0\n",
            "    Uninstalling pyarrow-3.0.0:\n",
            "      Successfully uninstalled pyarrow-3.0.0\n",
            "  Found existing installation: dill 0.3.3\n",
            "    Uninstalling dill-0.3.3:\n",
            "      Successfully uninstalled dill-0.3.3\n",
            "  Found existing installation: requests 2.23.0\n",
            "    Uninstalling requests-2.23.0:\n",
            "      Successfully uninstalled requests-2.23.0\n",
            "  Found existing installation: future 0.16.0\n",
            "    Uninstalling future-0.16.0:\n",
            "      Successfully uninstalled future-0.16.0\n",
            "Successfully installed apache-beam-2.28.0 aplpy-2.0.3 astropy-3.2.1 astropy-healpix-0.6 avro-python3-1.9.2.1 beautifulsoup4-4.8.0 dill-0.3.1.1 fastavro-1.3.5 fasteners-0.16 future-0.18.2 google-apitools-0.5.31 hdfs-2.6.0 mock-2.0.0 pbr-5.5.1 pgb-utils-0.1.2 pyarrow-2.0.0 pyavm-0.9.5 pyregion-2.0 reproject-0.7.1 requests-2.25.1 soupsieve-2.2.1 typing-3.7.4.3\n"
          ],
          "name": "stdout"
        }
      ]
    },
    {
      "cell_type": "code",
      "metadata": {
        "id": "IaFC3geYYfyn"
      },
      "source": [
        "import apache_beam as beam\n",
        "import aplpy\n",
        "from astropy import coordinates as coord\n",
        "from astropy import units as u\n",
        "from astropy.io import fits\n",
        "import fastavro\n",
        "from google.colab import auth, drive\n",
        "import gzip\n",
        "import io\n",
        "from matplotlib import pyplot as plt\n",
        "import pandas as pd\n",
        "from pathlib import Path\n",
        "\n",
        "from google.cloud import bigquery, storage\n",
        "\n",
        "import pgb_utils as pgb"
      ],
      "execution_count": 4,
      "outputs": []
    },
    {
      "cell_type": "code",
      "metadata": {
        "id": "hm8S4HbIQlK1"
      },
      "source": [
        "auth.authenticate_user()\n",
        "# follow the instructions to authorize Google Cloud SDK "
      ],
      "execution_count": 5,
      "outputs": []
    },
    {
      "cell_type": "code",
      "metadata": {
        "id": "DKcureCHfJRu"
      },
      "source": [
        "# For demonstration of command-line tools, create a fnc for running shell commands\n",
        "def run(cmd: str):\n",
        "  print('>> {}'.format(cmd))\n",
        "  !{cmd}\n",
        "  print('')"
      ],
      "execution_count": 6,
      "outputs": []
    },
    {
      "cell_type": "code",
      "metadata": {
        "id": "XqvwOxg40f-e",
        "colab": {
          "base_uri": "https://localhost:8080/"
        },
        "outputId": "aae37fd3-aeb7-4496-bd1c-017d837f1779"
      },
      "source": [
        "# Connect your Google Drive file system\n",
        "# to be used in the sections on File Storage and Apache Beam pipelines\n",
        "drive.mount('/content/drive') \n",
        "# follow the instructions to authorize access\n",
        "\n",
        "# create a path for later\n",
        "colabpath = '/content/drive/MyDrive/Colab\\ Notebooks/PGB_tutorial'\n",
        "colabpath_noesc = '/content/drive/MyDrive/Colab Notebooks/PGB_tutorial'\n",
        "run(f'mkdir -p {colabpath}')\n",
        "\n",
        "# Colab Hint: Click the \"Files\" icon on the left to view a file browser.\n",
        "\n",
        "# Colab Hint: Click the \"Code snippets\" icon (<>) on the left and search for \n",
        "#       \"access drive\" to learn how to interact with Drive."
      ],
      "execution_count": 7,
      "outputs": [
        {
          "output_type": "stream",
          "text": [
            "Mounted at /content/drive\n",
            ">> mkdir -p /content/drive/MyDrive/Colab\\ Notebooks/PGB_tutorial\n",
            "\n"
          ],
          "name": "stdout"
        }
      ]
    },
    {
      "cell_type": "markdown",
      "metadata": {
        "id": "6P6I0SsNNEFk"
      },
      "source": [
        "---"
      ]
    },
    {
      "cell_type": "markdown",
      "metadata": {
        "id": "tXTEuyccOJoa"
      },
      "source": [
        "# 3) BigQuery Database"
      ]
    },
    {
      "cell_type": "markdown",
      "metadata": {
        "id": "gVNNwPBfOBrZ"
      },
      "source": [
        "## 3a) Python"
      ]
    },
    {
      "cell_type": "markdown",
      "metadata": {
        "id": "s2kX-kEJemYD"
      },
      "source": [
        "### Table names and schemas"
      ]
    },
    {
      "cell_type": "code",
      "metadata": {
        "id": "SNGTZsy8xw_3",
        "colab": {
          "base_uri": "https://localhost:8080/"
        },
        "outputId": "6879d643-5e73-49e2-e491-f0a64ba62659"
      },
      "source": [
        "# Create a Client for the BigQuery connections below\n",
        "pgb.bigquery.create_client(my_project_id)\n",
        "# this is just a convenience wrapper, as are many pgb functions. look at\n",
        "# its source code for guidance on using `google.cloud` libraries directly.\n",
        "\n",
        "# Colab Hint: Mouse over the function name to see its definition and\n",
        "#             source code (make sure the cell is selected)."
      ],
      "execution_count": 8,
      "outputs": [
        {
          "output_type": "stream",
          "text": [
            "\n",
            "Instantiating a BigQuery client with project_id: ardent-cycling-243415\n",
            "\n"
          ],
          "name": "stdout"
        }
      ]
    },
    {
      "cell_type": "code",
      "metadata": {
        "id": "6sfxgU9AeuVY",
        "colab": {
          "base_uri": "https://localhost:8080/"
        },
        "outputId": "2718436e-c8ca-4621-be1b-a83294de318a"
      },
      "source": [
        "pgb.bigquery.get_dataset_table_names()"
      ],
      "execution_count": 9,
      "outputs": [
        {
          "output_type": "stream",
          "text": [
            "Getting table names for dataset: ztf_alerts\n"
          ],
          "name": "stdout"
        },
        {
          "output_type": "execute_result",
          "data": {
            "text/plain": [
              "['salt2', 'alerts', 'DIASource']"
            ]
          },
          "metadata": {
            "tags": []
          },
          "execution_count": 9
        }
      ]
    },
    {
      "cell_type": "code",
      "metadata": {
        "id": "zNuQD35Zq7yJ",
        "colab": {
          "base_uri": "https://localhost:8080/"
        },
        "outputId": "198bb658-2c7c-46ad-d760-8c2aefe370d0"
      },
      "source": [
        "pgb.bigquery.get_table_info('DIASource')\n",
        "\n",
        "# Colab Hint: Right-click this cell and select \"Copy to scratch cell\"\n",
        "#             so you can use this as a reference in later queries."
      ],
      "execution_count": 10,
      "outputs": [
        {
          "output_type": "stream",
          "text": [
            "ardent-cycling-243415.ztf_alerts.DIASource\n",
            "+-----+------------------------+------------------------------------------------------------------------------------------------------------------------------------------------------------------------------------------------------------------------------+---------+\n",
            "|     | column_name            | description                                                                                                                                                                                                                  | type    |\n",
            "+=====+========================+==============================================================================================================================================================================================================================+=========+\n",
            "|   0 | schemavsn              | schema version used                                                                                                                                                                                                          | STRING  |\n",
            "+-----+------------------------+------------------------------------------------------------------------------------------------------------------------------------------------------------------------------------------------------------------------------+---------+\n",
            "|   1 | publisher              | origin of alert packet                                                                                                                                                                                                       | STRING  |\n",
            "+-----+------------------------+------------------------------------------------------------------------------------------------------------------------------------------------------------------------------------------------------------------------------+---------+\n",
            "|   2 | objectId               | object identifier or name                                                                                                                                                                                                    | STRING  |\n",
            "+-----+------------------------+------------------------------------------------------------------------------------------------------------------------------------------------------------------------------------------------------------------------------+---------+\n",
            "|   3 | candid                 | Candidate ID from operations DB                                                                                                                                                                                              | INTEGER |\n",
            "+-----+------------------------+------------------------------------------------------------------------------------------------------------------------------------------------------------------------------------------------------------------------------+---------+\n",
            "|   4 | jd                     | Observation Julian date at start of exposure [days]                                                                                                                                                                          | FLOAT   |\n",
            "+-----+------------------------+------------------------------------------------------------------------------------------------------------------------------------------------------------------------------------------------------------------------------+---------+\n",
            "|   5 | fid                    | Filter ID (1=g; 2=R; 3=i)                                                                                                                                                                                                    | INTEGER |\n",
            "+-----+------------------------+------------------------------------------------------------------------------------------------------------------------------------------------------------------------------------------------------------------------------+---------+\n",
            "|   6 | pid                    | Processing ID for science image to facilitate archive retrieval                                                                                                                                                              | INTEGER |\n",
            "+-----+------------------------+------------------------------------------------------------------------------------------------------------------------------------------------------------------------------------------------------------------------------+---------+\n",
            "|   7 | diffmaglim             | Expected 5-sigma mag limit in difference image based on global noise estimate [mag]                                                                                                                                          | FLOAT   |\n",
            "+-----+------------------------+------------------------------------------------------------------------------------------------------------------------------------------------------------------------------------------------------------------------------+---------+\n",
            "|   8 | pdiffimfilename        | filename of positive (sci minus ref) difference image                                                                                                                                                                        | STRING  |\n",
            "+-----+------------------------+------------------------------------------------------------------------------------------------------------------------------------------------------------------------------------------------------------------------------+---------+\n",
            "|   9 | programpi              | Principal investigator attached to program ID                                                                                                                                                                                | STRING  |\n",
            "+-----+------------------------+------------------------------------------------------------------------------------------------------------------------------------------------------------------------------------------------------------------------------+---------+\n",
            "|  10 | programid              | Program ID: encodes either public, collab, or caltech mode                                                                                                                                                                   | INTEGER |\n",
            "+-----+------------------------+------------------------------------------------------------------------------------------------------------------------------------------------------------------------------------------------------------------------------+---------+\n",
            "|  11 | isdiffpos              | t or 1 => candidate is from positive (sci minus ref) subtraction; f or 0 => candidate is from negative (ref minus sci) subtraction                                                                                           | STRING  |\n",
            "+-----+------------------------+------------------------------------------------------------------------------------------------------------------------------------------------------------------------------------------------------------------------------+---------+\n",
            "|  12 | tblid                  | Internal pipeline table extraction ID                                                                                                                                                                                        | INTEGER |\n",
            "+-----+------------------------+------------------------------------------------------------------------------------------------------------------------------------------------------------------------------------------------------------------------------+---------+\n",
            "|  13 | nid                    | Night ID                                                                                                                                                                                                                     | INTEGER |\n",
            "+-----+------------------------+------------------------------------------------------------------------------------------------------------------------------------------------------------------------------------------------------------------------------+---------+\n",
            "|  14 | rcid                   | Readout channel ID [00 .. 63]                                                                                                                                                                                                | INTEGER |\n",
            "+-----+------------------------+------------------------------------------------------------------------------------------------------------------------------------------------------------------------------------------------------------------------------+---------+\n",
            "|  15 | field                  | ZTF field ID                                                                                                                                                                                                                 | INTEGER |\n",
            "+-----+------------------------+------------------------------------------------------------------------------------------------------------------------------------------------------------------------------------------------------------------------------+---------+\n",
            "|  16 | xpos                   | x-image position of candidate [pixels]                                                                                                                                                                                       | FLOAT   |\n",
            "+-----+------------------------+------------------------------------------------------------------------------------------------------------------------------------------------------------------------------------------------------------------------------+---------+\n",
            "|  17 | ypos                   | y-image position of candidate [pixels]                                                                                                                                                                                       | FLOAT   |\n",
            "+-----+------------------------+------------------------------------------------------------------------------------------------------------------------------------------------------------------------------------------------------------------------------+---------+\n",
            "|  18 | ra                     | Right Ascension of candidate; J2000 [deg]                                                                                                                                                                                    | FLOAT   |\n",
            "+-----+------------------------+------------------------------------------------------------------------------------------------------------------------------------------------------------------------------------------------------------------------------+---------+\n",
            "|  19 | dec                    | Declination of candidate; J2000 [deg]                                                                                                                                                                                        | FLOAT   |\n",
            "+-----+------------------------+------------------------------------------------------------------------------------------------------------------------------------------------------------------------------------------------------------------------------+---------+\n",
            "|  20 | magpsf                 | Magnitude from PSF-fit photometry [mag]                                                                                                                                                                                      | FLOAT   |\n",
            "+-----+------------------------+------------------------------------------------------------------------------------------------------------------------------------------------------------------------------------------------------------------------------+---------+\n",
            "|  21 | sigmapsf               | 1-sigma uncertainty in magpsf [mag]                                                                                                                                                                                          | FLOAT   |\n",
            "+-----+------------------------+------------------------------------------------------------------------------------------------------------------------------------------------------------------------------------------------------------------------------+---------+\n",
            "|  22 | chipsf                 | Reduced chi-square for PSF-fit                                                                                                                                                                                               | FLOAT   |\n",
            "+-----+------------------------+------------------------------------------------------------------------------------------------------------------------------------------------------------------------------------------------------------------------------+---------+\n",
            "|  23 | magap                  | Aperture mag using 14 pixel diameter aperture [mag]                                                                                                                                                                          | FLOAT   |\n",
            "+-----+------------------------+------------------------------------------------------------------------------------------------------------------------------------------------------------------------------------------------------------------------------+---------+\n",
            "|  24 | sigmagap               | 1-sigma uncertainty in magap [mag]                                                                                                                                                                                           | FLOAT   |\n",
            "+-----+------------------------+------------------------------------------------------------------------------------------------------------------------------------------------------------------------------------------------------------------------------+---------+\n",
            "|  25 | distnr                 | distance to nearest source in reference image PSF-catalog [pixels]                                                                                                                                                           | FLOAT   |\n",
            "+-----+------------------------+------------------------------------------------------------------------------------------------------------------------------------------------------------------------------------------------------------------------------+---------+\n",
            "|  26 | magnr                  | magnitude of nearest source in reference image PSF-catalog [mag]                                                                                                                                                             | FLOAT   |\n",
            "+-----+------------------------+------------------------------------------------------------------------------------------------------------------------------------------------------------------------------------------------------------------------------+---------+\n",
            "|  27 | sigmagnr               | 1-sigma uncertainty in magnr [mag]                                                                                                                                                                                           | FLOAT   |\n",
            "+-----+------------------------+------------------------------------------------------------------------------------------------------------------------------------------------------------------------------------------------------------------------------+---------+\n",
            "|  28 | chinr                  | DAOPhot chi parameter of nearest source in reference image PSF-catalog                                                                                                                                                       | FLOAT   |\n",
            "+-----+------------------------+------------------------------------------------------------------------------------------------------------------------------------------------------------------------------------------------------------------------------+---------+\n",
            "|  29 | sharpnr                | DAOPhot sharp parameter of nearest source in reference image PSF-catalog                                                                                                                                                     | FLOAT   |\n",
            "+-----+------------------------+------------------------------------------------------------------------------------------------------------------------------------------------------------------------------------------------------------------------------+---------+\n",
            "|  30 | sky                    | Local sky background estimate [DN]                                                                                                                                                                                           | FLOAT   |\n",
            "+-----+------------------------+------------------------------------------------------------------------------------------------------------------------------------------------------------------------------------------------------------------------------+---------+\n",
            "|  31 | magdiff                | Difference: magap - magpsf [mag]                                                                                                                                                                                             | FLOAT   |\n",
            "+-----+------------------------+------------------------------------------------------------------------------------------------------------------------------------------------------------------------------------------------------------------------------+---------+\n",
            "|  32 | fwhm                   | Full Width Half Max assuming a Gaussian core, from SExtractor [pixels]                                                                                                                                                       | FLOAT   |\n",
            "+-----+------------------------+------------------------------------------------------------------------------------------------------------------------------------------------------------------------------------------------------------------------------+---------+\n",
            "|  33 | classtar               | Star/Galaxy classification score from SExtractor                                                                                                                                                                             | FLOAT   |\n",
            "+-----+------------------------+------------------------------------------------------------------------------------------------------------------------------------------------------------------------------------------------------------------------------+---------+\n",
            "|  34 | mindtoedge             | Distance to nearest edge in image [pixels]                                                                                                                                                                                   | FLOAT   |\n",
            "+-----+------------------------+------------------------------------------------------------------------------------------------------------------------------------------------------------------------------------------------------------------------------+---------+\n",
            "|  35 | magfromlim             | Difference: diffmaglim - magap [mag]                                                                                                                                                                                         | FLOAT   |\n",
            "+-----+------------------------+------------------------------------------------------------------------------------------------------------------------------------------------------------------------------------------------------------------------------+---------+\n",
            "|  36 | seeratio               | Ratio: difffwhm / fwhm                                                                                                                                                                                                       | FLOAT   |\n",
            "+-----+------------------------+------------------------------------------------------------------------------------------------------------------------------------------------------------------------------------------------------------------------------+---------+\n",
            "|  37 | aimage                 | Windowed profile RMS afloat major axis from SExtractor [pixels]                                                                                                                                                              | FLOAT   |\n",
            "+-----+------------------------+------------------------------------------------------------------------------------------------------------------------------------------------------------------------------------------------------------------------------+---------+\n",
            "|  38 | bimage                 | Windowed profile RMS afloat minor axis from SExtractor [pixels]                                                                                                                                                              | FLOAT   |\n",
            "+-----+------------------------+------------------------------------------------------------------------------------------------------------------------------------------------------------------------------------------------------------------------------+---------+\n",
            "|  39 | aimagerat              | Ratio: aimage / fwhm                                                                                                                                                                                                         | FLOAT   |\n",
            "+-----+------------------------+------------------------------------------------------------------------------------------------------------------------------------------------------------------------------------------------------------------------------+---------+\n",
            "|  40 | bimagerat              | Ratio: bimage / fwhm                                                                                                                                                                                                         | FLOAT   |\n",
            "+-----+------------------------+------------------------------------------------------------------------------------------------------------------------------------------------------------------------------------------------------------------------------+---------+\n",
            "|  41 | elong                  | Ratio: aimage / bimage                                                                                                                                                                                                       | FLOAT   |\n",
            "+-----+------------------------+------------------------------------------------------------------------------------------------------------------------------------------------------------------------------------------------------------------------------+---------+\n",
            "|  42 | nneg                   | number of negative pixels in a 5 x 5 pixel stamp                                                                                                                                                                             | INTEGER |\n",
            "+-----+------------------------+------------------------------------------------------------------------------------------------------------------------------------------------------------------------------------------------------------------------------+---------+\n",
            "|  43 | nbad                   | number of prior-tagged bad pixels in a 5 x 5 pixel stamp                                                                                                                                                                     | INTEGER |\n",
            "+-----+------------------------+------------------------------------------------------------------------------------------------------------------------------------------------------------------------------------------------------------------------------+---------+\n",
            "|  44 | rb                     | RealBogus quality score from Random Forest classifier; range is 0 to 1 where closer to 1 is more reliable                                                                                                                    | FLOAT   |\n",
            "+-----+------------------------+------------------------------------------------------------------------------------------------------------------------------------------------------------------------------------------------------------------------------+---------+\n",
            "|  45 | ssdistnr               | distance to nearest known solar system object if exists within 30 arcsec [arcsec]                                                                                                                                            | FLOAT   |\n",
            "+-----+------------------------+------------------------------------------------------------------------------------------------------------------------------------------------------------------------------------------------------------------------------+---------+\n",
            "|  46 | ssmagnr                | magnitude of nearest known solar system object if exists within 30 arcsec (usually V-band from MPC archive) [mag]                                                                                                            | FLOAT   |\n",
            "+-----+------------------------+------------------------------------------------------------------------------------------------------------------------------------------------------------------------------------------------------------------------------+---------+\n",
            "|  47 | ssnamenr               | name of nearest known solar system object if exists within 30 arcsec (from MPC archive)                                                                                                                                      | STRING  |\n",
            "+-----+------------------------+------------------------------------------------------------------------------------------------------------------------------------------------------------------------------------------------------------------------------+---------+\n",
            "|  48 | sumrat                 | Ratio: sum(pixels) / sum(|pixels|) in a 5 x 5 pixel stamp where stamp is first median-filtered to mitigate outliers                                                                                                          | FLOAT   |\n",
            "+-----+------------------------+------------------------------------------------------------------------------------------------------------------------------------------------------------------------------------------------------------------------------+---------+\n",
            "|  49 | magapbig               | Aperture mag using 18 pixel diameter aperture [mag]                                                                                                                                                                          | FLOAT   |\n",
            "+-----+------------------------+------------------------------------------------------------------------------------------------------------------------------------------------------------------------------------------------------------------------------+---------+\n",
            "|  50 | sigmagapbig            | 1-sigma uncertainty in magapbig [mag]                                                                                                                                                                                        | FLOAT   |\n",
            "+-----+------------------------+------------------------------------------------------------------------------------------------------------------------------------------------------------------------------------------------------------------------------+---------+\n",
            "|  51 | ranr                   | Right Ascension of nearest source in reference image PSF-catalog; J2000 [deg]                                                                                                                                                | FLOAT   |\n",
            "+-----+------------------------+------------------------------------------------------------------------------------------------------------------------------------------------------------------------------------------------------------------------------+---------+\n",
            "|  52 | decnr                  | Declination of nearest source in reference image PSF-catalog; J2000 [deg]                                                                                                                                                    | FLOAT   |\n",
            "+-----+------------------------+------------------------------------------------------------------------------------------------------------------------------------------------------------------------------------------------------------------------------+---------+\n",
            "|  53 | sgmag1                 | g-band PSF-fit magnitude of closest source from PS1 catalog; if exists within 30 arcsec [mag]                                                                                                                                | FLOAT   |\n",
            "+-----+------------------------+------------------------------------------------------------------------------------------------------------------------------------------------------------------------------------------------------------------------------+---------+\n",
            "|  54 | srmag1                 | r-band PSF-fit magnitude of closest source from PS1 catalog; if exists within 30 arcsec [mag]                                                                                                                                | FLOAT   |\n",
            "+-----+------------------------+------------------------------------------------------------------------------------------------------------------------------------------------------------------------------------------------------------------------------+---------+\n",
            "|  55 | simag1                 | i-band PSF-fit magnitude of closest source from PS1 catalog; if exists within 30 arcsec [mag]                                                                                                                                | FLOAT   |\n",
            "+-----+------------------------+------------------------------------------------------------------------------------------------------------------------------------------------------------------------------------------------------------------------------+---------+\n",
            "|  56 | szmag1                 | z-band PSF-fit magnitude of closest source from PS1 catalog; if exists within 30 arcsec [mag]                                                                                                                                | FLOAT   |\n",
            "+-----+------------------------+------------------------------------------------------------------------------------------------------------------------------------------------------------------------------------------------------------------------------+---------+\n",
            "|  57 | sgscore1               | Star/Galaxy score of closest source from PS1 catalog; if exists within 30 arcsec: 0 <= sgscore <= 1 where closer to 1 implies higher likelihood of being a star                                                              | FLOAT   |\n",
            "+-----+------------------------+------------------------------------------------------------------------------------------------------------------------------------------------------------------------------------------------------------------------------+---------+\n",
            "|  58 | distpsnr1              | Distance to closest source from PS1 catalog; if exists within 30 arcsec [arcsec]                                                                                                                                             | FLOAT   |\n",
            "+-----+------------------------+------------------------------------------------------------------------------------------------------------------------------------------------------------------------------------------------------------------------------+---------+\n",
            "|  59 | ndethist               | Number of spatially-coincident detections falling within 1.5 arcsec going back to beginning of survey; only detections that fell on the same field and readout-channel ID where the input candidate was observed are counted | INTEGER |\n",
            "+-----+------------------------+------------------------------------------------------------------------------------------------------------------------------------------------------------------------------------------------------------------------------+---------+\n",
            "|  60 | ncovhist               | Number of times input candidate position fell on any field and readout-channel going back to beginning of survey                                                                                                             | INTEGER |\n",
            "+-----+------------------------+------------------------------------------------------------------------------------------------------------------------------------------------------------------------------------------------------------------------------+---------+\n",
            "|  61 | jdstarthist            | Earliest Julian date of epoch corresponding to ndethist [days]                                                                                                                                                               | FLOAT   |\n",
            "+-----+------------------------+------------------------------------------------------------------------------------------------------------------------------------------------------------------------------------------------------------------------------+---------+\n",
            "|  62 | jdendhist              | Latest Julian date of epoch corresponding to ndethist [days]                                                                                                                                                                 | FLOAT   |\n",
            "+-----+------------------------+------------------------------------------------------------------------------------------------------------------------------------------------------------------------------------------------------------------------------+---------+\n",
            "|  63 | scorr                  | Peak-pixel signal-to-noise ratio in point source matched-filtered detection image                                                                                                                                            | FLOAT   |\n",
            "+-----+------------------------+------------------------------------------------------------------------------------------------------------------------------------------------------------------------------------------------------------------------------+---------+\n",
            "|  64 | tooflag                | 1 => candidate is from a Target-of-Opportunity (ToO) exposure; 0 => candidate is from a non-ToO exposure                                                                                                                     | INTEGER |\n",
            "+-----+------------------------+------------------------------------------------------------------------------------------------------------------------------------------------------------------------------------------------------------------------------+---------+\n",
            "|  65 | objectidps1            | Object ID of closest source from PS1 catalog; if exists within 30 arcsec                                                                                                                                                     | INTEGER |\n",
            "+-----+------------------------+------------------------------------------------------------------------------------------------------------------------------------------------------------------------------------------------------------------------------+---------+\n",
            "|  66 | objectidps2            | Object ID of second closest source from PS1 catalog; if exists within 30 arcsec                                                                                                                                              | INTEGER |\n",
            "+-----+------------------------+------------------------------------------------------------------------------------------------------------------------------------------------------------------------------------------------------------------------------+---------+\n",
            "|  67 | sgmag2                 | g-band PSF-fit magnitude of second closest source from PS1 catalog; if exists within 30 arcsec [mag]                                                                                                                         | FLOAT   |\n",
            "+-----+------------------------+------------------------------------------------------------------------------------------------------------------------------------------------------------------------------------------------------------------------------+---------+\n",
            "|  68 | srmag2                 | r-band PSF-fit magnitude of second closest source from PS1 catalog; if exists within 30 arcsec [mag]                                                                                                                         | FLOAT   |\n",
            "+-----+------------------------+------------------------------------------------------------------------------------------------------------------------------------------------------------------------------------------------------------------------------+---------+\n",
            "|  69 | simag2                 | i-band PSF-fit magnitude of second closest source from PS1 catalog; if exists within 30 arcsec [mag]                                                                                                                         | FLOAT   |\n",
            "+-----+------------------------+------------------------------------------------------------------------------------------------------------------------------------------------------------------------------------------------------------------------------+---------+\n",
            "|  70 | szmag2                 | z-band PSF-fit magnitude of second closest source from PS1 catalog; if exists within 30 arcsec [mag]                                                                                                                         | FLOAT   |\n",
            "+-----+------------------------+------------------------------------------------------------------------------------------------------------------------------------------------------------------------------------------------------------------------------+---------+\n",
            "|  71 | sgscore2               | Star/Galaxy score of second closest source from PS1 catalog; if exists within 30 arcsec: 0 <= sgscore <= 1 where closer to 1 implies higher likelihood of being a star                                                       | FLOAT   |\n",
            "+-----+------------------------+------------------------------------------------------------------------------------------------------------------------------------------------------------------------------------------------------------------------------+---------+\n",
            "|  72 | distpsnr2              | Distance to second closest source from PS1 catalog; if exists within 30 arcsec [arcsec]                                                                                                                                      | FLOAT   |\n",
            "+-----+------------------------+------------------------------------------------------------------------------------------------------------------------------------------------------------------------------------------------------------------------------+---------+\n",
            "|  73 | objectidps3            | Object ID of third closest source from PS1 catalog; if exists within 30 arcsec                                                                                                                                               | INTEGER |\n",
            "+-----+------------------------+------------------------------------------------------------------------------------------------------------------------------------------------------------------------------------------------------------------------------+---------+\n",
            "|  74 | sgmag3                 | g-band PSF-fit magnitude of third closest source from PS1 catalog; if exists within 30 arcsec [mag]                                                                                                                          | FLOAT   |\n",
            "+-----+------------------------+------------------------------------------------------------------------------------------------------------------------------------------------------------------------------------------------------------------------------+---------+\n",
            "|  75 | srmag3                 | r-band PSF-fit magnitude of third closest source from PS1 catalog; if exists within 30 arcsec [mag]                                                                                                                          | FLOAT   |\n",
            "+-----+------------------------+------------------------------------------------------------------------------------------------------------------------------------------------------------------------------------------------------------------------------+---------+\n",
            "|  76 | simag3                 | i-band PSF-fit magnitude of third closest source from PS1 catalog; if exists within 30 arcsec [mag]                                                                                                                          | FLOAT   |\n",
            "+-----+------------------------+------------------------------------------------------------------------------------------------------------------------------------------------------------------------------------------------------------------------------+---------+\n",
            "|  77 | szmag3                 | z-band PSF-fit magnitude of third closest source from PS1 catalog; if exists within 30 arcsec [mag]                                                                                                                          | FLOAT   |\n",
            "+-----+------------------------+------------------------------------------------------------------------------------------------------------------------------------------------------------------------------------------------------------------------------+---------+\n",
            "|  78 | sgscore3               | Star/Galaxy score of third closest source from PS1 catalog; if exists within 30 arcsec: 0 <= sgscore <= 1 where closer to 1 implies higher likelihood of being a star                                                        | FLOAT   |\n",
            "+-----+------------------------+------------------------------------------------------------------------------------------------------------------------------------------------------------------------------------------------------------------------------+---------+\n",
            "|  79 | distpsnr3              | Distance to third closest source from PS1 catalog; if exists within 30 arcsec [arcsec]                                                                                                                                       | FLOAT   |\n",
            "+-----+------------------------+------------------------------------------------------------------------------------------------------------------------------------------------------------------------------------------------------------------------------+---------+\n",
            "|  80 | nmtchps                | Number of source matches from PS1 catalog falling within 30 arcsec                                                                                                                                                           | INTEGER |\n",
            "+-----+------------------------+------------------------------------------------------------------------------------------------------------------------------------------------------------------------------------------------------------------------------+---------+\n",
            "|  81 | rfid                   | Processing ID for reference image to facilitate archive retrieval                                                                                                                                                            | INTEGER |\n",
            "+-----+------------------------+------------------------------------------------------------------------------------------------------------------------------------------------------------------------------------------------------------------------------+---------+\n",
            "|  82 | jdstartref             | Observation Julian date of earliest exposure used to generate reference image [days]                                                                                                                                         | FLOAT   |\n",
            "+-----+------------------------+------------------------------------------------------------------------------------------------------------------------------------------------------------------------------------------------------------------------------+---------+\n",
            "|  83 | jdendref               | Observation Julian date of latest exposure used to generate reference image [days]                                                                                                                                           | FLOAT   |\n",
            "+-----+------------------------+------------------------------------------------------------------------------------------------------------------------------------------------------------------------------------------------------------------------------+---------+\n",
            "|  84 | nframesref             | Number of frames (epochal images) used to generate reference image                                                                                                                                                           | INTEGER |\n",
            "+-----+------------------------+------------------------------------------------------------------------------------------------------------------------------------------------------------------------------------------------------------------------------+---------+\n",
            "|  85 | rbversion              | version of Random Forest classifier model used to assign RealBogus (rb) quality score                                                                                                                                        | STRING  |\n",
            "+-----+------------------------+------------------------------------------------------------------------------------------------------------------------------------------------------------------------------------------------------------------------------+---------+\n",
            "|  86 | dsnrms                 | Ratio: D/stddev(D) on event position where D = difference image                                                                                                                                                              | FLOAT   |\n",
            "+-----+------------------------+------------------------------------------------------------------------------------------------------------------------------------------------------------------------------------------------------------------------------+---------+\n",
            "|  87 | ssnrms                 | Ratio: S/stddev(S) on event position where S = image of convolution: D (x) PSF(D)                                                                                                                                            | FLOAT   |\n",
            "+-----+------------------------+------------------------------------------------------------------------------------------------------------------------------------------------------------------------------------------------------------------------------+---------+\n",
            "|  88 | dsdiff                 | Difference of statistics: dsnrms - ssnrms                                                                                                                                                                                    | FLOAT   |\n",
            "+-----+------------------------+------------------------------------------------------------------------------------------------------------------------------------------------------------------------------------------------------------------------------+---------+\n",
            "|  89 | magzpsci               | Magnitude zero point for photometry estimates [mag]                                                                                                                                                                          | FLOAT   |\n",
            "+-----+------------------------+------------------------------------------------------------------------------------------------------------------------------------------------------------------------------------------------------------------------------+---------+\n",
            "|  90 | magzpsciunc            | Magnitude zero point uncertainty (in magzpsci) [mag]                                                                                                                                                                         | FLOAT   |\n",
            "+-----+------------------------+------------------------------------------------------------------------------------------------------------------------------------------------------------------------------------------------------------------------------+---------+\n",
            "|  91 | magzpscirms            | RMS (deviation from average) in all differences between instrumental photometry and matched photometric calibrators from science image processing [mag]                                                                      | FLOAT   |\n",
            "+-----+------------------------+------------------------------------------------------------------------------------------------------------------------------------------------------------------------------------------------------------------------------+---------+\n",
            "|  92 | nmatches               | Number of PS1 photometric calibrators used to calibrate science image from science image processing                                                                                                                          | INTEGER |\n",
            "+-----+------------------------+------------------------------------------------------------------------------------------------------------------------------------------------------------------------------------------------------------------------------+---------+\n",
            "|  93 | clrcoeff               | Color coefficient from linear fit from photometric calibration of science image                                                                                                                                              | FLOAT   |\n",
            "+-----+------------------------+------------------------------------------------------------------------------------------------------------------------------------------------------------------------------------------------------------------------------+---------+\n",
            "|  94 | clrcounc               | Color coefficient uncertainty from linear fit (corresponding to clrcoeff)                                                                                                                                                    | FLOAT   |\n",
            "+-----+------------------------+------------------------------------------------------------------------------------------------------------------------------------------------------------------------------------------------------------------------------+---------+\n",
            "|  95 | zpclrcov               | Covariance in magzpsci and clrcoeff from science image processing [mag^2]                                                                                                                                                    | FLOAT   |\n",
            "+-----+------------------------+------------------------------------------------------------------------------------------------------------------------------------------------------------------------------------------------------------------------------+---------+\n",
            "|  96 | zpmed                  | Magnitude zero point from median of all differences between instrumental photometry and matched photometric calibrators from science image processing [mag]                                                                  | FLOAT   |\n",
            "+-----+------------------------+------------------------------------------------------------------------------------------------------------------------------------------------------------------------------------------------------------------------------+---------+\n",
            "|  97 | clrmed                 | Median color of all PS1 photometric calibrators used from science image processing [mag]: for filter (fid) = 1, 2, 3, PS1 color used = g-r, g-r, r-i respectively                                                            | FLOAT   |\n",
            "+-----+------------------------+------------------------------------------------------------------------------------------------------------------------------------------------------------------------------------------------------------------------------+---------+\n",
            "|  98 | clrrms                 | RMS color (deviation from average) of all PS1 photometric calibrators used from science image processing [mag]                                                                                                               | FLOAT   |\n",
            "+-----+------------------------+------------------------------------------------------------------------------------------------------------------------------------------------------------------------------------------------------------------------------+---------+\n",
            "|  99 | neargaia               | Distance to closest source from Gaia DR1 catalog irrespective of magnitude; if exists within 90 arcsec [arcsec]                                                                                                              | FLOAT   |\n",
            "+-----+------------------------+------------------------------------------------------------------------------------------------------------------------------------------------------------------------------------------------------------------------------+---------+\n",
            "| 100 | neargaiabright         | Distance to closest source from Gaia DR1 catalog brighter than magnitude 14; if exists within 90 arcsec [arcsec]                                                                                                             | FLOAT   |\n",
            "+-----+------------------------+------------------------------------------------------------------------------------------------------------------------------------------------------------------------------------------------------------------------------+---------+\n",
            "| 101 | maggaia                | Gaia (G-band) magnitude of closest source from Gaia DR1 catalog irrespective of magnitude; if exists within 90 arcsec [mag]                                                                                                  | FLOAT   |\n",
            "+-----+------------------------+------------------------------------------------------------------------------------------------------------------------------------------------------------------------------------------------------------------------------+---------+\n",
            "| 102 | maggaiabright          | Gaia (G-band) magnitude of closest source from Gaia DR1 catalog brighter than magnitude 14; if exists within 90 arcsec [mag]                                                                                                 | FLOAT   |\n",
            "+-----+------------------------+------------------------------------------------------------------------------------------------------------------------------------------------------------------------------------------------------------------------------+---------+\n",
            "| 103 | exptime                | Integration time of camera exposure [sec]                                                                                                                                                                                    | FLOAT   |\n",
            "+-----+------------------------+------------------------------------------------------------------------------------------------------------------------------------------------------------------------------------------------------------------------------+---------+\n",
            "| 104 | drb                    | RealBogus quality score from Deep-Learning-based classifier; range is 0 to 1 where closer to 1 is more reliable                                                                                                              | FLOAT   |\n",
            "+-----+------------------------+------------------------------------------------------------------------------------------------------------------------------------------------------------------------------------------------------------------------------+---------+\n",
            "| 105 | drbversion             | version of Deep-Learning-based classifier model used to assign RealBogus (drb) quality score                                                                                                                                 | STRING  |\n",
            "+-----+------------------------+------------------------------------------------------------------------------------------------------------------------------------------------------------------------------------------------------------------------------+---------+\n",
            "| 106 | prv_candidates_candids | Candidate IDs from previous candidate's in the original alert packet (prv_candidates.candid)                                                                                                                                 | INTEGER |\n",
            "+-----+------------------------+------------------------------------------------------------------------------------------------------------------------------------------------------------------------------------------------------------------------------+---------+\n",
            "\n",
            "ardent-cycling-243415.ztf_alerts.DIASource has 0 rows.\n",
            "\n"
          ],
          "name": "stdout"
        }
      ]
    },
    {
      "cell_type": "markdown",
      "metadata": {
        "id": "cdy9BeSKT60F"
      },
      "source": [
        "---"
      ]
    },
    {
      "cell_type": "markdown",
      "metadata": {
        "id": "AbTyVXUko6-d"
      },
      "source": [
        "### Query lightcurves and other history"
      ]
    },
    {
      "cell_type": "code",
      "metadata": {
        "id": "-7VY4RP6748V"
      },
      "source": [
        "# Choose the history data you want returned\n",
        "columns = ['jd', 'fid', 'magpsf', 'sigmapsf']\n",
        "# 'objectId' and 'candid' will be included automatically\n",
        "# options are in the 'DIASource' table\n",
        "# pgb.bigquery.get_table_info('DIASource')"
      ],
      "execution_count": 11,
      "outputs": []
    },
    {
      "cell_type": "code",
      "metadata": {
        "id": "SxEnRTvie2DK"
      },
      "source": [
        "# Choose specific objects (optional. we'll choose some to minimize load time)\n",
        "objectIds = ['ZTF18aczuwfe', 'ZTF18aczvqcr', 'ZTF20acqgklx', 'ZTF18acexdlh']\n",
        "\n",
        "# you can also restrict sample size using the `limit` keyword below"
      ],
      "execution_count": 12,
      "outputs": []
    },
    {
      "cell_type": "markdown",
      "metadata": {
        "id": "V4JfqzMTXIpk"
      },
      "source": [
        "To retrieve lightcurves and other history, we must query for objects' \"DIASource\" observations and aggregate the results by `objectId`.\n",
        "\n",
        "`pgb.bigquery.query_objects()` is a convenience wrapper that let's you grab all the results at once, or step through them using a generator.\n",
        "It's options are demonstrated below."
      ]
    },
    {
      "cell_type": "code",
      "metadata": {
        "id": "YtJ2C1gS9vdC",
        "colab": {
          "base_uri": "https://localhost:8080/",
          "height": 536
        },
        "outputId": "c9bdbcd8-dfd0-4365-91a3-fce6f985592a"
      },
      "source": [
        "# Option 1: Get a single DataFrame of all results\n",
        "\n",
        "lcs_df = pgb.bigquery.query_objects(columns, objectIds=objectIds)\n",
        "# This will execute a dry run and tell you how much data will be processed.\n",
        "# You will be asked to confirm before proceeding.\n",
        "# In the future we'll skip this using\n",
        "dry_run = False\n",
        "\n",
        "lcs_df.sample(10)\n",
        "# cleaned of duplicates"
      ],
      "execution_count": 13,
      "outputs": [
        {
          "output_type": "stream",
          "text": [
            "\n",
            "Query statement:\n",
            "\n",
            "\"SELECT objectId, ARRAY_AGG(candid ORDER BY candidate.jd) AS candid, ARRAY_AGG(candidate.jd ORDER BY candidate.jd) AS jd, ARRAY_AGG(candidate.magpsf ORDER BY candidate.jd) AS magpsf, ARRAY_AGG(candidate.sigmapsf ORDER BY candidate.jd) AS sigmapsf, ARRAY_AGG(candidate.fid ORDER BY candidate.jd) AS fid FROM `ardent-cycling-243415.ztf_alerts.alerts` WHERE objectId IN (\"ZTF18aczuwfe\",\"ZTF18aczvqcr\",\"ZTF20acqgklx\",\"ZTF18acexdlh\") GROUP BY objectId\"\n",
            "\n",
            "will process 1586466594 bytes of data.\n",
            "(0.144% of your 1 TiB Free Tier monthly allotment.)\n",
            "Continue? [y/N]: y\n"
          ],
          "name": "stdout"
        },
        {
          "output_type": "execute_result",
          "data": {
            "text/html": [
              "<div>\n",
              "<style scoped>\n",
              "    .dataframe tbody tr th:only-of-type {\n",
              "        vertical-align: middle;\n",
              "    }\n",
              "\n",
              "    .dataframe tbody tr th {\n",
              "        vertical-align: top;\n",
              "    }\n",
              "\n",
              "    .dataframe thead th {\n",
              "        text-align: right;\n",
              "    }\n",
              "</style>\n",
              "<table border=\"1\" class=\"dataframe\">\n",
              "  <thead>\n",
              "    <tr style=\"text-align: right;\">\n",
              "      <th></th>\n",
              "      <th></th>\n",
              "      <th>jd</th>\n",
              "      <th>magpsf</th>\n",
              "      <th>sigmapsf</th>\n",
              "      <th>fid</th>\n",
              "    </tr>\n",
              "    <tr>\n",
              "      <th>objectId</th>\n",
              "      <th>candid</th>\n",
              "      <th></th>\n",
              "      <th></th>\n",
              "      <th></th>\n",
              "      <th></th>\n",
              "    </tr>\n",
              "  </thead>\n",
              "  <tbody>\n",
              "    <tr>\n",
              "      <th>ZTF18aczuwfe</th>\n",
              "      <th>1469258283415015005</th>\n",
              "      <td>2.459224e+06</td>\n",
              "      <td>20.287066</td>\n",
              "      <td>0.212321</td>\n",
              "      <td>2</td>\n",
              "    </tr>\n",
              "    <tr>\n",
              "      <th>ZTF20acqgklx</th>\n",
              "      <th>1467211215215015018</th>\n",
              "      <td>2.459222e+06</td>\n",
              "      <td>18.819756</td>\n",
              "      <td>0.094562</td>\n",
              "      <td>2</td>\n",
              "    </tr>\n",
              "    <tr>\n",
              "      <th rowspan=\"2\" valign=\"top\">ZTF18acexdlh</th>\n",
              "      <th>1446436925615015006</th>\n",
              "      <td>2.459201e+06</td>\n",
              "      <td>19.379440</td>\n",
              "      <td>0.175275</td>\n",
              "      <td>1</td>\n",
              "    </tr>\n",
              "    <tr>\n",
              "      <th>1538147615615015006</th>\n",
              "      <td>2.459293e+06</td>\n",
              "      <td>19.659389</td>\n",
              "      <td>0.165467</td>\n",
              "      <td>1</td>\n",
              "    </tr>\n",
              "    <tr>\n",
              "      <th>ZTF18aczuwfe</th>\n",
              "      <th>1479213073415015001</th>\n",
              "      <td>2.459234e+06</td>\n",
              "      <td>19.893818</td>\n",
              "      <td>0.178393</td>\n",
              "      <td>2</td>\n",
              "    </tr>\n",
              "    <tr>\n",
              "      <th rowspan=\"2\" valign=\"top\">ZTF18aczvqcr</th>\n",
              "      <th>1444284213615015013</th>\n",
              "      <td>2.459199e+06</td>\n",
              "      <td>19.540318</td>\n",
              "      <td>0.158637</td>\n",
              "      <td>2</td>\n",
              "    </tr>\n",
              "    <tr>\n",
              "      <th>1554175053615015021</th>\n",
              "      <td>2.459309e+06</td>\n",
              "      <td>19.666422</td>\n",
              "      <td>0.166205</td>\n",
              "      <td>2</td>\n",
              "    </tr>\n",
              "    <tr>\n",
              "      <th>ZTF20acqgklx</th>\n",
              "      <th>1414351235215015023</th>\n",
              "      <td>2.459169e+06</td>\n",
              "      <td>19.898302</td>\n",
              "      <td>0.171336</td>\n",
              "      <td>2</td>\n",
              "    </tr>\n",
              "    <tr>\n",
              "      <th>ZTF18aczuwfe</th>\n",
              "      <th>1499283323415015000</th>\n",
              "      <td>2.459254e+06</td>\n",
              "      <td>19.891897</td>\n",
              "      <td>0.193669</td>\n",
              "      <td>2</td>\n",
              "    </tr>\n",
              "    <tr>\n",
              "      <th>ZTF18acexdlh</th>\n",
              "      <th>1508273721415015040</th>\n",
              "      <td>2.459263e+06</td>\n",
              "      <td>19.474018</td>\n",
              "      <td>0.132851</td>\n",
              "      <td>1</td>\n",
              "    </tr>\n",
              "  </tbody>\n",
              "</table>\n",
              "</div>"
            ],
            "text/plain": [
              "                                            jd     magpsf  sigmapsf  fid\n",
              "objectId     candid                                                     \n",
              "ZTF18aczuwfe 1469258283415015005  2.459224e+06  20.287066  0.212321    2\n",
              "ZTF20acqgklx 1467211215215015018  2.459222e+06  18.819756  0.094562    2\n",
              "ZTF18acexdlh 1446436925615015006  2.459201e+06  19.379440  0.175275    1\n",
              "             1538147615615015006  2.459293e+06  19.659389  0.165467    1\n",
              "ZTF18aczuwfe 1479213073415015001  2.459234e+06  19.893818  0.178393    2\n",
              "ZTF18aczvqcr 1444284213615015013  2.459199e+06  19.540318  0.158637    2\n",
              "             1554175053615015021  2.459309e+06  19.666422  0.166205    2\n",
              "ZTF20acqgklx 1414351235215015023  2.459169e+06  19.898302  0.171336    2\n",
              "ZTF18aczuwfe 1499283323415015000  2.459254e+06  19.891897  0.193669    2\n",
              "ZTF18acexdlh 1508273721415015040  2.459263e+06  19.474018  0.132851    1"
            ]
          },
          "metadata": {
            "tags": []
          },
          "execution_count": 13
        }
      ]
    },
    {
      "cell_type": "markdown",
      "metadata": {
        "id": "MrCb9wKBg-JC"
      },
      "source": [
        "Congratulations! You've now retrieved your first data from the transient table. \n",
        "It is a DataFrame containing the candidate observations for every object we requested, indexed by `objectId` and `candid` (candidate ID). It includes the columns we requested in the query."
      ]
    },
    {
      "cell_type": "markdown",
      "metadata": {
        "id": "Hu0dbKbbpJLj"
      },
      "source": [
        "Queries can return large datasets. You may want to use a generator to step through objects individually, and avoid loading the entire dataset into memory at once.\n",
        "`query_objects()` can return one for you:"
      ]
    },
    {
      "cell_type": "code",
      "metadata": {
        "id": "kEBGXlyM_P33",
        "colab": {
          "base_uri": "https://localhost:8080/"
        },
        "outputId": "b696d009-6647-4b2f-97a2-d80087370696"
      },
      "source": [
        "# Option 2: Get a generator that yields a DataFrame for each objectId\n",
        "\n",
        "iterator = True\n",
        "objects = pgb.bigquery.query_objects(columns, \n",
        "                                     objectIds=objectIds, \n",
        "                                     iterator=iterator,\n",
        "                                     dry_run=dry_run\n",
        "                                     )\n",
        "                                     # cleaned of duplicates\n",
        "\n",
        "for lc_df in objects:\n",
        "    print(f'\\nobjectId: {lc_df.objectId}')  # objectId in metadata\n",
        "    print(lc_df.sample(5))"
      ],
      "execution_count": 14,
      "outputs": [
        {
          "output_type": "stream",
          "text": [
            "\n",
            "objectId: ZTF18acexdlh\n",
            "                               jd     magpsf  sigmapsf  fid\n",
            "candid                                                     \n",
            "1508274200315015010  2.459263e+06  19.312220  0.162628    1\n",
            "1536203621415015012  2.459291e+06  19.716902  0.142650    1\n",
            "1444421735615010004  2.459199e+06  18.782455  0.085394    2\n",
            "1540149315615010004  2.459295e+06  19.623976  0.184744    1\n",
            "1470275475615015007  2.459225e+06  19.228634  0.139192    2\n",
            "\n",
            "objectId: ZTF18aczuwfe\n",
            "                               jd     magpsf  sigmapsf  fid\n",
            "candid                                                     \n",
            "1497147413415015000  2.459252e+06  19.797361  0.184142    1\n",
            "1501265423415015001  2.459256e+06  20.191540  0.173003    2\n",
            "1510206363415015002  2.459265e+06  19.803467  0.164810    1\n",
            "1477168703415015002  2.459232e+06  19.468252  0.211510    2\n",
            "1444285643415015001  2.459199e+06  19.927372  0.209740    2\n",
            "\n",
            "objectId: ZTF18aczvqcr\n",
            "                               jd     magpsf  sigmapsf  fid\n",
            "candid                                                     \n",
            "1497191033615015018  2.459252e+06  20.005791  0.175402    2\n",
            "1414350743615015012  2.459169e+06  19.643711  0.178646    2\n",
            "1479243343615015028  2.459234e+06  19.856361  0.169868    2\n",
            "1469312763615015029  2.459224e+06  19.705523  0.122980    2\n",
            "1410421083615015027  2.459165e+06  20.126310  0.147839    1\n",
            "\n",
            "objectId: ZTF20acqgklx\n",
            "                               jd     magpsf  sigmapsf  fid\n",
            "candid                                                     \n",
            "1440322515215015022  2.459195e+06  19.242628  0.108532    1\n",
            "1449333365215015022  2.459204e+06  19.274761  0.132268    1\n",
            "1495204985215015017  2.459250e+06  19.186491  0.118650    2\n",
            "1446323875215015047  2.459201e+06  18.699612  0.184215    2\n",
            "1461235915215015011  2.459216e+06  18.658220  0.144187    2\n"
          ],
          "name": "stdout"
        }
      ]
    },
    {
      "cell_type": "markdown",
      "metadata": {
        "id": "lW-xTS7vqW12"
      },
      "source": [
        "Each DataFrame contains data on a single object, and is indexed by `candid`. The `objectId` is in the metadata."
      ]
    },
    {
      "cell_type": "markdown",
      "metadata": {
        "id": "-v0F-SgwrlEm"
      },
      "source": [
        "`query_objects()` can also return a json formatted strings of the query results, or the raw `query_job` object that is returned by the Google Cloud SDK. See the full tutorial for details."
      ]
    },
    {
      "cell_type": "markdown",
      "metadata": {
        "id": "wmeLC30rPwKF"
      },
      "source": [
        "---"
      ]
    },
    {
      "cell_type": "markdown",
      "metadata": {
        "id": "FLEcUP3jtVh9"
      },
      "source": [
        "#### Plot a lightcurve"
      ]
    },
    {
      "cell_type": "code",
      "metadata": {
        "id": "NqJAkLgxBO7H"
      },
      "source": [
        "# Get an object's lightcurve DataFrame with the minimum required columns\n",
        "columns = ['jd','fid','magpsf','sigmapsf','diffmaglim']\n",
        "objectId = 'ZTF20acqgklx'\n",
        "lc_df = pgb.bigquery.query_objects(columns, objectIds=[objectId], dry_run=False)"
      ],
      "execution_count": 15,
      "outputs": []
    },
    {
      "cell_type": "code",
      "metadata": {
        "id": "5-hdnhcQtZ42",
        "colab": {
          "base_uri": "https://localhost:8080/",
          "height": 295
        },
        "outputId": "7d010ab1-a318-407b-820a-553db1282100"
      },
      "source": [
        "# make the plot\n",
        "pgb.figures.plot_lightcurve(lc_df, objectId=objectId)\n",
        "# this function was adapted from:\n",
        "# https://github.com/ZwickyTransientFacility/ztf-avro-alert/blob/master/notebooks/Filtering_alerts.ipynb"
      ],
      "execution_count": 16,
      "outputs": [
        {
          "output_type": "display_data",
          "data": {
            "image/png": "[encoded data removed]",
            "text/plain": [
              "<Figure size 432x288 with 1 Axes>"
            ]
          },
          "metadata": {
            "tags": [],
            "needs_background": "light"
          }
        }
      ]
    },
    {
      "cell_type": "markdown",
      "metadata": {
        "id": "305r1rCItVLU"
      },
      "source": [
        "---"
      ]
    },
    {
      "cell_type": "markdown",
      "metadata": {
        "id": "ob8VDnewmsbg"
      },
      "source": [
        "### Cone Search\n",
        "\n",
        "See full tutorial."
      ]
    },
    {
      "cell_type": "markdown",
      "metadata": {
        "id": "mrMNVezhjqEy"
      },
      "source": [
        "---"
      ]
    },
    {
      "cell_type": "markdown",
      "metadata": {
        "id": "id1fk4u06Bcq"
      },
      "source": [
        "### Direct access: Google Cloud SDK\n",
        "\n",
        "See full tutorial."
      ]
    },
    {
      "cell_type": "markdown",
      "metadata": {
        "id": "Nq_62zT7QvrH"
      },
      "source": [
        "---"
      ]
    },
    {
      "cell_type": "markdown",
      "metadata": {
        "id": "3nDSzXh1khgt"
      },
      "source": [
        "## 3b) Command-line tool `bq`"
      ]
    },
    {
      "cell_type": "markdown",
      "metadata": {
        "id": "c1ZRmdYixd7x"
      },
      "source": [
        "All commands in this section are executed using the `run` function we created earlier to run commands on the command-line."
      ]
    },
    {
      "cell_type": "code",
      "metadata": {
        "id": "qaUD-I_uJV3h",
        "colab": {
          "base_uri": "https://localhost:8080/"
        },
        "outputId": "33bd8c3d-f80d-433f-d70d-08985d4535d7"
      },
      "source": [
        "# Get help\n",
        "run('bq help query')"
      ],
      "execution_count": 17,
      "outputs": [
        {
          "output_type": "stream",
          "text": [
            ">> bq help query\n",
            "Python script for interacting with BigQuery.\n",
            "\n",
            "\n",
            "USAGE: bq.py [--global_flags] <command> [--command_flags] [args]\n",
            "\n",
            "\n",
            "query                      Execute a query.\n",
            "\n",
            "                           Query should be specified on command line, or passed\n",
            "                           on stdin.\n",
            "\n",
            "                           Examples:\n",
            "                           bq query 'select count(*) from\n",
            "                           publicdata:samples.shakespeare'\n",
            "                           echo 'select count(*) from\n",
            "                           publicdata:samples.shakespeare' | bq query\n",
            "\n",
            "                           Usage:\n",
            "                           query [<sql_query>]\n",
            "\n",
            "                           Flags for query:\n",
            "\n",
            "                             /tools/google-cloud-sdk/platform/bq/bq.py:\n",
            "                               --[no]allow_large_results: Enables larger\n",
            "                                 destination table sizes for legacy SQL queries.\n",
            "                               --[no]append_table: When a destination table is\n",
            "                                 specified, whether or not to append.\n",
            "                                 (default: 'false')\n",
            "                               --[no]batch: Whether to run the query in batch\n",
            "                                 mode.\n",
            "                               --clustering_fields: Comma separated field names.\n",
            "                                 Can only be specified with time based\n",
            "                                 partitioning. Data will be first partitioned\n",
            "                                 and subsequently \"clustered on these fields.\n",
            "                               --destination_kms_key: Cloud KMS key for\n",
            "                                 encryption of the destination table data.\n",
            "                               --destination_schema: Schema for the destination\n",
            "                                 table. Either a filename or a comma-separated\n",
            "                                 list of fields in the form name[:type].\n",
            "                                 (default: '')\n",
            "                               --destination_table: Name of destination table\n",
            "                                 for query results.\n",
            "                                 (default: '')\n",
            "                               --display_name: Display name for the created\n",
            "                                 scheduled query configuration.\n",
            "                                 (default: '')\n",
            "                               --[no]dry_run: Whether the query should be\n",
            "                                 validated without executing.\n",
            "                               --external_table_definition: Specifies a table\n",
            "                                 name and either an inline table definition or a\n",
            "                                 path to a file containing a JSON table\n",
            "                                 definition to use in the query. The format is\n",
            "                                 \"table_name::path_to_file_with_json_def\" or\n",
            "                                 \"table_name::schema@format=uri@connection\".\n",
            "                                 Note using connection is an experimental\n",
            "                                 feature and is still under development.For\n",
            "                                 example, \"--external_table_definition=Example::\n",
            "                                 /tmp/example_table_def.txt\" will define a table\n",
            "                                 named \"Example\" using the URIs and schema\n",
            "                                 encoded in example_table_def.txt.;\n",
            "                                 repeat this option to specify a list of values\n",
            "                               --[no]flatten_results: Whether to flatten nested\n",
            "                                 and repeated fields in the result schema for\n",
            "                                 legacy SQL queries. If not set, the default\n",
            "                                 behavior is to flatten.\n",
            "                               --job_timeout_ms: Maximum time to run the entire\n",
            "                                 script.\n",
            "                               --label: A label to set on a query job. The\n",
            "                                 format is \"key:value\";\n",
            "                                 repeat this option to specify a list of values\n",
            "                               --max_child_jobs: Maximum number of child jobs to\n",
            "                                 fetch results from after executing a script.\n",
            "                                 If the number of child jobs exceeds this limit,\n",
            "                                 only the final result will be displayed.\n",
            "                                 (default: '1000')\n",
            "                                 (an integer)\n",
            "                               -n,--max_rows: How many rows to return in the\n",
            "                                 result.\n",
            "                                 (default: '100')\n",
            "                                 (an integer)\n",
            "                               --max_statement_results: Maximum number of script\n",
            "                                 statements to display the results for.\n",
            "                                 (default: '100')\n",
            "                                 (an integer)\n",
            "                               --maximum_billing_tier: The upper limit of\n",
            "                                 billing tier for the query.\n",
            "                                 (an integer)\n",
            "                               --maximum_bytes_billed: The upper limit of bytes\n",
            "                                 billed for the query.\n",
            "                                 (an integer)\n",
            "                               --min_completion_ratio: [Experimental] The\n",
            "                                 minimum fraction of data that must be scanned\n",
            "                                 before a query returns. If not set, the default\n",
            "                                 server value (1.0) will be used.\n",
            "                                 (a number in the range [0, 1.0])\n",
            "                               --parameter: Either a file containing a JSON list\n",
            "                                 of query parameters, or a query parameter in\n",
            "                                 the form \"name:type:value\". An empty name\n",
            "                                 produces a positional parameter. The type may\n",
            "                                 be omitted to assume STRING: name::value or\n",
            "                                 ::value. The value \"NULL\" produces a null\n",
            "                                 value.;\n",
            "                                 repeat this option to specify a list of values\n",
            "                               --range_partitioning: Enables range partitioning\n",
            "                                 on the table. The format should be\n",
            "                                 \"field,start,end,interval\". The table will be\n",
            "                                 partitioned based on the value of the field.\n",
            "                                 Field must be a top-level, non-repeated INT64\n",
            "                                 field. Start, end, and interval are INT64\n",
            "                                 values defining the ranges.\n",
            "                               --[no]replace: If true, erase existing contents\n",
            "                                 before loading new data.\n",
            "                                 (default: 'false')\n",
            "                               --request_id: The request_id to use for the\n",
            "                                 jobs.query request. Only valid when used in\n",
            "                                 combination with --rpc.\n",
            "                               --[no]require_cache: Whether to only run the\n",
            "                                 query if it is already cached.\n",
            "                               --[no]require_partition_filter: Whether to\n",
            "                                 require partition filter for queries over this\n",
            "                                 table. Only apply to partitioned table.\n",
            "                               --[no]rpc: If true, use rpc-style query API\n",
            "                                 instead of jobs.insert().\n",
            "                                 (default: 'false')\n",
            "                               --schedule: Scheduled query schedule. If non-\n",
            "                                 empty, this query requests could create a\n",
            "                                 scheduled query understand the customer\n",
            "                                 project. See https://cloud.google.com/appengine\n",
            "                                 /docs/flexible/python/scheduling-jobs-with-\n",
            "                                 cron-yaml#the_schedule_format for the schedule\n",
            "                                 format\n",
            "                               --schema_update_option: Can be specified when\n",
            "                                 append to a table, or replace a table\n",
            "                                 partition. When specified, the schema of the\n",
            "                                 destination table will be updated with the\n",
            "                                 schema of the new data. One or more of the\n",
            "                                 following options can be specified:\n",
            "                                 ALLOW_FIELD_ADDITION: allow new fields to be\n",
            "                                 added\n",
            "                                 ALLOW_FIELD_RELAXATION: allow relaxing required\n",
            "                                 fields to nullable;\n",
            "                                 repeat this option to specify a list of values\n",
            "                               --script_statement_byte_budget: Maximum bytes\n",
            "                                 that can be billed for any statement in a\n",
            "                                 script.\n",
            "                               --script_statement_timeout_ms: Maximum time to\n",
            "                                 complete each statement in a script.\n",
            "                               -s,--start_row: First row to return in the\n",
            "                                 result.\n",
            "                                 (default: '0')\n",
            "                                 (an integer)\n",
            "                               --target_dataset: Target dataset used to create\n",
            "                                 scheduled query.\n",
            "                               --time_partitioning_expiration: Enables time\n",
            "                                 based partitioning on the table and sets the\n",
            "                                 number of seconds for which to keep the storage\n",
            "                                 for the partitions in the table. The storage in\n",
            "                                 a partition will have an expiration time of its\n",
            "                                 partition time plus this value.\n",
            "                                 (an integer)\n",
            "                               --time_partitioning_field: Enables time based\n",
            "                                 partitioning on the table and the table will be\n",
            "                                 partitioned based on the value of this field.\n",
            "                                 If time based partitioning is enabled without\n",
            "                                 this value, the table will be partitioned based\n",
            "                                 on the loading time.\n",
            "                               --time_partitioning_type: Enables time based\n",
            "                                 partitioning on the table and set the type. The\n",
            "                                 default value is DAY, which will generate one\n",
            "                                 partition per day. Other supported values are\n",
            "                                 HOUR, MONTH, and YEAR.\n",
            "                               --udf_resource: The URI or local filesystem path\n",
            "                                 of a code file to load and evaluate immediately\n",
            "                                 as a User-Defined Function resource.;\n",
            "                                 repeat this option to specify a list of values\n",
            "                               --[no]use_cache: Whether to use the query cache\n",
            "                                 to avoid rerunning cached queries.\n",
            "                               --[no]use_legacy_sql: Whether to use Legacy SQL\n",
            "                                 for the query. If not set, the default value is\n",
            "                                 true.\n",
            "\n",
            "                             absl.flags:\n",
            "                               --flagfile: Insert flag definitions from the\n",
            "                                 given file into the command line.\n",
            "                                 (default: '')\n",
            "                               --undefok: comma-separated list of flag names\n",
            "                                 that it is okay to specify on the command line\n",
            "                                 even if the program does not define a flag with\n",
            "                                 that name.  IMPORTANT: flags in this list that\n",
            "                                 have arguments MUST use the --flag=value\n",
            "                                 format.\n",
            "                                 (default: '')\n",
            "\n",
            "\n",
            "Run 'bq.py --help' to get help for global flags.\n",
            "Run 'bq.py help' to see the list of available commands.\n",
            "\n"
          ],
          "name": "stdout"
        }
      ]
    },
    {
      "cell_type": "code",
      "metadata": {
        "id": "XhAlHJaPH5FY",
        "colab": {
          "base_uri": "https://localhost:8080/"
        },
        "outputId": "1d6db7cb-8106-4d15-8ff3-d47a862a8ec3"
      },
      "source": [
        "# view the schema of a table\n",
        "run('bq show --schema --format=prettyjson ardent-cycling-243415:ztf_alerts.DIASource')\n",
        "# run('bq show --schema --format=prettyjson ardent-cycling-243415:ztf_alerts.alerts')\n",
        "\n",
        "# Note: The first time you make a call with `bq` you will ask you to \n",
        "# initialize a .bigqueryrc configuration file. Follow the directions."
      ],
      "execution_count": 18,
      "outputs": [
        {
          "output_type": "stream",
          "text": [
            ">> bq show --schema --format=prettyjson ardent-cycling-243415:ztf_alerts.DIASource\n",
            "\n",
            "Welcome to BigQuery! This script will walk you through the \n",
            "process of initializing your .bigqueryrc configuration file.\n",
            "\n",
            "First, we need to set up your credentials if they do not \n",
            "already exist.\n",
            "\n",
            "Credential creation complete. Now we will select a default project.\n",
            "\n",
            "List of projects:\n",
            "[\n",
            "  {\n",
            "    \"#\": 1, \n",
            "    \"friendlyName\": \"Budget\", \n",
            "    \"projectId\": \"budget-242622\"\n",
            "  }, \n",
            "  {\n",
            "    \"#\": 2, \n",
            "    \"friendlyName\": \"Kafka to BigQuery\", \n",
            "    \"projectId\": \"kafka-to-bigquery\"\n",
            "  }, \n",
            "  {\n",
            "    \"#\": 3, \n",
            "    \"friendlyName\": \"My First Project\", \n",
            "    \"projectId\": \"smiling-timing-239918\"\n",
            "  }, \n",
            "  {\n",
            "    \"#\": 4, \n",
            "    \"friendlyName\": \"Pitt-Broker\", \n",
            "    \"projectId\": \"pitt-broker\"\n",
            "  }, \n",
            "  {\n",
            "    \"#\": 5, \n",
            "    \"friendlyName\": \"pitt-google-broker-prototype\", \n",
            "    \"projectId\": \"ardent-cycling-243415\"\n",
            "  }\n",
            "]\n",
            "Found multiple projects. Please enter a selection for \n",
            "which should be the default, or leave blank to not \n",
            "set a default.\n",
            "\n",
            "Enter a selection (1 - 5): 5\n",
            "\n",
            "BigQuery configuration complete! Type \"bq\" to get started.\n",
            "\n",
            "[\n",
            "  {\n",
            "    \"description\": \"schema version used\",\n",
            "    \"mode\": \"REQUIRED\",\n",
            "    \"name\": \"schemavsn\",\n",
            "    \"type\": \"STRING\"\n",
            "  },\n",
            "  {\n",
            "    \"description\": \"origin of alert packet\",\n",
            "    \"mode\": \"REQUIRED\",\n",
            "    \"name\": \"publisher\",\n",
            "    \"type\": \"STRING\"\n",
            "  },\n",
            "  {\n",
            "    \"description\": \"object identifier or name\",\n",
            "    \"mode\": \"REQUIRED\",\n",
            "    \"name\": \"objectId\",\n",
            "    \"type\": \"STRING\"\n",
            "  },\n",
            "  {\n",
            "    \"description\": \"Candidate ID from operations DB\",\n",
            "    \"mode\": \"REQUIRED\",\n",
            "    \"name\": \"candid\",\n",
            "    \"type\": \"INTEGER\"\n",
            "  },\n",
            "  {\n",
            "    \"description\": \"Observation Julian date at start of exposure [days]\",\n",
            "    \"mode\": \"REQUIRED\",\n",
            "    \"name\": \"jd\",\n",
            "    \"type\": \"FLOAT\"\n",
            "  },\n",
            "  {\n",
            "    \"description\": \"Filter ID (1=g; 2=R; 3=i)\",\n",
            "    \"mode\": \"REQUIRED\",\n",
            "    \"name\": \"fid\",\n",
            "    \"type\": \"INTEGER\"\n",
            "  },\n",
            "  {\n",
            "    \"description\": \"Processing ID for science image to facilitate archive retrieval\",\n",
            "    \"mode\": \"REQUIRED\",\n",
            "    \"name\": \"pid\",\n",
            "    \"type\": \"INTEGER\"\n",
            "  },\n",
            "  {\n",
            "    \"description\": \"Expected 5-sigma mag limit in difference image based on global noise estimate [mag]\",\n",
            "    \"mode\": \"NULLABLE\",\n",
            "    \"name\": \"diffmaglim\",\n",
            "    \"type\": \"FLOAT\"\n",
            "  },\n",
            "  {\n",
            "    \"description\": \"filename of positive (sci minus ref) difference image\",\n",
            "    \"mode\": \"NULLABLE\",\n",
            "    \"name\": \"pdiffimfilename\",\n",
            "    \"type\": \"STRING\"\n",
            "  },\n",
            "  {\n",
            "    \"description\": \"Principal investigator attached to program ID\",\n",
            "    \"mode\": \"NULLABLE\",\n",
            "    \"name\": \"programpi\",\n",
            "    \"type\": \"STRING\"\n",
            "  },\n",
            "  {\n",
            "    \"description\": \"Program ID: encodes either public, collab, or caltech mode\",\n",
            "    \"mode\": \"REQUIRED\",\n",
            "    \"name\": \"programid\",\n",
            "    \"type\": \"INTEGER\"\n",
            "  },\n",
            "  {\n",
            "    \"description\": \"t or 1 => candidate is from positive (sci minus ref) subtraction; f or 0 => candidate is from negative (ref minus sci) subtraction\",\n",
            "    \"mode\": \"REQUIRED\",\n",
            "    \"name\": \"isdiffpos\",\n",
            "    \"type\": \"STRING\"\n",
            "  },\n",
            "  {\n",
            "    \"description\": \"Internal pipeline table extraction ID\",\n",
            "    \"mode\": \"NULLABLE\",\n",
            "    \"name\": \"tblid\",\n",
            "    \"type\": \"INTEGER\"\n",
            "  },\n",
            "  {\n",
            "    \"description\": \"Night ID\",\n",
            "    \"mode\": \"NULLABLE\",\n",
            "    \"name\": \"nid\",\n",
            "    \"type\": \"INTEGER\"\n",
            "  },\n",
            "  {\n",
            "    \"description\": \"Readout channel ID [00 .. 63]\",\n",
            "    \"mode\": \"NULLABLE\",\n",
            "    \"name\": \"rcid\",\n",
            "    \"type\": \"INTEGER\"\n",
            "  },\n",
            "  {\n",
            "    \"description\": \"ZTF field ID\",\n",
            "    \"mode\": \"NULLABLE\",\n",
            "    \"name\": \"field\",\n",
            "    \"type\": \"INTEGER\"\n",
            "  },\n",
            "  {\n",
            "    \"description\": \"x-image position of candidate [pixels]\",\n",
            "    \"mode\": \"NULLABLE\",\n",
            "    \"name\": \"xpos\",\n",
            "    \"type\": \"FLOAT\"\n",
            "  },\n",
            "  {\n",
            "    \"description\": \"y-image position of candidate [pixels]\",\n",
            "    \"mode\": \"NULLABLE\",\n",
            "    \"name\": \"ypos\",\n",
            "    \"type\": \"FLOAT\"\n",
            "  },\n",
            "  {\n",
            "    \"description\": \"Right Ascension of candidate; J2000 [deg]\",\n",
            "    \"mode\": \"REQUIRED\",\n",
            "    \"name\": \"ra\",\n",
            "    \"type\": \"FLOAT\"\n",
            "  },\n",
            "  {\n",
            "    \"description\": \"Declination of candidate; J2000 [deg]\",\n",
            "    \"mode\": \"REQUIRED\",\n",
            "    \"name\": \"dec\",\n",
            "    \"type\": \"FLOAT\"\n",
            "  },\n",
            "  {\n",
            "    \"description\": \"Magnitude from PSF-fit photometry [mag]\",\n",
            "    \"mode\": \"REQUIRED\",\n",
            "    \"name\": \"magpsf\",\n",
            "    \"type\": \"FLOAT\"\n",
            "  },\n",
            "  {\n",
            "    \"description\": \"1-sigma uncertainty in magpsf [mag]\",\n",
            "    \"mode\": \"REQUIRED\",\n",
            "    \"name\": \"sigmapsf\",\n",
            "    \"type\": \"FLOAT\"\n",
            "  },\n",
            "  {\n",
            "    \"description\": \"Reduced chi-square for PSF-fit\",\n",
            "    \"mode\": \"NULLABLE\",\n",
            "    \"name\": \"chipsf\",\n",
            "    \"type\": \"FLOAT\"\n",
            "  },\n",
            "  {\n",
            "    \"description\": \"Aperture mag using 14 pixel diameter aperture [mag]\",\n",
            "    \"mode\": \"NULLABLE\",\n",
            "    \"name\": \"magap\",\n",
            "    \"type\": \"FLOAT\"\n",
            "  },\n",
            "  {\n",
            "    \"description\": \"1-sigma uncertainty in magap [mag]\",\n",
            "    \"mode\": \"NULLABLE\",\n",
            "    \"name\": \"sigmagap\",\n",
            "    \"type\": \"FLOAT\"\n",
            "  },\n",
            "  {\n",
            "    \"description\": \"distance to nearest source in reference image PSF-catalog [pixels]\",\n",
            "    \"mode\": \"NULLABLE\",\n",
            "    \"name\": \"distnr\",\n",
            "    \"type\": \"FLOAT\"\n",
            "  },\n",
            "  {\n",
            "    \"description\": \"magnitude of nearest source in reference image PSF-catalog [mag]\",\n",
            "    \"mode\": \"NULLABLE\",\n",
            "    \"name\": \"magnr\",\n",
            "    \"type\": \"FLOAT\"\n",
            "  },\n",
            "  {\n",
            "    \"description\": \"1-sigma uncertainty in magnr [mag]\",\n",
            "    \"mode\": \"NULLABLE\",\n",
            "    \"name\": \"sigmagnr\",\n",
            "    \"type\": \"FLOAT\"\n",
            "  },\n",
            "  {\n",
            "    \"description\": \"DAOPhot chi parameter of nearest source in reference image PSF-catalog\",\n",
            "    \"mode\": \"NULLABLE\",\n",
            "    \"name\": \"chinr\",\n",
            "    \"type\": \"FLOAT\"\n",
            "  },\n",
            "  {\n",
            "    \"description\": \"DAOPhot sharp parameter of nearest source in reference image PSF-catalog\",\n",
            "    \"mode\": \"NULLABLE\",\n",
            "    \"name\": \"sharpnr\",\n",
            "    \"type\": \"FLOAT\"\n",
            "  },\n",
            "  {\n",
            "    \"description\": \"Local sky background estimate [DN]\",\n",
            "    \"mode\": \"NULLABLE\",\n",
            "    \"name\": \"sky\",\n",
            "    \"type\": \"FLOAT\"\n",
            "  },\n",
            "  {\n",
            "    \"description\": \"Difference: magap - magpsf [mag]\",\n",
            "    \"mode\": \"NULLABLE\",\n",
            "    \"name\": \"magdiff\",\n",
            "    \"type\": \"FLOAT\"\n",
            "  },\n",
            "  {\n",
            "    \"description\": \"Full Width Half Max assuming a Gaussian core, from SExtractor [pixels]\",\n",
            "    \"mode\": \"NULLABLE\",\n",
            "    \"name\": \"fwhm\",\n",
            "    \"type\": \"FLOAT\"\n",
            "  },\n",
            "  {\n",
            "    \"description\": \"Star/Galaxy classification score from SExtractor\",\n",
            "    \"mode\": \"NULLABLE\",\n",
            "    \"name\": \"classtar\",\n",
            "    \"type\": \"FLOAT\"\n",
            "  },\n",
            "  {\n",
            "    \"description\": \"Distance to nearest edge in image [pixels]\",\n",
            "    \"mode\": \"NULLABLE\",\n",
            "    \"name\": \"mindtoedge\",\n",
            "    \"type\": \"FLOAT\"\n",
            "  },\n",
            "  {\n",
            "    \"description\": \"Difference: diffmaglim - magap [mag]\",\n",
            "    \"mode\": \"NULLABLE\",\n",
            "    \"name\": \"magfromlim\",\n",
            "    \"type\": \"FLOAT\"\n",
            "  },\n",
            "  {\n",
            "    \"description\": \"Ratio: difffwhm / fwhm\",\n",
            "    \"mode\": \"NULLABLE\",\n",
            "    \"name\": \"seeratio\",\n",
            "    \"type\": \"FLOAT\"\n",
            "  },\n",
            "  {\n",
            "    \"description\": \"Windowed profile RMS afloat major axis from SExtractor [pixels]\",\n",
            "    \"mode\": \"NULLABLE\",\n",
            "    \"name\": \"aimage\",\n",
            "    \"type\": \"FLOAT\"\n",
            "  },\n",
            "  {\n",
            "    \"description\": \"Windowed profile RMS afloat minor axis from SExtractor [pixels]\",\n",
            "    \"mode\": \"NULLABLE\",\n",
            "    \"name\": \"bimage\",\n",
            "    \"type\": \"FLOAT\"\n",
            "  },\n",
            "  {\n",
            "    \"description\": \"Ratio: aimage / fwhm\",\n",
            "    \"mode\": \"NULLABLE\",\n",
            "    \"name\": \"aimagerat\",\n",
            "    \"type\": \"FLOAT\"\n",
            "  },\n",
            "  {\n",
            "    \"description\": \"Ratio: bimage / fwhm\",\n",
            "    \"mode\": \"NULLABLE\",\n",
            "    \"name\": \"bimagerat\",\n",
            "    \"type\": \"FLOAT\"\n",
            "  },\n",
            "  {\n",
            "    \"description\": \"Ratio: aimage / bimage\",\n",
            "    \"mode\": \"NULLABLE\",\n",
            "    \"name\": \"elong\",\n",
            "    \"type\": \"FLOAT\"\n",
            "  },\n",
            "  {\n",
            "    \"description\": \"number of negative pixels in a 5 x 5 pixel stamp\",\n",
            "    \"mode\": \"NULLABLE\",\n",
            "    \"name\": \"nneg\",\n",
            "    \"type\": \"INTEGER\"\n",
            "  },\n",
            "  {\n",
            "    \"description\": \"number of prior-tagged bad pixels in a 5 x 5 pixel stamp\",\n",
            "    \"mode\": \"NULLABLE\",\n",
            "    \"name\": \"nbad\",\n",
            "    \"type\": \"INTEGER\"\n",
            "  },\n",
            "  {\n",
            "    \"description\": \"RealBogus quality score from Random Forest classifier; range is 0 to 1 where closer to 1 is more reliable\",\n",
            "    \"mode\": \"NULLABLE\",\n",
            "    \"name\": \"rb\",\n",
            "    \"type\": \"FLOAT\"\n",
            "  },\n",
            "  {\n",
            "    \"description\": \"distance to nearest known solar system object if exists within 30 arcsec [arcsec]\",\n",
            "    \"mode\": \"NULLABLE\",\n",
            "    \"name\": \"ssdistnr\",\n",
            "    \"type\": \"FLOAT\"\n",
            "  },\n",
            "  {\n",
            "    \"description\": \"magnitude of nearest known solar system object if exists within 30 arcsec (usually V-band from MPC archive) [mag]\",\n",
            "    \"mode\": \"NULLABLE\",\n",
            "    \"name\": \"ssmagnr\",\n",
            "    \"type\": \"FLOAT\"\n",
            "  },\n",
            "  {\n",
            "    \"description\": \"name of nearest known solar system object if exists within 30 arcsec (from MPC archive)\",\n",
            "    \"mode\": \"NULLABLE\",\n",
            "    \"name\": \"ssnamenr\",\n",
            "    \"type\": \"STRING\"\n",
            "  },\n",
            "  {\n",
            "    \"description\": \"Ratio: sum(pixels) / sum(|pixels|) in a 5 x 5 pixel stamp where stamp is first median-filtered to mitigate outliers\",\n",
            "    \"mode\": \"NULLABLE\",\n",
            "    \"name\": \"sumrat\",\n",
            "    \"type\": \"FLOAT\"\n",
            "  },\n",
            "  {\n",
            "    \"description\": \"Aperture mag using 18 pixel diameter aperture [mag]\",\n",
            "    \"mode\": \"NULLABLE\",\n",
            "    \"name\": \"magapbig\",\n",
            "    \"type\": \"FLOAT\"\n",
            "  },\n",
            "  {\n",
            "    \"description\": \"1-sigma uncertainty in magapbig [mag]\",\n",
            "    \"mode\": \"NULLABLE\",\n",
            "    \"name\": \"sigmagapbig\",\n",
            "    \"type\": \"FLOAT\"\n",
            "  },\n",
            "  {\n",
            "    \"description\": \"Right Ascension of nearest source in reference image PSF-catalog; J2000 [deg]\",\n",
            "    \"mode\": \"REQUIRED\",\n",
            "    \"name\": \"ranr\",\n",
            "    \"type\": \"FLOAT\"\n",
            "  },\n",
            "  {\n",
            "    \"description\": \"Declination of nearest source in reference image PSF-catalog; J2000 [deg]\",\n",
            "    \"mode\": \"REQUIRED\",\n",
            "    \"name\": \"decnr\",\n",
            "    \"type\": \"FLOAT\"\n",
            "  },\n",
            "  {\n",
            "    \"description\": \"g-band PSF-fit magnitude of closest source from PS1 catalog; if exists within 30 arcsec [mag]\",\n",
            "    \"mode\": \"NULLABLE\",\n",
            "    \"name\": \"sgmag1\",\n",
            "    \"type\": \"FLOAT\"\n",
            "  },\n",
            "  {\n",
            "    \"description\": \"r-band PSF-fit magnitude of closest source from PS1 catalog; if exists within 30 arcsec [mag]\",\n",
            "    \"mode\": \"NULLABLE\",\n",
            "    \"name\": \"srmag1\",\n",
            "    \"type\": \"FLOAT\"\n",
            "  },\n",
            "  {\n",
            "    \"description\": \"i-band PSF-fit magnitude of closest source from PS1 catalog; if exists within 30 arcsec [mag]\",\n",
            "    \"mode\": \"NULLABLE\",\n",
            "    \"name\": \"simag1\",\n",
            "    \"type\": \"FLOAT\"\n",
            "  },\n",
            "  {\n",
            "    \"description\": \"z-band PSF-fit magnitude of closest source from PS1 catalog; if exists within 30 arcsec [mag]\",\n",
            "    \"mode\": \"NULLABLE\",\n",
            "    \"name\": \"szmag1\",\n",
            "    \"type\": \"FLOAT\"\n",
            "  },\n",
            "  {\n",
            "    \"description\": \"Star/Galaxy score of closest source from PS1 catalog; if exists within 30 arcsec: 0 <= sgscore <= 1 where closer to 1 implies higher likelihood of being a star\",\n",
            "    \"mode\": \"NULLABLE\",\n",
            "    \"name\": \"sgscore1\",\n",
            "    \"type\": \"FLOAT\"\n",
            "  },\n",
            "  {\n",
            "    \"description\": \"Distance to closest source from PS1 catalog; if exists within 30 arcsec [arcsec]\",\n",
            "    \"mode\": \"NULLABLE\",\n",
            "    \"name\": \"distpsnr1\",\n",
            "    \"type\": \"FLOAT\"\n",
            "  },\n",
            "  {\n",
            "    \"description\": \"Number of spatially-coincident detections falling within 1.5 arcsec going back to beginning of survey; only detections that fell on the same field and readout-channel ID where the input candidate was observed are counted\",\n",
            "    \"mode\": \"REQUIRED\",\n",
            "    \"name\": \"ndethist\",\n",
            "    \"type\": \"INTEGER\"\n",
            "  },\n",
            "  {\n",
            "    \"description\": \"Number of times input candidate position fell on any field and readout-channel going back to beginning of survey\",\n",
            "    \"mode\": \"REQUIRED\",\n",
            "    \"name\": \"ncovhist\",\n",
            "    \"type\": \"INTEGER\"\n",
            "  },\n",
            "  {\n",
            "    \"description\": \"Earliest Julian date of epoch corresponding to ndethist [days]\",\n",
            "    \"mode\": \"NULLABLE\",\n",
            "    \"name\": \"jdstarthist\",\n",
            "    \"type\": \"FLOAT\"\n",
            "  },\n",
            "  {\n",
            "    \"description\": \"Latest Julian date of epoch corresponding to ndethist [days]\",\n",
            "    \"mode\": \"NULLABLE\",\n",
            "    \"name\": \"jdendhist\",\n",
            "    \"type\": \"FLOAT\"\n",
            "  },\n",
            "  {\n",
            "    \"description\": \"Peak-pixel signal-to-noise ratio in point source matched-filtered detection image\",\n",
            "    \"mode\": \"NULLABLE\",\n",
            "    \"name\": \"scorr\",\n",
            "    \"type\": \"FLOAT\"\n",
            "  },\n",
            "  {\n",
            "    \"description\": \"1 => candidate is from a Target-of-Opportunity (ToO) exposure; 0 => candidate is from a non-ToO exposure\",\n",
            "    \"mode\": \"NULLABLE\",\n",
            "    \"name\": \"tooflag\",\n",
            "    \"type\": \"INTEGER\"\n",
            "  },\n",
            "  {\n",
            "    \"description\": \"Object ID of closest source from PS1 catalog; if exists within 30 arcsec\",\n",
            "    \"mode\": \"NULLABLE\",\n",
            "    \"name\": \"objectidps1\",\n",
            "    \"type\": \"INTEGER\"\n",
            "  },\n",
            "  {\n",
            "    \"description\": \"Object ID of second closest source from PS1 catalog; if exists within 30 arcsec\",\n",
            "    \"mode\": \"NULLABLE\",\n",
            "    \"name\": \"objectidps2\",\n",
            "    \"type\": \"INTEGER\"\n",
            "  },\n",
            "  {\n",
            "    \"description\": \"g-band PSF-fit magnitude of second closest source from PS1 catalog; if exists within 30 arcsec [mag]\",\n",
            "    \"mode\": \"NULLABLE\",\n",
            "    \"name\": \"sgmag2\",\n",
            "    \"type\": \"FLOAT\"\n",
            "  },\n",
            "  {\n",
            "    \"description\": \"r-band PSF-fit magnitude of second closest source from PS1 catalog; if exists within 30 arcsec [mag]\",\n",
            "    \"mode\": \"NULLABLE\",\n",
            "    \"name\": \"srmag2\",\n",
            "    \"type\": \"FLOAT\"\n",
            "  },\n",
            "  {\n",
            "    \"description\": \"i-band PSF-fit magnitude of second closest source from PS1 catalog; if exists within 30 arcsec [mag]\",\n",
            "    \"mode\": \"NULLABLE\",\n",
            "    \"name\": \"simag2\",\n",
            "    \"type\": \"FLOAT\"\n",
            "  },\n",
            "  {\n",
            "    \"description\": \"z-band PSF-fit magnitude of second closest source from PS1 catalog; if exists within 30 arcsec [mag]\",\n",
            "    \"mode\": \"NULLABLE\",\n",
            "    \"name\": \"szmag2\",\n",
            "    \"type\": \"FLOAT\"\n",
            "  },\n",
            "  {\n",
            "    \"description\": \"Star/Galaxy score of second closest source from PS1 catalog; if exists within 30 arcsec: 0 <= sgscore <= 1 where closer to 1 implies higher likelihood of being a star\",\n",
            "    \"mode\": \"NULLABLE\",\n",
            "    \"name\": \"sgscore2\",\n",
            "    \"type\": \"FLOAT\"\n",
            "  },\n",
            "  {\n",
            "    \"description\": \"Distance to second closest source from PS1 catalog; if exists within 30 arcsec [arcsec]\",\n",
            "    \"mode\": \"NULLABLE\",\n",
            "    \"name\": \"distpsnr2\",\n",
            "    \"type\": \"FLOAT\"\n",
            "  },\n",
            "  {\n",
            "    \"description\": \"Object ID of third closest source from PS1 catalog; if exists within 30 arcsec\",\n",
            "    \"mode\": \"NULLABLE\",\n",
            "    \"name\": \"objectidps3\",\n",
            "    \"type\": \"INTEGER\"\n",
            "  },\n",
            "  {\n",
            "    \"description\": \"g-band PSF-fit magnitude of third closest source from PS1 catalog; if exists within 30 arcsec [mag]\",\n",
            "    \"mode\": \"NULLABLE\",\n",
            "    \"name\": \"sgmag3\",\n",
            "    \"type\": \"FLOAT\"\n",
            "  },\n",
            "  {\n",
            "    \"description\": \"r-band PSF-fit magnitude of third closest source from PS1 catalog; if exists within 30 arcsec [mag]\",\n",
            "    \"mode\": \"NULLABLE\",\n",
            "    \"name\": \"srmag3\",\n",
            "    \"type\": \"FLOAT\"\n",
            "  },\n",
            "  {\n",
            "    \"description\": \"i-band PSF-fit magnitude of third closest source from PS1 catalog; if exists within 30 arcsec [mag]\",\n",
            "    \"mode\": \"NULLABLE\",\n",
            "    \"name\": \"simag3\",\n",
            "    \"type\": \"FLOAT\"\n",
            "  },\n",
            "  {\n",
            "    \"description\": \"z-band PSF-fit magnitude of third closest source from PS1 catalog; if exists within 30 arcsec [mag]\",\n",
            "    \"mode\": \"NULLABLE\",\n",
            "    \"name\": \"szmag3\",\n",
            "    \"type\": \"FLOAT\"\n",
            "  },\n",
            "  {\n",
            "    \"description\": \"Star/Galaxy score of third closest source from PS1 catalog; if exists within 30 arcsec: 0 <= sgscore <= 1 where closer to 1 implies higher likelihood of being a star\",\n",
            "    \"mode\": \"NULLABLE\",\n",
            "    \"name\": \"sgscore3\",\n",
            "    \"type\": \"FLOAT\"\n",
            "  },\n",
            "  {\n",
            "    \"description\": \"Distance to third closest source from PS1 catalog; if exists within 30 arcsec [arcsec]\",\n",
            "    \"mode\": \"NULLABLE\",\n",
            "    \"name\": \"distpsnr3\",\n",
            "    \"type\": \"FLOAT\"\n",
            "  },\n",
            "  {\n",
            "    \"description\": \"Number of source matches from PS1 catalog falling within 30 arcsec\",\n",
            "    \"mode\": \"REQUIRED\",\n",
            "    \"name\": \"nmtchps\",\n",
            "    \"type\": \"INTEGER\"\n",
            "  },\n",
            "  {\n",
            "    \"description\": \"Processing ID for reference image to facilitate archive retrieval\",\n",
            "    \"mode\": \"REQUIRED\",\n",
            "    \"name\": \"rfid\",\n",
            "    \"type\": \"INTEGER\"\n",
            "  },\n",
            "  {\n",
            "    \"description\": \"Observation Julian date of earliest exposure used to generate reference image [days]\",\n",
            "    \"mode\": \"REQUIRED\",\n",
            "    \"name\": \"jdstartref\",\n",
            "    \"type\": \"FLOAT\"\n",
            "  },\n",
            "  {\n",
            "    \"description\": \"Observation Julian date of latest exposure used to generate reference image [days]\",\n",
            "    \"mode\": \"REQUIRED\",\n",
            "    \"name\": \"jdendref\",\n",
            "    \"type\": \"FLOAT\"\n",
            "  },\n",
            "  {\n",
            "    \"description\": \"Number of frames (epochal images) used to generate reference image\",\n",
            "    \"mode\": \"REQUIRED\",\n",
            "    \"name\": \"nframesref\",\n",
            "    \"type\": \"INTEGER\"\n",
            "  },\n",
            "  {\n",
            "    \"description\": \"version of Random Forest classifier model used to assign RealBogus (rb) quality score\",\n",
            "    \"mode\": \"REQUIRED\",\n",
            "    \"name\": \"rbversion\",\n",
            "    \"type\": \"STRING\"\n",
            "  },\n",
            "  {\n",
            "    \"description\": \"Ratio: D/stddev(D) on event position where D = difference image\",\n",
            "    \"mode\": \"NULLABLE\",\n",
            "    \"name\": \"dsnrms\",\n",
            "    \"type\": \"FLOAT\"\n",
            "  },\n",
            "  {\n",
            "    \"description\": \"Ratio: S/stddev(S) on event position where S = image of convolution: D (x) PSF(D)\",\n",
            "    \"mode\": \"NULLABLE\",\n",
            "    \"name\": \"ssnrms\",\n",
            "    \"type\": \"FLOAT\"\n",
            "  },\n",
            "  {\n",
            "    \"description\": \"Difference of statistics: dsnrms - ssnrms\",\n",
            "    \"mode\": \"NULLABLE\",\n",
            "    \"name\": \"dsdiff\",\n",
            "    \"type\": \"FLOAT\"\n",
            "  },\n",
            "  {\n",
            "    \"description\": \"Magnitude zero point for photometry estimates [mag]\",\n",
            "    \"mode\": \"NULLABLE\",\n",
            "    \"name\": \"magzpsci\",\n",
            "    \"type\": \"FLOAT\"\n",
            "  },\n",
            "  {\n",
            "    \"description\": \"Magnitude zero point uncertainty (in magzpsci) [mag]\",\n",
            "    \"mode\": \"NULLABLE\",\n",
            "    \"name\": \"magzpsciunc\",\n",
            "    \"type\": \"FLOAT\"\n",
            "  },\n",
            "  {\n",
            "    \"description\": \"RMS (deviation from average) in all differences between instrumental photometry and matched photometric calibrators from science image processing [mag]\",\n",
            "    \"mode\": \"NULLABLE\",\n",
            "    \"name\": \"magzpscirms\",\n",
            "    \"type\": \"FLOAT\"\n",
            "  },\n",
            "  {\n",
            "    \"description\": \"Number of PS1 photometric calibrators used to calibrate science image from science image processing\",\n",
            "    \"mode\": \"REQUIRED\",\n",
            "    \"name\": \"nmatches\",\n",
            "    \"type\": \"INTEGER\"\n",
            "  },\n",
            "  {\n",
            "    \"description\": \"Color coefficient from linear fit from photometric calibration of science image\",\n",
            "    \"mode\": \"NULLABLE\",\n",
            "    \"name\": \"clrcoeff\",\n",
            "    \"type\": \"FLOAT\"\n",
            "  },\n",
            "  {\n",
            "    \"description\": \"Color coefficient uncertainty from linear fit (corresponding to clrcoeff)\",\n",
            "    \"mode\": \"NULLABLE\",\n",
            "    \"name\": \"clrcounc\",\n",
            "    \"type\": \"FLOAT\"\n",
            "  },\n",
            "  {\n",
            "    \"description\": \"Covariance in magzpsci and clrcoeff from science image processing [mag^2]\",\n",
            "    \"mode\": \"NULLABLE\",\n",
            "    \"name\": \"zpclrcov\",\n",
            "    \"type\": \"FLOAT\"\n",
            "  },\n",
            "  {\n",
            "    \"description\": \"Magnitude zero point from median of all differences between instrumental photometry and matched photometric calibrators from science image processing [mag]\",\n",
            "    \"mode\": \"NULLABLE\",\n",
            "    \"name\": \"zpmed\",\n",
            "    \"type\": \"FLOAT\"\n",
            "  },\n",
            "  {\n",
            "    \"description\": \"Median color of all PS1 photometric calibrators used from science image processing [mag]: for filter (fid) = 1, 2, 3, PS1 color used = g-r, g-r, r-i respectively\",\n",
            "    \"mode\": \"NULLABLE\",\n",
            "    \"name\": \"clrmed\",\n",
            "    \"type\": \"FLOAT\"\n",
            "  },\n",
            "  {\n",
            "    \"description\": \"RMS color (deviation from average) of all PS1 photometric calibrators used from science image processing [mag]\",\n",
            "    \"mode\": \"NULLABLE\",\n",
            "    \"name\": \"clrrms\",\n",
            "    \"type\": \"FLOAT\"\n",
            "  },\n",
            "  {\n",
            "    \"description\": \"Distance to closest source from Gaia DR1 catalog irrespective of magnitude; if exists within 90 arcsec [arcsec]\",\n",
            "    \"mode\": \"NULLABLE\",\n",
            "    \"name\": \"neargaia\",\n",
            "    \"type\": \"FLOAT\"\n",
            "  },\n",
            "  {\n",
            "    \"description\": \"Distance to closest source from Gaia DR1 catalog brighter than magnitude 14; if exists within 90 arcsec [arcsec]\",\n",
            "    \"mode\": \"NULLABLE\",\n",
            "    \"name\": \"neargaiabright\",\n",
            "    \"type\": \"FLOAT\"\n",
            "  },\n",
            "  {\n",
            "    \"description\": \"Gaia (G-band) magnitude of closest source from Gaia DR1 catalog irrespective of magnitude; if exists within 90 arcsec [mag]\",\n",
            "    \"mode\": \"NULLABLE\",\n",
            "    \"name\": \"maggaia\",\n",
            "    \"type\": \"FLOAT\"\n",
            "  },\n",
            "  {\n",
            "    \"description\": \"Gaia (G-band) magnitude of closest source from Gaia DR1 catalog brighter than magnitude 14; if exists within 90 arcsec [mag]\",\n",
            "    \"mode\": \"NULLABLE\",\n",
            "    \"name\": \"maggaiabright\",\n",
            "    \"type\": \"FLOAT\"\n",
            "  },\n",
            "  {\n",
            "    \"description\": \"Integration time of camera exposure [sec]\",\n",
            "    \"mode\": \"NULLABLE\",\n",
            "    \"name\": \"exptime\",\n",
            "    \"type\": \"FLOAT\"\n",
            "  },\n",
            "  {\n",
            "    \"description\": \"RealBogus quality score from Deep-Learning-based classifier; range is 0 to 1 where closer to 1 is more reliable\",\n",
            "    \"mode\": \"NULLABLE\",\n",
            "    \"name\": \"drb\",\n",
            "    \"type\": \"FLOAT\"\n",
            "  },\n",
            "  {\n",
            "    \"description\": \"version of Deep-Learning-based classifier model used to assign RealBogus (drb) quality score\",\n",
            "    \"mode\": \"REQUIRED\",\n",
            "    \"name\": \"drbversion\",\n",
            "    \"type\": \"STRING\"\n",
            "  },\n",
            "  {\n",
            "    \"description\": \"Candidate IDs from previous candidate's in the original alert packet (prv_candidates.candid)\",\n",
            "    \"mode\": \"REPEATED\",\n",
            "    \"name\": \"prv_candidates_candids\",\n",
            "    \"type\": \"INTEGER\"\n",
            "  }\n",
            "]\n",
            "\n"
          ],
          "name": "stdout"
        }
      ]
    },
    {
      "cell_type": "code",
      "metadata": {
        "id": "cPuGfMbPiUPN",
        "colab": {
          "base_uri": "https://localhost:8080/"
        },
        "outputId": "588ec515-6271-4390-b8d4-32aa1e068920"
      },
      "source": [
        "# Query\n",
        "\n",
        "bq_query = \"\"\"bq query \\\n",
        "--use_legacy_sql=false \\\n",
        "'SELECT \n",
        "    objectId, candid, t0, x0, x1, c, chisq, ndof\n",
        "FROM \n",
        "    `ardent-cycling-243415.ztf_alerts.salt2`\n",
        "WHERE \n",
        "    ndof>0 and chisq/ndof<2\n",
        "LIMIT\n",
        "    10'\n",
        "\"\"\"\n",
        "\n",
        "run(bq_query)"
      ],
      "execution_count": 19,
      "outputs": [
        {
          "output_type": "stream",
          "text": [
            ">> bq query --use_legacy_sql=false 'SELECT \n",
            "    objectId, candid, t0, x0, x1, c, chisq, ndof\n",
            "FROM \n",
            "    `ardent-cycling-243415.ztf_alerts.salt2`\n",
            "WHERE \n",
            "    ndof>0 and chisq/ndof<2\n",
            "LIMIT\n",
            "    10'\n",
            "\n",
            "Waiting on bqjob_r57c25a995ef910f8_00000178b81fcb0d_1 ... (0s) Current status: DONE   \n",
            "+--------------+---------------------+--------------------+-----------------------+---------------------+----------------------+--------------------+------+\n",
            "|   objectId   |       candid        |         t0         |          x0           |         x1          |          c           |       chisq        | ndof |\n",
            "+--------------+---------------------+--------------------+-----------------------+---------------------+----------------------+--------------------+------+\n",
            "| ZTF18acedtrr | 1442360400815015020 |  59176.99998225879 | 1.3255153910836994E-4 |   4.168200374483106 |    1.245159555305304 |  6.582997838131519 |    4 |\n",
            "| ZTF18acwgwjx | 1442358985215015026 |  59157.00084732172 |  2.749450331673211E-4 |    3.06798331924848 |   0.8945346093088569 | 10.526928540592902 |   12 |\n",
            "| ZTF20acurtpj | 1442365761715015000 | 59196.278545928166 | 0.0011852399092051064 | -1.5974697614784041 |  0.05946671204987464 | 0.9959506306660211 |    4 |\n",
            "| ZTF18abuqhmh | 1442386401715015003 |  59176.99999971067 | 4.8255819743093305E-4 |    4.99997265282315 | -0.16689041982953157 | 21.186776707363556 |   13 |\n",
            "| ZTF18aczvqcr | 1442363703615015023 |  59179.99999674028 |   1.40346630602854E-4 |   4.999996587439664 |   0.5242537244365488 | 10.204825232447792 |   12 |\n",
            "| ZTF20acpndgt | 1442365764215015005 |  59175.99999999962 |  1.436795103113909E-4 |   4.999999489371946 |   0.4450995019039343 | 12.099722728197975 |   13 |\n",
            "| ZTF18acexfph | 1442358985215015013 |  59176.99999726065 | 0.0014220480714550094 |   3.547924445014523 |   1.0553734950070908 |  9.208078543936342 |    7 |\n",
            "| ZTF18aadvwyz | 1442365302515015016 | 59181.886858011436 | 2.9422222853829226E-4 |  -1.229278234966642 |  0.13468672074621768 |  1.702385788321823 |   10 |\n",
            "| ZTF20acvjlev | 1442382143215015003 |  59198.99999452421 |  0.001068152574123985 | -0.8412597252273981 | 0.021881085322611682 |   4.49729084652652 |    4 |\n",
            "| ZTF20achncvv | 1442382614015015000 |  59173.40403718971 |   4.67320114139805E-4 |   4.999999857296666 |  0.32759938669651767 | 11.006905772308304 |   14 |\n",
            "+--------------+---------------------+--------------------+-----------------------+---------------------+----------------------+--------------------+------+\n",
            "\n"
          ],
          "name": "stdout"
        }
      ]
    },
    {
      "cell_type": "markdown",
      "metadata": {
        "id": "quXBg_AIwJfo"
      },
      "source": [
        "---"
      ]
    },
    {
      "cell_type": "markdown",
      "metadata": {
        "id": "jwxBVDcgVsOZ"
      },
      "source": [
        "# 4) Files in Cloud Storage"
      ]
    },
    {
      "cell_type": "markdown",
      "metadata": {
        "id": "bHoxCS-EAH4J"
      },
      "source": [
        "## 4a) Python\n",
        "\n",
        "See full tutorial."
      ]
    },
    {
      "cell_type": "markdown",
      "metadata": {
        "id": "WolBMdS2K1OV"
      },
      "source": [
        "### Download files"
      ]
    },
    {
      "cell_type": "markdown",
      "metadata": {
        "id": "6Xz7JjM0_ow9"
      },
      "source": [
        "### Plot cutouts and lightcurves"
      ]
    },
    {
      "cell_type": "markdown",
      "metadata": {
        "id": "z-TsZDqwDC8O"
      },
      "source": [
        "## 4b) Command-line tool `gsutil`\n",
        "\n",
        "See full tutorial."
      ]
    },
    {
      "cell_type": "markdown",
      "metadata": {
        "id": "Vj3IHjtuXGCa"
      },
      "source": [
        "---"
      ]
    },
    {
      "cell_type": "markdown",
      "metadata": {
        "id": "VbkGy7YPV8IH"
      },
      "source": [
        "# 5) Apache Beam data pipelines"
      ]
    },
    {
      "cell_type": "markdown",
      "metadata": {
        "id": "TEMBJBYKsiVW"
      },
      "source": [
        "[Apache Beam](https://beam.apache.org/) is an SDK that facilitates writing and executing data pipelines. The [Apache Beam Programming Guide](https://beam.apache.org/documentation/programming-guide/) is very useful! \n",
        "\n",
        "In this \"Code Samples\" notebook, we demonstrate working examples that retrieve and process ZTF data and write out the results. The full tutorial has much more information on basic concepts and some of the many available options."
      ]
    },
    {
      "cell_type": "markdown",
      "metadata": {
        "id": "uji-PPVDugcY"
      },
      "source": [
        "---"
      ]
    },
    {
      "cell_type": "markdown",
      "metadata": {
        "id": "0lM2UnLgY5bn"
      },
      "source": [
        "## 5a) A demo example\n",
        "\n",
        "See full tutorial."
      ]
    },
    {
      "cell_type": "markdown",
      "metadata": {
        "id": "DBRavSps54NY"
      },
      "source": [
        "---"
      ]
    },
    {
      "cell_type": "markdown",
      "metadata": {
        "id": "bXGtYU4aGg5h"
      },
      "source": [
        "## 5b) Descriptions\n",
        "\n",
        "See full tutorial."
      ]
    },
    {
      "cell_type": "markdown",
      "metadata": {
        "id": "4s-Hol8TGvAx"
      },
      "source": [
        "---"
      ]
    },
    {
      "cell_type": "markdown",
      "metadata": {
        "id": "XaZ4wfvY55bm"
      },
      "source": [
        "## 5c) Pitt-Google working examples"
      ]
    },
    {
      "cell_type": "markdown",
      "metadata": {
        "id": "jRK4nQPbI4iO"
      },
      "source": [
        "In these examples, we will query the database for object histories (lightcurves) and cast them to DataFrames, apply a filter and a processing function, and write the results to a text file.\n",
        "\n",
        "Note that Beam _overloads_ some operators:\n",
        "- `|` means `apply`\n",
        "- `>>` allows you to name the step with the preceeding string. It is optional. We use it here to improve readability. Various UIs like Dataflow use it in their displays.\n",
        "\n",
        "Here's a preview of the pipeline we will create and run."
      ]
    },
    {
      "cell_type": "markdown",
      "metadata": {
        "id": "FJZBmfgoCg2z"
      },
      "source": [
        "Pipeline:\n",
        "\n",
        "```python\n",
        "with beam.Pipeline() as pipeline:\n",
        "    (\n",
        "        pipeline\n",
        "        | 'Read from BigQuery' >> beam.io.ReadFromBigQuery(**read_args)\n",
        "        | 'Type cast to DataFrame' >> beam.ParDo(pgb.beam.ExtractHistoryDf())\n",
        "        | 'Is nearby known SS object' >> beam.Filter(nearby_ssobject)\n",
        "        | 'Calculate mean magnitudes' >> beam.ParDo(calc_mean_mags())\n",
        "        | 'Write results' >> beam.io.WriteToText(beam_outputs_prefix)\n",
        "    )\n",
        "```\n",
        "\n",
        "With comments:\n",
        "\n",
        "```python\n",
        "# 0. Instantiate a pipeline object\n",
        "with beam.Pipeline() as pipeline:\n",
        "    (\n",
        "\n",
        "# 1. Start the pipeline by piping it to a \"read\" function. Then format the incoming data as a DataFrame.\n",
        "        pipeline\n",
        "        | 'Read from BigQuery' >> beam.io.ReadFromBigQuery(**read_args)\n",
        "        | 'Type cast to DataFrame' >> beam.ParDo(pgb.beam.ExtractHistoryDf())\n",
        "        \n",
        "# 2. PROCESS the data with USER-DEFINED FUNCTIONS\n",
        "        # Apply a Filter\n",
        "        | 'Is nearby known SS object' >> beam.Filter(nearby_ssobject)\n",
        "        # Apply a processing function\n",
        "        | 'Calculate mean magnitudes' >> beam.ParDo(calc_mean_mags())\n",
        "        \n",
        "# 3. Output the results\n",
        "        | 'Write results' >> beam.io.WriteToText(beam_outputs_prefix)\n",
        "    )\n",
        "```"
      ]
    },
    {
      "cell_type": "markdown",
      "metadata": {
        "id": "14Sa3tN1FYqO"
      },
      "source": [
        "First, let's define our user-defined functions: a filter and a processing function.\n",
        "Both will take as input `lc_df`, a single object's lightcurve (or history) DataFrame.\n",
        "_The functions will work as-is, or you can use them as templates to create your own._\n",
        "\n",
        "_Colab Hint_: Right-click on one of the code cells with a function definition and select \"Copy to scratch cell\". Use the new scratch cell to change the function and experiment with the pipeline."
      ]
    },
    {
      "cell_type": "code",
      "metadata": {
        "id": "FNnbCyEVqiZq"
      },
      "source": [
        "# Filter for likely solar system objects\n",
        "\n",
        "def nearby_ssobject(lc_df):\n",
        "    \"\"\"Keep only objects that are within 5\" of a known solar system object.\n",
        "    To be called with `beam.Filter(nearby_ssobject)`.\n",
        "    \"\"\"\n",
        "\n",
        "    ssdistnr = lc_df['ssdistnr'].mean()\n",
        "    ssobject_is_near = (ssdistnr > 0) and (ssdistnr < 5)\n",
        "\n",
        "    return ssobject_is_near\n",
        "    # generally: return a bool where `True` means we keep this df, else drop it"
      ],
      "execution_count": 20,
      "outputs": []
    },
    {
      "cell_type": "code",
      "metadata": {
        "id": "98q5SjyKTiK9"
      },
      "source": [
        "# Processing: Calculate and return the mean magnitude per passband\n",
        "\n",
        "class calc_mean_mags(beam.DoFn):\n",
        "    \"\"\"Class that wraps our `process()` function to calculate mean magnitudes.\n",
        "    To be called with `beam.ParDo(calc_mean_mags())`.\n",
        "    \"\"\"\n",
        "\n",
        "    def process(self, lc_df):\n",
        "        \"\"\"Calculate mean magnitudes per passband.\"\"\"\n",
        "\n",
        "        meanmags = lc_df[['fid','magpsf']].groupby('fid').mean()\n",
        "\n",
        "        # we will write this to a file, so let's format it nicely\n",
        "        output = []\n",
        "        for fid, row in meanmags.iterrows():\n",
        "            output.append(f\"{lc_df.objectId},{fid},{row['magpsf']}\")\n",
        "\n",
        "        return output\n",
        "        # generally: return a list containing 0 or more elements, each of which\n",
        "        # becomes an element in the `ParDo`'s output collection."
      ],
      "execution_count": 21,
      "outputs": []
    },
    {
      "cell_type": "markdown",
      "metadata": {
        "id": "Fo5dFk2Nxvx-"
      },
      "source": [
        "Now let's configure and run specific pipelines."
      ]
    },
    {
      "cell_type": "markdown",
      "metadata": {
        "id": "O3yXrkBVlNKn"
      },
      "source": [
        "### Lightcurve pipeline"
      ]
    },
    {
      "cell_type": "markdown",
      "metadata": {
        "id": "-d2yNNkTPRzl"
      },
      "source": [
        "Set configs\n",
        "\n",
        "See the \"BigQuery Database\" section for options to generate the query statement, or write your own SQL.\n",
        "\n",
        "Use `pgb.bigquery.get_table_info('DIASource')` in a scratch cell to view options for column names.\n"
      ]
    },
    {
      "cell_type": "code",
      "metadata": {
        "id": "mYG-X2GUPrrR"
      },
      "source": [
        "# keyword args for `ReadFromBigQuery()`\n",
        "columns = ['jd', 'fid', 'magpsf', 'sigmapsf', 'ssdistnr']\n",
        "limit = 2000  # just to reduce runtime\n",
        "query = pgb.bigquery.object_history_sql_statement(columns, limit=limit)  # str\n",
        "read_args = {\n",
        "    'query': query, \n",
        "    'project': my_project_id,  \n",
        "    'use_standard_sql': True, \n",
        "    'gcs_location': f'gs://{pgb_project_id}-workshop_beam_test',\n",
        "    # courtesy location for temp files, available for the workshop duration\n",
        "}\n",
        "\n",
        "# path to write the results\n",
        "outputs_prefix = f'{colabpath}/outputs/meanmags'\n",
        "beam_outputs_prefix = f'{colabpath_noesc}/outputs/meanmags'"
      ],
      "execution_count": 22,
      "outputs": []
    },
    {
      "cell_type": "markdown",
      "metadata": {
        "id": "ExBgpQwD1a6Q"
      },
      "source": [
        "Define and run the pipeline"
      ]
    },
    {
      "cell_type": "code",
      "metadata": {
        "id": "fjV7ayLbH7fL",
        "colab": {
          "base_uri": "https://localhost:8080/",
          "height": 106
        },
        "outputId": "184e8461-0e5d-4d40-d088-73b9a7ec29d8"
      },
      "source": [
        "with beam.Pipeline() as pipeline:\n",
        "    (\n",
        "        pipeline\n",
        "        | 'Read BigQuery' >> beam.io.ReadFromBigQuery(**read_args)\n",
        "        | 'Extract lightcurve df' >> beam.ParDo(pgb.beam.ExtractHistoryDf())\n",
        "        | 'Nearby SS object' >> beam.Filter(nearby_ssobject)\n",
        "        | 'Calc mean mags' >> beam.ParDo(calc_mean_mags())\n",
        "        | 'Write results' >> beam.io.WriteToText(beam_outputs_prefix)\n",
        "    )"
      ],
      "execution_count": 23,
      "outputs": [
        {
          "output_type": "stream",
          "text": [
            "WARNING:apache_beam.runners.interactive.interactive_environment:Dependencies required for Interactive Beam PCollection visualization are not available, please use: `pip install apache-beam[interactive]` to install necessary dependencies to enable all data visualization features.\n"
          ],
          "name": "stderr"
        },
        {
          "output_type": "display_data",
          "data": {
            "application/javascript": [
              "\n",
              "        if (typeof window.interactive_beam_jquery == 'undefined') {\n",
              "          var jqueryScript = document.createElement('script');\n",
              "          jqueryScript.src = 'https://code.jquery.com/jquery-3.4.1.slim.min.js';\n",
              "          jqueryScript.type = 'text/javascript';\n",
              "          jqueryScript.onload = function() {\n",
              "            var datatableScript = document.createElement('script');\n",
              "            datatableScript.src = 'https://cdn.datatables.net/1.10.20/js/jquery.dataTables.min.js';\n",
              "            datatableScript.type = 'text/javascript';\n",
              "            datatableScript.onload = function() {\n",
              "              window.interactive_beam_jquery = jQuery.noConflict(true);\n",
              "              window.interactive_beam_jquery(document).ready(function($){\n",
              "                \n",
              "              });\n",
              "            }\n",
              "            document.head.appendChild(datatableScript);\n",
              "          };\n",
              "          document.head.appendChild(jqueryScript);\n",
              "        } else {\n",
              "          window.interactive_beam_jquery(document).ready(function($){\n",
              "            \n",
              "          });\n",
              "        }"
            ]
          },
          "metadata": {
            "tags": []
          }
        },
        {
          "output_type": "stream",
          "text": [
            "/usr/local/lib/python3.7/dist-packages/apache_beam/io/gcp/bigquery.py:1881: BeamDeprecationWarning: options is deprecated since First stable release. References to <pipeline>.options will not be supported\n",
            "  temp_location = pcoll.pipeline.options.view_as(\n",
            "WARNING:apache_beam.io.gcp.bigquery_tools:Dataset ardent-cycling-243415:temp_dataset_2de2aba1927747db81c35c9b6872d919 does not exist so we will create it as temporary with location=US\n"
          ],
          "name": "stderr"
        }
      ]
    },
    {
      "cell_type": "markdown",
      "metadata": {
        "id": "wV_kh2QZwdag"
      },
      "source": [
        "Congratulations! You just ran an Apache Beam pipeline that fetches ZTF data, filters and processes it, and writes out the results!\n",
        "\n",
        "Let's look at the first 10 results. Remember, there are no ordering guarantees."
      ]
    },
    {
      "cell_type": "code",
      "metadata": {
        "id": "wvqRrrFc1PXL",
        "colab": {
          "base_uri": "https://localhost:8080/"
        },
        "outputId": "5999edbb-e2da-4fcd-e3ad-a95418f08f1e"
      },
      "source": [
        "run('head -n 10 {}-00000-of-*'.format(outputs_prefix))"
      ],
      "execution_count": 24,
      "outputs": [
        {
          "output_type": "stream",
          "text": [
            ">> head -n 10 /content/drive/MyDrive/Colab\\ Notebooks/PGB_tutorial/outputs/meanmags-00000-of-*\n",
            "ZTF20acpndcj,1,19.738000869750977\n",
            "ZTF20acpmovb,1,19.95023536682129\n",
            "ZTF20acpmpey,1,19.37099266052246\n",
            "ZTF20acpkjny,1,17.65648651123047\n",
            "ZTF20acpjwyj,1,19.88270378112793\n",
            "ZTF20acpmypw,1,20.50773334503174\n",
            "ZTF20acpkzyi,2,20.21710968017578\n",
            "ZTF20acpjrwq,2,19.619338989257812\n",
            "ZTF20acpldmu,2,19.378652572631836\n",
            "ZTF20acplytn,2,17.22441864013672\n",
            "\n"
          ],
          "name": "stdout"
        }
      ]
    },
    {
      "cell_type": "markdown",
      "metadata": {
        "id": "u7F6Pa7M2RDv"
      },
      "source": [
        "### Cone Search pipeline\n",
        "\n",
        "See full tutorial."
      ]
    }
  ]
}