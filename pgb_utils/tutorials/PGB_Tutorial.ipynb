{
  "nbformat": 4,
  "nbformat_minor": 0,
  "metadata": {
    "colab": {
      "name": "PGB-Tutorial.ipynb",
      "provenance": [],
      "collapsed_sections": [
        "a-5iWHDq13Np",
        "W_JYHktO2Q7V",
        "Cw-BDfrmoCHN",
        "pdVlJmWWawvx",
        "tXTEuyccOJoa",
        "s2kX-kEJemYD",
        "AbTyVXUko6-d",
        "ob8VDnewmsbg",
        "id1fk4u06Bcq",
        "3nDSzXh1khgt",
        "jwxBVDcgVsOZ",
        "bHoxCS-EAH4J",
        "WolBMdS2K1OV",
        "6Xz7JjM0_ow9",
        "z-TsZDqwDC8O",
        "rm4lULOsVz3I",
        "O3yXrkBVlNKn"
      ],
      "toc_visible": true,
      "authorship_tag": "ABX9TyON/KSwrGpeXX/0BQQgvLJx",
      "include_colab_link": true
    },
    "kernelspec": {
      "name": "python3",
      "display_name": "Python 3"
    },
    "language_info": {
      "name": "python"
    }
  },
  "cells": [
    {
      "cell_type": "markdown",
      "metadata": {
        "id": "view-in-github",
        "colab_type": "text"
      },
      "source": [
        "<a href=\"https://colab.research.google.com/github/mwvgroup/Pitt-Google-Broker/blob/u%2Ftjr%2Ftutorials/pgb_utils/tutorials/PGB_Tutorial.ipynb\" target=\"_parent\"><img src=\"https://colab.research.google.com/assets/colab-badge.svg\" alt=\"Open In Colab\"/></a>"
      ]
    },
    {
      "cell_type": "markdown",
      "metadata": {
        "id": "HLKPXqDBCCHh"
      },
      "source": [
        "# Pitt-Google Broker"
      ]
    },
    {
      "cell_type": "markdown",
      "metadata": {
        "id": "WZSn7nx19UVP"
      },
      "source": [
        "# Notebook Outline\n",
        "\n",
        "- Introduction\n",
        "    - i. Data overview\n",
        "    - ii. `pgb_utils` overview\n",
        "    - iii. Note on costs\n",
        "\n",
        "1. Setup\n",
        "\n",
        "2. Databases & BigQuery\n",
        "    - 2a. Python\n",
        "        - Table names and schemas\n",
        "        - Query lightcurves and other history\n",
        "            - Plot a lightcurve\n",
        "        - Cone Search\n",
        "        - Using `google.cloud.bigquery` directly\n",
        "    - 2b. Command-line tool `bq`\n",
        "\n",
        "3. File Storage & Cloud Storage\n",
        "    - 3a. Python\n",
        "        - Download files\n",
        "        - Plot cutouts and lightcurves\n",
        "    - 3b. Command-line tool `gsutil`\n",
        "\n",
        "4. Message streams and Pub/Sub\n",
        "\n",
        "5. Extra: Apache Beam data pipelines with BigQuery and Pub/Sub\n",
        "    - 5a. A demo example\n",
        "    - 5b. Query lightcurves and run a pipeline on the results"
      ]
    },
    {
      "cell_type": "markdown",
      "metadata": {
        "id": "Htm4fDjtonqP"
      },
      "source": [
        "---"
      ]
    },
    {
      "cell_type": "markdown",
      "metadata": {
        "id": "cCcdjz1v3fuJ"
      },
      "source": [
        "# Introduction"
      ]
    },
    {
      "cell_type": "markdown",
      "metadata": {
        "id": "a-5iWHDq13Np"
      },
      "source": [
        "## i) Data overview"
      ]
    },
    {
      "cell_type": "markdown",
      "metadata": {
        "id": "mC2s1Xw61E5G"
      },
      "source": [
        "All Pitt-Google Broker data is public and hosted by [Google Cloud](https://cloud.google.com/). In order to make API calls you will need to create a Cloud project that is associated with your Google account.\n",
        "The Setup section of the tutorial will walk you through this.\n",
        "\n",
        "All data and resources can be accessed via Google's [Cloud SDK](https://cloud.google.com/sdk) by way of the command-line, Python, and many other languages.\n",
        "In addition, we are developing the `pgb_utils` Python package (see below) which provides convience functions for common tasks such as querying the database for lightcurves or cone searches, decoding, plotting, and processing the data.\n",
        "This tutorial demonstrates access via the command-line (Cloud SDK) and Python (Cloud SDK, `pgb_utils`).\n",
        "\n",
        "- Databases ([BigQuery](https://cloud.google.com/bigquery))\n",
        "    - query for:\n",
        "        - alerts (except cutouts)\n",
        "        - object histories\n",
        "        - cone searches\n",
        "\n",
        "- File storage ([Cloud Storage](https://cloud.google.com/storage))\n",
        "    - download the complete, original alert packets in Avro format, including cutouts (science, template, difference)\n",
        "\n",
        "- Message streams ([Pub/Sub](https://cloud.google.com/pubsub/docs/overview))\n",
        "    - streams include:\n",
        "        - ZTF stream: complete\n",
        "        - ZTF stream: filtered for purity\n",
        "        - ZTF stream: filtered for likely extragalactic transients\n",
        "        - ZTF stream + Salt2 fits (for likely extragalactic transients)"
      ]
    },
    {
      "cell_type": "markdown",
      "metadata": {
        "id": "2NKaJK3K2I1I"
      },
      "source": [
        "---"
      ]
    },
    {
      "cell_type": "markdown",
      "metadata": {
        "id": "W_JYHktO2Q7V"
      },
      "source": [
        "## ii) `pgb_utils` overview"
      ]
    },
    {
      "cell_type": "markdown",
      "metadata": {
        "id": "bMqmWgFn2NS-"
      },
      "source": [
        "`pgb_utils` is a collection of helper functions to facilitate interaction with Pitt-Google Broker data. The tutorial will demonstrate its use. The package is essentially a set of:\n",
        "\n",
        "1. Convience wrappers for the [Google Cloud Python SDK](https://cloud.google.com/python/docs/reference)\n",
        "2. Helper functions for ZTF data decoding and plotting, provided by ZTF (see [Filtering_alerts.ipynb](https://github.com/ZwickyTransientFacility/ztf-avro-alert/blob/master/notebooks/Filtering_alerts.ipynb))\n",
        "3. Helper functions for running [Apache Beam](https://beam.apache.org/) pipelines\n",
        "\n",
        "You are encouraged to look at and alter the source code to learn how to use the underlying methods yourself.\n",
        "\n",
        "Modules and their functionality include:\n",
        "\n",
        "- `pgb_utils.beam`\n",
        "    - helper functions for running Apache Beam data pipelines\n",
        "\n",
        "- `pgb_utils.bigquery`\n",
        "    - view dataset, table, and schema information\n",
        "    - query: lightcurves\n",
        "    - query: cone search\n",
        "    - cast query results to a `pandas.DataFrame` or `json` formatted string.\n",
        "\n",
        "- `pgb_utils.figures`\n",
        "    - plot lightcurves\n",
        "    - plot cutouts\n",
        "\n",
        "- `pgb_utils.utils`\n",
        "    - general utilities such as data type casting\n"
      ]
    },
    {
      "cell_type": "markdown",
      "metadata": {
        "id": "M0kapV453LsS"
      },
      "source": [
        "---"
      ]
    },
    {
      "cell_type": "markdown",
      "metadata": {
        "id": "Cw-BDfrmoCHN"
      },
      "source": [
        "## iii) Note on costs"
      ]
    },
    {
      "cell_type": "markdown",
      "metadata": {
        "id": "_vE16R7x4yJB"
      },
      "source": [
        "The resources used in completing this tutorial will remain well within Google Cloud's [Free Tier](https://cloud.google.com/free)(*).\n",
        "If you wish to become a power-user in the future, you may need to [create a billing account](https://support.google.com/cloud/answer/6293499#enable-billing). See also: \n",
        "- [pricing structure](https://cloud.google.com/pricing) (scroll to \"Only pay for what you use\")\n",
        "- [detailed price list](https://cloud.google.com/pricing/list) (search for \"BigQuery\", \"Cloud Storage\", \"Pub/Sub\"); \n",
        "- [pricing calculator](https://cloud.google.com/products/calculator?skip_cache=true) (same search as above)\n",
        "\n",
        "(*) The Free Tier for Cloud Storage is limited to US regions. Please see that section of this tutorial for details. I am interested in feedback from users outside the US on the behavior of that section of this tutorial for them."
      ]
    },
    {
      "cell_type": "markdown",
      "metadata": {
        "id": "ALIGt4P12KB-"
      },
      "source": [
        "---"
      ]
    },
    {
      "cell_type": "markdown",
      "metadata": {
        "id": "pdVlJmWWawvx"
      },
      "source": [
        "# 1) Setup"
      ]
    },
    {
      "cell_type": "markdown",
      "metadata": {
        "id": "3qjOE_7Ka1zR"
      },
      "source": [
        "\n",
        "1. Use the [Cloud Resource Manager](https://console.cloud.google.com/cloud-resource-manager) to create a GCP project. Take note of the auto-generated \"Project ID\"; you will need it below.\n",
        "    - All our data is public and hosted by [Google Cloud](https://cloud.google.com/). In order to make API calls you will need to create a Cloud project that is associated with your Google account.\n",
        "    - If you work outside of Colab you may need to:\n",
        "        - enable APIs for your project: [BigQuery](https://console.cloud.google.com/flows/enableapi?apiid=bigquery); \n",
        "        - [setup authentication](https://cloud.google.com/docs/authentication/getting-started)\n",
        "\n",
        "2. Installs, imports, etc.:"
      ]
    },
    {
      "cell_type": "code",
      "metadata": {
        "id": "qXFXbjlVYFvZ"
      },
      "source": [
        "from google.colab import auth"
      ],
      "execution_count": 1,
      "outputs": []
    },
    {
      "cell_type": "code",
      "metadata": {
        "id": "hm8S4HbIQlK1"
      },
      "source": [
        "# Colab Setup\n",
        "auth.authenticate_user()\n",
        "# follow the instructions to authorize Google Cloud SDK "
      ],
      "execution_count": 2,
      "outputs": []
    },
    {
      "cell_type": "code",
      "metadata": {
        "id": "ubkZqvJuuMrR"
      },
      "source": [
        "my_project_id = 'my-pgb-project'  # ENTER YOUR GCP PROJECT ID HERE\n",
        "pgb_project_id = 'ardent-cycling-243415'"
      ],
      "execution_count": 3,
      "outputs": []
    },
    {
      "cell_type": "code",
      "metadata": {
        "id": "DKcureCHfJRu"
      },
      "source": [
        "# Create a function to run and print a shell command.\n",
        "def run(cmd: str):\n",
        "  print('>> {}'.format(cmd))\n",
        "  !{cmd}\n",
        "  print('')"
      ],
      "execution_count": 4,
      "outputs": []
    },
    {
      "cell_type": "code",
      "metadata": {
        "id": "Z2RAwDK1Pz-n"
      },
      "source": [
        "# Install some packages/versions not included with Colab\n",
        "# \n",
        "packages = ['apache-beam','google-apitools','APLpy',\n",
        "            'beautifulsoup4==4.8',  # plot_cutouts grayscale stretch='arcsinh'\n",
        "            'astropy-healpix==0.6',  # plot_cutouts grayscale stretch='arcsinh'\n",
        "            'astropy==3.2.1',  # plot_cutouts grayscale stretch='arcsinh'\n",
        "            ]\n",
        "# --DEBUG\n",
        "# 'google-cloud-pubsub',] \n",
        "# causes:\n",
        "# `ContextualVersionConflict: (PyYAML 3.13 (/usr/local/lib/python3.7/dist-packages), Requirement.parse('pyyaml>=5.2'), {'libcst'})`\n",
        "# when importing apache-beam below.\n",
        "# --DEBUG\n",
        "\n",
        "for package in packages:\n",
        "    run(f'pip install --quiet {package}')\n",
        "# it may complain about some version conflicts but it should not cause problems.\n",
        "\n",
        "# Note: Outside of Colab you should use `pip install apache-beam[gcp]`\n",
        "# to get the Google Cloud Platform tools."
      ],
      "execution_count": null,
      "outputs": []
    },
    {
      "cell_type": "code",
      "metadata": {
        "id": "pL1HlPaGe5W5",
        "colab": {
          "base_uri": "https://localhost:8080/"
        },
        "outputId": "dae40ef8-10d1-4796-fc02-8b46e0344b30"
      },
      "source": [
        "# Install the Pitt-Google Broker utilities package\n",
        "run('python3 -m pip install --index-url https://test.pypi.org/simple/ --no-deps pgb_utils')\n",
        "\n",
        "# This is currently on the test.pypi servers. I should publish to the actual\n",
        "# PyPI soon, but I'd like some code review first."
      ],
      "execution_count": 6,
      "outputs": [
        {
          "output_type": "stream",
          "text": [
            ">> python3 -m pip install --index-url https://test.pypi.org/simple/ --no-deps pgb_utils\n",
            "Looking in indexes: https://test.pypi.org/simple/\n",
            "Collecting pgb_utils\n",
            "  Downloading https://test-files.pythonhosted.org/packages/bd/37/544e9d6efb27cc6349c7189109bfd821643709a4de30187c6bd12db682b8/pgb_utils-0.0.11-py3-none-any.whl\n",
            "Installing collected packages: pgb-utils\n",
            "Successfully installed pgb-utils-0.0.11\n",
            "\n"
          ],
          "name": "stdout"
        }
      ]
    },
    {
      "cell_type": "code",
      "metadata": {
        "id": "IaFC3geYYfyn"
      },
      "source": [
        "import apache_beam as beam\n",
        "import aplpy\n",
        "from astropy import coordinates as coord\n",
        "from astropy import units as u\n",
        "from astropy.io import fits\n",
        "import fastavro\n",
        "from google.colab import drive\n",
        "import gzip\n",
        "import io\n",
        "from matplotlib import pyplot as plt\n",
        "import pandas as pd\n",
        "from pathlib import Path\n",
        "# import warnings\n",
        "\n",
        "from google.cloud import bigquery, storage\n",
        "# , pubsub\n",
        "\n",
        "import pgb_utils as pgb"
      ],
      "execution_count": 7,
      "outputs": []
    },
    {
      "cell_type": "code",
      "metadata": {
        "id": "XqvwOxg40f-e",
        "colab": {
          "base_uri": "https://localhost:8080/"
        },
        "outputId": "0cdd3add-6b50-4564-8222-ca62cc5c6350"
      },
      "source": [
        "# Connect your Google Drive file system\n",
        "# to be used in the sections on File Storage and Apache Beam pipelines\n",
        "drive.mount('/content/drive') \n",
        "# follow the instructions to authorize access\n",
        "\n",
        "# create a path for later\n",
        "colabpath = '/content/drive/MyDrive/Colab\\ Notebooks/PGB'\n",
        "colabpath_noesc = '/content/drive/MyDrive/Colab Notebooks/PGB'\n",
        "run(f'mkdir -p {colabpath}')\n",
        "\n",
        "# Colab Hint: Click the \"Files\" icon on the left to view a file browser.\n",
        "\n",
        "# Colab Hint: Click the \"Code snippets\" icon (<>) on the left and search for \n",
        "#       \"access drive\" to learn how to interact with Drive."
      ],
      "execution_count": 8,
      "outputs": [
        {
          "output_type": "stream",
          "text": [
            "Mounted at /content/drive\n",
            ">> mkdir -p /content/drive/MyDrive/Colab\\ Notebooks/PGB\n",
            "\n"
          ],
          "name": "stdout"
        }
      ]
    },
    {
      "cell_type": "markdown",
      "metadata": {
        "id": "6P6I0SsNNEFk"
      },
      "source": [
        "---"
      ]
    },
    {
      "cell_type": "markdown",
      "metadata": {
        "id": "tXTEuyccOJoa"
      },
      "source": [
        "# 2) Databases & BigQuery"
      ]
    },
    {
      "cell_type": "markdown",
      "metadata": {
        "id": "j2JAzIQ9OBrY"
      },
      "source": [
        "Some links if you're interested. Otherwise, skip down to the code.\n",
        "\n",
        "- [Overview of querying BigQuery data](https://cloud.google.com/bigquery/docs/query-overview)\n",
        "\n",
        "- [Intro to BigQuery API Client Libraries](https://cloud.google.com/bigquery/docs/reference/libraries) (includes Python, Java, C#, Go, Node.js, PHP, and Ruby)\n",
        "\n",
        "- [BigQuery How-to guides](https://cloud.google.com/bigquery/docs/how-to). There are many! Here are some of note:\n",
        "    - [Introduction to interacting with BigQuery](https://cloud.google.com/bigquery/docs/interacting-with-bigquery)\n",
        "\n",
        "    - [Queries](https://cloud.google.com/bigquery/docs/running-queries) (covered in this tutorial)\n",
        "\n",
        "    - [Writing query results to your own BigQuery table](https://cloud.google.com/bigquery/docs/writing-results#permanent-table) (also see other sections on that page)\n",
        "\n",
        "    - [Export table data to a file in Google Cloud Storage](https://cloud.google.com/bigquery/docs/exporting-data)\n",
        "        - Note the [Exporting data stored in BigQuery](https://cloud.google.com/bigquery/docs/exporting-data#exporting_data_stored_in) section of that page.\n",
        "\n",
        "    - [Best practices](https://cloud.google.com/bigquery/docs/how-to#best-practices) (e.g., Controlling costs, Optimizing query performance)\n",
        "\n",
        "- Other Colab tutorials:\n",
        "\n",
        "    - [Getting started with BigQuery](https://colab.research.google.com/notebooks/bigquery.ipynb)\n",
        "\n",
        "- Pricing:\n",
        "    - [Overview of BigQuery pricing](https://cloud.google.com/bigquery/pricing)\n",
        "        - [Query pricing](https://cloud.google.com/bigquery/docs/query-overview#query_pricing). Query charges are based on number of bytes processed. The first 1 TB of data processed per month, per billing account, is free.\n",
        "        - [Storage pricing](https://cloud.google.com/bigquery/pricing#storage). The first 10 GB of BigQuery storage per month is free (you only pay for tables you create in your own project).\n",
        "\n",
        "    - [Using cached query results](https://cloud.google.com/bigquery/docs/cached-results)\n",
        "        - BigQuery writes all query results to a temporary (~24 hours), cached results table (unless you explicitly specify a destination table). When you run a duplicate query, BigQuery attempts to reuse cached results. If it is successful, you are not charged for the query."
      ]
    },
    {
      "cell_type": "markdown",
      "metadata": {
        "id": "gVNNwPBfOBrZ"
      },
      "source": [
        "## 2a) Python\n",
        "\n",
        "- [Python Client Documentation](https://googleapis.dev/python/bigquery/latest/index.html)\n",
        "- [Colab Snippets](https://colab.research.google.com/notebooks/snippets/bigquery.ipynb#scrollTo=jl97S3vfNHdz) (more examples)"
      ]
    },
    {
      "cell_type": "markdown",
      "metadata": {
        "id": "s2kX-kEJemYD"
      },
      "source": [
        "### Table names and schemas"
      ]
    },
    {
      "cell_type": "code",
      "metadata": {
        "colab": {
          "base_uri": "https://localhost:8080/"
        },
        "id": "SNGTZsy8xw_3",
        "outputId": "618dc66b-02af-44f9-fc55-4dfaceeae5cb"
      },
      "source": [
        "# Create a Client for the BigQuery connections below\n",
        "pgb.bigquery.create_client(my_project_id)\n",
        "# this is just a convenience wrapper, as are many pgb functions. look at\n",
        "# its source code for guidance on using `google.cloud` libraries directly.\n",
        "\n",
        "# Colab Hint: Mouse over the function name to see its definition and\n",
        "#             source code (make sure the cell is selected)."
      ],
      "execution_count": 11,
      "outputs": [
        {
          "output_type": "stream",
          "text": [
            "\n",
            "Instantiating a BigQuery client with project_id: ardent-cycling-243415\n",
            "\n"
          ],
          "name": "stdout"
        }
      ]
    },
    {
      "cell_type": "code",
      "metadata": {
        "id": "6sfxgU9AeuVY",
        "colab": {
          "base_uri": "https://localhost:8080/"
        },
        "outputId": "eb05708d-85ac-4533-dab1-3d4017cc2b1b"
      },
      "source": [
        "pgb.bigquery.get_dataset_table_names()"
      ],
      "execution_count": 12,
      "outputs": [
        {
          "output_type": "execute_result",
          "data": {
            "text/plain": [
              "['salt2', 'candidates', 'alerts']"
            ]
          },
          "metadata": {
            "tags": []
          },
          "execution_count": 12
        }
      ]
    },
    {
      "cell_type": "code",
      "metadata": {
        "id": "zNuQD35Zq7yJ"
      },
      "source": [
        "pgb.bigquery.get_table_info('candidates')\n",
        "\n",
        "# Colab Hint: Right-click this cell and select \"Copy to scratch cell\"\n",
        "#             so you can use this as a reference later."
      ],
      "execution_count": null,
      "outputs": []
    },
    {
      "cell_type": "markdown",
      "metadata": {
        "id": "cdy9BeSKT60F"
      },
      "source": [
        "---"
      ]
    },
    {
      "cell_type": "markdown",
      "metadata": {
        "id": "AbTyVXUko6-d"
      },
      "source": [
        "### Query lightcurves and other history"
      ]
    },
    {
      "cell_type": "code",
      "metadata": {
        "id": "-7VY4RP6748V"
      },
      "source": [
        "# Choose the history data you want returned\n",
        "columns = ['jd', 'fid', 'magpsf', 'sigmapsf']\n",
        "# 'objectId' and 'candid' will be included automatically\n",
        "# options are in the 'candidates' table\n",
        "# pgb.bigquery.get_table_info('candidates')\n",
        "\n",
        "# Choose specific objects (optional, but reduces load time)\n",
        "objectIds = ['ZTF18aczuwfe', 'ZTF18aczvqcr', 'ZTF20acqgklx', 'ZTF18acexdlh']"
      ],
      "execution_count": 15,
      "outputs": []
    },
    {
      "cell_type": "markdown",
      "metadata": {
        "id": "V4JfqzMTXIpk"
      },
      "source": [
        "To retrieve lightcurves and other history, we must query for the objects' \"candidate\" observations and aggregate the results by `objectId`.\n",
        "- `pgb.bigquery.query_objects()` is a convenience wrapper for this.\n",
        "It's options are demonstrated below. \n",
        "- You can also use `pgb.bigquery.object_history_sql_statement()` to get the required SQL statement and make the query yourself. See the \"Using `google.cloud.bigquery` directly\" section."
      ]
    },
    {
      "cell_type": "code",
      "metadata": {
        "id": "YtJ2C1gS9vdC"
      },
      "source": [
        "# Option 1: Get a single DataFrame of all results\n",
        "\n",
        "lcsdf = pgb.bigquery.query_objects(columns, objectIds=objectIds)\n",
        "# This will execute a dry run and tell you how much data will be processed.\n",
        "# You will be asked to confirm before proceeding.\n",
        "# In the future we'll skip this using\n",
        "dry_run = False\n",
        "\n",
        "lcsdf.sample(10)\n",
        "# cleaned of duplicates"
      ],
      "execution_count": null,
      "outputs": []
    },
    {
      "cell_type": "code",
      "metadata": {
        "id": "kEBGXlyM_P33"
      },
      "source": [
        "# Option 2: Get a generator that yields a DataFrame for each objectId\n",
        "\n",
        "iterator = True\n",
        "objects = pgb.bigquery.query_objects(columns, \n",
        "                                     objectIds=objectIds, \n",
        "                                     iterator=iterator,\n",
        "                                     dry_run=dry_run\n",
        "                                     )\n",
        "                                     # cleaned of duplicates\n",
        "\n",
        "for lcdf in objects:\n",
        "    print(f'\\nobjectId: {lcdf.objectId}')  # objectId in metadata\n",
        "    print(lcdf.sample(5))"
      ],
      "execution_count": null,
      "outputs": []
    },
    {
      "cell_type": "code",
      "metadata": {
        "id": "wOtHmRP7_Pvm",
        "colab": {
          "base_uri": "https://localhost:8080/",
          "height": 0
        },
        "outputId": "37d8f399-9c15-455d-b5c4-beead10c74b4"
      },
      "source": [
        "# Option 3: Get a single json string with all the results\n",
        "\n",
        "format = 'json'\n",
        "lcsjson = pgb.bigquery.query_objects(columns, \n",
        "                                     objectIds=objectIds, \n",
        "                                     format=format,\n",
        "                                     dry_run=dry_run\n",
        "                                     )\n",
        "                                     # cleaned of duplicates\n",
        "print(lcsjson)\n",
        "\n",
        "# read it back in\n",
        "df = pd.read_json(lcsjson)\n",
        "df.head()"
      ],
      "execution_count": 16,
      "outputs": [
        {
          "output_type": "stream",
          "text": [
            "{\"objectId\":{\"0\":\"ZTF18aczvqcr\",\"1\":\"ZTF18aczvqcr\",\"2\":\"ZTF18aczvqcr\",\"3\":\"ZTF18aczvqcr\",\"4\":\"ZTF18aczvqcr\",\"5\":\"ZTF18aczvqcr\",\"6\":\"ZTF18aczvqcr\",\"7\":\"ZTF18aczvqcr\",\"8\":\"ZTF18aczvqcr\",\"9\":\"ZTF18aczvqcr\",\"10\":\"ZTF18aczvqcr\",\"11\":\"ZTF18aczvqcr\",\"12\":\"ZTF18aczvqcr\",\"13\":\"ZTF18aczvqcr\",\"14\":\"ZTF18aczvqcr\",\"15\":\"ZTF18aczvqcr\",\"16\":\"ZTF18aczvqcr\",\"17\":\"ZTF18aczvqcr\",\"18\":\"ZTF18aczvqcr\",\"19\":\"ZTF18aczvqcr\",\"20\":\"ZTF18aczvqcr\",\"21\":\"ZTF18aczvqcr\",\"22\":\"ZTF18aczvqcr\",\"23\":\"ZTF18aczvqcr\",\"24\":\"ZTF18aczvqcr\",\"25\":\"ZTF18aczvqcr\",\"26\":\"ZTF18aczvqcr\",\"27\":\"ZTF18aczvqcr\",\"28\":\"ZTF18acexdlh\",\"29\":\"ZTF18acexdlh\",\"30\":\"ZTF18acexdlh\",\"31\":\"ZTF18acexdlh\",\"32\":\"ZTF18acexdlh\",\"33\":\"ZTF18acexdlh\",\"34\":\"ZTF18acexdlh\",\"35\":\"ZTF18acexdlh\",\"36\":\"ZTF18acexdlh\",\"37\":\"ZTF18acexdlh\",\"38\":\"ZTF18acexdlh\",\"39\":\"ZTF18acexdlh\",\"40\":\"ZTF18acexdlh\",\"41\":\"ZTF18acexdlh\",\"42\":\"ZTF18acexdlh\",\"43\":\"ZTF18acexdlh\",\"44\":\"ZTF18acexdlh\",\"45\":\"ZTF18acexdlh\",\"46\":\"ZTF18acexdlh\",\"47\":\"ZTF18acexdlh\",\"48\":\"ZTF18acexdlh\",\"49\":\"ZTF18acexdlh\",\"50\":\"ZTF18acexdlh\",\"51\":\"ZTF18acexdlh\",\"52\":\"ZTF18acexdlh\",\"53\":\"ZTF18acexdlh\",\"54\":\"ZTF18acexdlh\",\"55\":\"ZTF18acexdlh\",\"56\":\"ZTF18acexdlh\",\"57\":\"ZTF18acexdlh\",\"58\":\"ZTF18acexdlh\",\"59\":\"ZTF18acexdlh\",\"60\":\"ZTF18acexdlh\",\"61\":\"ZTF18acexdlh\",\"62\":\"ZTF18acexdlh\",\"63\":\"ZTF18acexdlh\",\"64\":\"ZTF18acexdlh\",\"65\":\"ZTF18acexdlh\",\"66\":\"ZTF18acexdlh\",\"67\":\"ZTF18acexdlh\",\"68\":\"ZTF18acexdlh\",\"69\":\"ZTF18acexdlh\",\"70\":\"ZTF18acexdlh\",\"71\":\"ZTF18acexdlh\",\"72\":\"ZTF18acexdlh\",\"73\":\"ZTF18acexdlh\",\"74\":\"ZTF18acexdlh\",\"75\":\"ZTF18acexdlh\",\"76\":\"ZTF18acexdlh\",\"77\":\"ZTF18acexdlh\",\"78\":\"ZTF18acexdlh\",\"79\":\"ZTF18acexdlh\",\"80\":\"ZTF18acexdlh\",\"81\":\"ZTF18acexdlh\",\"82\":\"ZTF18acexdlh\",\"83\":\"ZTF18acexdlh\",\"84\":\"ZTF18acexdlh\",\"85\":\"ZTF18acexdlh\",\"86\":\"ZTF18acexdlh\",\"87\":\"ZTF18acexdlh\",\"88\":\"ZTF18acexdlh\",\"89\":\"ZTF18acexdlh\",\"90\":\"ZTF18acexdlh\",\"91\":\"ZTF18acexdlh\",\"92\":\"ZTF18acexdlh\",\"93\":\"ZTF18acexdlh\",\"94\":\"ZTF18acexdlh\",\"95\":\"ZTF18acexdlh\",\"96\":\"ZTF18acexdlh\",\"97\":\"ZTF18acexdlh\",\"98\":\"ZTF18acexdlh\",\"99\":\"ZTF18acexdlh\",\"100\":\"ZTF18acexdlh\",\"101\":\"ZTF18acexdlh\",\"102\":\"ZTF18acexdlh\",\"103\":\"ZTF18acexdlh\",\"104\":\"ZTF18acexdlh\",\"105\":\"ZTF18acexdlh\",\"106\":\"ZTF18acexdlh\",\"107\":\"ZTF18acexdlh\",\"108\":\"ZTF18acexdlh\",\"109\":\"ZTF18acexdlh\",\"110\":\"ZTF18acexdlh\",\"111\":\"ZTF18aczuwfe\",\"112\":\"ZTF18aczuwfe\",\"113\":\"ZTF18aczuwfe\",\"114\":\"ZTF18aczuwfe\",\"115\":\"ZTF18aczuwfe\",\"116\":\"ZTF18aczuwfe\",\"117\":\"ZTF18aczuwfe\",\"118\":\"ZTF18aczuwfe\",\"119\":\"ZTF18aczuwfe\",\"120\":\"ZTF18aczuwfe\",\"121\":\"ZTF18aczuwfe\",\"122\":\"ZTF18aczuwfe\",\"123\":\"ZTF18aczuwfe\",\"124\":\"ZTF18aczuwfe\",\"125\":\"ZTF18aczuwfe\",\"126\":\"ZTF18aczuwfe\",\"127\":\"ZTF18aczuwfe\",\"128\":\"ZTF18aczuwfe\",\"129\":\"ZTF18aczuwfe\",\"130\":\"ZTF18aczuwfe\",\"131\":\"ZTF18aczuwfe\",\"132\":\"ZTF20acqgklx\",\"133\":\"ZTF20acqgklx\",\"134\":\"ZTF20acqgklx\",\"135\":\"ZTF20acqgklx\",\"136\":\"ZTF20acqgklx\",\"137\":\"ZTF20acqgklx\",\"138\":\"ZTF20acqgklx\",\"139\":\"ZTF20acqgklx\",\"140\":\"ZTF20acqgklx\",\"141\":\"ZTF20acqgklx\",\"142\":\"ZTF20acqgklx\",\"143\":\"ZTF20acqgklx\",\"144\":\"ZTF20acqgklx\",\"145\":\"ZTF20acqgklx\",\"146\":\"ZTF20acqgklx\",\"147\":\"ZTF20acqgklx\",\"148\":\"ZTF20acqgklx\",\"149\":\"ZTF20acqgklx\",\"150\":\"ZTF20acqgklx\",\"151\":\"ZTF20acqgklx\",\"152\":\"ZTF20acqgklx\",\"153\":\"ZTF20acqgklx\",\"154\":\"ZTF20acqgklx\",\"155\":\"ZTF20acqgklx\",\"156\":\"ZTF20acqgklx\",\"157\":\"ZTF20acqgklx\",\"158\":\"ZTF20acqgklx\",\"159\":\"ZTF20acqgklx\",\"160\":\"ZTF20acqgklx\",\"161\":\"ZTF20acqgklx\",\"162\":\"ZTF20acqgklx\",\"163\":\"ZTF20acqgklx\",\"164\":\"ZTF20acqgklx\",\"165\":\"ZTF20acqgklx\",\"166\":\"ZTF20acqgklx\",\"167\":\"ZTF20acqgklx\"},\"candid\":{\"0\":1410421083615015027,\"1\":1414350743615015012,\"2\":1416402323615015029,\"3\":1416428113615015031,\"4\":1425356333615015016,\"5\":1439340303615015028,\"6\":1442343863615015028,\"7\":1442363703615015023,\"8\":1444284213615015013,\"9\":1444343243615015022,\"10\":1449279243615015021,\"11\":1451224353615015022,\"12\":1467249443615015021,\"13\":1469312763615015029,\"14\":1471254023615015025,\"15\":1479243343615015028,\"16\":1495206403615015026,\"17\":1497191033615015018,\"18\":1499281903615015021,\"19\":1501264493615015022,\"20\":1503184653615015029,\"21\":1503238313615015028,\"22\":1522151113615015015,\"23\":1526166113615015039,\"24\":1538207903615015018,\"25\":1549165843615015018,\"26\":1552205863615015010,\"27\":1554175053615015021,\"28\":1413467435615010006,\"29\":1413504165615010011,\"30\":1415503721415015012,\"31\":1415504180315015015,\"32\":1436373241415015008,\"33\":1436375135615015006,\"34\":1439302740315010057,\"35\":1439309435615010008,\"36\":1442359450315015010,\"37\":1442395721415015008,\"38\":1442400040315015017,\"39\":1444357385615015003,\"40\":1444421260315010067,\"41\":1444421735615010004,\"42\":1446436925615015006,\"43\":1448358771415015039,\"44\":1448390991415015011,\"45\":1449286970315015012,\"46\":1449424165615015013,\"47\":1450323131415015015,\"48\":1451221995615015009,\"49\":1451300350315010084,\"50\":1451326010315010064,\"51\":1451374545615015010,\"52\":1462325575615015004,\"53\":1463324060315010036,\"54\":1465332371415015016,\"55\":1466295465615010001,\"56\":1467253281415015014,\"57\":1467316120315015017,\"58\":1470275475615015007,\"59\":1471281340315010047,\"60\":1471354471415015030,\"61\":1471368571415015016,\"62\":1472314715615010006,\"63\":1475323921415010069,\"64\":1476316865615015005,\"65\":1478333065615010007,\"66\":1479318241415015023,\"67\":1479321040315015030,\"68\":1494233125615010009,\"69\":1496214185615015015,\"70\":1497227461415010058,\"71\":1497227930315010065,\"72\":1498210305615015006,\"73\":1500242465615010011,\"74\":1500253245615010006,\"75\":1501189450315015054,\"76\":1501273131415010069,\"77\":1501273610315010065,\"78\":1502252925615015010,\"79\":1503212520315010086,\"80\":1503213471415010084,\"81\":1508190460315010046,\"82\":1508273721415015040,\"83\":1508274200315015010,\"84\":1510187151415015015,\"85\":1513210705615015004,\"86\":1514190021415010034,\"87\":1514253651415015005,\"88\":1516293901415010012,\"89\":1521150675615015010,\"90\":1521234075615010003,\"91\":1524151215615015018,\"92\":1526191181415010139,\"93\":1526191655615010009,\"94\":1526205790315010079,\"95\":1536190005615015006,\"96\":1536190470315015010,\"97\":1536203621415015012,\"98\":1538147615615015006,\"99\":1538191665615010011,\"100\":1538192121415010038,\"101\":1538193070315010046,\"102\":1540149315615010004,\"103\":1540149791415010056,\"104\":1549151215615010007,\"105\":1549154021415010024,\"106\":1549154500315010042,\"107\":1552154685615010004,\"108\":1552155151415010084,\"109\":1553213650315010054,\"110\":1554197511415015015,\"111\":1440303993415015003,\"112\":1440322513415015004,\"113\":1442328323415015002,\"114\":1444285643415015001,\"115\":1449226053415015000,\"116\":1451204593415015000,\"117\":1467211213415015002,\"118\":1469258283415015005,\"119\":1477168703415015002,\"120\":1477214243415015002,\"121\":1479193393415015001,\"122\":1479213073415015001,\"123\":1497147413415015000,\"124\":1497208623415015000,\"125\":1499171573415015000,\"126\":1499283323415015000,\"127\":1501265423415015001,\"128\":1503183253415015010,\"129\":1503208143415015003,\"130\":1510148923415015004,\"131\":1510206363415015002,\"132\":1414351235215015023,\"133\":1414365935215015038,\"134\":1416400905215015017,\"135\":1416427635215015028,\"136\":1427289515215015014,\"137\":1431341885215015008,\"138\":1438294975215015018,\"139\":1440303995215015015,\"140\":1440322515215015022,\"141\":1442282165215015017,\"142\":1442328325215015021,\"143\":1444285645215015017,\"144\":1444320905215015016,\"145\":1446323875215015047,\"146\":1449226055215015021,\"147\":1449333365215015022,\"148\":1451204595215015021,\"149\":1451280085215015013,\"150\":1461235915215015011,\"151\":1467211215215015018,\"152\":1469186965215015010,\"153\":1469258285215015019,\"154\":1471269095215015023,\"155\":1475232495215015014,\"156\":1477168705215015013,\"157\":1477214245215015017,\"158\":1479193395215015012,\"159\":1479213075215015022,\"160\":1495204985215015017,\"161\":1497208625215015030,\"162\":1499283325215015017,\"163\":1501172065215015058,\"164\":1501265425215015012,\"165\":1503208145215015012,\"166\":1508194315215015016,\"167\":1510148925215015017},\"jd\":{\"0\":2459164.9210879998,\"1\":2459168.8507407,\"2\":2459170.9023263999,\"3\":2459170.9281134,\"4\":2459179.8563310001,\"5\":2459193.8403008999,\"6\":2459196.8438657001,\"7\":2459196.8637036998,\"8\":2459198.784213,\"9\":2459198.8432407002,\"10\":2459203.7792476998,\"11\":2459205.7243519002,\"12\":2459221.7494444,\"13\":2459223.8127661999,\"14\":2459225.7540278002,\"15\":2459233.7433449002,\"16\":2459249.7064005001,\"17\":2459251.6910301,\"18\":2459253.7819097,\"19\":2459255.7644906999,\"20\":2459257.6846528002,\"21\":2459257.7383102002,\"22\":2459276.6511110999,\"23\":2459280.6661111,\"24\":2459292.7079051002,\"25\":2459303.6658449001,\"26\":2459306.7058680998,\"27\":2459308.6750579001,\"28\":2459167.9674306,\"29\":2459168.0041666999,\"30\":2459170.0037269001,\"31\":2459170.0041898,\"32\":2459190.8732407,\"33\":2459190.8751388998,\"34\":2459193.8027431001,\"35\":2459193.8094329,\"36\":2459196.8594559999,\"37\":2459196.8957292,\"38\":2459196.9000463001,\"39\":2459198.8573842999,\"40\":2459198.9212616002,\"41\":2459198.9217361002,\"42\":2459200.9369212999,\"43\":2459202.8587731002,\"44\":2459202.8909954,\"45\":2459203.7869791999,\"46\":2459203.9241666999,\"47\":2459204.8231366002,\"48\":2459205.7219906999,\"49\":2459205.8003588002,\"50\":2459205.8260185001,\"51\":2459205.8745486001,\"52\":2459216.8255786998,\"53\":2459217.8240625001,\"54\":2459219.8323726999,\"55\":2459220.795463,\"56\":2459221.7532870001,\"57\":2459221.8161227,\"58\":2459224.7754744999,\"59\":2459225.7813426,\"60\":2459225.8544792002,\"61\":2459225.8685764,\"62\":2459226.8147105998,\"63\":2459229.8239235999,\"64\":2459230.8168633999,\"65\":2459232.8330671,\"66\":2459233.8182406998,\"67\":2459233.8210417,\"68\":2459248.7331249998,\"69\":2459250.7141898,\"70\":2459251.7274652999,\"71\":2459251.7279397999,\"72\":2459252.7103009,\"73\":2459254.7424653,\"74\":2459254.7532406999,\"75\":2459255.689456,\"76\":2459255.7731365999,\"77\":2459255.7736110999,\"78\":2459256.7529282002,\"79\":2459257.7125231,\"80\":2459257.7134722001,\"81\":2459262.690463,\"82\":2459262.7737269001,\"83\":2459262.7742014001,\"84\":2459264.6871528002,\"85\":2459267.7107060002,\"86\":2459268.6900231,\"87\":2459268.7536574001,\"88\":2459270.7939005001,\"89\":2459275.6506713,\"90\":2459275.7340740999,\"91\":2459278.6512153,\"92\":2459280.6911805999,\"93\":2459280.6916550999,\"94\":2459280.7057985999,\"95\":2459290.6899999999,\"96\":2459290.6904744999,\"97\":2459290.7036227002,\"98\":2459292.6476157,\"99\":2459292.6916666999,\"100\":2459292.6921295999,\"101\":2459292.6930787,\"102\":2459294.6493171002,\"103\":2459294.6497916998,\"104\":2459303.6512153,\"105\":2459303.6540278001,\"106\":2459303.6545023001,\"107\":2459306.6546875001,\"108\":2459306.6551505001,\"109\":2459307.7136574001,\"110\":2459308.6975115999,\"111\":2459194.8039930998,\"112\":2459194.8225115999,\"113\":2459196.8283218001,\"114\":2459198.7856481001,\"115\":2459203.7260532002,\"116\":2459205.7045948999,\"117\":2459221.7112153,\"118\":2459223.758287,\"119\":2459231.6687037,\"120\":2459231.7142476998,\"121\":2459233.6933912002,\"122\":2459233.7130787,\"123\":2459251.647419,\"124\":2459251.7086227001,\"125\":2459253.6715740999,\"126\":2459253.7833218002,\"127\":2459255.7654281999,\"128\":2459257.6832523001,\"129\":2459257.7081480999,\"130\":2459264.6489236001,\"131\":2459264.7063656999,\"132\":2459168.8512384002,\"133\":2459168.8659374998,\"134\":2459170.9009027998,\"135\":2459170.9276389,\"136\":2459181.7895138999,\"137\":2459185.8418866,\"138\":2459192.7949768999,\"139\":2459194.8039930998,\"140\":2459194.8225115999,\"141\":2459196.7821644,\"142\":2459196.8283218001,\"143\":2459198.7856481001,\"144\":2459198.8209028002,\"145\":2459200.8238773001,\"146\":2459203.7260532002,\"147\":2459203.8333681002,\"148\":2459205.7045948999,\"149\":2459205.7800810002,\"150\":2459215.7359143998,\"151\":2459221.7112153,\"152\":2459223.6869676001,\"153\":2459223.758287,\"154\":2459225.7690972001,\"155\":2459229.7324999999,\"156\":2459231.6687037,\"157\":2459231.7142476998,\"158\":2459233.6933912002,\"159\":2459233.7130787,\"160\":2459249.7049884,\"161\":2459251.7086227001,\"162\":2459253.7833218002,\"163\":2459255.6720602,\"164\":2459255.7654281999,\"165\":2459257.7081480999,\"166\":2459262.6943171001,\"167\":2459264.6489236001},\"fid\":{\"0\":1,\"1\":2,\"2\":2,\"3\":1,\"4\":2,\"5\":1,\"6\":1,\"7\":2,\"8\":2,\"9\":1,\"10\":2,\"11\":2,\"12\":2,\"13\":2,\"14\":2,\"15\":2,\"16\":2,\"17\":2,\"18\":2,\"19\":2,\"20\":1,\"21\":2,\"22\":2,\"23\":2,\"24\":2,\"25\":2,\"26\":2,\"27\":2,\"28\":2,\"29\":1,\"30\":2,\"31\":2,\"32\":1,\"33\":1,\"34\":2,\"35\":2,\"36\":2,\"37\":2,\"38\":1,\"39\":1,\"40\":2,\"41\":2,\"42\":1,\"43\":1,\"44\":2,\"45\":2,\"46\":2,\"47\":1,\"48\":2,\"49\":1,\"50\":2,\"51\":1,\"52\":2,\"53\":2,\"54\":2,\"55\":2,\"56\":2,\"57\":1,\"58\":2,\"59\":2,\"60\":1,\"61\":2,\"62\":1,\"63\":1,\"64\":1,\"65\":2,\"66\":1,\"67\":1,\"68\":2,\"69\":2,\"70\":2,\"71\":2,\"72\":2,\"73\":1,\"74\":2,\"75\":1,\"76\":2,\"77\":2,\"78\":1,\"79\":2,\"80\":2,\"81\":2,\"82\":1,\"83\":1,\"84\":2,\"85\":1,\"86\":1,\"87\":2,\"88\":2,\"89\":1,\"90\":2,\"91\":2,\"92\":1,\"93\":1,\"94\":1,\"95\":1,\"96\":1,\"97\":1,\"98\":1,\"99\":2,\"100\":2,\"101\":2,\"102\":1,\"103\":1,\"104\":2,\"105\":2,\"106\":2,\"107\":1,\"108\":1,\"109\":2,\"110\":2,\"111\":2,\"112\":1,\"113\":1,\"114\":2,\"115\":2,\"116\":2,\"117\":2,\"118\":2,\"119\":2,\"120\":1,\"121\":1,\"122\":2,\"123\":1,\"124\":2,\"125\":1,\"126\":2,\"127\":2,\"128\":1,\"129\":2,\"130\":2,\"131\":1,\"132\":2,\"133\":1,\"134\":2,\"135\":1,\"136\":2,\"137\":2,\"138\":1,\"139\":2,\"140\":1,\"141\":2,\"142\":1,\"143\":2,\"144\":1,\"145\":2,\"146\":2,\"147\":1,\"148\":2,\"149\":1,\"150\":2,\"151\":2,\"152\":1,\"153\":2,\"154\":2,\"155\":2,\"156\":2,\"157\":1,\"158\":1,\"159\":2,\"160\":2,\"161\":2,\"162\":2,\"163\":1,\"164\":2,\"165\":2,\"166\":2,\"167\":2},\"sigmapsf\":{\"0\":0.1478390694,\"1\":0.1786457896,\"2\":0.1201419905,\"3\":0.2137282491,\"4\":0.1828130335,\"5\":0.1821027398,\"6\":0.2136308253,\"7\":0.1492431909,\"8\":0.1586374938,\"9\":0.1832898408,\"10\":0.1459459364,\"11\":0.1616570801,\"12\":0.1174216121,\"13\":0.1229797304,\"14\":0.1835189313,\"15\":0.1698679477,\"16\":0.1528984904,\"17\":0.1754024476,\"18\":0.1329197288,\"19\":0.1521711051,\"20\":0.2028204799,\"21\":0.1494113058,\"22\":0.1635341197,\"23\":0.1689478308,\"24\":0.1784726828,\"25\":0.2108649015,\"26\":0.1988516301,\"27\":0.166205436,\"28\":0.166471079,\"29\":0.1982113123,\"30\":0.1436278522,\"31\":0.1827476174,\"32\":0.1732711494,\"33\":0.1292448491,\"34\":0.1334878355,\"35\":0.1030881926,\"36\":0.1931912452,\"37\":0.1494179666,\"38\":0.194694981,\"39\":0.1934221983,\"40\":0.110772334,\"41\":0.085393846,\"42\":0.1752748042,\"43\":0.1582897753,\"44\":0.1048191637,\"45\":0.1570589244,\"46\":0.1452776939,\"47\":0.1594612896,\"48\":0.1478998661,\"49\":0.1850521863,\"50\":0.1430486143,\"51\":0.1413708627,\"52\":0.1413699836,\"53\":0.1237830892,\"54\":0.1287691295,\"55\":0.1021512598,\"56\":0.1442752928,\"57\":0.1397793293,\"58\":0.1391918659,\"59\":0.1517655849,\"60\":0.1585345417,\"61\":0.1860979348,\"62\":0.170794338,\"63\":0.1785945594,\"64\":0.1654670537,\"65\":0.067843467,\"66\":0.1701034456,\"67\":0.1705574095,\"68\":0.1152474731,\"69\":0.1750061512,\"70\":0.1080057696,\"71\":0.0957293659,\"72\":0.1647046953,\"73\":0.1640618742,\"74\":0.1012184918,\"75\":0.1615906656,\"76\":0.1343318671,\"77\":0.138542518,\"78\":0.1471510977,\"79\":0.0857612789,\"80\":0.1454363465,\"81\":0.1053173617,\"82\":0.1328511089,\"83\":0.1626281291,\"84\":0.1079596505,\"85\":0.160642162,\"86\":0.2023270279,\"87\":0.1370065957,\"88\":0.2132719308,\"89\":0.1868943423,\"90\":0.1182063222,\"91\":0.1570535302,\"92\":0.1405311823,\"93\":0.119683668,\"94\":0.1513423324,\"95\":0.1528785378,\"96\":0.1510368586,\"97\":0.1426501125,\"98\":0.1654674262,\"99\":0.120326221,\"100\":0.1584199667,\"101\":0.1522795111,\"102\":0.1847443283,\"103\":0.1614545584,\"104\":0.0884646922,\"105\":0.1590909213,\"106\":0.1212802902,\"107\":0.1689998806,\"108\":0.1934976131,\"109\":0.1366003901,\"110\":0.1021697819,\"111\":0.1599257737,\"112\":0.127621159,\"113\":0.1728081405,\"114\":0.2097401619,\"115\":0.170470953,\"116\":0.1815263033,\"117\":0.1776263118,\"118\":0.2123211473,\"119\":0.2115102559,\"120\":0.2003795207,\"121\":0.2124526799,\"122\":0.1783928424,\"123\":0.184142381,\"124\":0.1533806324,\"125\":0.2169205546,\"126\":0.1936687827,\"127\":0.1730027348,\"128\":0.1664137542,\"129\":0.1472844481,\"130\":0.1752548069,\"131\":0.1648100466,\"132\":0.171336174,\"133\":0.1520067751,\"134\":0.1638982892,\"135\":0.1722908914,\"136\":0.1803994179,\"137\":0.1763110161,\"138\":0.1915530562,\"139\":0.1221162975,\"140\":0.108531788,\"141\":0.1465175152,\"142\":0.1097503155,\"143\":0.0956753269,\"144\":0.1312362254,\"145\":0.1842149049,\"146\":0.0890605375,\"147\":0.1322681755,\"148\":0.1062524319,\"149\":0.128571257,\"150\":0.1441874355,\"151\":0.0945616737,\"152\":0.1163638309,\"153\":0.1142768562,\"154\":0.0919400677,\"155\":0.1705875844,\"156\":0.1422212124,\"157\":0.1563364565,\"158\":0.1784083098,\"159\":0.0934783742,\"160\":0.1186497435,\"161\":0.0947879553,\"162\":0.1173490658,\"163\":0.1696402431,\"164\":0.1248271763,\"165\":0.1245876551,\"166\":0.1650092453,\"167\":0.1512905806},\"magpsf\":{\"0\":20.1263103485,\"1\":19.6437110901,\"2\":19.7170677185,\"3\":20.3240432739,\"4\":19.5522918701,\"5\":20.1467914581,\"6\":19.9527130127,\"7\":19.403717041,\"8\":19.5403175354,\"9\":20.1612243652,\"10\":19.4995422363,\"11\":19.6900405884,\"12\":19.6480388641,\"13\":19.7055225372,\"14\":19.5911617279,\"15\":19.8563613892,\"16\":19.7718143463,\"17\":20.0057907104,\"18\":19.8509178162,\"19\":19.8474159241,\"20\":20.4788990021,\"21\":19.7942714691,\"22\":20.0051574707,\"23\":19.9091053009,\"24\":19.768371582,\"25\":19.7214546204,\"26\":19.8386001587,\"27\":19.6664218903,\"28\":19.8268566132,\"29\":19.8025054932,\"30\":19.2952232361,\"31\":19.3238334656,\"32\":19.3207473755,\"33\":19.4572944641,\"34\":19.0933704376,\"35\":19.3234081268,\"36\":19.1367301941,\"37\":18.6930599213,\"38\":19.4556865692,\"39\":20.1104717255,\"40\":18.8708114624,\"41\":18.7824554443,\"42\":19.3794403076,\"43\":19.6682052612,\"44\":18.8913421631,\"45\":19.093000412,\"46\":19.0823097229,\"47\":19.4249267578,\"48\":19.5524635315,\"49\":19.825044632,\"50\":19.5840873718,\"51\":19.5697441101,\"52\":19.1650981903,\"53\":18.7645988464,\"54\":18.9482727051,\"55\":19.039642334,\"56\":19.4139556885,\"57\":19.689453125,\"58\":19.2286338806,\"59\":19.2097969055,\"60\":19.599319458,\"61\":19.2868270874,\"62\":19.6072025299,\"63\":19.5153026581,\"64\":19.7858905792,\"65\":18.6468658447,\"66\":19.6824550629,\"67\":19.652633667,\"68\":18.6746578217,\"69\":19.6613197327,\"70\":18.6823368073,\"71\":18.5505580902,\"72\":19.4911193848,\"73\":19.9429721832,\"74\":19.4177837372,\"75\":19.6528587341,\"76\":19.0573062897,\"77\":19.0586452484,\"78\":19.4718608856,\"79\":19.0161514282,\"80\":19.1813392639,\"81\":18.8287391663,\"82\":19.4740180969,\"83\":19.3122196198,\"84\":19.1544284821,\"85\":19.4045372009,\"86\":19.4666996002,\"87\":18.9718360901,\"88\":19.0561885834,\"89\":19.4800453186,\"90\":18.9732608795,\"91\":19.1910591125,\"92\":19.5630970001,\"93\":19.5016765594,\"94\":19.8212680817,\"95\":19.5846748352,\"96\":19.3526096344,\"97\":19.7169017792,\"98\":19.6593894958,\"99\":19.0484580994,\"100\":19.3083934784,\"101\":19.1910533905,\"102\":19.6239757538,\"103\":19.5349445343,\"104\":18.8311252594,\"105\":18.9605674744,\"106\":18.737827301,\"107\":19.8351097107,\"108\":19.8827323914,\"109\":18.6768608093,\"110\":18.9829883575,\"111\":19.8075904846,\"112\":19.8193302155,\"113\":19.782699585,\"114\":19.9273719788,\"115\":19.9659252167,\"116\":20.0367927551,\"117\":19.8974628448,\"118\":20.287065506,\"119\":19.468252182,\"120\":19.980096817,\"121\":19.7932052612,\"122\":19.8938179016,\"123\":19.7973613739,\"124\":19.8168411255,\"125\":20.1171741486,\"126\":19.8918972015,\"127\":20.1915397644,\"128\":20.3401679993,\"129\":19.9926147461,\"130\":20.0997200012,\"131\":19.8034667969,\"132\":19.8983020782,\"133\":20.0880413055,\"134\":19.7619514465,\"135\":20.11170578,\"136\":19.2475509644,\"137\":19.1077766418,\"138\":19.2282066345,\"139\":19.0181903839,\"140\":19.2426280975,\"141\":18.9577732086,\"142\":19.1942749023,\"143\":18.8844013214,\"144\":19.3058395386,\"145\":18.6996116638,\"146\":18.8215522766,\"147\":19.2747612,\"148\":18.8396377563,\"149\":19.1615428925,\"150\":18.6582202911,\"151\":18.8197555542,\"152\":19.4687843323,\"153\":18.8498764038,\"154\":18.9527015686,\"155\":19.0104389191,\"156\":19.0842628479,\"157\":19.8295040131,\"158\":19.8285655975,\"159\":18.985918045,\"160\":19.1864910126,\"161\":19.2962207794,\"162\":19.2554168701,\"163\":20.1308116913,\"164\":19.3559875488,\"165\":19.3853111267,\"166\":19.4201126099,\"167\":19.3689403534}}\n"
          ],
          "name": "stdout"
        },
        {
          "output_type": "execute_result",
          "data": {
            "text/html": [
              "<div>\n",
              "<style scoped>\n",
              "    .dataframe tbody tr th:only-of-type {\n",
              "        vertical-align: middle;\n",
              "    }\n",
              "\n",
              "    .dataframe tbody tr th {\n",
              "        vertical-align: top;\n",
              "    }\n",
              "\n",
              "    .dataframe thead th {\n",
              "        text-align: right;\n",
              "    }\n",
              "</style>\n",
              "<table border=\"1\" class=\"dataframe\">\n",
              "  <thead>\n",
              "    <tr style=\"text-align: right;\">\n",
              "      <th></th>\n",
              "      <th>objectId</th>\n",
              "      <th>candid</th>\n",
              "      <th>jd</th>\n",
              "      <th>fid</th>\n",
              "      <th>sigmapsf</th>\n",
              "      <th>magpsf</th>\n",
              "    </tr>\n",
              "  </thead>\n",
              "  <tbody>\n",
              "    <tr>\n",
              "      <th>0</th>\n",
              "      <td>ZTF18aczvqcr</td>\n",
              "      <td>1410421083615015027</td>\n",
              "      <td>2.459165e+06</td>\n",
              "      <td>1</td>\n",
              "      <td>0.147839</td>\n",
              "      <td>20.126310</td>\n",
              "    </tr>\n",
              "    <tr>\n",
              "      <th>1</th>\n",
              "      <td>ZTF18aczvqcr</td>\n",
              "      <td>1414350743615015012</td>\n",
              "      <td>2.459169e+06</td>\n",
              "      <td>2</td>\n",
              "      <td>0.178646</td>\n",
              "      <td>19.643711</td>\n",
              "    </tr>\n",
              "    <tr>\n",
              "      <th>2</th>\n",
              "      <td>ZTF18aczvqcr</td>\n",
              "      <td>1416402323615015029</td>\n",
              "      <td>2.459171e+06</td>\n",
              "      <td>2</td>\n",
              "      <td>0.120142</td>\n",
              "      <td>19.717068</td>\n",
              "    </tr>\n",
              "    <tr>\n",
              "      <th>3</th>\n",
              "      <td>ZTF18aczvqcr</td>\n",
              "      <td>1416428113615015031</td>\n",
              "      <td>2.459171e+06</td>\n",
              "      <td>1</td>\n",
              "      <td>0.213728</td>\n",
              "      <td>20.324043</td>\n",
              "    </tr>\n",
              "    <tr>\n",
              "      <th>4</th>\n",
              "      <td>ZTF18aczvqcr</td>\n",
              "      <td>1425356333615015016</td>\n",
              "      <td>2.459180e+06</td>\n",
              "      <td>2</td>\n",
              "      <td>0.182813</td>\n",
              "      <td>19.552292</td>\n",
              "    </tr>\n",
              "  </tbody>\n",
              "</table>\n",
              "</div>"
            ],
            "text/plain": [
              "       objectId               candid            jd  fid  sigmapsf     magpsf\n",
              "0  ZTF18aczvqcr  1410421083615015027  2.459165e+06    1  0.147839  20.126310\n",
              "1  ZTF18aczvqcr  1414350743615015012  2.459169e+06    2  0.178646  19.643711\n",
              "2  ZTF18aczvqcr  1416402323615015029  2.459171e+06    2  0.120142  19.717068\n",
              "3  ZTF18aczvqcr  1416428113615015031  2.459171e+06    1  0.213728  20.324043\n",
              "4  ZTF18aczvqcr  1425356333615015016  2.459180e+06    2  0.182813  19.552292"
            ]
          },
          "metadata": {
            "tags": []
          },
          "execution_count": 16
        }
      ]
    },
    {
      "cell_type": "code",
      "metadata": {
        "id": "_lumcgl6_RsY"
      },
      "source": [
        "# Option 4: Get a generator that yields a json string for a single objectId\n",
        "\n",
        "format = 'json'\n",
        "iterator = True\n",
        "jobj = pgb.bigquery.query_objects(columns, \n",
        "                                  objectIds=objectIds, \n",
        "                                  format=format, \n",
        "                                  iterator=iterator,\n",
        "                                  dry_run=dry_run\n",
        "                                  )\n",
        "                                  # cleaned of duplicates\n",
        "\n",
        "for lcjson in jobj:\n",
        "    print(lcjson)\n",
        "    # lcdf = pd.read_json(lcjson)  # read back to a df"
      ],
      "execution_count": null,
      "outputs": []
    },
    {
      "cell_type": "code",
      "metadata": {
        "id": "BsY_T60i8YjT"
      },
      "source": [
        "# Option 5: Get the `query_job` object\n",
        "#           (see the section on using google.cloud.bigquery directly)\n",
        "\n",
        "query_job = pgb.bigquery.query_objects(columns, \n",
        "                                       objectIds=objectIds, \n",
        "                                       format='query_job',\n",
        "                                       dry_run=dry_run\n",
        "                                       )\n",
        "# query_job is iterable\n",
        "# each element contains the aggregated history for a single objectId\n",
        "# Beware: this has not been cleaned of duplicate entries"
      ],
      "execution_count": null,
      "outputs": []
    },
    {
      "cell_type": "code",
      "metadata": {
        "id": "vNwVq3kkpf7t"
      },
      "source": [
        "# Option 5a: parse query_job results row by row\n",
        "\n",
        "for row in query_job:\n",
        "    # values can be accessed by field name or index\n",
        "    print(f\"objectId={row[0]}, magpsf={row['magpsf']}\")\n",
        "\n",
        "    # pgb can cast to a DataFrame or json string\n",
        "    # this also cleans the duplicates\n",
        "    lcdf = pgb.bigquery.format_history_query_results(row=row)\n",
        "    print(f'\\nobjectId: {lcdf.objectId}')  # objectId in metadata\n",
        "    print(lcdf.head(1))\n",
        "    lcjson = pgb.bigquery.format_history_query_results(row=row, format='json')\n",
        "    print('\\n', lcjson)\n",
        "\n",
        "    break"
      ],
      "execution_count": null,
      "outputs": []
    },
    {
      "cell_type": "code",
      "metadata": {
        "id": "RxWJxfIvqClt"
      },
      "source": [
        "# Option 5b: cast the full query_job to a different type \n",
        "\n",
        "lcsdf = pgb.bigquery.format_history_query_results(query_job=query_job)\n",
        "# use Option 1 to get lcsdf using 1 line of code\n",
        "\n",
        "lcsjson = pgb.bigquery.format_history_query_results(query_job=query_job, \n",
        "                                                    format='json'\n",
        "                                                    )\n",
        "# use Option 3 to get lcsjson using 1 line of code"
      ],
      "execution_count": null,
      "outputs": []
    },
    {
      "cell_type": "markdown",
      "metadata": {
        "id": "wmeLC30rPwKF"
      },
      "source": [
        "---"
      ]
    },
    {
      "cell_type": "markdown",
      "metadata": {
        "id": "FLEcUP3jtVh9"
      },
      "source": [
        "#### Plot a lightcurve"
      ]
    },
    {
      "cell_type": "code",
      "metadata": {
        "id": "NqJAkLgxBO7H"
      },
      "source": [
        "# Get an object's lightcurve DataFrame with the minimum required columns\n",
        "columns = ['jd','fid','magpsf','sigmapsf','diffmaglim']\n",
        "objectId = 'ZTF20acqgklx'\n",
        "lcdf = pgb.bigquery.query_objects(columns, objectIds=[objectId], dry_run=False)"
      ],
      "execution_count": 85,
      "outputs": []
    },
    {
      "cell_type": "code",
      "metadata": {
        "colab": {
          "base_uri": "https://localhost:8080/",
          "height": 0
        },
        "id": "5-hdnhcQtZ42",
        "outputId": "3f9348dc-3b3e-48cc-f221-330afedb5543"
      },
      "source": [
        "# make the plot\n",
        "pgb.figures.plot_lightcurve(lcdf, objectId=objectId)\n",
        "# this function was adapted from:\n",
        "# https://github.com/ZwickyTransientFacility/ztf-avro-alert/blob/master/notebooks/Filtering_alerts.ipynb"
      ],
      "execution_count": 86,
      "outputs": [
        {
          "output_type": "display_data",
          "data": {
            "image/png": "[encoded data removed]",
            "text/plain": [
              "<Figure size 432x288 with 1 Axes>"
            ]
          },
          "metadata": {
            "tags": [],
            "needs_background": "light"
          }
        }
      ]
    },
    {
      "cell_type": "markdown",
      "metadata": {
        "id": "305r1rCItVLU"
      },
      "source": [
        "---"
      ]
    },
    {
      "cell_type": "markdown",
      "metadata": {
        "id": "ob8VDnewmsbg"
      },
      "source": [
        "### Cone Search"
      ]
    },
    {
      "cell_type": "code",
      "metadata": {
        "id": "Cj1tJDRbnNrx"
      },
      "source": [
        "# from astroquery.vo_conesearch import conf, conesearch, vos_catalog\n"
      ],
      "execution_count": 18,
      "outputs": []
    },
    {
      "cell_type": "code",
      "metadata": {
        "id": "Cw-XtkifnNXu"
      },
      "source": [
        "center = coord.SkyCoord(76.91, 6.02, frame='icrs', unit='deg')\n",
        "radius = coord.Angle(2, unit=u.deg)\n",
        "\n",
        "columns = ['jd', 'fid', 'magpsf', 'sigmapsf']\n",
        "# 'objectId' and 'candid' will be included automatically\n",
        "# options are in the 'candidates' table\n",
        "# pgb.bigquery.get_table_info('candidates')\n",
        "dry_run = False\n",
        "\n",
        "# we'll restrict to a handful of objects to reduce runtime, but this is optional\n",
        "objectIds = ['ZTF18aczuwfe', 'ZTF18aczvqcr', 'ZTF20acqgklx', 'ZTF18acexdlh']"
      ],
      "execution_count": 58,
      "outputs": []
    },
    {
      "cell_type": "markdown",
      "metadata": {
        "id": "fgUtTQlhiryF"
      },
      "source": [
        "To perform a cone search, we query for object histories and then check whether they are within the cone. \n",
        "`pgb.bigquery.cone_search()` is a convenience wrapper for this.\n",
        "It's options are demonstrated below. \n"
      ]
    },
    {
      "cell_type": "code",
      "metadata": {
        "id": "SReMyuJXnOMA"
      },
      "source": [
        "# Option 1: Get a single df of all objects in the cone\n",
        "\n",
        "objects_in_cone = pgb.bigquery.cone_search(center, radius, columns, \n",
        "                                           objectIds=objectIds, \n",
        "                                           dry_run=dry_run\n",
        "                                           )\n",
        "objects_in_cone.sample(5)"
      ],
      "execution_count": null,
      "outputs": []
    },
    {
      "cell_type": "code",
      "metadata": {
        "id": "FiXoz826nODh",
        "colab": {
          "base_uri": "https://localhost:8080/",
          "height": 0
        },
        "outputId": "b1b926ca-0683-4580-bb5e-e8b2b5610cb7"
      },
      "source": [
        "# Option 2: Get a single json string of all objects in the cone\n",
        "format = 'json'\n",
        "\n",
        "objects_in_cone = pgb.bigquery.cone_search(center, radius, columns, \n",
        "                                           objectIds=objectIds, \n",
        "                                           format=format, \n",
        "                                           dry_run=dry_run\n",
        "                                           )\n",
        "objects_in_cone"
      ],
      "execution_count": 64,
      "outputs": [
        {
          "output_type": "execute_result",
          "data": {
            "application/vnd.google.colaboratory.intrinsic+json": {
              "type": "string"
            },
            "text/plain": [
              "'{\"objectId\":{\"0\":\"ZTF20acqgklx\",\"1\":\"ZTF20acqgklx\",\"2\":\"ZTF20acqgklx\",\"3\":\"ZTF20acqgklx\",\"4\":\"ZTF20acqgklx\",\"5\":\"ZTF20acqgklx\",\"6\":\"ZTF20acqgklx\",\"7\":\"ZTF20acqgklx\",\"8\":\"ZTF20acqgklx\",\"9\":\"ZTF20acqgklx\",\"10\":\"ZTF20acqgklx\",\"11\":\"ZTF20acqgklx\",\"12\":\"ZTF20acqgklx\",\"13\":\"ZTF20acqgklx\",\"14\":\"ZTF20acqgklx\",\"15\":\"ZTF20acqgklx\",\"16\":\"ZTF20acqgklx\",\"17\":\"ZTF20acqgklx\",\"18\":\"ZTF20acqgklx\",\"19\":\"ZTF20acqgklx\",\"20\":\"ZTF20acqgklx\",\"21\":\"ZTF20acqgklx\",\"22\":\"ZTF20acqgklx\",\"23\":\"ZTF20acqgklx\",\"24\":\"ZTF20acqgklx\",\"25\":\"ZTF20acqgklx\",\"26\":\"ZTF20acqgklx\",\"27\":\"ZTF20acqgklx\",\"28\":\"ZTF20acqgklx\",\"29\":\"ZTF20acqgklx\",\"30\":\"ZTF20acqgklx\",\"31\":\"ZTF20acqgklx\",\"32\":\"ZTF20acqgklx\",\"33\":\"ZTF20acqgklx\",\"34\":\"ZTF20acqgklx\",\"35\":\"ZTF20acqgklx\",\"36\":\"ZTF18aczuwfe\",\"37\":\"ZTF18aczuwfe\",\"38\":\"ZTF18aczuwfe\",\"39\":\"ZTF18aczuwfe\",\"40\":\"ZTF18aczuwfe\",\"41\":\"ZTF18aczuwfe\",\"42\":\"ZTF18aczuwfe\",\"43\":\"ZTF18aczuwfe\",\"44\":\"ZTF18aczuwfe\",\"45\":\"ZTF18aczuwfe\",\"46\":\"ZTF18aczuwfe\",\"47\":\"ZTF18aczuwfe\",\"48\":\"ZTF18aczuwfe\",\"49\":\"ZTF18aczuwfe\",\"50\":\"ZTF18aczuwfe\",\"51\":\"ZTF18aczuwfe\",\"52\":\"ZTF18aczuwfe\",\"53\":\"ZTF18aczuwfe\",\"54\":\"ZTF18aczuwfe\",\"55\":\"ZTF18aczuwfe\",\"56\":\"ZTF18aczuwfe\"},\"candid\":{\"0\":1414351235215015023,\"1\":1414365935215015038,\"2\":1416400905215015017,\"3\":1416427635215015028,\"4\":1427289515215015014,\"5\":1431341885215015008,\"6\":1438294975215015018,\"7\":1440303995215015015,\"8\":1440322515215015022,\"9\":1442282165215015017,\"10\":1442328325215015021,\"11\":1444285645215015017,\"12\":1444320905215015016,\"13\":1446323875215015047,\"14\":1449226055215015021,\"15\":1449333365215015022,\"16\":1451204595215015021,\"17\":1451280085215015013,\"18\":1461235915215015011,\"19\":1467211215215015018,\"20\":1469186965215015010,\"21\":1469258285215015019,\"22\":1471269095215015023,\"23\":1475232495215015014,\"24\":1477168705215015013,\"25\":1477214245215015017,\"26\":1479193395215015012,\"27\":1479213075215015022,\"28\":1495204985215015017,\"29\":1497208625215015030,\"30\":1499283325215015017,\"31\":1501172065215015058,\"32\":1501265425215015012,\"33\":1503208145215015012,\"34\":1508194315215015016,\"35\":1510148925215015017,\"36\":1440303993415015003,\"37\":1440322513415015004,\"38\":1442328323415015002,\"39\":1444285643415015001,\"40\":1449226053415015000,\"41\":1451204593415015000,\"42\":1467211213415015002,\"43\":1469258283415015005,\"44\":1477168703415015002,\"45\":1477214243415015002,\"46\":1479193393415015001,\"47\":1479213073415015001,\"48\":1497147413415015000,\"49\":1497208623415015000,\"50\":1499171573415015000,\"51\":1499283323415015000,\"52\":1501265423415015001,\"53\":1503183253415015010,\"54\":1503208143415015003,\"55\":1510148923415015004,\"56\":1510206363415015002},\"dec\":{\"0\":7.7601491,\"1\":7.7601311,\"2\":7.760113,\"3\":7.760097,\"4\":7.7601185,\"5\":7.7601462,\"6\":7.7601382,\"7\":7.7601075,\"8\":7.760093,\"9\":7.760036,\"10\":7.760094,\"11\":7.7601101,\"12\":7.7601095,\"13\":7.7601503,\"14\":7.7600756,\"15\":7.7601105,\"16\":7.7601354,\"17\":7.7601159,\"18\":7.7601193,\"19\":7.7601317,\"20\":7.7600808,\"21\":7.7601317,\"22\":7.7601355,\"23\":7.7601352,\"24\":7.7600648,\"25\":7.7600323,\"26\":7.7601065,\"27\":7.7601319,\"28\":7.7600979,\"29\":7.7601315,\"30\":7.7601408,\"31\":7.7601188,\"32\":7.7601017,\"33\":7.7601286,\"34\":7.760111,\"35\":7.7601302,\"36\":5.3874165,\"37\":5.387412,\"38\":5.38738,\"39\":5.3872464,\"40\":5.387483,\"41\":5.3874589,\"42\":5.3874569,\"43\":5.3874142,\"44\":5.387562,\"45\":5.3872398,\"46\":5.3874461,\"47\":5.3873628,\"48\":5.3873717,\"49\":5.3873639,\"50\":5.38744,\"51\":5.3874191,\"52\":5.3873912,\"53\":5.3873755,\"54\":5.3873779,\"55\":5.3874122,\"56\":5.3874497},\"ra\":{\"0\":76.6337364,\"1\":76.6336455,\"2\":76.6337185,\"3\":76.6336907,\"4\":76.6336291,\"5\":76.6336916,\"6\":76.6337059,\"7\":76.6336987,\"8\":76.6336754,\"9\":76.6336433,\"10\":76.6337114,\"11\":76.633711,\"12\":76.6336478,\"13\":76.633696,\"14\":76.6336947,\"15\":76.6337114,\"16\":76.6336857,\"17\":76.633705,\"18\":76.6337068,\"19\":76.6337048,\"20\":76.633726,\"21\":76.6337087,\"22\":76.6337082,\"23\":76.6336816,\"24\":76.6337475,\"25\":76.6337401,\"26\":76.6336617,\"27\":76.6336993,\"28\":76.6336502,\"29\":76.6337006,\"30\":76.6337207,\"31\":76.6336483,\"32\":76.6336968,\"33\":76.6336855,\"34\":76.6337576,\"35\":76.633721,\"36\":77.4967414,\"37\":77.4967321,\"38\":77.4967302,\"39\":77.4968264,\"40\":77.4967744,\"41\":77.4967577,\"42\":77.4967176,\"43\":77.4968039,\"44\":77.4967067,\"45\":77.4968379,\"46\":77.4967014,\"47\":77.4965744,\"48\":77.4966655,\"49\":77.4967094,\"50\":77.4967176,\"51\":77.4967367,\"52\":77.4966814,\"53\":77.4967869,\"54\":77.4967563,\"55\":77.4965964,\"56\":77.4966476},\"jd\":{\"0\":2459168.8512384002,\"1\":2459168.8659374998,\"2\":2459170.9009027998,\"3\":2459170.9276389,\"4\":2459181.7895138999,\"5\":2459185.8418866,\"6\":2459192.7949768999,\"7\":2459194.8039930998,\"8\":2459194.8225115999,\"9\":2459196.7821644,\"10\":2459196.8283218001,\"11\":2459198.7856481001,\"12\":2459198.8209028002,\"13\":2459200.8238773001,\"14\":2459203.7260532002,\"15\":2459203.8333681002,\"16\":2459205.7045948999,\"17\":2459205.7800810002,\"18\":2459215.7359143998,\"19\":2459221.7112153,\"20\":2459223.6869676001,\"21\":2459223.758287,\"22\":2459225.7690972001,\"23\":2459229.7324999999,\"24\":2459231.6687037,\"25\":2459231.7142476998,\"26\":2459233.6933912002,\"27\":2459233.7130787,\"28\":2459249.7049884,\"29\":2459251.7086227001,\"30\":2459253.7833218002,\"31\":2459255.6720602,\"32\":2459255.7654281999,\"33\":2459257.7081480999,\"34\":2459262.6943171001,\"35\":2459264.6489236001,\"36\":2459194.8039930998,\"37\":2459194.8225115999,\"38\":2459196.8283218001,\"39\":2459198.7856481001,\"40\":2459203.7260532002,\"41\":2459205.7045948999,\"42\":2459221.7112153,\"43\":2459223.758287,\"44\":2459231.6687037,\"45\":2459231.7142476998,\"46\":2459233.6933912002,\"47\":2459233.7130787,\"48\":2459251.647419,\"49\":2459251.7086227001,\"50\":2459253.6715740999,\"51\":2459253.7833218002,\"52\":2459255.7654281999,\"53\":2459257.6832523001,\"54\":2459257.7081480999,\"55\":2459264.6489236001,\"56\":2459264.7063656999},\"fid\":{\"0\":2,\"1\":1,\"2\":2,\"3\":1,\"4\":2,\"5\":2,\"6\":1,\"7\":2,\"8\":1,\"9\":2,\"10\":1,\"11\":2,\"12\":1,\"13\":2,\"14\":2,\"15\":1,\"16\":2,\"17\":1,\"18\":2,\"19\":2,\"20\":1,\"21\":2,\"22\":2,\"23\":2,\"24\":2,\"25\":1,\"26\":1,\"27\":2,\"28\":2,\"29\":2,\"30\":2,\"31\":1,\"32\":2,\"33\":2,\"34\":2,\"35\":2,\"36\":2,\"37\":1,\"38\":1,\"39\":2,\"40\":2,\"41\":2,\"42\":2,\"43\":2,\"44\":2,\"45\":1,\"46\":1,\"47\":2,\"48\":1,\"49\":2,\"50\":1,\"51\":2,\"52\":2,\"53\":1,\"54\":2,\"55\":2,\"56\":1},\"magpsf\":{\"0\":19.8983020782,\"1\":20.0880413055,\"2\":19.7619514465,\"3\":20.11170578,\"4\":19.2475509644,\"5\":19.1077766418,\"6\":19.2282066345,\"7\":19.0181903839,\"8\":19.2426280975,\"9\":18.9577732086,\"10\":19.1942749023,\"11\":18.8844013214,\"12\":19.3058395386,\"13\":18.6996116638,\"14\":18.8215522766,\"15\":19.2747612,\"16\":18.8396377563,\"17\":19.1615428925,\"18\":18.6582202911,\"19\":18.8197555542,\"20\":19.4687843323,\"21\":18.8498764038,\"22\":18.9527015686,\"23\":19.0104389191,\"24\":19.0842628479,\"25\":19.8295040131,\"26\":19.8285655975,\"27\":18.985918045,\"28\":19.1864910126,\"29\":19.2962207794,\"30\":19.2554168701,\"31\":20.1308116913,\"32\":19.3559875488,\"33\":19.3853111267,\"34\":19.4201126099,\"35\":19.3689403534,\"36\":19.8075904846,\"37\":19.8193302155,\"38\":19.782699585,\"39\":19.9273719788,\"40\":19.9659252167,\"41\":20.0367927551,\"42\":19.8974628448,\"43\":20.287065506,\"44\":19.468252182,\"45\":19.980096817,\"46\":19.7932052612,\"47\":19.8938179016,\"48\":19.7973613739,\"49\":19.8168411255,\"50\":20.1171741486,\"51\":19.8918972015,\"52\":20.1915397644,\"53\":20.3401679993,\"54\":19.9926147461,\"55\":20.0997200012,\"56\":19.8034667969},\"sigmapsf\":{\"0\":0.171336174,\"1\":0.1520067751,\"2\":0.1638982892,\"3\":0.1722908914,\"4\":0.1803994179,\"5\":0.1763110161,\"6\":0.1915530562,\"7\":0.1221162975,\"8\":0.108531788,\"9\":0.1465175152,\"10\":0.1097503155,\"11\":0.0956753269,\"12\":0.1312362254,\"13\":0.1842149049,\"14\":0.0890605375,\"15\":0.1322681755,\"16\":0.1062524319,\"17\":0.128571257,\"18\":0.1441874355,\"19\":0.0945616737,\"20\":0.1163638309,\"21\":0.1142768562,\"22\":0.0919400677,\"23\":0.1705875844,\"24\":0.1422212124,\"25\":0.1563364565,\"26\":0.1784083098,\"27\":0.0934783742,\"28\":0.1186497435,\"29\":0.0947879553,\"30\":0.1173490658,\"31\":0.1696402431,\"32\":0.1248271763,\"33\":0.1245876551,\"34\":0.1650092453,\"35\":0.1512905806,\"36\":0.1599257737,\"37\":0.127621159,\"38\":0.1728081405,\"39\":0.2097401619,\"40\":0.170470953,\"41\":0.1815263033,\"42\":0.1776263118,\"43\":0.2123211473,\"44\":0.2115102559,\"45\":0.2003795207,\"46\":0.2124526799,\"47\":0.1783928424,\"48\":0.184142381,\"49\":0.1533806324,\"50\":0.2169205546,\"51\":0.1936687827,\"52\":0.1730027348,\"53\":0.1664137542,\"54\":0.1472844481,\"55\":0.1752548069,\"56\":0.1648100466}}'"
            ]
          },
          "metadata": {
            "tags": []
          },
          "execution_count": 64
        }
      ]
    },
    {
      "cell_type": "code",
      "metadata": {
        "id": "XY3IO_3EzewP",
        "colab": {
          "base_uri": "https://localhost:8080/"
        },
        "outputId": "b32ffcd0-56f3-4bce-ade6-e1f6bf88f521"
      },
      "source": [
        "# Option 3: Get a generator that yields individual dfs of individual objects in the cone\n",
        "iterator = True\n",
        "\n",
        "objects_in_cone = pgb.bigquery.cone_search(center, radius, columns, \n",
        "                                           objectIds=objectIds, \n",
        "                                           iterator=iterator, \n",
        "                                           dry_run=dry_run\n",
        "                                           )\n",
        "for obj in objects_in_cone:\n",
        "    print(f'objectId: {obj.objectId}')  # objectId in metadata\n",
        "    print(obj.head())"
      ],
      "execution_count": 65,
      "outputs": [
        {
          "output_type": "stream",
          "text": [
            "objectId: ZTF18aczuwfe\n",
            "                          dec         ra  ...     magpsf  sigmapsf\n",
            "candid                                    ...                     \n",
            "1440303993415015003  5.387416  77.496741  ...  19.807590  0.159926\n",
            "1440322513415015004  5.387412  77.496732  ...  19.819330  0.127621\n",
            "1442328323415015002  5.387380  77.496730  ...  19.782700  0.172808\n",
            "1444285643415015001  5.387246  77.496826  ...  19.927372  0.209740\n",
            "1449226053415015000  5.387483  77.496774  ...  19.965925  0.170471\n",
            "\n",
            "[5 rows x 6 columns]\n",
            "objectId: ZTF20acqgklx\n",
            "                          dec         ra  ...     magpsf  sigmapsf\n",
            "candid                                    ...                     \n",
            "1414351235215015023  7.760149  76.633736  ...  19.898302  0.171336\n",
            "1414365935215015038  7.760131  76.633646  ...  20.088041  0.152007\n",
            "1416400905215015017  7.760113  76.633719  ...  19.761951  0.163898\n",
            "1416427635215015028  7.760097  76.633691  ...  20.111706  0.172291\n",
            "1427289515215015014  7.760118  76.633629  ...  19.247551  0.180399\n",
            "\n",
            "[5 rows x 6 columns]\n"
          ],
          "name": "stdout"
        }
      ]
    },
    {
      "cell_type": "code",
      "metadata": {
        "id": "xiFyTS8Jzem2"
      },
      "source": [
        "# Get a generator that yields a json string of individual objects in the cone\n",
        "format = 'json'\n",
        "iterator = True\n",
        "\n",
        "objects_in_cone = pgb.bigquery.cone_search(center, radius, columns, \n",
        "                                           objectIds=objectIds, \n",
        "                                           format=format, \n",
        "                                           iterator=iterator, \n",
        "                                           dry_run=dry_run\n",
        "                                           )\n",
        "for obj in objects_in_cone:\n",
        "    print(obj)"
      ],
      "execution_count": null,
      "outputs": []
    },
    {
      "cell_type": "markdown",
      "metadata": {
        "id": "mrMNVezhjqEy"
      },
      "source": [
        "---"
      ]
    },
    {
      "cell_type": "markdown",
      "metadata": {
        "id": "id1fk4u06Bcq"
      },
      "source": [
        "### Using `google.cloud.bigquery` directly"
      ]
    },
    {
      "cell_type": "markdown",
      "metadata": {
        "id": "Pyk8BL3URAsY"
      },
      "source": [
        "The previous sections demonstrated convenience wrappers for querying with `google.cloud.bigquery`. Here we demonstrate using these tools directly with some basic examples. View `pgb_utils` source code for more examples.\n",
        "\n",
        "Links to more information:\n",
        "- [Query syntax in Standard SQL](https://cloud.google.com/bigquery/docs/reference/standard-sql/query-syntax)\n",
        "- [`google.cloud.bigquery` docs](https://googleapis.dev/python/bigquery/latest/index.html)"
      ]
    },
    {
      "cell_type": "markdown",
      "metadata": {
        "id": "k_kyHjzdtFpD"
      },
      "source": [
        "Query setup:"
      ]
    },
    {
      "cell_type": "code",
      "metadata": {
        "id": "XzfwhW2iQvrG"
      },
      "source": [
        "# Create a BigQuery Client to handle the connections\n",
        "bq_client = bigquery.Client(project=my_project_id)"
      ],
      "execution_count": 66,
      "outputs": []
    },
    {
      "cell_type": "code",
      "metadata": {
        "id": "xv5lFH3aQvrG"
      },
      "source": [
        "# Write the standard SQL query statement\n",
        "\n",
        "# pgb.bigquery.get_dataset_table_names()  # view available tables\n",
        "# pgb.bigquery.get_table_info('<table>')  # view available column names\n",
        "\n",
        "# construct the full table name\n",
        "table = 'salt2'\n",
        "dataset = 'ztf_alerts'\n",
        "full_table_name = f'{pgb_project_id}.{dataset}.{table}'\n",
        "\n",
        "# construct the query\n",
        "query = (\n",
        "    f'SELECT objectId, candid, t0, x0, x1, c, chisq, ndof '\n",
        "    f'FROM `{full_table_name}` '\n",
        "    f'WHERE ndof>0 and chisq/ndof<2 '\n",
        ")\n",
        "\n",
        "# note: if you want to query object histories you can get the\n",
        "# query statement using `pgb.bigquery.object_history_sql_statement()`"
      ],
      "execution_count": 70,
      "outputs": []
    },
    {
      "cell_type": "code",
      "metadata": {
        "id": "nq2DeGipQvrF"
      },
      "source": [
        "# Let's create a function to execute a \"dry run\"\n",
        "# and tell us how much data will be processed.\n",
        "# This is essentially `pgb.bigquery.dry_run()`\n",
        "def dry_run(query):\n",
        "    job_config = bigquery.QueryJobConfig(dry_run=True, use_query_cache=False)\n",
        "    query_job = bq_client.query(query, job_config=job_config)\n",
        "    nbytes, TB = query_job.total_bytes_processed, 1e12\n",
        "    print(f'\\nQuery statement:')\n",
        "    print(f'\\n\"{query}\"\\n')\n",
        "    print(f'will process {nbytes} bytes of data.')\n",
        "    print(f'({nbytes/TB*100:.3}% of your 1 TB Free Tier monthly allotment.)')"
      ],
      "execution_count": 71,
      "outputs": []
    },
    {
      "cell_type": "code",
      "metadata": {
        "colab": {
          "base_uri": "https://localhost:8080/"
        },
        "id": "jz6-_tYYQvrG",
        "outputId": "995f29a6-6ef9-42bb-d317-b3fd66f8746d"
      },
      "source": [
        "# Find out how much data will be processed\n",
        "dry_run(query)"
      ],
      "execution_count": 72,
      "outputs": [
        {
          "output_type": "stream",
          "text": [
            "\n",
            "Query statement:\n",
            "\n",
            "\"SELECT objectId, candid, t0, x0, x1, c, chisq, ndof FROM `ardent-cycling-243415.ztf_alerts.salt2` WHERE ndof>0 and chisq/ndof<2 \"\n",
            "\n",
            "will process 9050090 bytes of data.\n",
            "(0.000905% of your 1 TB free monthly allotment.)\n"
          ],
          "name": "stdout"
        }
      ]
    },
    {
      "cell_type": "markdown",
      "metadata": {
        "id": "j117iwvXQvrG"
      },
      "source": [
        "Query:"
      ]
    },
    {
      "cell_type": "code",
      "metadata": {
        "id": "SeE4LYFnQvrH"
      },
      "source": [
        "# Make the API request\n",
        "query_job = bq_client.query(query)\n",
        "# Beware: the results may contain duplicate entries"
      ],
      "execution_count": 74,
      "outputs": []
    },
    {
      "cell_type": "markdown",
      "metadata": {
        "id": "4VIyok0pQvrH"
      },
      "source": [
        "Format and view results:"
      ]
    },
    {
      "cell_type": "code",
      "metadata": {
        "colab": {
          "base_uri": "https://localhost:8080/",
          "height": 492
        },
        "id": "9CWQnJXVQvrH",
        "outputId": "82bc8e08-fded-492c-f341-69e496d4b7e6"
      },
      "source": [
        "# Option 1: dump results to a pandas.DataFrame\n",
        "df = query_job.to_dataframe()\n",
        "\n",
        "# some things you might want to do with it\n",
        "df = df.drop_duplicates()\n",
        "df = df.set_index(['objectId','candid']).sort_index()\n",
        "\n",
        "df.hist()\n",
        "df.head()"
      ],
      "execution_count": 80,
      "outputs": [
        {
          "output_type": "execute_result",
          "data": {
            "text/html": [
              "<div>\n",
              "<style scoped>\n",
              "    .dataframe tbody tr th:only-of-type {\n",
              "        vertical-align: middle;\n",
              "    }\n",
              "\n",
              "    .dataframe tbody tr th {\n",
              "        vertical-align: top;\n",
              "    }\n",
              "\n",
              "    .dataframe thead th {\n",
              "        text-align: right;\n",
              "    }\n",
              "</style>\n",
              "<table border=\"1\" class=\"dataframe\">\n",
              "  <thead>\n",
              "    <tr style=\"text-align: right;\">\n",
              "      <th></th>\n",
              "      <th></th>\n",
              "      <th>t0</th>\n",
              "      <th>x0</th>\n",
              "      <th>x1</th>\n",
              "      <th>c</th>\n",
              "      <th>chisq</th>\n",
              "      <th>ndof</th>\n",
              "    </tr>\n",
              "    <tr>\n",
              "      <th>objectId</th>\n",
              "      <th>candid</th>\n",
              "      <th></th>\n",
              "      <th></th>\n",
              "      <th></th>\n",
              "      <th></th>\n",
              "      <th></th>\n",
              "      <th></th>\n",
              "    </tr>\n",
              "  </thead>\n",
              "  <tbody>\n",
              "    <tr>\n",
              "      <th rowspan=\"2\" valign=\"top\">ZTF17aaaabel</th>\n",
              "      <th>1444159835815015011</th>\n",
              "      <td>59180.000000</td>\n",
              "      <td>0.000222</td>\n",
              "      <td>5.000000</td>\n",
              "      <td>0.822789</td>\n",
              "      <td>4.381339</td>\n",
              "      <td>3</td>\n",
              "    </tr>\n",
              "    <tr>\n",
              "      <th>1472158805815015024</th>\n",
              "      <td>59208.814644</td>\n",
              "      <td>0.000240</td>\n",
              "      <td>1.404885</td>\n",
              "      <td>0.738401</td>\n",
              "      <td>10.093228</td>\n",
              "      <td>6</td>\n",
              "    </tr>\n",
              "    <tr>\n",
              "      <th>ZTF17aaaaegy</th>\n",
              "      <th>1444221433815015006</th>\n",
              "      <td>59182.431055</td>\n",
              "      <td>0.000363</td>\n",
              "      <td>-1.530755</td>\n",
              "      <td>1.088550</td>\n",
              "      <td>5.854417</td>\n",
              "      <td>3</td>\n",
              "    </tr>\n",
              "    <tr>\n",
              "      <th>ZTF17aaaagah</th>\n",
              "      <th>1416296776015015004</th>\n",
              "      <td>59145.987063</td>\n",
              "      <td>0.000495</td>\n",
              "      <td>4.999931</td>\n",
              "      <td>0.808802</td>\n",
              "      <td>10.179439</td>\n",
              "      <td>6</td>\n",
              "    </tr>\n",
              "    <tr>\n",
              "      <th>ZTF17aaaajpm</th>\n",
              "      <th>1425093023515015003</th>\n",
              "      <td>59157.510063</td>\n",
              "      <td>0.000314</td>\n",
              "      <td>-1.740220</td>\n",
              "      <td>0.721364</td>\n",
              "      <td>22.511310</td>\n",
              "      <td>13</td>\n",
              "    </tr>\n",
              "  </tbody>\n",
              "</table>\n",
              "</div>"
            ],
            "text/plain": [
              "                                            t0        x0  ...      chisq  ndof\n",
              "objectId     candid                                       ...                 \n",
              "ZTF17aaaabel 1444159835815015011  59180.000000  0.000222  ...   4.381339     3\n",
              "             1472158805815015024  59208.814644  0.000240  ...  10.093228     6\n",
              "ZTF17aaaaegy 1444221433815015006  59182.431055  0.000363  ...   5.854417     3\n",
              "ZTF17aaaagah 1416296776015015004  59145.987063  0.000495  ...  10.179439     6\n",
              "ZTF17aaaajpm 1425093023515015003  59157.510063  0.000314  ...  22.511310    13\n",
              "\n",
              "[5 rows x 6 columns]"
            ]
          },
          "metadata": {
            "tags": []
          },
          "execution_count": 80
        },
        {
          "output_type": "display_data",
          "data": {
            "image/png": "[encoded data removed]",
            "text/plain": [
              "<Figure size 432x288 with 6 Axes>"
            ]
          },
          "metadata": {
            "tags": [],
            "needs_background": "light"
          }
        }
      ]
    },
    {
      "cell_type": "code",
      "metadata": {
        "colab": {
          "base_uri": "https://localhost:8080/"
        },
        "id": "3VIr_awwQvrH",
        "outputId": "13123859-590e-43fe-8fd0-c998891f357b"
      },
      "source": [
        "# Option 2: parse results row by row\n",
        "for r, row in enumerate(query_job):\n",
        "    \n",
        "    # row values can be accessed by field name or index\n",
        "    print(f\"objectId={row[0]}, t0={row['t0']}\")\n",
        "    \n",
        "    if r>5: break"
      ],
      "execution_count": 83,
      "outputs": [
        {
          "output_type": "stream",
          "text": [
            "objectId=ZTF20acvamqy, t0=59188.41745606396\n",
            "objectId=ZTF20acusylb, t0=59192.986445123555\n",
            "objectId=ZTF18acaopar, t0=59177.99999987393\n",
            "objectId=ZTF18abvfafa, t0=59173.38747656424\n",
            "objectId=ZTF19aaagqok, t0=59173.999998093954\n",
            "objectId=ZTF19aaagqok, t0=59173.99999999364\n",
            "objectId=ZTF20acusylb, t0=59193.163268315955\n"
          ],
          "name": "stdout"
        }
      ]
    },
    {
      "cell_type": "markdown",
      "metadata": {
        "id": "Nq_62zT7QvrH"
      },
      "source": [
        "---"
      ]
    },
    {
      "cell_type": "markdown",
      "metadata": {
        "id": "3nDSzXh1khgt"
      },
      "source": [
        "## 2b) Command-line tool `bq`"
      ]
    },
    {
      "cell_type": "markdown",
      "metadata": {
        "id": "c1ZRmdYixd7x"
      },
      "source": [
        "All commands in this section are executed using the `run` function we created earlier to run commands on the command-line.\n",
        "\n",
        "`bq`'s default dialect is legacy SQL. Here we use standard SQL by passing `--use_legacy_sql=false`.\n",
        "<!-- (see [change to standard SQL](https://cloud.google.com/bigquery/docs/reference/standard-sql/enabling-standard-sql#changing_from_the_default_dialect)) -->\n",
        "\n",
        "Links to more information:\n",
        "- [Quickstart using the bq command-line tool](https://cloud.google.com/bigquery/docs/quickstarts/quickstart-command-line)\n",
        "- [Reference of all `bq` commands and flags](https://cloud.google.com/bigquery/docs/reference/bq-cli-reference)\n",
        "- [Query syntax in Standard SQL](https://cloud.google.com/bigquery/docs/reference/standard-sql/query-syntax)"
      ]
    },
    {
      "cell_type": "code",
      "metadata": {
        "id": "qaUD-I_uJV3h"
      },
      "source": [
        "# Get help\n",
        "run('bq help query')"
      ],
      "execution_count": null,
      "outputs": []
    },
    {
      "cell_type": "code",
      "metadata": {
        "id": "XhAlHJaPH5FY"
      },
      "source": [
        "# view the schema of a table\n",
        "run('bq show --schema --format=prettyjson ardent-cycling-243415:ztf_alerts.candidates')\n",
        "# run('bq show --schema --format=prettyjson ardent-cycling-243415:ztf_alerts.alerts')\n",
        "\n",
        "# Note: The first time you make a call with `bq` you will ask you to \n",
        "# initialize a .bigqueryrc configuration file. Follow the directions."
      ],
      "execution_count": null,
      "outputs": []
    },
    {
      "cell_type": "code",
      "metadata": {
        "id": "dFTI682_kAtG",
        "colab": {
          "base_uri": "https://localhost:8080/"
        },
        "outputId": "5d5aa6fb-cd3a-48f7-9e3c-19c1cd88d7ed"
      },
      "source": [
        "# Query: dry run\n",
        "\n",
        "# first we do a dry_run by including the flag --dry_run\n",
        "bq_query = \"\"\"bq query \\\n",
        "--dry_run \\\n",
        "--use_legacy_sql=false \\\n",
        "'SELECT \n",
        "    objectId, candid, t0, x0, x1, c, chisq, ndof\n",
        "FROM \n",
        "    `ardent-cycling-243415.ztf_alerts.salt2`\n",
        "WHERE \n",
        "    ndof>0 and chisq/ndof<2\n",
        "LIMIT\n",
        "    10'\n",
        "\"\"\"\n",
        "\n",
        "run(bq_query)\n",
        "# Note: to execute this directly in the command-line, enter everything \n",
        "# contained within the triple quotes."
      ],
      "execution_count": 91,
      "outputs": [
        {
          "output_type": "stream",
          "text": [
            ">> bq query --dry_run --use_legacy_sql=false 'SELECT \n",
            "    objectId, candid, t0, x0, x1, c, chisq, ndof\n",
            "FROM \n",
            "    `ardent-cycling-243415.ztf_alerts.salt2`\n",
            "WHERE \n",
            "    ndof>0 and chisq/ndof<2\n",
            "LIMIT\n",
            "    10'\n",
            "\n",
            "Query successfully validated. Assuming the tables are not modified, running this query will process 9050090 bytes of data.\n",
            "\n"
          ],
          "name": "stdout"
        }
      ]
    },
    {
      "cell_type": "code",
      "metadata": {
        "id": "cPuGfMbPiUPN"
      },
      "source": [
        "# Query\n",
        "\n",
        "bq_query = \"\"\"bq query \\\n",
        "--use_legacy_sql=false \\\n",
        "'SELECT \n",
        "    objectId, candid, t0, x0, x1, c, chisq, ndof\n",
        "FROM \n",
        "    `ardent-cycling-243415.ztf_alerts.salt2`\n",
        "WHERE \n",
        "    ndof>0 and chisq/ndof<2\n",
        "LIMIT\n",
        "    10'\n",
        "\"\"\"\n",
        "\n",
        "run(bq_query)"
      ],
      "execution_count": null,
      "outputs": []
    },
    {
      "cell_type": "markdown",
      "metadata": {
        "id": "quXBg_AIwJfo"
      },
      "source": [
        "---"
      ]
    },
    {
      "cell_type": "markdown",
      "metadata": {
        "id": "jwxBVDcgVsOZ"
      },
      "source": [
        "# 3) File Storage & Cloud Storage"
      ]
    },
    {
      "cell_type": "markdown",
      "metadata": {
        "id": "DxcGxp_1WkK8"
      },
      "source": [
        "I plan to rename the files and the bucket before the workshop as follows:\n",
        "- old bucket: `ardent-cycling-243415_ztf_alert_avro_bucket`\n",
        "- new bucket: `ardent-cycling-243415_ztf_alert_avros`\n",
        "- old files: `{ztf_topic}_{kafka_timestamp}.avro`\n",
        "- new files: `{objectId}.{candid}.{ztf_topic}.avro`\n",
        "---\n",
        "\n",
        "- Pricing\n",
        "    - [Cloud Storage pricing](https://cloud.google.com/storage/pricing)\n",
        "        - [Free Tier](https://cloud.google.com/storage/pricing#cloud-storage-always-free) includes >=5000 operations per month, but is limited to US regions(*). Standard operations are $0.004-$0.05 per 10,000 operations (depending on type).\n",
        "\n"
      ]
    },
    {
      "cell_type": "markdown",
      "metadata": {
        "id": "bHoxCS-EAH4J"
      },
      "source": [
        "## 3a) Python"
      ]
    },
    {
      "cell_type": "markdown",
      "metadata": {
        "id": "ASizSGpQC_46"
      },
      "source": [
        "- [Python Client documentation](https://googleapis.dev/python/storage/latest/client.html)"
      ]
    },
    {
      "cell_type": "markdown",
      "metadata": {
        "id": "WolBMdS2K1OV"
      },
      "source": [
        "### Download files"
      ]
    },
    {
      "cell_type": "markdown",
      "metadata": {
        "id": "Oti0W9vANHkI"
      },
      "source": [
        "Download alerts from a given night"
      ]
    },
    {
      "cell_type": "code",
      "metadata": {
        "id": "HtBrGafqO7gr"
      },
      "source": [
        "night = 20210404  # yyyymmdd. ENTER YOUR DATE\n",
        "bucket_name = f'{pgb_project_id}_ztf_alert_avro_bucket'\n",
        "\n",
        "# Create a client and request a list of files\n",
        "storage_client = storage.Client(project=my_project_id)\n",
        "bucket = storage_client.get_bucket(bucket_name)\n",
        "blobs = bucket.list_blobs(prefix=f'ztf_{night}', delimiter='/')"
      ],
      "execution_count": null,
      "outputs": []
    },
    {
      "cell_type": "code",
      "metadata": {
        "id": "Keej033SNJZZ"
      },
      "source": [
        "# download the files\n",
        "for b, blob in enumerate(blobs):\n",
        "    local_path = f'{colabpath_noesc}/{blob.name}'\n",
        "    blob.download_to_filename(local_path)\n",
        "\n",
        "    if b>10:\n",
        "        break"
      ],
      "execution_count": null,
      "outputs": []
    },
    {
      "cell_type": "markdown",
      "metadata": {
        "id": "6Xz7JjM0_ow9"
      },
      "source": [
        "### Plot cutouts and lightcurves"
      ]
    },
    {
      "cell_type": "markdown",
      "metadata": {
        "id": "NULKsOFDPP9G"
      },
      "source": [
        "Open a file\n",
        "(see the previous section to download files)"
      ]
    },
    {
      "cell_type": "code",
      "metadata": {
        "id": "pEZuY3Gf8czB",
        "colab": {
          "base_uri": "https://localhost:8080/"
        },
        "outputId": "c45dbef6-ac5f-471a-db4d-e6a4a5935471"
      },
      "source": [
        "paths = Path(colabpath_noesc).glob('*.avro')\n",
        "for path in paths:\n",
        "    with open(path, 'rb') as fin:\n",
        "        alert_list = [r for r in fastavro.reader(fin)]\n",
        "    break\n",
        "alert_dict = alert_list[0]  # extract the single alert packet\n",
        "\n",
        "print(alert_dict.keys())"
      ],
      "execution_count": 96,
      "outputs": [
        {
          "output_type": "stream",
          "text": [
            "dict_keys(['schemavsn', 'publisher', 'objectId', 'candid', 'candidate', 'prv_candidates', 'cutoutScience', 'cutoutTemplate', 'cutoutDifference'])\n"
          ],
          "name": "stdout"
        }
      ]
    },
    {
      "cell_type": "markdown",
      "metadata": {
        "id": "n8ymT1kPPXWM"
      },
      "source": [
        "Plot cutouts"
      ]
    },
    {
      "cell_type": "code",
      "metadata": {
        "id": "MA-p8FaqOG90"
      },
      "source": [
        "pgb.figures.plot_cutouts(alert_dict)\n",
        "# this function was adapted from:\n",
        "# https://github.com/ZwickyTransientFacility/ztf-avro-alert/blob/master/notebooks/Filtering_alerts.ipynb"
      ],
      "execution_count": null,
      "outputs": []
    },
    {
      "cell_type": "markdown",
      "metadata": {
        "id": "_J8JpowcPbUu"
      },
      "source": [
        "Cast to a dataframe and plot lightcurves"
      ]
    },
    {
      "cell_type": "code",
      "metadata": {
        "id": "ULrUTnXNOG0V"
      },
      "source": [
        "dflc = pgb.utils.alert_dict_to_dataframe(alert_dict)\n",
        "pgb.figures.plot_lightcurve(dflc)\n",
        "# both functions were adapted from:\n",
        "# https://github.com/ZwickyTransientFacility/ztf-avro-alert/blob/master/notebooks/Filtering_alerts.ipynb\n"
      ],
      "execution_count": null,
      "outputs": []
    },
    {
      "cell_type": "markdown",
      "metadata": {
        "id": "4S8r4d6ePffd"
      },
      "source": [
        "Plot everything together"
      ]
    },
    {
      "cell_type": "code",
      "metadata": {
        "id": "6Ok0bfCcOkw4"
      },
      "source": [
        "pgb.figures.plot_lightcurve_cutouts(alert_dict)\n"
      ],
      "execution_count": null,
      "outputs": []
    },
    {
      "cell_type": "markdown",
      "metadata": {
        "id": "z-TsZDqwDC8O"
      },
      "source": [
        "## 3b) Command-line tool `gsutil`"
      ]
    },
    {
      "cell_type": "markdown",
      "metadata": {
        "id": "XovgM2uZDK1Q"
      },
      "source": [
        "- [Quickstart: Using the gsutil tool](https://cloud.google.com/storage/docs/quickstart-gsutil)\n",
        "- [`gsutil cp` - Copy files and objects](https://cloud.google.com/storage/docs/gsutil/commands/cp)"
      ]
    },
    {
      "cell_type": "code",
      "metadata": {
        "id": "Uak8D2ZTDKYe"
      },
      "source": [
        "# Get help\n",
        "# run('gsutil help')\n",
        "run('gsutil help cp')"
      ],
      "execution_count": null,
      "outputs": []
    },
    {
      "cell_type": "markdown",
      "metadata": {
        "id": "zgjYFVY7Sh9W"
      },
      "source": [
        "Download a single file"
      ]
    },
    {
      "cell_type": "code",
      "metadata": {
        "colab": {
          "base_uri": "https://localhost:8080/"
        },
        "id": "6wez3NlaP0bg",
        "outputId": "4a455d47-0274-4726-99be-4a1e2ea68658"
      },
      "source": [
        "run(f'gsutil cp gs://ardent-cycling-243415_ztf_alert_avro_bucket/ztf_20210401_programid1_1617259046498.avro {colabpath}/.')"
      ],
      "execution_count": 101,
      "outputs": [
        {
          "output_type": "stream",
          "text": [
            ">> gsutil cp gs://ardent-cycling-243415_ztf_alert_avro_bucket/ztf_20210401_programid1_1617259046498.avro /content/drive/MyDrive/Colab\\ Notebooks/PGB/.\n",
            "Copying gs://ardent-cycling-243415_ztf_alert_avro_bucket/ztf_20210401_programid1_1617259046498.avro...\n",
            "/ [1 files][ 67.9 KiB/ 67.9 KiB]                                                \n",
            "Operation completed over 1 objects/67.9 KiB.                                     \n",
            "\n"
          ],
          "name": "stdout"
        }
      ]
    },
    {
      "cell_type": "markdown",
      "metadata": {
        "id": "Vj3IHjtuXGCa"
      },
      "source": [
        "---"
      ]
    },
    {
      "cell_type": "markdown",
      "metadata": {
        "id": "rm4lULOsVz3I"
      },
      "source": [
        "# 4) Message streams & Pub/Sub"
      ]
    },
    {
      "cell_type": "markdown",
      "metadata": {
        "id": "bxdGsenapMZR"
      },
      "source": [
        "__This section is not ready for review.__ \n",
        "\n",
        "- Python\n",
        "  - unpack into dict\n",
        "\n",
        "  Links to more information:\n",
        "  - [Quickstart using the gcloud command-line tool](https://cloud.google.com/pubsub/docs/quickstart-cli)"
      ]
    },
    {
      "cell_type": "markdown",
      "metadata": {
        "id": "hEXE5Ek8vkkX"
      },
      "source": [
        "---"
      ]
    },
    {
      "cell_type": "markdown",
      "metadata": {
        "id": "VbkGy7YPV8IH"
      },
      "source": [
        "# 5) Extra: Apache Beam data pipelines with BigQuery and Pub/Sub"
      ]
    },
    {
      "cell_type": "markdown",
      "metadata": {
        "id": "TEMBJBYKsiVW"
      },
      "source": [
        "[Apache Beam](https://beam.apache.org/) is an SDK that facilitates writing and executing data pipelines.\n",
        "The same pipeline can be attached to different sources (e.g., BigQuery and Pub/Sub) and run in batch or streaming mode.\n",
        "In this tutorial, we will demonstrate these pipelines and the\n",
        "`pgb_utils` tools that facilitate Beam access to our databases and streams.\n",
        "\n",
        "Links to more information:\n",
        "- [Apache Beam Programming Guide](https://beam.apache.org/documentation/programming-guide/) (very useful!)\n",
        "- [Colab Snippets: Apache Beam](https://colab.research.google.com/github/apache/beam/blob/master/examples/notebooks/get-started/try-apache-beam-py.ipynb)\n",
        "\n",
        "Note: We will execute pipelines directly in the notebook, but the same pipelines can be executed on a local machine or various distributed systems using different \"runners\". \n",
        "For example, see \n",
        "[Apache Flink](https://beam.apache.org/documentation/runners/flink/), \n",
        "[Apache Spark](https://beam.apache.org/documentation/runners/spark/), \n",
        "[Google Dataflow](https://beam.apache.org/documentation/runners/dataflow/), and\n",
        "[DirectRunner](https://beam.apache.org/documentation/runners/direct/) (the last being the default, which we use below).\n",
        "The user sets a few configurations and the runner manages the pipeline execution and the resources (e.g., VM's) and environments needed to run it."
      ]
    },
    {
      "cell_type": "markdown",
      "metadata": {
        "id": "uji-PPVDugcY"
      },
      "source": [
        "---"
      ]
    },
    {
      "cell_type": "markdown",
      "metadata": {
        "id": "0lM2UnLgY5bn"
      },
      "source": [
        "## 5a) A demo example"
      ]
    },
    {
      "cell_type": "markdown",
      "metadata": {
        "id": "tBZ623M1alsy"
      },
      "source": [
        "To demonstrate the basic steps of an Apache Beam pipeline, we'll create one that counts the words in Shakespear's King Lear.\n",
        "Adapted from [this notebook](https://colab.research.google.com/github/apache/beam/blob/master/examples/notebooks/get-started/try-apache-beam-py.ipynb)."
      ]
    },
    {
      "cell_type": "code",
      "metadata": {
        "id": "ybDIwJNlecm5"
      },
      "source": [
        "import re"
      ],
      "execution_count": 111,
      "outputs": []
    },
    {
      "cell_type": "markdown",
      "metadata": {
        "id": "2F3T60obsnxH"
      },
      "source": [
        "Setup: create some paths and download a copy of King Lear"
      ]
    },
    {
      "cell_type": "code",
      "metadata": {
        "colab": {
          "base_uri": "https://localhost:8080/"
        },
        "id": "1tko8YgmY3sz",
        "outputId": "169f72b6-e7bd-4315-acf0-968199a0ad32"
      },
      "source": [
        "dkinglear = f'{colabpath}/kinglear'\n",
        "dkinglear_noesc = f'{colabpath_noesc}/kinglear'\n",
        "run(f'mkdir -p {dkinglear}')\n",
        "run(f'mkdir -p {dkinglear}/outputs')\n",
        "\n",
        "# download the text file\n",
        "run(f'gsutil cp gs://dataflow-samples/shakespeare/kinglear.txt {dkinglear}/')"
      ],
      "execution_count": 126,
      "outputs": [
        {
          "output_type": "stream",
          "text": [
            ">> mkdir -p /content/drive/MyDrive/Colab\\ Notebooks/PGB/kinglear\n",
            "\n",
            ">> mkdir -p /content/drive/MyDrive/Colab\\ Notebooks/PGB/kinglear/outputs\n",
            "\n",
            ">> gsutil cp gs://dataflow-samples/shakespeare/kinglear.txt /content/drive/MyDrive/Colab\\ Notebooks/PGB/kinglear/\n",
            "Copying gs://dataflow-samples/shakespeare/kinglear.txt...\n",
            "/ [1 files][153.6 KiB/153.6 KiB]                                                \n",
            "Operation completed over 1 objects/153.6 KiB.                                    \n",
            "\n"
          ],
          "name": "stdout"
        }
      ]
    },
    {
      "cell_type": "markdown",
      "metadata": {
        "id": "9zG1HEC5gfF-"
      },
      "source": [
        "Define and run the pipeline. \n",
        "\n",
        "Note 1: This example demonstrates the use of several different Apache Beam functions (e.g., `beam.Map()`, `beam.Filter()`) to apply user-defined functions in various ways. \n",
        "This will give you an idea about what it possible. \n",
        "However, don't worry about the details of this example.\n",
        "Below we will demonstrate the 2 most useful `beam` transforms for applying user-defined functions to our data sources, and provide templates for using them. \n",
        "In addition, we provide convenience functions in `pgb_utils.beam` and templates for reading from our data sources.\n",
        "\n",
        "Note 2: Some [operators are overloaded](https://stackoverflow.com/questions/43796046/explain-apache-beam-python-syntax):\n",
        "- `|` means `apply`\n",
        "- `>>` allows you to name the step with the preceeding string. It is optional. We use it here to improve readability. Various UIs like Dataflow use it in their displays."
      ]
    },
    {
      "cell_type": "code",
      "metadata": {
        "colab": {
          "base_uri": "https://localhost:8080/"
        },
        "id": "Qe9FYDkjbMEX",
        "outputId": "99d8f132-c0a1-4cba-8fab-9874a5afe10c"
      },
      "source": [
        "input_pattern = f'{dkinglear_noesc}/*'\n",
        "outputs_prefix = f'{dkinglear_noesc}/outputs/part'\n",
        "\n",
        "# 1. Instantiate a pipeline object\n",
        "with beam.Pipeline() as pipeline:\n",
        "  (\n",
        "    # 2. Start the pipeline by piping it a \"read\" function\n",
        "      pipeline\n",
        "      | 'Read lines' >> beam.io.ReadFromText(input_pattern)\n",
        "\n",
        "    # 3. OPERATE ON THE INPUT DATA.\n",
        "    #    These `lambda` functions are simple examples of USER-DEFINED FUNCTIONS\n",
        "    #    applied to the output of the previous transformation in various ways.\n",
        "      | 'Find words' >> beam.FlatMap(lambda line: re.findall(r\"[a-zA-Z']+\", line))\n",
        "      | 'Pair words with 1' >> beam.Map(lambda word: (word, 1))\n",
        "      | 'Group and sum' >> beam.CombinePerKey(sum)\n",
        "      | 'Filter for counts < 10' >> beam.Filter(lambda x: x[1]<10)\n",
        "\n",
        "    # 4. Format and output the results\n",
        "      | 'Format results' >> beam.Map(lambda word_count: str(word_count))\n",
        "      | 'Write results' >> beam.io.WriteToText(outputs_prefix)\n",
        "  )"
      ],
      "execution_count": 137,
      "outputs": [
        {
          "output_type": "stream",
          "text": [
            "WARNING:apache_beam.io.filebasedsink:Deleting 1 existing files in target path matching: -*-of-%(num_shards)05d\n"
          ],
          "name": "stderr"
        }
      ]
    },
    {
      "cell_type": "markdown",
      "metadata": {
        "id": "WPxTK0lziZCU"
      },
      "source": [
        "Look at the first 20 results. (Beware, there are no ordering guarantees.)"
      ]
    },
    {
      "cell_type": "code",
      "metadata": {
        "colab": {
          "base_uri": "https://localhost:8080/"
        },
        "id": "VfgwkuFSiM5i",
        "outputId": "6c9093cd-bcf2-49f3-ce68-d1f38ca2d747"
      },
      "source": [
        "outputs_prefix_esc = f'{dkinglear}/outputs/part'\n",
        "run('head -n 20 {}-00000-of-*'.format(outputs_prefix_esc))"
      ],
      "execution_count": 139,
      "outputs": [
        {
          "output_type": "stream",
          "text": [
            ">> head -n 20 /content/drive/MyDrive/Colab\\ Notebooks/PGB/kinglear/outputs/part-00000-of-*\n",
            "('DRAMATIS', 1)\n",
            "('PERSONAE', 1)\n",
            "('Britain', 2)\n",
            "('DUKE', 3)\n",
            "('BURGUNDY', 8)\n",
            "('EARL', 2)\n",
            "('bastard', 7)\n",
            "('CURAN', 6)\n",
            "('courtier', 1)\n",
            "('tenant', 3)\n",
            "('steward', 2)\n",
            "('employed', 1)\n",
            "('attendant', 1)\n",
            "('Herald', 6)\n",
            "('Servants', 9)\n",
            "('First', 7)\n",
            "('Second', 4)\n",
            "('Third', 4)\n",
            "('Knights', 2)\n",
            "(\"Lear's\", 4)\n",
            "\n"
          ],
          "name": "stdout"
        }
      ]
    },
    {
      "cell_type": "markdown",
      "metadata": {
        "id": "1eQh7wbUjCdP"
      },
      "source": [
        "Final note: Here we have simply chained the pipeline steps together, but the output of each transformation is an immutable collection that we can assign to a variable and pipe in to multiple transforms, as in this code fragment:\n",
        "\n",
        "```python\n",
        "      king_lear = (\n",
        "          pipeline | 'Read lines' >> \n",
        "          beam.io.ReadFromText(input_pattern)\n",
        "      )\n",
        "      word_counts = (\n",
        "          king_lear | 'Count words' >>\n",
        "          <... count words ...>\n",
        "      )\n",
        "      sentence_counts = (\n",
        "          king_lear | 'Count sentences' >>\n",
        "          <... count sentences ...>\n",
        "      )\n",
        "```"
      ]
    },
    {
      "cell_type": "markdown",
      "metadata": {
        "id": "O3yXrkBVlNKn"
      },
      "source": [
        "## 5b) Query lightcurves and run a pipeline on the results"
      ]
    },
    {
      "cell_type": "markdown",
      "metadata": {
        "id": "XOKtrDOjrLlz"
      },
      "source": [
        "\n",
        "\n",
        "First we will define the functions we wish to use to process the lightcurves. \n",
        "We will demonstrate two kinds of transformations that should cover most use cases:\n",
        "- filters\n",
        "- generic processing\n",
        "\n",
        "We will filter for likely solar system objects and then calculate their mean magnitudes."
      ]
    },
    {
      "cell_type": "code",
      "metadata": {
        "id": "FNnbCyEVqiZq"
      },
      "source": [
        "# Define some functions/classes to process our data.\n",
        "# The structure of these will be discussed later.\n",
        "\n",
        "# Filter for likely solar system objects\n",
        "def nearby_ssobject(lcdf):\n",
        "    \"\"\"Filter that keeps only objects that are within 5\" of a known \n",
        "    solar system object. \n",
        "    \"\"\"\n",
        "    ssdistnr = lcdf['ssdistnr'].mean()\n",
        "    ssobject_is_near = (ssdistnr > 0) and (ssdistnr < 5)\n",
        "    return ssobject_is_near\n",
        "\n",
        "\n",
        "# Calculate the mean magnitude, per passband\n",
        "class calc_mean_mags(beam.DoFn):\n",
        "    \"\"\"Class that wraps our processing function which calculates \n",
        "    mean magnitudes per passband (\"fid\" is filter ID).\n",
        "    \"\"\"\n",
        "    def process(self, lcdf):\n",
        "        meanmags = lcdf[['fid','magpsf']].groupby('fid').mean()\n",
        "\n",
        "        # We will write this to a file, so let's format it appropriately.\n",
        "        # One line per item in the list will be written.\n",
        "        output = [f\"{lcdf.objectId},{fid},{row['magpsf']}\" for fid, row in meanmags.iterrows()]\n",
        "\n",
        "        return output"
      ],
      "execution_count": 142,
      "outputs": []
    },
    {
      "cell_type": "code",
      "metadata": {
        "id": "Hng_ZsO4VDk3"
      },
      "source": [
        "# Set pipeline configs\n",
        "\n",
        "# Create a SQL query statement to retrieve some lightcurve info.\n",
        "# This query defines the data that will be input to the pipeline.\n",
        "columns = ['jd', 'fid', 'magpsf', 'sigmapsf', 'ssdistnr']\n",
        "limit = 2000\n",
        "query = pgb.bigquery.object_history_sql_statement(columns, limit=limit)  # str\n",
        "\n",
        "# some keyword args for our pipeline's \"read\" (input) function\n",
        "read_args = {\n",
        "    'query': query, \n",
        "    'project': pgb_project_id,  \n",
        "    'use_standard_sql': True, \n",
        "    'gcs_location': 'gs://ardent-cycling-243415_dataflow-test',\n",
        "        # used as temporary storage for the query results\n",
        "    # 'validate': True\n",
        "}\n",
        "\n",
        "# path to write the results\n",
        "outputs_prefix = f'{colabpath}/outputs/meanmags'\n",
        "beam_outputs_prefix = f'{colabpath_noesc}/outputs/meanmags'"
      ],
      "execution_count": 143,
      "outputs": []
    },
    {
      "cell_type": "code",
      "metadata": {
        "id": "fjV7ayLbH7fL",
        "colab": {
          "base_uri": "https://localhost:8080/"
        },
        "outputId": "324313cd-80c0-4a4f-abb6-66029ea95981"
      },
      "source": [
        "# Run a batch pipeline based on our query statement\n",
        "\n",
        "with beam.Pipeline() as pipeline:\n",
        "    (\n",
        "        pipeline\n",
        "        # read lightcurves into the pipeline\n",
        "        | 'Read BigQuery' >> beam.io.ReadFromBigQuery(**read_args)\n",
        "        # extract the lightcurves into a DataFrame\n",
        "        | 'Extract Lightcurve df' >> beam.ParDo(pgb.beam.ExtractHistoryDf())\n",
        "        # filter, keep alerts likely to be a solar system object\n",
        "        | 'nearby ssobject' >> beam.Filter(nearby_ssobject)\n",
        "        # do some processing, calculate mean magnitudes per band\n",
        "        | 'calc mean mags' >> beam.ParDo(calc_mean_mags())\n",
        "        # save the results to a text file\n",
        "        | 'Write results' >> beam.io.WriteToText(beam_outputs_prefix)\n",
        "    )"
      ],
      "execution_count": 144,
      "outputs": [
        {
          "output_type": "stream",
          "text": [
            "/usr/local/lib/python3.7/dist-packages/apache_beam/io/gcp/bigquery.py:1881: BeamDeprecationWarning: options is deprecated since First stable release. References to <pipeline>.options will not be supported\n",
            "  temp_location = pcoll.pipeline.options.view_as(\n",
            "WARNING:apache_beam.io.gcp.bigquery_tools:Dataset ardent-cycling-243415:temp_dataset_aa7322a1c25648d7ae76edf295c5a648 does not exist so we will create it as temporary with location=US\n",
            "WARNING:apache_beam.io.filebasedsink:Deleting 1 existing files in target path matching: -*-of-%(num_shards)05d\n"
          ],
          "name": "stderr"
        }
      ]
    },
    {
      "cell_type": "code",
      "metadata": {
        "id": "wvqRrrFc1PXL",
        "colab": {
          "base_uri": "https://localhost:8080/"
        },
        "outputId": "0340d1c0-753a-45cb-e448-f1a1bbb962e4"
      },
      "source": [
        "# Sample the first 20 results, remember there are no ordering guarantees.\n",
        "run('head -n 20 {}-00000-of-*'.format(outputs_prefix))"
      ],
      "execution_count": 145,
      "outputs": [
        {
          "output_type": "stream",
          "text": [
            ">> head -n 20 /content/drive/MyDrive/Colab\\ Notebooks/PGB/outputs/meanmags-00000-of-*\n",
            "ZTF20acpkjly,1,18.692398071289062\n",
            "ZTF20acpnkoy,1,20.167924880981445\n",
            "ZTF20acpkjvo,1,19.18564796447754\n",
            "ZTF20acpmoku,1,19.961729049682617\n",
            "ZTF20acpixfc,1,19.34815788269043\n",
            "ZTF20acpnkqk,1,20.365970611572266\n",
            "ZTF20acpkjnx,1,19.840303421020508\n",
            "ZTF20acpkvml,2,19.726783752441406\n",
            "ZTF20acpkros,2,19.76658821105957\n",
            "ZTF20acphrrt,2,20.318077087402344\n",
            "ZTF20acplinw,2,19.12528419494629\n",
            "ZTF20acplwue,2,19.851957321166992\n",
            "ZTF20acpkrmm,2,19.59676170349121\n",
            "ZTF20acpkwla,2,20.25066375732422\n",
            "ZTF20acpkzlv,2,20.338178634643555\n",
            "ZTF20acplbli,2,19.559131622314453\n",
            "\n"
          ],
          "name": "stdout"
        }
      ]
    },
    {
      "cell_type": "code",
      "metadata": {
        "id": "ONNdbUO3D38G"
      },
      "source": [
        "# Functions and classes for the user to experiment with.\n",
        "\n",
        "#--- Filters\n",
        "# https://beam.apache.org/documentation/transforms/python/elementwise/filter/\n",
        "def my_lightcurve_filter(lcdf):\n",
        "    \"\"\"\n",
        "    Args:\n",
        "        lcdf (pd.DataFrame): a single object's lightcurve data\n",
        "    Returns:\n",
        "        keep_lightcurve (bool): True to keep lcdf in the pipeline, \n",
        "                                False to filter it out\n",
        "    \"\"\"\n",
        "    # Define your keep_lightcurve bool here\n",
        "    # for example, we can simply keep everything with an average magpsf > 19\n",
        "    avg_mag = lcdf['magpsf'].mean()\n",
        "    keep_lightcurve = avg_mag > 19\n",
        "\n",
        "    return keep_lightcurve\n",
        "\n",
        "#--- Functions for processing data\n",
        "# [provide a link]\n",
        "class my_alert_function(beam.DoFn):\n",
        "    def process(self, alertDict):\n",
        "\n",
        "        # Do your processing here\n",
        "        # for example, we can simply extract the object and candidate ids\n",
        "        oid, cid = alertDict['objectId'], alertDict['candid']\n",
        "        ids = {'objectId': oid, 'candid': cid}\n",
        "\n",
        "        # Return your output as a list; each element in the list must be\n",
        "        # of the same type, and will be processed individually by the next \n",
        "        # stage in the pipeline.\n",
        "        return [ids]"
      ],
      "execution_count": null,
      "outputs": []
    },
    {
      "cell_type": "markdown",
      "metadata": {
        "id": "MIm-yRycqaS3"
      },
      "source": [
        "---\n",
        "__The rest of this section is not ready for review.__"
      ]
    },
    {
      "cell_type": "code",
      "metadata": {
        "id": "SATP2bLkFO43"
      },
      "source": [
        "# give them a pipeline that runs the functions in the previous cell"
      ],
      "execution_count": null,
      "outputs": []
    },
    {
      "cell_type": "markdown",
      "metadata": {
        "id": "rx5d5zYYwl0Q"
      },
      "source": [
        "Alert Pipelines"
      ]
    },
    {
      "cell_type": "code",
      "metadata": {
        "id": "Pd35b64Ge_BC"
      },
      "source": [
        "# Alert pipelines\n",
        "\n",
        "# example filter for likely solar system objects\n",
        "\n",
        "def nearby_ssobject(alert):\n",
        "    candidate = alert['candidate']\n",
        "    ssobject_is_near = (candidate['ssdistnr'] > 0) and (candidate['ssdistnr'] < 5)\n",
        "    return ssobject_is_near\n",
        "\n",
        "# Functions and classes for the user to experiment with.\n",
        "\n",
        "#--- Filters\n",
        "# https://beam.apache.org/documentation/transforms/python/elementwise/filter/\n",
        "\n",
        "# write your own filter\n",
        "def my_alert_filter(alert):\n",
        "    \"\"\"\n",
        "    Args:\n",
        "        alert (dict): a single alert\n",
        "    Returns:\n",
        "        keep_alert (bool): True to keep the alert, False to filter it out\n",
        "    \"\"\"\n",
        "\n",
        "class my_alert_function(beam.DoFn):\n",
        "    def process(self, alertDict):\n",
        "\n",
        "        # Process the alert however you want\n",
        "        # here we simply extract the object and candidate ids\n",
        "        oid, cid = alertDict['objectId'], alertDict['candid']\n",
        "        ids = {'objectId': oid, 'candid': cid}\n",
        "\n",
        "        # Return your output in a list\n",
        "        return [ids]\n"
      ],
      "execution_count": null,
      "outputs": []
    },
    {
      "cell_type": "code",
      "metadata": {
        "id": "n70K2POFNXdj"
      },
      "source": [
        "from apache_beam.options.pipeline_options import PipelineOptions\n",
        "\n",
        "pipeline_options = PipelineOptions(streaming=True)"
      ],
      "execution_count": null,
      "outputs": []
    },
    {
      "cell_type": "code",
      "metadata": {
        "id": "Klc4oXN3Wj2w"
      },
      "source": [
        "topic = f'projects/{pgb_project_id}/topics/ztf_alert_data'\n",
        "\n",
        "with beam.Pipeline(options=pipeline_options) as pipeline:\n",
        "    (\n",
        "        pipeline\n",
        "        # read Pub/Sub messages (bytes) into the pipeline\n",
        "        | 'ReadFromPubSub' >> beam.io.ReadFromPubSub(topic=topic)\n",
        "        # extract the alert bytes into a dict\n",
        "        | 'ExtractAlertDict' >> beam.ParDo(pgb.beam.ExtractAlertDict())\n",
        "        # filter, keep alerts likely to be a solar system object\n",
        "        | 'nearby_ssobject' >> beam.Filter(nearby_ssobject)\n",
        "        # do some processing\n",
        "        | 'my_function' >> beam.ParDo(my_alert_function())\n",
        "    )"
      ],
      "execution_count": null,
      "outputs": []
    },
    {
      "cell_type": "code",
      "metadata": {
        "id": "WmS2_DjrF40D"
      },
      "source": [
        "# Run a Streaming Beam pipeline\n",
        "\n",
        "topic = 'ztf_alert_data-tjr'\n",
        "\n",
        "with beam.Pipeline(options=pipeline_options) as pipeline:\n",
        "    (\n",
        "        pipeline\n",
        "        # read Pub/Sub messages (bytes) into the pipeline\n",
        "        | 'ReadFromPubSub' >> beam.io.ReadFromPubSub(topic=topic)\n",
        "        # extract the alert bytes into a dict\n",
        "        | 'ExtractAlertDict' >> beam.ParDo(extractAlertDict()))\n",
        "        # filter, keep alerts likely to be a solar system object\n",
        "        | 'nearby_ssobject' >> beam.Filter(nearby_ssobject)\n",
        "        # do some processing\n",
        "        | 'my_function' >> beam.ParDo(my_function())\n",
        "    )"
      ],
      "execution_count": null,
      "outputs": []
    },
    {
      "cell_type": "code",
      "metadata": {
        "id": "tlRxC6jHH718"
      },
      "source": [
        ""
      ],
      "execution_count": null,
      "outputs": []
    },
    {
      "cell_type": "code",
      "metadata": {
        "id": "iKb0EvIxH7uR"
      },
      "source": [
        ""
      ],
      "execution_count": null,
      "outputs": []
    },
    {
      "cell_type": "code",
      "metadata": {
        "id": "XHdumMvsPF5a"
      },
      "source": [
        "# Sample the first 20 results, remember there are no ordering guarantees.\n",
        "run('head -n 20 {}-00000-of-*'.format(outputs_prefix))"
      ],
      "execution_count": null,
      "outputs": []
    },
    {
      "cell_type": "markdown",
      "metadata": {
        "id": "YP2HVoo9wVqz"
      },
      "source": [
        "---"
      ]
    },
    {
      "cell_type": "code",
      "metadata": {
        "id": "vVz_RyMSwUzK"
      },
      "source": [
        "#--- Minimal word count (example)\n",
        "import re\n",
        "\n",
        "# download some King Lear data\n",
        "run(f'mkdir -p {colabpath}/data')\n",
        "run(f'gsutil cp gs://dataflow-samples/shakespeare/kinglear.txt {colabpath}/data/')\n",
        "\n",
        "# configs\n",
        "inputs_pattern = f'{colabpath}/data/*'\n",
        "outputs_prefix = f'{colabpath}/outputs/fromcolab3'\n",
        "\n",
        "# Running locally in the DirectRunner.\n",
        "with beam.Pipeline() as pipeline:\n",
        "  (\n",
        "      pipeline\n",
        "      | 'Read lines' >> beam.io.ReadFromText(inputs_pattern)\n",
        "      | 'Find words' >> beam.FlatMap(lambda line: re.findall(r\"[a-zA-Z']+\", line))\n",
        "      | 'Pair words with 1' >> beam.Map(lambda word: (word, 1))\n",
        "      | 'Group and sum' >> beam.CombinePerKey(sum)\n",
        "      | 'Format results' >> beam.Map(lambda word_count: str(word_count))\n",
        "      | 'Write results' >> beam.io.WriteToText(outputs_prefix)\n",
        "  )\n",
        "\n",
        "# Sample the first 20 results, remember there are no ordering guarantees.\n",
        "run('head -n 20 {}-00000-of-*'.format(outputs_prefix))"
      ],
      "execution_count": null,
      "outputs": []
    }
  ]
}