{
  "nbformat": 4,
  "nbformat_minor": 0,
  "metadata": {
    "colab": {
      "name": "PGB-Tutorial.ipynb",
      "provenance": [],
      "collapsed_sections": [],
      "toc_visible": true,
      "include_colab_link": true
    },
    "kernelspec": {
      "name": "python3",
      "display_name": "Python 3"
    }
  },
  "cells": [
    {
      "cell_type": "markdown",
      "metadata": {
        "id": "view-in-github",
        "colab_type": "text"
      },
      "source": [
        "<a href=\"https://colab.research.google.com/github/mwvgroup/Pitt-Google-Broker/blob/u%2Ftjr%2Ftutorials/pgb_utils/tutorials/PGB_Tutorial.ipynb\" target=\"_parent\"><img src=\"https://colab.research.google.com/assets/colab-badge.svg\" alt=\"Open In Colab\"/></a>"
      ]
    },
    {
      "cell_type": "markdown",
      "metadata": {
        "id": "J64Q6pkvYShu"
      },
      "source": [
        "# Pitt-Google Broker\n",
        "---"
      ]
    },
    {
      "cell_type": "markdown",
      "metadata": {
        "id": "WZSn7nx19UVP"
      },
      "source": [
        "# Notebook Outline\n",
        "\n",
        "1. Use Cases (how to navigate this tutorial)\n",
        "2. Overview: Data storage and access\n",
        "3. Setup (do this before subsequent sections)\n",
        "4. Access: Databases (alerts, object histories and lightcurves, cone search)\n",
        "    \n",
        "\n",
        "\n",
        "\n",
        "`pgb_utils` is a collection of helper functions for accessing, reading, and processing "
      ]
    },
    {
      "cell_type": "markdown",
      "metadata": {
        "id": "85-zdC8xVBci"
      },
      "source": [
        "# 1) Use cases"
      ]
    },
    {
      "cell_type": "markdown",
      "metadata": {
        "id": "4VqAPu3d9zJ5"
      },
      "source": [
        "| Use Case or Task | Section |\n",
        "|---|---|\n",
        "|1. found an object(s) and you want to get it's history | query db, section 3 |\n",
        "|2. ~found an object, want to know it's future~ we're not ready |~pubsub~ either a watchlist or model predictions (which Alerce is now doing).|\n",
        "\n",
        "3. You have found a small group of objects you want to study\n",
        "    - [sec \n",
        "    - you come up with a model and want to look for other objects that are similar: sec 7, use a Beam pipeline to query the db and analyze the results.\n",
        "    - you refine your model and want to monitor the alert stream for new objects displying similar behavior: sec 7 the Pub/Sub streams \n",
        "- don't know the object your looking for. want to do exploration/discover. do the query, then convert to pubsub streams.\n",
        "    - found 10 91-bg's, found particular type of rise behavior. query db, which \n",
        "- michael, statistics on all data.\n",
        "\n",
        "1. past\n",
        "2. future\n",
        "- convert past to future\n",
        "\n",
        "\n",
        "\n"
      ]
    },
    {
      "cell_type": "code",
      "metadata": {
        "id": "_p2K5YMe9DJh"
      },
      "source": [
        ""
      ],
      "execution_count": null,
      "outputs": []
    },
    {
      "cell_type": "markdown",
      "metadata": {
        "id": "whSWzS5yVTfR"
      },
      "source": [
        "# 2) Overview: Data storage and access"
      ]
    },
    {
      "cell_type": "markdown",
      "metadata": {
        "id": "Dnq45aCYshxk"
      },
      "source": [
        "- Databases are stored in [BigQuery](https://cloud.google.com/bigquery) and can be queried via the command-line, Python and other languages.\n",
        "- Alert Avro files are stored in [Cloud Storage](https://cloud.google.com/storage) and can be accessed via the command-line, Python and other languages.\n",
        "- Live alert streams are delivered via [Pub/Sub](https://cloud.google.com/pubsub/docs/overview) and can be accessed via Python.\n",
        "\n",
        "Specifics (e.g., schemas) are detailed in the relevant sections.\n",
        "\n",
        "Google provides command-line tools and APIs  in [Python](https://cloud.google.com/python/references/libraries), etc., which you can use to access our data and services.\n",
        "\n",
        "In addition, we have written a package of Python utilities, `pgb_utils`, which are a collection wrappers for Google's Python API tools and helper functions that give you some options for reading and process the data.\n",
        " \n",
        "Links to more information:\n",
        "- Working with ZTF alerts: [Filtering_alerts.ipynb](https://github.com/ZwickyTransientFacility/ztf-avro-alert/blob/master/notebooks/Filtering_alerts.ipynb)"
      ]
    },
    {
      "cell_type": "markdown",
      "metadata": {
        "id": "6NMjb0oOtxG7"
      },
      "source": [
        "---"
      ]
    },
    {
      "cell_type": "markdown",
      "metadata": {
        "id": "o26tYlYCVfKx"
      },
      "source": [
        "# 3) Setup"
      ]
    },
    {
      "cell_type": "markdown",
      "metadata": {
        "id": "D_FJ8LH4omNX"
      },
      "source": [
        "Our data is public, but you need to setup a [Google Cloud Platform](https://cloud.google.com/gcp) (GCP) project so that you can make API calls to Cloud resources.\n",
        "\n",
        "- Use the [Cloud Resource Manager](https://console.cloud.google.com/cloud-resource-manager) to create a GCP project called \"My PGB Project\" (or whatever you'd like).\n",
        "    - A \"Project ID\" will be generated for you. Copy it and assign it to the variable `my_project_id` in the cell below.\n",
        "- [Enable billing](https://support.google.com/cloud/answer/6293499#enable-billing) for your project.\n",
        "    - .\n",
        "- Enable APIs for your project:\n",
        "    - [BigQuery](https://console.cloud.google.com/flows/enableapi?apiid=bigquery)\n",
        "\n",
        "Note: This notebook is intended to run in Google Colab which: \n",
        "1. provides an environment pre-configured with most of the libraries we need, and\n",
        "2. facilitates authentication, avoiding the need to download and configure credentials.\n",
        "\n",
        "(I should provide users with a little more info about how to connect outside of this notebook.)"
      ]
    },
    {
      "cell_type": "code",
      "metadata": {
        "id": "qXFXbjlVYFvZ"
      },
      "source": [
        "from google.colab import auth"
      ],
      "execution_count": 1,
      "outputs": []
    },
    {
      "cell_type": "code",
      "metadata": {
        "id": "hm8S4HbIQlK1"
      },
      "source": [
        "# Colab Setup\n",
        "auth.authenticate_user()\n",
        "# follow the instructions to authorize Google Cloud SDK \n",
        "\n",
        "#--- Local machine setup\n",
        "# [to do]"
      ],
      "execution_count": 2,
      "outputs": []
    },
    {
      "cell_type": "code",
      "metadata": {
        "id": "ubkZqvJuuMrR"
      },
      "source": [
        "my_project_id = 'ardent-cycling-243415'\n",
        "# my_project_id = 'my-pgb-project'  # ENTER YOUR GCP PROJECT ID HERE\n",
        "pgb_project_id = 'ardent-cycling-243415'"
      ],
      "execution_count": 3,
      "outputs": []
    },
    {
      "cell_type": "code",
      "metadata": {
        "id": "DKcureCHfJRu"
      },
      "source": [
        "# Create a function to run and print a shell command.\n",
        "def run(cmd: str):\n",
        "  print('>> {}'.format(cmd))\n",
        "  !{cmd}\n",
        "  print('')"
      ],
      "execution_count": 4,
      "outputs": []
    },
    {
      "cell_type": "code",
      "metadata": {
        "id": "Z2RAwDK1Pz-n",
        "colab": {
          "base_uri": "https://localhost:8080/"
        },
        "outputId": "b95d90e8-2068-4301-b4e1-4608a62f60af"
      },
      "source": [
        "# Install apache-beam.\n",
        "# run('pip install --quiet apache-beam')\n",
        "# run('pip install --quiet google-apitools')\n",
        "# run('pip install --quiet APLpy')\n",
        "run('pip install google-cloud-pubsub')\n",
        "# This may complain that you won't have quite the right distributions of \n",
        "# some requirements, but this should not cause problems.\n",
        "\n",
        "# Note: Outside of Colab you should use `pip install apache-beam[gcp]`\n",
        "# for the version that includes tools for Google Cloud resources."
      ],
      "execution_count": 12,
      "outputs": [
        {
          "output_type": "stream",
          "text": [
            ">> pip install google-cloud-pubsub\n",
            "Collecting google-cloud-pubsub\n",
            "\u001b[?25l  Downloading https://files.pythonhosted.org/packages/9c/f7/718fe6d183c65110034a422095003ef0133cb0761d48311595f2a5443568/google_cloud_pubsub-2.4.1-py2.py3-none-any.whl (212kB)\n",
            "\u001b[K     |████████████████████████████████| 215kB 4.3MB/s \n",
            "\u001b[?25hCollecting proto-plus>=1.7.1\n",
            "\u001b[?25l  Downloading https://files.pythonhosted.org/packages/b4/8a/61c5a9b9b6288f9b060b6e3d88374fc083953a29aeac7206616c2d3c9c8e/proto_plus-1.18.1-py3-none-any.whl (42kB)\n",
            "\u001b[K     |████████████████████████████████| 51kB 3.9MB/s \n",
            "\u001b[?25hCollecting grpc-google-iam-v1<0.13dev,>=0.12.3\n",
            "  Downloading https://files.pythonhosted.org/packages/65/19/2060c8faa325fddc09aa67af98ffcb6813f39a0ad805679fa64815362b3a/grpc-google-iam-v1-0.12.3.tar.gz\n",
            "Requirement already satisfied: google-api-core[grpc]<2.0.0dev,>=1.22.2 in /usr/local/lib/python3.7/dist-packages (from google-cloud-pubsub) (1.26.2)\n",
            "Collecting libcst>=0.3.10\n",
            "\u001b[?25l  Downloading https://files.pythonhosted.org/packages/c3/7f/4aa1419b0ecb8a31a79fef7a79b49e6a07b977baa6c94612aeeda0228d17/libcst-0.3.18-py3-none-any.whl (512kB)\n",
            "\u001b[K     |████████████████████████████████| 522kB 18.3MB/s \n",
            "\u001b[?25hRequirement already satisfied: protobuf>=3.12.0 in /usr/local/lib/python3.7/dist-packages (from proto-plus>=1.7.1->google-cloud-pubsub) (3.12.4)\n",
            "Requirement already satisfied: grpcio<2.0.0dev,>=1.0.0 in /usr/local/lib/python3.7/dist-packages (from grpc-google-iam-v1<0.13dev,>=0.12.3->google-cloud-pubsub) (1.32.0)\n",
            "Requirement already satisfied: googleapis-common-protos[grpc]<2.0.0dev,>=1.5.2 in /usr/local/lib/python3.7/dist-packages (from grpc-google-iam-v1<0.13dev,>=0.12.3->google-cloud-pubsub) (1.53.0)\n",
            "Requirement already satisfied: requests<3.0.0dev,>=2.18.0 in /usr/local/lib/python3.7/dist-packages (from google-api-core[grpc]<2.0.0dev,>=1.22.2->google-cloud-pubsub) (2.25.1)\n",
            "Requirement already satisfied: packaging>=14.3 in /usr/local/lib/python3.7/dist-packages (from google-api-core[grpc]<2.0.0dev,>=1.22.2->google-cloud-pubsub) (20.9)\n",
            "Requirement already satisfied: six>=1.13.0 in /usr/local/lib/python3.7/dist-packages (from google-api-core[grpc]<2.0.0dev,>=1.22.2->google-cloud-pubsub) (1.15.0)\n",
            "Requirement already satisfied: pytz in /usr/local/lib/python3.7/dist-packages (from google-api-core[grpc]<2.0.0dev,>=1.22.2->google-cloud-pubsub) (2018.9)\n",
            "Requirement already satisfied: setuptools>=40.3.0 in /usr/local/lib/python3.7/dist-packages (from google-api-core[grpc]<2.0.0dev,>=1.22.2->google-cloud-pubsub) (54.2.0)\n",
            "Requirement already satisfied: google-auth<2.0dev,>=1.21.1 in /usr/local/lib/python3.7/dist-packages (from google-api-core[grpc]<2.0.0dev,>=1.22.2->google-cloud-pubsub) (1.28.0)\n",
            "Collecting typing-inspect>=0.4.0\n",
            "  Downloading https://files.pythonhosted.org/packages/42/1c/66402db44184904a2f14722d317a4da0b5c8c78acfc3faf74362566635c5/typing_inspect-0.6.0-py3-none-any.whl\n",
            "Collecting pyyaml>=5.2\n",
            "\u001b[?25l  Downloading https://files.pythonhosted.org/packages/7a/a5/393c087efdc78091afa2af9f1378762f9821c9c1d7a22c5753fb5ac5f97a/PyYAML-5.4.1-cp37-cp37m-manylinux1_x86_64.whl (636kB)\n",
            "\u001b[K     |████████████████████████████████| 645kB 16.3MB/s \n",
            "\u001b[?25hRequirement already satisfied: typing-extensions>=3.7.4.2 in /usr/local/lib/python3.7/dist-packages (from libcst>=0.3.10->google-cloud-pubsub) (3.7.4.3)\n",
            "Requirement already satisfied: urllib3<1.27,>=1.21.1 in /usr/local/lib/python3.7/dist-packages (from requests<3.0.0dev,>=2.18.0->google-api-core[grpc]<2.0.0dev,>=1.22.2->google-cloud-pubsub) (1.24.3)\n",
            "Requirement already satisfied: chardet<5,>=3.0.2 in /usr/local/lib/python3.7/dist-packages (from requests<3.0.0dev,>=2.18.0->google-api-core[grpc]<2.0.0dev,>=1.22.2->google-cloud-pubsub) (3.0.4)\n",
            "Requirement already satisfied: certifi>=2017.4.17 in /usr/local/lib/python3.7/dist-packages (from requests<3.0.0dev,>=2.18.0->google-api-core[grpc]<2.0.0dev,>=1.22.2->google-cloud-pubsub) (2020.12.5)\n",
            "Requirement already satisfied: idna<3,>=2.5 in /usr/local/lib/python3.7/dist-packages (from requests<3.0.0dev,>=2.18.0->google-api-core[grpc]<2.0.0dev,>=1.22.2->google-cloud-pubsub) (2.10)\n",
            "Requirement already satisfied: pyparsing>=2.0.2 in /usr/local/lib/python3.7/dist-packages (from packaging>=14.3->google-api-core[grpc]<2.0.0dev,>=1.22.2->google-cloud-pubsub) (2.4.7)\n",
            "Requirement already satisfied: pyasn1-modules>=0.2.1 in /usr/local/lib/python3.7/dist-packages (from google-auth<2.0dev,>=1.21.1->google-api-core[grpc]<2.0.0dev,>=1.22.2->google-cloud-pubsub) (0.2.8)\n",
            "Requirement already satisfied: rsa<5,>=3.1.4; python_version >= \"3.6\" in /usr/local/lib/python3.7/dist-packages (from google-auth<2.0dev,>=1.21.1->google-api-core[grpc]<2.0.0dev,>=1.22.2->google-cloud-pubsub) (4.7.2)\n",
            "Requirement already satisfied: cachetools<5.0,>=2.0.0 in /usr/local/lib/python3.7/dist-packages (from google-auth<2.0dev,>=1.21.1->google-api-core[grpc]<2.0.0dev,>=1.22.2->google-cloud-pubsub) (4.2.1)\n",
            "Collecting mypy-extensions>=0.3.0\n",
            "  Downloading https://files.pythonhosted.org/packages/5c/eb/975c7c080f3223a5cdaff09612f3a5221e4ba534f7039db34c35d95fa6a5/mypy_extensions-0.4.3-py2.py3-none-any.whl\n",
            "Requirement already satisfied: pyasn1<0.5.0,>=0.4.6 in /usr/local/lib/python3.7/dist-packages (from pyasn1-modules>=0.2.1->google-auth<2.0dev,>=1.21.1->google-api-core[grpc]<2.0.0dev,>=1.22.2->google-cloud-pubsub) (0.4.8)\n",
            "Building wheels for collected packages: grpc-google-iam-v1\n",
            "  Building wheel for grpc-google-iam-v1 (setup.py) ... \u001b[?25l\u001b[?25hdone\n",
            "  Created wheel for grpc-google-iam-v1: filename=grpc_google_iam_v1-0.12.3-cp37-none-any.whl size=18500 sha256=dbbe576b296bc12d3da25592af282cc0470717e515ae428a461f3fc85ef4fbf1\n",
            "  Stored in directory: /root/.cache/pip/wheels/de/3a/83/77a1e18e1a8757186df834b86ce6800120ac9c79cd8ca4091b\n",
            "Successfully built grpc-google-iam-v1\n",
            "\u001b[31mERROR: pgb-utils 0.0.6 requires typing, which is not installed.\u001b[0m\n",
            "Installing collected packages: proto-plus, grpc-google-iam-v1, mypy-extensions, typing-inspect, pyyaml, libcst, google-cloud-pubsub\n",
            "  Found existing installation: PyYAML 3.13\n",
            "    Uninstalling PyYAML-3.13:\n",
            "      Successfully uninstalled PyYAML-3.13\n",
            "Successfully installed google-cloud-pubsub-2.4.1 grpc-google-iam-v1-0.12.3 libcst-0.3.18 mypy-extensions-0.4.3 proto-plus-1.18.1 pyyaml-5.4.1 typing-inspect-0.6.0\n",
            "\n"
          ],
          "name": "stdout"
        }
      ]
    },
    {
      "cell_type": "code",
      "metadata": {
        "id": "pL1HlPaGe5W5",
        "colab": {
          "base_uri": "https://localhost:8080/"
        },
        "outputId": "22c9c260-a43b-46d5-e98d-ec3376124ee4"
      },
      "source": [
        "# Install the Pitt-Google Broker utilities package\n",
        "run('python3 -m pip install --index-url https://test.pypi.org/simple/ --no-deps pgb_utils')\n",
        "\n",
        "# This is currently on the test.pypi servers. I should publish to the actual\n",
        "# PyPI soon, but I'd like some code review first.\n",
        "\n",
        "# I have termporarily named this `pgb_utils`, but we should decide on something."
      ],
      "execution_count": 6,
      "outputs": [
        {
          "output_type": "stream",
          "text": [
            ">> python3 -m pip install --index-url https://test.pypi.org/simple/ --no-deps pgb_utils==0.0.9\n",
            "Looking in indexes: https://test.pypi.org/simple/\n",
            "Collecting pgb_utils==0.0.9\n",
            "  Downloading https://test-files.pythonhosted.org/packages/46/2b/1a04d49209d2974b80e4c98f1e0733f05b74b1136a0e2dfa3e0e70e14510/pgb_utils-0.0.9-py3-none-any.whl\n",
            "Installing collected packages: pgb-utils\n",
            "  Found existing installation: pgb-utils 0.0.8\n",
            "    Uninstalling pgb-utils-0.0.8:\n",
            "      Successfully uninstalled pgb-utils-0.0.8\n",
            "Successfully installed pgb-utils-0.0.9\n",
            "\n"
          ],
          "name": "stdout"
        }
      ]
    },
    {
      "cell_type": "code",
      "metadata": {
        "id": "IaFC3geYYfyn",
        "colab": {
          "base_uri": "https://localhost:8080/"
        },
        "outputId": "6270c04a-7208-4ae1-bfb1-1f85a0646d0e"
      },
      "source": [
        "import apache_beam as beam\n",
        "import aplpy\n",
        "from astropy.io import fits\n",
        "import fastavro\n",
        "from google.colab import drive\n",
        "import gzip\n",
        "import io\n",
        "from matplotlib import pyplot as plt\n",
        "import pandas as pd\n",
        "from pathlib import Path\n",
        "import warnings\n",
        "\n",
        "from google.cloud import bigquery, storage\n",
        "# , pubsub\n",
        "\n",
        "import pgb_utils as pgb"
      ],
      "execution_count": 8,
      "outputs": [
        {
          "output_type": "stream",
          "text": [
            "WARNING: AstropyDeprecationWarning: block_reduce was moved to the astropy.nddata.blocks module.  Please update your import statement. [astropy.nddata.utils]\n"
          ],
          "name": "stderr"
        }
      ]
    },
    {
      "cell_type": "code",
      "metadata": {
        "id": "XqvwOxg40f-e",
        "colab": {
          "base_uri": "https://localhost:8080/"
        },
        "outputId": "f91cef5b-5051-438f-c354-630a3d542ea7"
      },
      "source": [
        "# Connect your Google Drive file system\n",
        "drive.mount('/content/drive')  # follow the instructions to authorize access\n",
        "colabpath = '/content/drive/MyDrive/Colab\\ Notebooks/PGB'\n",
        "colabpath_noesc = '/content/drive/MyDrive/Colab Notebooks/PGB'\n",
        "run(f'mkdir -p {colabpath}')\n",
        "# used in the sections on File Storage and Apache Beam pipelines\n",
        "\n",
        "# Colab Hint: Click the \"Files\" icon on the left to view a file browser.\n",
        "\n",
        "# Colab Hint: Click the \"Code snippets\" icon (<>) on the left and search for \n",
        "#       \"access drive\" to learn how to interact with Drive."
      ],
      "execution_count": 9,
      "outputs": [
        {
          "output_type": "stream",
          "text": [
            "Drive already mounted at /content/drive; to attempt to forcibly remount, call drive.mount(\"/content/drive\", force_remount=True).\n",
            ">> mkdir -p /content/drive/MyDrive/Colab\\ Notebooks/PGB\n",
            "\n"
          ],
          "name": "stdout"
        }
      ]
    },
    {
      "cell_type": "markdown",
      "metadata": {
        "id": "feaPBbMmtaVu"
      },
      "source": [
        "---"
      ]
    },
    {
      "cell_type": "markdown",
      "metadata": {
        "id": "5IvoWYj6VlPw"
      },
      "source": [
        "# 4) Databases (BigQuery)"
      ]
    },
    {
      "cell_type": "markdown",
      "metadata": {
        "id": "5FrTV1deWZFN"
      },
      "source": [
        "We currently have the following database tables available to query (format: `dataset.table`):\n",
        "- `ztf_alerts.alerts`\n",
        "-`ztf_alerts.salt2`\n",
        "\n",
        "They are stored in [BigQuery](https://cloud.google.com/bigquery) and contain data since ~Nov 2020.\n",
        "Their schemas can be viewed using the code below. \n",
        "They can be queried using standard SQL from the command-line, Python, Java and other languages.\n",
        "In this tutorial, we will demonstrate the following methods: 1) Python, including `pgb_utils` tools that facilitate access, and 2) command-line. \n",
        "\n",
        "Links to more information:\n",
        "- [Overview of querying BigQuery data](https://cloud.google.com/bigquery/docs/query-overview)\n",
        "\n",
        "\n",
        "- [BigQuery How-to guides](https://cloud.google.com/bigquery/docs/how-to). There are many! Here are some of note:\n",
        "\n",
        "    - [Introduction to interacting with BigQuery](https://cloud.google.com/bigquery/docs/interacting-with-bigquery)\n",
        "\n",
        "    - [Queries](https://cloud.google.com/bigquery/docs/running-queries) (this topic is covered in this tutorial)\n",
        "\n",
        "    - [Writing query results to your own BigQuery table](https://cloud.google.com/bigquery/docs/writing-results#permanent-table) (also see other sections on that page)\n",
        "\n",
        "    - [Export table data to a file in Google Cloud Storage](https://cloud.google.com/bigquery/docs/exporting-data)\n",
        "        - Note the [Exporting data stored in BigQuery](https://cloud.google.com/bigquery/docs/exporting-data#exporting_data_stored_in) section of that page.\n",
        "\n",
        "    - [Best practices](https://cloud.google.com/bigquery/docs/how-to#best-practices) (e.g., Controlling costs, Optimizing query performance)\n",
        "\n",
        "- Other Colab tutorials:\n",
        "\n",
        "    - [Getting started with BigQuery](https://colab.research.google.com/notebooks/bigquery.ipynb)\n",
        "\n",
        "- Pricing:\n",
        "    - [Overview of BigQuery pricing](https://cloud.google.com/bigquery/pricing)\n",
        "        - [Query pricing](https://cloud.google.com/bigquery/docs/query-overview#query_pricing)\n",
        "            - Query charges are based on number of bytes processed.\n",
        "            - __*The first 1 TB of data processed per month, per billing account, is free*__.\n",
        "        - [Storage pricing](https://cloud.google.com/bigquery/pricing#storage)\n",
        "            - The first 10 GB of BigQuery storage per month is free (you only pay for tables you create in your own project).\n",
        "\n",
        "    - [Using cached query results](https://cloud.google.com/bigquery/docs/cached-results)\n",
        "        - BigQuery writes all query results to a temporary (~24 hours), cached results table (unless you explicitly specify a destination table). When you run a duplicate query, BigQuery attempts to reuse cached results. If it is successful, you are not charged for the query."
      ]
    },
    {
      "cell_type": "markdown",
      "metadata": {
        "id": "JUjPP0ENkYlc"
      },
      "source": [
        "## 4a) Python\n",
        "\n",
        "<!-- standard SQL default ([change to legacy SQL](https://cloud.google.com/bigquery/docs/reference/standard-sql/enabling-standard-sql#changing_from_the_default_dialect)) -->\n",
        "\n",
        "Links to more information:\n",
        "- [Intro to BigQuery API Client Libraries](https://cloud.google.com/bigquery/docs/reference/libraries) (includes Python, Java, C#, Go, Node.js, PHP, and Ruby)\n",
        "- [BigQuery Python Client Documentation](https://googleapis.dev/python/bigquery/latest/index.html)\n",
        "- [Colab Snippets](https://colab.research.google.com/notebooks/snippets/bigquery.ipynb#scrollTo=jl97S3vfNHdz) (more examples)"
      ]
    },
    {
      "cell_type": "markdown",
      "metadata": {
        "id": "s2kX-kEJemYD"
      },
      "source": [
        "### 4a.a) View table names and schemas"
      ]
    },
    {
      "cell_type": "code",
      "metadata": {
        "id": "6sfxgU9AeuVY",
        "colab": {
          "base_uri": "https://localhost:8080/"
        },
        "outputId": "4c9544f7-371a-46cd-b390-baf3a1ad6a17"
      },
      "source": [
        "# [to fix] ACCESS DENIED for non-PGB member\n",
        "\n",
        "pgb.bigquery.get_dataset_table_names()\n",
        "# The first time you connect to GCP using `pgb` you will be prompted to open \n",
        "# a BigQuery Client. Enter your project_id in plain text when instructed.\n",
        "\n",
        "# Hint: `get_dataset_table_names()`, like many `pgb` functions, is a \n",
        "#       simple wrapper for a couple of functions in the `google.cloud` library.\n",
        "#       You can look at and alter our source code to learn how to use the\n",
        "#       `google.cloud` libraries directly.\n",
        "\n",
        "# Colab Hint: Mouse over the function to see its definition and source code."
      ],
      "execution_count": 17,
      "outputs": [
        {
          "output_type": "stream",
          "text": [
            "\n",
            "To run queries, you must first open a BigQuery Client.\n",
            "This can be done directly using `pgb.bigquery.create_client(project_id)`\n",
            "\tTo run this command now, enter your Google Cloud Platform project ID.\n",
            "\tTo exit, simply press \"Enter\".\n",
            "\n",
            "Project ID: ardent-cycling-243415\n",
            "\n",
            "Instantiating a BigQuery client with project_id: ardent-cycling-243415\n",
            "\n"
          ],
          "name": "stdout"
        },
        {
          "output_type": "execute_result",
          "data": {
            "text/plain": [
              "['salt2', 'alerts']"
            ]
          },
          "metadata": {
            "tags": []
          },
          "execution_count": 17
        }
      ]
    },
    {
      "cell_type": "code",
      "metadata": {
        "id": "zNuQD35Zq7yJ",
        "colab": {
          "base_uri": "https://localhost:8080/"
        },
        "outputId": "d15b1c39-db6d-4748-ffdd-7df6782af741"
      },
      "source": [
        "pgb.bigquery.get_table_info('salt2')"
      ],
      "execution_count": 18,
      "outputs": [
        {
          "output_type": "stream",
          "text": [
            "ardent-cycling-243415.ztf_alerts.salt2\n",
            "+----+---------------+---------------+---------+\n",
            "|    | column_name   | description   | type    |\n",
            "+====+===============+===============+=========+\n",
            "|  0 | objectId      |               | STRING  |\n",
            "+----+---------------+---------------+---------+\n",
            "|  1 | candid        |               | INTEGER |\n",
            "+----+---------------+---------------+---------+\n",
            "|  2 | success       |               | INTEGER |\n",
            "+----+---------------+---------------+---------+\n",
            "|  3 | ncall         |               | INTEGER |\n",
            "+----+---------------+---------------+---------+\n",
            "|  4 | chisq         |               | FLOAT   |\n",
            "+----+---------------+---------------+---------+\n",
            "|  5 | ndof          |               | INTEGER |\n",
            "+----+---------------+---------------+---------+\n",
            "|  6 | z             |               | FLOAT   |\n",
            "+----+---------------+---------------+---------+\n",
            "|  7 | z_err         |               | FLOAT   |\n",
            "+----+---------------+---------------+---------+\n",
            "|  8 | t0            |               | FLOAT   |\n",
            "+----+---------------+---------------+---------+\n",
            "|  9 | t0_err        |               | FLOAT   |\n",
            "+----+---------------+---------------+---------+\n",
            "| 10 | x0            |               | FLOAT   |\n",
            "+----+---------------+---------------+---------+\n",
            "| 11 | x0_err        |               | FLOAT   |\n",
            "+----+---------------+---------------+---------+\n",
            "| 12 | x1            |               | FLOAT   |\n",
            "+----+---------------+---------------+---------+\n",
            "| 13 | x1_err        |               | FLOAT   |\n",
            "+----+---------------+---------------+---------+\n",
            "| 14 | c             |               | FLOAT   |\n",
            "+----+---------------+---------------+---------+\n",
            "| 15 | c_err         |               | FLOAT   |\n",
            "+----+---------------+---------------+---------+\n",
            "| 16 | z_z_cov       |               | FLOAT   |\n",
            "+----+---------------+---------------+---------+\n",
            "| 17 | z_t0_cov      |               | FLOAT   |\n",
            "+----+---------------+---------------+---------+\n",
            "| 18 | z_x0_cov      |               | FLOAT   |\n",
            "+----+---------------+---------------+---------+\n",
            "| 19 | z_x1_cov      |               | FLOAT   |\n",
            "+----+---------------+---------------+---------+\n",
            "| 20 | z_c_cov       |               | FLOAT   |\n",
            "+----+---------------+---------------+---------+\n",
            "| 21 | t0_z_cov      |               | FLOAT   |\n",
            "+----+---------------+---------------+---------+\n",
            "| 22 | t0_t0_cov     |               | FLOAT   |\n",
            "+----+---------------+---------------+---------+\n",
            "| 23 | t0_x0_cov     |               | FLOAT   |\n",
            "+----+---------------+---------------+---------+\n",
            "| 24 | t0_x1_cov     |               | FLOAT   |\n",
            "+----+---------------+---------------+---------+\n",
            "| 25 | t0_c_cov      |               | FLOAT   |\n",
            "+----+---------------+---------------+---------+\n",
            "| 26 | x0_z_cov      |               | FLOAT   |\n",
            "+----+---------------+---------------+---------+\n",
            "| 27 | x0_t0_cov     |               | FLOAT   |\n",
            "+----+---------------+---------------+---------+\n",
            "| 28 | x0_x0_cov     |               | FLOAT   |\n",
            "+----+---------------+---------------+---------+\n",
            "| 29 | x0_x1_cov     |               | FLOAT   |\n",
            "+----+---------------+---------------+---------+\n",
            "| 30 | x0_c_cov      |               | FLOAT   |\n",
            "+----+---------------+---------------+---------+\n",
            "| 31 | x1_z_cov      |               | FLOAT   |\n",
            "+----+---------------+---------------+---------+\n",
            "| 32 | x1_t0_cov     |               | FLOAT   |\n",
            "+----+---------------+---------------+---------+\n",
            "| 33 | x1_x0_cov     |               | FLOAT   |\n",
            "+----+---------------+---------------+---------+\n",
            "| 34 | x1_x1_cov     |               | FLOAT   |\n",
            "+----+---------------+---------------+---------+\n",
            "| 35 | x1_c_cov      |               | FLOAT   |\n",
            "+----+---------------+---------------+---------+\n",
            "| 36 | c_z_cov       |               | FLOAT   |\n",
            "+----+---------------+---------------+---------+\n",
            "| 37 | c_t0_cov      |               | FLOAT   |\n",
            "+----+---------------+---------------+---------+\n",
            "| 38 | c_x0_cov      |               | FLOAT   |\n",
            "+----+---------------+---------------+---------+\n",
            "| 39 | c_x1_cov      |               | FLOAT   |\n",
            "+----+---------------+---------------+---------+\n",
            "| 40 | c_c_cov       |               | FLOAT   |\n",
            "+----+---------------+---------------+---------+\n",
            "| 41 | plot_lc_bytes |               | BYTES   |\n",
            "+----+---------------+---------------+---------+\n",
            "\n",
            "ardent-cycling-243415.ztf_alerts.salt2 has 125110 rows.\n",
            "\n"
          ],
          "name": "stdout"
        }
      ]
    },
    {
      "cell_type": "markdown",
      "metadata": {
        "id": "cdy9BeSKT60F"
      },
      "source": [
        "---"
      ]
    },
    {
      "cell_type": "markdown",
      "metadata": {
        "id": "id1fk4u06Bcq"
      },
      "source": [
        "### 4a.b) Query [standard SQL + `google.cloud.bigquery`]\n",
        "\n",
        "Here we demonstrate how to query a database directly using standard SQL and the `google.cloud.bigquery` Python API. \n",
        "In the next section we will demonstrate our `pgb.bigquery` module which provides helper functions for common tasks like querying for lightcurves, many of which are simply convience wrappers for the methods and calls we introduce here.\n",
        "\n",
        "Links to more information:\n",
        "- [Query syntax in Standard SQL](https://cloud.google.com/bigquery/docs/reference/standard-sql/query-syntax)\n",
        "- [`google.cloud.bigquery` docs](https://googleapis.dev/python/bigquery/latest/index.html)"
      ]
    },
    {
      "cell_type": "markdown",
      "metadata": {
        "id": "H7jO3I0HTbyc"
      },
      "source": [
        "Query setup:"
      ]
    },
    {
      "cell_type": "code",
      "metadata": {
        "id": "GTDYNIUMCN_m"
      },
      "source": [
        "# Before we query, let's create a function to execute a \"dry run\"\n",
        "# to tell us how much data will be processed.\n",
        "def dry_run(query: str):\n",
        "    \"\"\"Perform a dry run to find out how many bytes the query will process.\n",
        "    Args:\n",
        "        query: SQL query statement\n",
        "    \"\"\"\n",
        "    job_config = bigquery.QueryJobConfig(dry_run=True, use_query_cache=False)\n",
        "    query_job = bq_client.query(query, job_config=job_config)\n",
        "\n",
        "    nbytes, TB = query_job.total_bytes_processed, 1e12\n",
        "    print(f'\\nQuery statement:')\n",
        "    print(f'\\n\"{query}\"\\n')\n",
        "    print(f'will process {nbytes} bytes of data.')\n",
        "    print(f'({nbytes/TB*100:.3}% of your 1 TB free monthly allotment.)')"
      ],
      "execution_count": 19,
      "outputs": []
    },
    {
      "cell_type": "code",
      "metadata": {
        "id": "ixkW53SiCR6N"
      },
      "source": [
        "# Create a BigQuery Client to handle the connections\n",
        "bq_client = bigquery.Client(project=my_project_id)"
      ],
      "execution_count": 25,
      "outputs": []
    },
    {
      "cell_type": "code",
      "metadata": {
        "id": "ZhhHT9YArfyd"
      },
      "source": [
        "# Write the standard SQL query statement as a string\n",
        "\n",
        "# construct the full table name\n",
        "table = 'salt2'\n",
        "dataset = 'ztf_alerts'\n",
        "full_table_name = f'{pgb_project_id}.{dataset}.{table}'\n",
        "\n",
        "# view available column names using\n",
        "# pgb.bigquery.get_table_info(<'table'>)\n",
        "# Colab Hint: click \"Insert\" -> \"Scratch code cell\" and run this command in \n",
        "#             the new \"Scratch cell\".\n",
        "\n",
        "# DO A SIMPLE QUERY FIRST\n",
        "\n",
        "# construct the query\n",
        "# Here we query the salt2 database, \n",
        "#   group results by objectId,\n",
        "#   and return the objectId, avg redshift, and average chi squared \n",
        "#   per degree of freedom\n",
        "query = (\n",
        "    f'SELECT objectId, AVG(z) as z_avg, AVG(chisq/ndof) as chisq_per_dof_avg '\n",
        "    f'FROM `{full_table_name}` '\n",
        "    f'WHERE ndof>0 and chisq/ndof<2 '\n",
        "    f'GROUP BY objectId'\n",
        ")"
      ],
      "execution_count": 26,
      "outputs": []
    },
    {
      "cell_type": "code",
      "metadata": {
        "id": "Z4q7Vq1jsywW",
        "colab": {
          "base_uri": "https://localhost:8080/"
        },
        "outputId": "0eb57559-7117-48b7-dfde-27d593adbd2f"
      },
      "source": [
        "# Find out how much data will be processed\n",
        "dry_run(query)"
      ],
      "execution_count": 27,
      "outputs": [
        {
          "output_type": "stream",
          "text": [
            "\n",
            "Query statement:\n",
            "\n",
            "\"SELECT objectId, AVG(z) as z_avg, AVG(chisq/ndof) as chisq_per_dof_avg FROM `ardent-cycling-243415.ztf_alerts.salt2` WHERE ndof>0 and chisq/ndof<2 GROUP BY objectId\"\n",
            "\n",
            "will process 4754180 bytes of data.\n",
            "(0.000475% of your 1 TB free monthly allotment.)\n"
          ],
          "name": "stdout"
        }
      ]
    },
    {
      "cell_type": "markdown",
      "metadata": {
        "id": "PRVGtyuPTjR3"
      },
      "source": [
        "Query:"
      ]
    },
    {
      "cell_type": "code",
      "metadata": {
        "id": "w9eAAoLTouXM"
      },
      "source": [
        "# Make the API request\n",
        "query_job = bq_client.query(query)\n",
        "# Beware: the results may contain duplicate entries"
      ],
      "execution_count": 28,
      "outputs": []
    },
    {
      "cell_type": "markdown",
      "metadata": {
        "id": "Zb9wSsGhTmwX"
      },
      "source": [
        "Format and view results:"
      ]
    },
    {
      "cell_type": "code",
      "metadata": {
        "id": "EUvYkm0cQS0a",
        "colab": {
          "base_uri": "https://localhost:8080/",
          "height": 462
        },
        "outputId": "044a3c3f-5826-40b9-bd48-9ca0b97c25a3"
      },
      "source": [
        "# Option 1: dump results to a pandas.DataFrame\n",
        "df = query_job.to_dataframe()\n",
        "\n",
        "# look at some things\n",
        "df.hist()\n",
        "df.head()"
      ],
      "execution_count": 29,
      "outputs": [
        {
          "output_type": "execute_result",
          "data": {
            "text/html": [
              "<div>\n",
              "<style scoped>\n",
              "    .dataframe tbody tr th:only-of-type {\n",
              "        vertical-align: middle;\n",
              "    }\n",
              "\n",
              "    .dataframe tbody tr th {\n",
              "        vertical-align: top;\n",
              "    }\n",
              "\n",
              "    .dataframe thead th {\n",
              "        text-align: right;\n",
              "    }\n",
              "</style>\n",
              "<table border=\"1\" class=\"dataframe\">\n",
              "  <thead>\n",
              "    <tr style=\"text-align: right;\">\n",
              "      <th></th>\n",
              "      <th>objectId</th>\n",
              "      <th>z_avg</th>\n",
              "      <th>chisq_per_dof_avg</th>\n",
              "    </tr>\n",
              "  </thead>\n",
              "  <tbody>\n",
              "    <tr>\n",
              "      <th>0</th>\n",
              "      <td>ZTF19aadfcun</td>\n",
              "      <td>0.095068</td>\n",
              "      <td>0.748849</td>\n",
              "    </tr>\n",
              "    <tr>\n",
              "      <th>1</th>\n",
              "      <td>ZTF20acrjfoc</td>\n",
              "      <td>0.127966</td>\n",
              "      <td>0.468366</td>\n",
              "    </tr>\n",
              "    <tr>\n",
              "      <th>2</th>\n",
              "      <td>ZTF20acurome</td>\n",
              "      <td>0.107425</td>\n",
              "      <td>0.110105</td>\n",
              "    </tr>\n",
              "    <tr>\n",
              "      <th>3</th>\n",
              "      <td>ZTF19aaktorq</td>\n",
              "      <td>0.072116</td>\n",
              "      <td>0.844127</td>\n",
              "    </tr>\n",
              "    <tr>\n",
              "      <th>4</th>\n",
              "      <td>ZTF18acyblss</td>\n",
              "      <td>0.108158</td>\n",
              "      <td>1.406315</td>\n",
              "    </tr>\n",
              "  </tbody>\n",
              "</table>\n",
              "</div>"
            ],
            "text/plain": [
              "       objectId     z_avg  chisq_per_dof_avg\n",
              "0  ZTF19aadfcun  0.095068           0.748849\n",
              "1  ZTF20acrjfoc  0.127966           0.468366\n",
              "2  ZTF20acurome  0.107425           0.110105\n",
              "3  ZTF19aaktorq  0.072116           0.844127\n",
              "4  ZTF18acyblss  0.108158           1.406315"
            ]
          },
          "metadata": {
            "tags": []
          },
          "execution_count": 29
        },
        {
          "output_type": "display_data",
          "data": {
            "image/png": "[encoded data removed]",
            "text/plain": [
              "<Figure size 432x288 with 2 Axes>"
            ]
          },
          "metadata": {
            "tags": [],
            "needs_background": "light"
          }
        }
      ]
    },
    {
      "cell_type": "code",
      "metadata": {
        "id": "HaLecK6YYWJI",
        "colab": {
          "base_uri": "https://localhost:8080/"
        },
        "outputId": "46f15b4f-0232-4bbc-f538-76cefe3a66b2"
      },
      "source": [
        "# Option 2: parse results row by row\n",
        "for r, row in enumerate(query_job):\n",
        "    \n",
        "    # row values can be accessed by field name or index\n",
        "    print(f\"objectId={row[0]}, z_avg={row['z_avg']}\")\n",
        "\n",
        "    if r>5: break"
      ],
      "execution_count": 30,
      "outputs": [
        {
          "output_type": "stream",
          "text": [
            "objectId=ZTF19aadfcun, z_avg=0.0950682905986252\n",
            "objectId=ZTF20acrjfoc, z_avg=0.1279656357733132\n",
            "objectId=ZTF20acurome, z_avg=0.10742508688298157\n",
            "objectId=ZTF19aaktorq, z_avg=0.07211616533433862\n",
            "objectId=ZTF18acyblss, z_avg=0.10815846540146667\n",
            "objectId=ZTF20acrsbye, z_avg=0.056998091254881235\n",
            "objectId=ZTF18acvggwc, z_avg=0.1646296307944424\n"
          ],
          "name": "stdout"
        }
      ]
    },
    {
      "cell_type": "markdown",
      "metadata": {
        "id": "dirLfrvCT3lt"
      },
      "source": [
        "---"
      ]
    },
    {
      "cell_type": "markdown",
      "metadata": {
        "id": "AbTyVXUko6-d"
      },
      "source": [
        "### 4a.c) Query [`pgb_utils`]"
      ]
    },
    {
      "cell_type": "markdown",
      "metadata": {
        "id": "EMBaYJn2-72F"
      },
      "source": [
        "To query the alerts database for an object's _history_, one must group the query results by the `objectId` and aggregate the remaining data.\n",
        "You can do this yourself using the methods in the previous section, or you can let the `pgb.bigquery` helper functions do some or all of the work for you."
      ]
    },
    {
      "cell_type": "markdown",
      "metadata": {
        "id": "nJpnrqMwrToR"
      },
      "source": [
        "Overview of noteable functions:"
      ]
    },
    {
      "cell_type": "code",
      "metadata": {
        "id": "MYtS-dNzrZ1D"
      },
      "source": [
        "# pgb.bigquery.query_objects(columns, objectIds=objectIds)"
      ],
      "execution_count": null,
      "outputs": []
    },
    {
      "cell_type": "markdown",
      "metadata": {
        "id": "AUc8MzWYSdFT"
      },
      "source": [
        "Query Setup:"
      ]
    },
    {
      "cell_type": "code",
      "metadata": {
        "id": "-7VY4RP6748V"
      },
      "source": [
        "# Choose the history data you want returned\n",
        "\n",
        "# View available column names using\n",
        "# pgb.bigquery.get_history_column_names()\n",
        "\n",
        "columns = ['jd', 'fid', 'magpsf', 'sigmapsf']  # some lightcurve info\n",
        "# 'objectId' and 'candid' will be included automatically"
      ],
      "execution_count": 31,
      "outputs": []
    },
    {
      "cell_type": "code",
      "metadata": {
        "id": "pn4PFoPRRkXN"
      },
      "source": [
        "# Optional: Choose the objects you want returned\n",
        "# If you do not pass an `objectIds` argument to `query_objects()` (below)\n",
        "# you will get every object in our database.\n",
        "\n",
        "# choose some objects based on the results of the salt2 query above\n",
        "objectIds = ['ZTF18aczuwfe', 'ZTF18aczvqcr', 'ZTF20acqgklx', 'ZTF18acexdlh']"
      ],
      "execution_count": 32,
      "outputs": []
    },
    {
      "cell_type": "markdown",
      "metadata": {
        "id": "5tU9KNMJSlWt"
      },
      "source": [
        "Query object histories:"
      ]
    },
    {
      "cell_type": "code",
      "metadata": {
        "id": "xFwWuisxEGrH",
        "colab": {
          "base_uri": "https://localhost:8080/"
        },
        "outputId": "993f6058-7945-4cd8-c46f-44e85bb2c9fa"
      },
      "source": [
        "# Option 0: Let pgb generate the required SQL statement, \n",
        "#           then execute the query yourself using methods from the previous section.\n",
        "\n",
        "query = pgb.bigquery.object_history_sql_statement(columns, objectIds=objectIds)\n",
        "print(query)\n",
        "\n",
        "# dry_run(query)\n",
        "# query_job = bq_client.query(query)"
      ],
      "execution_count": 33,
      "outputs": [
        {
          "output_type": "stream",
          "text": [
            "SELECT objectId, ARRAY_AGG(candid ORDER BY candidate.jd) AS candid, ARRAY_AGG(candidate.magpsf ORDER BY candidate.jd) AS magpsf, ARRAY_AGG(candidate.sigmapsf ORDER BY candidate.jd) AS sigmapsf, ARRAY_AGG(candidate.fid ORDER BY candidate.jd) AS fid, ARRAY_AGG(candidate.jd ORDER BY candidate.jd) AS jd FROM `ardent-cycling-243415.ztf_alerts.alerts` WHERE objectId IN (\"ZTF18aczuwfe\",\"ZTF18aczvqcr\",\"ZTF20acqgklx\",\"ZTF18acexdlh\") GROUP BY objectId\n"
          ],
          "name": "stdout"
        }
      ]
    },
    {
      "cell_type": "markdown",
      "metadata": {
        "id": "03EYWzWoEHbV"
      },
      "source": [
        "Note: The first time you query using `pgb_utils` you will be prompted to open a BigQuery Client. \n",
        "Enter your project_id in plain text when instructed; do not wrap the id in quotes."
      ]
    },
    {
      "cell_type": "code",
      "metadata": {
        "id": "YtJ2C1gS9vdC",
        "colab": {
          "base_uri": "https://localhost:8080/",
          "height": 536
        },
        "outputId": "9f9f5140-a211-45d2-d408-4adfc77729c1"
      },
      "source": [
        "# Option 1: Get a single DataFrame of all results\n",
        "\n",
        "lcsdf = pgb.bigquery.query_objects(columns, objectIds=objectIds)\n",
        "# This will execute a dry run and tell you how much data will be processed.\n",
        "# You will be asked to confirm before proceeding.\n",
        "# In the future we will skip the dry run and confirmation with `dry_run=False`.\n",
        "\n",
        "lcsdf.sample(10)\n",
        "# cleaned of duplicates"
      ],
      "execution_count": 35,
      "outputs": [
        {
          "output_type": "stream",
          "text": [
            "\n",
            "Query statement:\n",
            "\n",
            "\"SELECT objectId, ARRAY_AGG(candid ORDER BY candidate.jd) AS candid, ARRAY_AGG(candidate.magpsf ORDER BY candidate.jd) AS magpsf, ARRAY_AGG(candidate.sigmapsf ORDER BY candidate.jd) AS sigmapsf, ARRAY_AGG(candidate.fid ORDER BY candidate.jd) AS fid, ARRAY_AGG(candidate.jd ORDER BY candidate.jd) AS jd FROM `ardent-cycling-243415.ztf_alerts.alerts` WHERE objectId IN (\"ZTF18aczuwfe\",\"ZTF18aczvqcr\",\"ZTF20acqgklx\",\"ZTF18acexdlh\") GROUP BY objectId\"\n",
            "\n",
            "will process 1453288662 bytes of data.\n",
            "(0.145% of your 1 TB free monthly allotment.)\n",
            "Continue? [y/N]: y\n"
          ],
          "name": "stdout"
        },
        {
          "output_type": "execute_result",
          "data": {
            "text/html": [
              "<div>\n",
              "<style scoped>\n",
              "    .dataframe tbody tr th:only-of-type {\n",
              "        vertical-align: middle;\n",
              "    }\n",
              "\n",
              "    .dataframe tbody tr th {\n",
              "        vertical-align: top;\n",
              "    }\n",
              "\n",
              "    .dataframe thead th {\n",
              "        text-align: right;\n",
              "    }\n",
              "</style>\n",
              "<table border=\"1\" class=\"dataframe\">\n",
              "  <thead>\n",
              "    <tr style=\"text-align: right;\">\n",
              "      <th></th>\n",
              "      <th></th>\n",
              "      <th>magpsf</th>\n",
              "      <th>sigmapsf</th>\n",
              "      <th>fid</th>\n",
              "      <th>jd</th>\n",
              "    </tr>\n",
              "    <tr>\n",
              "      <th>objectId</th>\n",
              "      <th>candid</th>\n",
              "      <th></th>\n",
              "      <th></th>\n",
              "      <th></th>\n",
              "      <th></th>\n",
              "    </tr>\n",
              "  </thead>\n",
              "  <tbody>\n",
              "    <tr>\n",
              "      <th>ZTF18aczuwfe</th>\n",
              "      <th>1451204593415015000</th>\n",
              "      <td>20.036793</td>\n",
              "      <td>0.181526</td>\n",
              "      <td>2</td>\n",
              "      <td>2.459206e+06</td>\n",
              "    </tr>\n",
              "    <tr>\n",
              "      <th>ZTF20acqgklx</th>\n",
              "      <th>1442282165215015017</th>\n",
              "      <td>18.957773</td>\n",
              "      <td>0.146518</td>\n",
              "      <td>2</td>\n",
              "      <td>2.459197e+06</td>\n",
              "    </tr>\n",
              "    <tr>\n",
              "      <th>ZTF18aczvqcr</th>\n",
              "      <th>1538207903615015018</th>\n",
              "      <td>19.768372</td>\n",
              "      <td>0.178473</td>\n",
              "      <td>2</td>\n",
              "      <td>2.459293e+06</td>\n",
              "    </tr>\n",
              "    <tr>\n",
              "      <th rowspan=\"3\" valign=\"top\">ZTF18acexdlh</th>\n",
              "      <th>1524151215615015018</th>\n",
              "      <td>19.191059</td>\n",
              "      <td>0.157054</td>\n",
              "      <td>2</td>\n",
              "      <td>2.459279e+06</td>\n",
              "    </tr>\n",
              "    <tr>\n",
              "      <th>1536190470315015010</th>\n",
              "      <td>19.352610</td>\n",
              "      <td>0.151037</td>\n",
              "      <td>1</td>\n",
              "      <td>2.459291e+06</td>\n",
              "    </tr>\n",
              "    <tr>\n",
              "      <th>1451300350315010084</th>\n",
              "      <td>19.825045</td>\n",
              "      <td>0.185052</td>\n",
              "      <td>1</td>\n",
              "      <td>2.459206e+06</td>\n",
              "    </tr>\n",
              "    <tr>\n",
              "      <th>ZTF18aczvqcr</th>\n",
              "      <th>1522151113615015015</th>\n",
              "      <td>20.005157</td>\n",
              "      <td>0.163534</td>\n",
              "      <td>2</td>\n",
              "      <td>2.459277e+06</td>\n",
              "    </tr>\n",
              "    <tr>\n",
              "      <th>ZTF18acexdlh</th>\n",
              "      <th>1497227461415010058</th>\n",
              "      <td>18.682337</td>\n",
              "      <td>0.108006</td>\n",
              "      <td>2</td>\n",
              "      <td>2.459252e+06</td>\n",
              "    </tr>\n",
              "    <tr>\n",
              "      <th>ZTF18aczuwfe</th>\n",
              "      <th>1510206363415015002</th>\n",
              "      <td>19.803467</td>\n",
              "      <td>0.164810</td>\n",
              "      <td>1</td>\n",
              "      <td>2.459265e+06</td>\n",
              "    </tr>\n",
              "    <tr>\n",
              "      <th>ZTF18acexdlh</th>\n",
              "      <th>1500242465615010011</th>\n",
              "      <td>19.942972</td>\n",
              "      <td>0.164062</td>\n",
              "      <td>1</td>\n",
              "      <td>2.459255e+06</td>\n",
              "    </tr>\n",
              "  </tbody>\n",
              "</table>\n",
              "</div>"
            ],
            "text/plain": [
              "                                     magpsf  sigmapsf  fid            jd\n",
              "objectId     candid                                                     \n",
              "ZTF18aczuwfe 1451204593415015000  20.036793  0.181526    2  2.459206e+06\n",
              "ZTF20acqgklx 1442282165215015017  18.957773  0.146518    2  2.459197e+06\n",
              "ZTF18aczvqcr 1538207903615015018  19.768372  0.178473    2  2.459293e+06\n",
              "ZTF18acexdlh 1524151215615015018  19.191059  0.157054    2  2.459279e+06\n",
              "             1536190470315015010  19.352610  0.151037    1  2.459291e+06\n",
              "             1451300350315010084  19.825045  0.185052    1  2.459206e+06\n",
              "ZTF18aczvqcr 1522151113615015015  20.005157  0.163534    2  2.459277e+06\n",
              "ZTF18acexdlh 1497227461415010058  18.682337  0.108006    2  2.459252e+06\n",
              "ZTF18aczuwfe 1510206363415015002  19.803467  0.164810    1  2.459265e+06\n",
              "ZTF18acexdlh 1500242465615010011  19.942972  0.164062    1  2.459255e+06"
            ]
          },
          "metadata": {
            "tags": []
          },
          "execution_count": 35
        }
      ]
    },
    {
      "cell_type": "code",
      "metadata": {
        "id": "kEBGXlyM_P33",
        "colab": {
          "base_uri": "https://localhost:8080/"
        },
        "outputId": "672c1070-f768-4918-b0cb-95d6913b4a56"
      },
      "source": [
        "# Option 2: Get a generator that yields a DataFrame for each objectId\n",
        "\n",
        "objects = pgb.bigquery.query_objects(columns, \n",
        "                                     objectIds=objectIds, \n",
        "                                     iterator=True,\n",
        "                                     dry_run=False\n",
        "                                     )\n",
        "                                     # cleaned of duplicates\n",
        "\n",
        "for lcdf in objects:\n",
        "    print(f'\\nobjectId: {lcdf.objectId}')\n",
        "    print(lcdf.sample(5))"
      ],
      "execution_count": 36,
      "outputs": [
        {
          "output_type": "stream",
          "text": [
            "\n",
            "objectId: ZTF18aczvqcr\n",
            "                        magpsf  sigmapsf  fid            jd\n",
            "candid                                                     \n",
            "1416428113615015031  20.324043  0.213728    1  2.459171e+06\n",
            "1416402323615015029  19.717068  0.120142    2  2.459171e+06\n",
            "1444343243615015022  20.161224  0.183290    1  2.459199e+06\n",
            "1499281903615015021  19.850918  0.132920    2  2.459254e+06\n",
            "1503184653615015029  20.478899  0.202820    1  2.459258e+06\n",
            "\n",
            "objectId: ZTF20acqgklx\n",
            "                        magpsf  sigmapsf  fid            jd\n",
            "candid                                                     \n",
            "1427289515215015014  19.247551  0.180399    2  2.459182e+06\n",
            "1438294975215015018  19.228207  0.191553    1  2.459193e+06\n",
            "1416427635215015028  20.111706  0.172291    1  2.459171e+06\n",
            "1451280085215015013  19.161543  0.128571    1  2.459206e+06\n",
            "1510148925215015017  19.368940  0.151291    2  2.459265e+06\n",
            "\n",
            "objectId: ZTF18acexdlh\n",
            "                        magpsf  sigmapsf  fid            jd\n",
            "candid                                                     \n",
            "1536203621415015012  19.716902  0.142650    1  2.459291e+06\n",
            "1446436925615015006  19.379440  0.175275    1  2.459201e+06\n",
            "1471354471415015030  19.599319  0.158535    1  2.459226e+06\n",
            "1508190460315010046  18.828739  0.105317    2  2.459263e+06\n",
            "1521234075615010003  18.973261  0.118206    2  2.459276e+06\n",
            "\n",
            "objectId: ZTF18aczuwfe\n",
            "                        magpsf  sigmapsf  fid            jd\n",
            "candid                                                     \n",
            "1510206363415015002  19.803467  0.164810    1  2.459265e+06\n",
            "1442328323415015002  19.782700  0.172808    1  2.459197e+06\n",
            "1469258283415015005  20.287066  0.212321    2  2.459224e+06\n",
            "1477168703415015002  19.468252  0.211510    2  2.459232e+06\n",
            "1510148923415015004  20.099720  0.175255    2  2.459265e+06\n"
          ],
          "name": "stdout"
        }
      ]
    },
    {
      "cell_type": "code",
      "metadata": {
        "id": "wOtHmRP7_Pvm",
        "colab": {
          "base_uri": "https://localhost:8080/",
          "height": 215
        },
        "outputId": "e8599067-a9e4-464b-8e54-8ec2cd930e9c"
      },
      "source": [
        "# Option 3: Get a single json string with all the results\n",
        "\n",
        "lcsjson = pgb.bigquery.query_objects(columns, \n",
        "                                     objectIds=objectIds, \n",
        "                                     format='json',\n",
        "                                     dry_run=False\n",
        "                                     )\n",
        "                                     # cleaned of duplicates\n",
        "print(lcsjson[0:100])\n",
        "\n",
        "# read it back in\n",
        "df = pd.read_json(lcsjson)\n",
        "df.head()"
      ],
      "execution_count": 37,
      "outputs": [
        {
          "output_type": "stream",
          "text": [
            "{\"objectId\":{\"0\":\"ZTF18aczvqcr\",\"1\":\"ZTF18aczvqcr\",\"2\":\"ZTF18aczvqcr\",\"3\":\"ZTF18aczvqcr\",\"4\":\"ZTF18a\n"
          ],
          "name": "stdout"
        },
        {
          "output_type": "execute_result",
          "data": {
            "text/html": [
              "<div>\n",
              "<style scoped>\n",
              "    .dataframe tbody tr th:only-of-type {\n",
              "        vertical-align: middle;\n",
              "    }\n",
              "\n",
              "    .dataframe tbody tr th {\n",
              "        vertical-align: top;\n",
              "    }\n",
              "\n",
              "    .dataframe thead th {\n",
              "        text-align: right;\n",
              "    }\n",
              "</style>\n",
              "<table border=\"1\" class=\"dataframe\">\n",
              "  <thead>\n",
              "    <tr style=\"text-align: right;\">\n",
              "      <th></th>\n",
              "      <th>objectId</th>\n",
              "      <th>candid</th>\n",
              "      <th>magpsf</th>\n",
              "      <th>sigmapsf</th>\n",
              "      <th>fid</th>\n",
              "      <th>jd</th>\n",
              "    </tr>\n",
              "  </thead>\n",
              "  <tbody>\n",
              "    <tr>\n",
              "      <th>0</th>\n",
              "      <td>ZTF18aczvqcr</td>\n",
              "      <td>1410421083615015027</td>\n",
              "      <td>20.126310</td>\n",
              "      <td>0.147839</td>\n",
              "      <td>1</td>\n",
              "      <td>2.459165e+06</td>\n",
              "    </tr>\n",
              "    <tr>\n",
              "      <th>1</th>\n",
              "      <td>ZTF18aczvqcr</td>\n",
              "      <td>1414350743615015012</td>\n",
              "      <td>19.643711</td>\n",
              "      <td>0.178646</td>\n",
              "      <td>2</td>\n",
              "      <td>2.459169e+06</td>\n",
              "    </tr>\n",
              "    <tr>\n",
              "      <th>2</th>\n",
              "      <td>ZTF18aczvqcr</td>\n",
              "      <td>1416402323615015029</td>\n",
              "      <td>19.717068</td>\n",
              "      <td>0.120142</td>\n",
              "      <td>2</td>\n",
              "      <td>2.459171e+06</td>\n",
              "    </tr>\n",
              "    <tr>\n",
              "      <th>3</th>\n",
              "      <td>ZTF18aczvqcr</td>\n",
              "      <td>1416428113615015031</td>\n",
              "      <td>20.324043</td>\n",
              "      <td>0.213728</td>\n",
              "      <td>1</td>\n",
              "      <td>2.459171e+06</td>\n",
              "    </tr>\n",
              "    <tr>\n",
              "      <th>4</th>\n",
              "      <td>ZTF18aczvqcr</td>\n",
              "      <td>1425356333615015016</td>\n",
              "      <td>19.552292</td>\n",
              "      <td>0.182813</td>\n",
              "      <td>2</td>\n",
              "      <td>2.459180e+06</td>\n",
              "    </tr>\n",
              "  </tbody>\n",
              "</table>\n",
              "</div>"
            ],
            "text/plain": [
              "       objectId               candid     magpsf  sigmapsf  fid            jd\n",
              "0  ZTF18aczvqcr  1410421083615015027  20.126310  0.147839    1  2.459165e+06\n",
              "1  ZTF18aczvqcr  1414350743615015012  19.643711  0.178646    2  2.459169e+06\n",
              "2  ZTF18aczvqcr  1416402323615015029  19.717068  0.120142    2  2.459171e+06\n",
              "3  ZTF18aczvqcr  1416428113615015031  20.324043  0.213728    1  2.459171e+06\n",
              "4  ZTF18aczvqcr  1425356333615015016  19.552292  0.182813    2  2.459180e+06"
            ]
          },
          "metadata": {
            "tags": []
          },
          "execution_count": 37
        }
      ]
    },
    {
      "cell_type": "code",
      "metadata": {
        "id": "_lumcgl6_RsY",
        "colab": {
          "base_uri": "https://localhost:8080/"
        },
        "outputId": "355e386e-f757-4c04-a4a7-62401a329c6a"
      },
      "source": [
        "# Option 4: Get a generator that yields a json string for a single objectId\n",
        "\n",
        "jobj = pgb.bigquery.query_objects(columns, \n",
        "                                  objectIds=objectIds, \n",
        "                                  format='json', \n",
        "                                  iterator=True,\n",
        "                                  dry_run=False\n",
        "                                  )\n",
        "                                  # cleaned of duplicates\n",
        "\n",
        "for lcjson in jobj:\n",
        "    print(lcjson[0:50])\n",
        "    # lcdf = pd.read_json(lcjson)  # read back to a df"
      ],
      "execution_count": 38,
      "outputs": [
        {
          "output_type": "stream",
          "text": [
            "{\"candid\":{\"0\":1410421083615015027,\"1\":14143507436\n",
            "{\"candid\":{\"0\":1414351235215015023,\"1\":14143659352\n",
            "{\"candid\":{\"0\":1413467435615010006,\"1\":14135041656\n",
            "{\"candid\":{\"0\":1440303993415015003,\"1\":14403225134\n"
          ],
          "name": "stdout"
        }
      ]
    },
    {
      "cell_type": "code",
      "metadata": {
        "id": "BsY_T60i8YjT"
      },
      "source": [
        "# Option 5: Get the raw query_job (see previous section) object\n",
        "\n",
        "query_job = pgb.bigquery.query_objects(columns, \n",
        "                                       objectIds=objectIds, \n",
        "                                       format='query_job',\n",
        "                                       dry_run=False\n",
        "                                       )\n",
        "# query_job is iterable; each element contains the aggregated history for a single objectId\n",
        "# Beware: this has not been cleaned of duplicate entries"
      ],
      "execution_count": 39,
      "outputs": []
    },
    {
      "cell_type": "code",
      "metadata": {
        "id": "vNwVq3kkpf7t",
        "colab": {
          "base_uri": "https://localhost:8080/"
        },
        "outputId": "4d73b7ae-1c73-4310-e466-48eaca63fdab"
      },
      "source": [
        "# Option 5 (continued): parse query_job results row by row\n",
        "\n",
        "for row in query_job:\n",
        "    # values can be accessed by field name or index\n",
        "    print(f\"objectId={row[0]}, magpsf={row['magpsf']}\")\n",
        "\n",
        "    # pgb can cast to a DataFrame or json string\n",
        "    # this also cleans the duplicates\n",
        "    lcdf = pgb.bigquery.format_history_query_results(row=row)\n",
        "    print(f'\\nobjectId: {lcdf.objectId}')  # objectId in metadata\n",
        "    print(lcdf.head(1))\n",
        "    lcjson = pgb.bigquery.format_history_query_results(row=row, format='json')\n",
        "    print('\\n', lcjson[0:100])\n",
        "\n",
        "    break"
      ],
      "execution_count": 40,
      "outputs": [
        {
          "output_type": "stream",
          "text": [
            "objectId=ZTF18aczvqcr, magpsf=[20.126310348510742, 19.64371109008789, 19.71706771850586, 20.32404327392578, 19.552291870117188, 20.146791458129883, 19.952713012695312, 19.952713012695312, 19.403717041015625, 19.403717041015625, 19.54031753540039, 19.54031753540039, 20.161224365234375, 20.161224365234375, 19.499542236328125, 19.690040588378906, 19.648038864135742, 19.705522537231445, 19.591161727905273, 19.856361389160156, 19.771814346313477, 20.00579071044922, 19.85091781616211, 19.847415924072266, 20.478899002075195, 19.79427146911621, 20.005157470703125, 19.90910530090332, 19.76837158203125, 19.721454620361328, 19.838600158691406]\n",
            "\n",
            "objectId: ZTF18aczvqcr\n",
            "                       magpsf  sigmapsf  fid            jd\n",
            "candid                                                    \n",
            "1410421083615015027  20.12631  0.147839    1  2.459165e+06\n",
            "\n",
            " {\"candid\":{\"0\":1410421083615015027,\"1\":1414350743615015012,\"2\":1416402323615015029,\"3\":1416428113615\n"
          ],
          "name": "stdout"
        }
      ]
    },
    {
      "cell_type": "code",
      "metadata": {
        "id": "RxWJxfIvqClt"
      },
      "source": [
        "# Option 5 (continued): convert the full query_job to a different format\n",
        "lcsdf = pgb.bigquery.format_history_query_results(query_job=query_job)\n",
        "lcsjson = pgb.bigquery.format_history_query_results(query_job=query_job, format='json')\n",
        "\n",
        "# This is just the long way around to get Options 1 and 3, \n",
        "# but we demonstrate it for completeness."
      ],
      "execution_count": 41,
      "outputs": []
    },
    {
      "cell_type": "markdown",
      "metadata": {
        "id": "wmeLC30rPwKF"
      },
      "source": [
        "---"
      ]
    },
    {
      "cell_type": "markdown",
      "metadata": {
        "id": "aiak8JwvPfcL"
      },
      "source": [
        "#### Plot a lightcurve\n",
        "\n",
        "`pgb` can plot lightcurves, given a DataFrame with the following columns: `['jd','fid','magpsf','sigmapsf','diffmaglim']`"
      ]
    },
    {
      "cell_type": "code",
      "metadata": {
        "id": "NqJAkLgxBO7H",
        "colab": {
          "base_uri": "https://localhost:8080/",
          "height": 295
        },
        "outputId": "d5c3ddb8-263c-4ec1-cba4-57728bab79f4"
      },
      "source": [
        "# Get a DataFrame with the required lightcurve data\n",
        "columns = ['jd','fid','magpsf','sigmapsf','diffmaglim']\n",
        "objectId = 'ZTF20acqgklx'\n",
        "lcdf = pgb.bigquery.query_objects(columns, objectIds=[objectId], dry_run=False)\n",
        "\n",
        "# make the plot\n",
        "pgb.figures.plot_lightcurve(lcdf, objectId=objectId)\n",
        "# function was adapted from:\n",
        "# https://github.com/ZwickyTransientFacility/ztf-avro-alert/blob/master/notebooks/Filtering_alerts.ipynb"
      ],
      "execution_count": 42,
      "outputs": [
        {
          "output_type": "display_data",
          "data": {
            "image/png": "[encoded data removed]",
            "text/plain": [
              "<Figure size 432x288 with 1 Axes>"
            ]
          },
          "metadata": {
            "tags": [],
            "needs_background": "light"
          }
        }
      ]
    },
    {
      "cell_type": "markdown",
      "metadata": {
        "id": "eAKV_dWBGata"
      },
      "source": [
        "---"
      ]
    },
    {
      "cell_type": "markdown",
      "metadata": {
        "id": "3nDSzXh1khgt"
      },
      "source": [
        "## 3b) Command-line tool `bq`\n",
        "\n",
        "All commands in this section are executed using the `run` function we created earlier to run commands on the command-line.\n",
        "\n",
        "`bq`'s default dialect is legacy SQL. Here we use standard SQL by passing `--use_legacy_sql=false`.\n",
        "<!-- (see [change to standard SQL](https://cloud.google.com/bigquery/docs/reference/standard-sql/enabling-standard-sql#changing_from_the_default_dialect)) -->\n",
        "\n",
        "Links to more information:\n",
        "- [Quickstart using the bq command-line tool](https://cloud.google.com/bigquery/docs/quickstarts/quickstart-command-line)\n",
        "- [Reference of all `bq` commands and flags](https://cloud.google.com/bigquery/docs/reference/bq-cli-reference)\n",
        "- [Query syntax in Standard SQL](https://cloud.google.com/bigquery/docs/reference/standard-sql/query-syntax)"
      ]
    },
    {
      "cell_type": "code",
      "metadata": {
        "id": "qaUD-I_uJV3h",
        "colab": {
          "base_uri": "https://localhost:8080/"
        },
        "outputId": "fbcc14c6-6e41-49a3-9620-bef63d950c32"
      },
      "source": [
        "# Get help\n",
        "run('bq help query')"
      ],
      "execution_count": 43,
      "outputs": [
        {
          "output_type": "stream",
          "text": [
            ">> bq help query\n",
            "Python script for interacting with BigQuery.\n",
            "\n",
            "\n",
            "USAGE: bq.py [--global_flags] <command> [--command_flags] [args]\n",
            "\n",
            "\n",
            "query                      Execute a query.\n",
            "\n",
            "                           Query should be specified on command line, or passed\n",
            "                           on stdin.\n",
            "\n",
            "                           Examples:\n",
            "                           bq query 'select count(*) from\n",
            "                           publicdata:samples.shakespeare'\n",
            "                           echo 'select count(*) from\n",
            "                           publicdata:samples.shakespeare' | bq query\n",
            "\n",
            "                           Usage:\n",
            "                           query [<sql_query>]\n",
            "\n",
            "                           Flags for query:\n",
            "\n",
            "                             /tools/google-cloud-sdk/platform/bq/bq.py:\n",
            "                               --[no]allow_large_results: Enables larger\n",
            "                                 destination table sizes for legacy SQL queries.\n",
            "                               --[no]append_table: When a destination table is\n",
            "                                 specified, whether or not to append.\n",
            "                                 (default: 'false')\n",
            "                               --[no]batch: Whether to run the query in batch\n",
            "                                 mode.\n",
            "                                 (default: 'false')\n",
            "                               --clustering_fields: Comma separated field names.\n",
            "                                 Can only be specified with time based\n",
            "                                 partitioning. Data will be first partitioned\n",
            "                                 and subsequently \"clustered on these fields.\n",
            "                               --destination_kms_key: Cloud KMS key for\n",
            "                                 encryption of the destination table data.\n",
            "                               --destination_schema: Schema for the destination\n",
            "                                 table. Either a filename or a comma-separated\n",
            "                                 list of fields in the form name[:type].\n",
            "                                 (default: '')\n",
            "                               --destination_table: Name of destination table\n",
            "                                 for query results.\n",
            "                                 (default: '')\n",
            "                               --display_name: Display name for the created\n",
            "                                 scheduled query configuration.\n",
            "                                 (default: '')\n",
            "                               --[no]dry_run: Whether the query should be\n",
            "                                 validated without executing.\n",
            "                               --external_table_definition: Specifies a table\n",
            "                                 name and either an inline table definition or a\n",
            "                                 path to a file containing a JSON table\n",
            "                                 definition to use in the query. The format is\n",
            "                                 \"table_name::path_to_file_with_json_def\" or\n",
            "                                 \"table_name::schema@format=uri@connection\".\n",
            "                                 Note using connection is an experimental\n",
            "                                 feature and is still under development.For\n",
            "                                 example, \"--external_table_definition=Example::\n",
            "                                 /tmp/example_table_def.txt\" will define a table\n",
            "                                 named \"Example\" using the URIs and schema\n",
            "                                 encoded in example_table_def.txt.;\n",
            "                                 repeat this option to specify a list of values\n",
            "                               --[no]flatten_results: Whether to flatten nested\n",
            "                                 and repeated fields in the result schema for\n",
            "                                 legacy SQL queries. If not set, the default\n",
            "                                 behavior is to flatten.\n",
            "                               --job_timeout_ms: Maximum time to run the entire\n",
            "                                 script.\n",
            "                               --label: A label to set on a query job. The\n",
            "                                 format is \"key:value\";\n",
            "                                 repeat this option to specify a list of values\n",
            "                               --max_child_jobs: Maximum number of child jobs to\n",
            "                                 fetch results from after executing a script.\n",
            "                                 If the number of child jobs exceeds this limit,\n",
            "                                 only the final result will be displayed.\n",
            "                                 (default: '1000')\n",
            "                                 (an integer)\n",
            "                               -n,--max_rows: How many rows to return in the\n",
            "                                 result.\n",
            "                                 (default: '100')\n",
            "                                 (an integer)\n",
            "                               --max_statement_results: Maximum number of script\n",
            "                                 statements to display the results for.\n",
            "                                 (default: '100')\n",
            "                                 (an integer)\n",
            "                               --maximum_billing_tier: The upper limit of\n",
            "                                 billing tier for the query.\n",
            "                                 (an integer)\n",
            "                               --maximum_bytes_billed: The upper limit of bytes\n",
            "                                 billed for the query.\n",
            "                                 (an integer)\n",
            "                               --min_completion_ratio: [Experimental] The\n",
            "                                 minimum fraction of data that must be scanned\n",
            "                                 before a query returns. If not set, the default\n",
            "                                 server value (1.0) will be used.\n",
            "                                 (a number in the range [0, 1.0])\n",
            "                               --parameter: Either a file containing a JSON list\n",
            "                                 of query parameters, or a query parameter in\n",
            "                                 the form \"name:type:value\". An empty name\n",
            "                                 produces a positional parameter. The type may\n",
            "                                 be omitted to assume STRING: name::value or\n",
            "                                 ::value. The value \"NULL\" produces a null\n",
            "                                 value.;\n",
            "                                 repeat this option to specify a list of values\n",
            "                               --range_partitioning: Enables range partitioning\n",
            "                                 on the table. The format should be\n",
            "                                 \"field,start,end,interval\". The table will be\n",
            "                                 partitioned based on the value of the field.\n",
            "                                 Field must be a top-level, non-repeated INT64\n",
            "                                 field. Start, end, and interval are INT64\n",
            "                                 values defining the ranges.\n",
            "                               --[no]replace: If true, erase existing contents\n",
            "                                 before loading new data.\n",
            "                                 (default: 'false')\n",
            "                               --request_id: The request_id to use for the\n",
            "                                 jobs.query request. Only valid when used in\n",
            "                                 combination with --rpc.\n",
            "                               --[no]require_cache: Whether to only run the\n",
            "                                 query if it is already cached.\n",
            "                               --[no]require_partition_filter: Whether to\n",
            "                                 require partition filter for queries over this\n",
            "                                 table. Only apply to partitioned table.\n",
            "                               --[no]rpc: If true, use rpc-style query API\n",
            "                                 instead of jobs.insert().\n",
            "                                 (default: 'false')\n",
            "                               --schedule: Scheduled query schedule. If non-\n",
            "                                 empty, this query requests could create a\n",
            "                                 scheduled query understand the customer\n",
            "                                 project. See https://cloud.google.com/appengine\n",
            "                                 /docs/flexible/python/scheduling-jobs-with-\n",
            "                                 cron-yaml#the_schedule_format for the schedule\n",
            "                                 format\n",
            "                               --schema_update_option: Can be specified when\n",
            "                                 append to a table, or replace a table\n",
            "                                 partition. When specified, the schema of the\n",
            "                                 destination table will be updated with the\n",
            "                                 schema of the new data. One or more of the\n",
            "                                 following options can be specified:\n",
            "                                 ALLOW_FIELD_ADDITION: allow new fields to be\n",
            "                                 added\n",
            "                                 ALLOW_FIELD_RELAXATION: allow relaxing required\n",
            "                                 fields to nullable;\n",
            "                                 repeat this option to specify a list of values\n",
            "                               --script_statement_byte_budget: Maximum bytes\n",
            "                                 that can be billed for any statement in a\n",
            "                                 script.\n",
            "                               --script_statement_timeout_ms: Maximum time to\n",
            "                                 complete each statement in a script.\n",
            "                               -s,--start_row: First row to return in the\n",
            "                                 result.\n",
            "                                 (default: '0')\n",
            "                                 (an integer)\n",
            "                               --target_dataset: Target dataset used to create\n",
            "                                 scheduled query.\n",
            "                               --time_partitioning_expiration: Enables time\n",
            "                                 based partitioning on the table and sets the\n",
            "                                 number of seconds for which to keep the storage\n",
            "                                 for the partitions in the table. The storage in\n",
            "                                 a partition will have an expiration time of its\n",
            "                                 partition time plus this value.\n",
            "                                 (an integer)\n",
            "                               --time_partitioning_field: Enables time based\n",
            "                                 partitioning on the table and the table will be\n",
            "                                 partitioned based on the value of this field.\n",
            "                                 If time based partitioning is enabled without\n",
            "                                 this value, the table will be partitioned based\n",
            "                                 on the loading time.\n",
            "                               --time_partitioning_type: Enables time based\n",
            "                                 partitioning on the table and set the type. The\n",
            "                                 default value is DAY, which will generate one\n",
            "                                 partition per day. Other supported values are\n",
            "                                 HOUR, MONTH, and YEAR.\n",
            "                               --udf_resource: The URI or local filesystem path\n",
            "                                 of a code file to load and evaluate immediately\n",
            "                                 as a User-Defined Function resource.;\n",
            "                                 repeat this option to specify a list of values\n",
            "                               --[no]use_cache: Whether to use the query cache\n",
            "                                 to avoid rerunning cached queries.\n",
            "                               --[no]use_legacy_sql: Whether to use Legacy SQL\n",
            "                                 for the query. If not set, the default value is\n",
            "                                 true.\n",
            "\n",
            "                             absl.flags:\n",
            "                               --flagfile: Insert flag definitions from the\n",
            "                                 given file into the command line.\n",
            "                                 (default: '')\n",
            "                               --undefok: comma-separated list of flag names\n",
            "                                 that it is okay to specify on the command line\n",
            "                                 even if the program does not define a flag with\n",
            "                                 that name.  IMPORTANT: flags in this list that\n",
            "                                 have arguments MUST use the --flag=value\n",
            "                                 format.\n",
            "                                 (default: '')\n",
            "\n",
            "\n",
            "Run 'bq.py --help' to get help for global flags.\n",
            "Run 'bq.py help' to see the list of available commands.\n",
            "\n"
          ],
          "name": "stdout"
        }
      ]
    },
    {
      "cell_type": "code",
      "metadata": {
        "id": "XhAlHJaPH5FY",
        "colab": {
          "base_uri": "https://localhost:8080/"
        },
        "outputId": "fe80160c-e126-4cb4-ac18-e96d2cd614fb"
      },
      "source": [
        "# view the schema of a table\n",
        "run('bq show --schema --format=prettyjson ardent-cycling-243415:ztf_alerts.salt2')\n",
        "# run('bq show --schema --format=prettyjson ardent-cycling-243415:ztf_alerts.alerts')\n",
        "\n",
        "# Note: The first time you make a call with `bq` you will ask you to \n",
        "# initialize a .bigqueryrc configuration file. Follow the directions."
      ],
      "execution_count": 44,
      "outputs": [
        {
          "output_type": "stream",
          "text": [
            ">> bq show --schema --format=prettyjson ardent-cycling-243415:ztf_alerts.salt2\n",
            "\n",
            "Welcome to BigQuery! This script will walk you through the \n",
            "process of initializing your .bigqueryrc configuration file.\n",
            "\n",
            "First, we need to set up your credentials if they do not \n",
            "already exist.\n",
            "\n",
            "Credential creation complete. Now we will select a default project.\n",
            "\n",
            "List of projects:\n",
            "[\n",
            "  {\n",
            "    \"#\": 1, \n",
            "    \"friendlyName\": \"Budget\", \n",
            "    \"projectId\": \"budget-242622\"\n",
            "  }, \n",
            "  {\n",
            "    \"#\": 2, \n",
            "    \"friendlyName\": \"Kafka to BigQuery\", \n",
            "    \"projectId\": \"kafka-to-bigquery\"\n",
            "  }, \n",
            "  {\n",
            "    \"#\": 3, \n",
            "    \"friendlyName\": \"My First Project\", \n",
            "    \"projectId\": \"smiling-timing-239918\"\n",
            "  }, \n",
            "  {\n",
            "    \"#\": 4, \n",
            "    \"friendlyName\": \"Pitt-Broker\", \n",
            "    \"projectId\": \"pitt-broker\"\n",
            "  }, \n",
            "  {\n",
            "    \"#\": 5, \n",
            "    \"friendlyName\": \"pitt-google-broker-prototype\", \n",
            "    \"projectId\": \"ardent-cycling-243415\"\n",
            "  }\n",
            "]\n",
            "Found multiple projects. Please enter a selection for \n",
            "which should be the default, or leave blank to not \n",
            "set a default.\n",
            "\n",
            "Enter a selection (1 - 5): 5\n",
            "\n",
            "BigQuery configuration complete! Type \"bq\" to get started.\n",
            "\n",
            "[\n",
            "  {\n",
            "    \"mode\": \"NULLABLE\",\n",
            "    \"name\": \"objectId\",\n",
            "    \"type\": \"STRING\"\n",
            "  },\n",
            "  {\n",
            "    \"mode\": \"NULLABLE\",\n",
            "    \"name\": \"candid\",\n",
            "    \"type\": \"INTEGER\"\n",
            "  },\n",
            "  {\n",
            "    \"mode\": \"NULLABLE\",\n",
            "    \"name\": \"success\",\n",
            "    \"type\": \"INTEGER\"\n",
            "  },\n",
            "  {\n",
            "    \"mode\": \"NULLABLE\",\n",
            "    \"name\": \"ncall\",\n",
            "    \"type\": \"INTEGER\"\n",
            "  },\n",
            "  {\n",
            "    \"mode\": \"NULLABLE\",\n",
            "    \"name\": \"chisq\",\n",
            "    \"type\": \"FLOAT\"\n",
            "  },\n",
            "  {\n",
            "    \"mode\": \"NULLABLE\",\n",
            "    \"name\": \"ndof\",\n",
            "    \"type\": \"INTEGER\"\n",
            "  },\n",
            "  {\n",
            "    \"mode\": \"NULLABLE\",\n",
            "    \"name\": \"z\",\n",
            "    \"type\": \"FLOAT\"\n",
            "  },\n",
            "  {\n",
            "    \"mode\": \"NULLABLE\",\n",
            "    \"name\": \"z_err\",\n",
            "    \"type\": \"FLOAT\"\n",
            "  },\n",
            "  {\n",
            "    \"mode\": \"NULLABLE\",\n",
            "    \"name\": \"t0\",\n",
            "    \"type\": \"FLOAT\"\n",
            "  },\n",
            "  {\n",
            "    \"mode\": \"NULLABLE\",\n",
            "    \"name\": \"t0_err\",\n",
            "    \"type\": \"FLOAT\"\n",
            "  },\n",
            "  {\n",
            "    \"mode\": \"NULLABLE\",\n",
            "    \"name\": \"x0\",\n",
            "    \"type\": \"FLOAT\"\n",
            "  },\n",
            "  {\n",
            "    \"mode\": \"NULLABLE\",\n",
            "    \"name\": \"x0_err\",\n",
            "    \"type\": \"FLOAT\"\n",
            "  },\n",
            "  {\n",
            "    \"mode\": \"NULLABLE\",\n",
            "    \"name\": \"x1\",\n",
            "    \"type\": \"FLOAT\"\n",
            "  },\n",
            "  {\n",
            "    \"mode\": \"NULLABLE\",\n",
            "    \"name\": \"x1_err\",\n",
            "    \"type\": \"FLOAT\"\n",
            "  },\n",
            "  {\n",
            "    \"mode\": \"NULLABLE\",\n",
            "    \"name\": \"c\",\n",
            "    \"type\": \"FLOAT\"\n",
            "  },\n",
            "  {\n",
            "    \"mode\": \"NULLABLE\",\n",
            "    \"name\": \"c_err\",\n",
            "    \"type\": \"FLOAT\"\n",
            "  },\n",
            "  {\n",
            "    \"mode\": \"NULLABLE\",\n",
            "    \"name\": \"z_z_cov\",\n",
            "    \"type\": \"FLOAT\"\n",
            "  },\n",
            "  {\n",
            "    \"mode\": \"NULLABLE\",\n",
            "    \"name\": \"z_t0_cov\",\n",
            "    \"type\": \"FLOAT\"\n",
            "  },\n",
            "  {\n",
            "    \"mode\": \"NULLABLE\",\n",
            "    \"name\": \"z_x0_cov\",\n",
            "    \"type\": \"FLOAT\"\n",
            "  },\n",
            "  {\n",
            "    \"mode\": \"NULLABLE\",\n",
            "    \"name\": \"z_x1_cov\",\n",
            "    \"type\": \"FLOAT\"\n",
            "  },\n",
            "  {\n",
            "    \"mode\": \"NULLABLE\",\n",
            "    \"name\": \"z_c_cov\",\n",
            "    \"type\": \"FLOAT\"\n",
            "  },\n",
            "  {\n",
            "    \"mode\": \"NULLABLE\",\n",
            "    \"name\": \"t0_z_cov\",\n",
            "    \"type\": \"FLOAT\"\n",
            "  },\n",
            "  {\n",
            "    \"mode\": \"NULLABLE\",\n",
            "    \"name\": \"t0_t0_cov\",\n",
            "    \"type\": \"FLOAT\"\n",
            "  },\n",
            "  {\n",
            "    \"mode\": \"NULLABLE\",\n",
            "    \"name\": \"t0_x0_cov\",\n",
            "    \"type\": \"FLOAT\"\n",
            "  },\n",
            "  {\n",
            "    \"mode\": \"NULLABLE\",\n",
            "    \"name\": \"t0_x1_cov\",\n",
            "    \"type\": \"FLOAT\"\n",
            "  },\n",
            "  {\n",
            "    \"mode\": \"NULLABLE\",\n",
            "    \"name\": \"t0_c_cov\",\n",
            "    \"type\": \"FLOAT\"\n",
            "  },\n",
            "  {\n",
            "    \"mode\": \"NULLABLE\",\n",
            "    \"name\": \"x0_z_cov\",\n",
            "    \"type\": \"FLOAT\"\n",
            "  },\n",
            "  {\n",
            "    \"mode\": \"NULLABLE\",\n",
            "    \"name\": \"x0_t0_cov\",\n",
            "    \"type\": \"FLOAT\"\n",
            "  },\n",
            "  {\n",
            "    \"mode\": \"NULLABLE\",\n",
            "    \"name\": \"x0_x0_cov\",\n",
            "    \"type\": \"FLOAT\"\n",
            "  },\n",
            "  {\n",
            "    \"mode\": \"NULLABLE\",\n",
            "    \"name\": \"x0_x1_cov\",\n",
            "    \"type\": \"FLOAT\"\n",
            "  },\n",
            "  {\n",
            "    \"mode\": \"NULLABLE\",\n",
            "    \"name\": \"x0_c_cov\",\n",
            "    \"type\": \"FLOAT\"\n",
            "  },\n",
            "  {\n",
            "    \"mode\": \"NULLABLE\",\n",
            "    \"name\": \"x1_z_cov\",\n",
            "    \"type\": \"FLOAT\"\n",
            "  },\n",
            "  {\n",
            "    \"mode\": \"NULLABLE\",\n",
            "    \"name\": \"x1_t0_cov\",\n",
            "    \"type\": \"FLOAT\"\n",
            "  },\n",
            "  {\n",
            "    \"mode\": \"NULLABLE\",\n",
            "    \"name\": \"x1_x0_cov\",\n",
            "    \"type\": \"FLOAT\"\n",
            "  },\n",
            "  {\n",
            "    \"mode\": \"NULLABLE\",\n",
            "    \"name\": \"x1_x1_cov\",\n",
            "    \"type\": \"FLOAT\"\n",
            "  },\n",
            "  {\n",
            "    \"mode\": \"NULLABLE\",\n",
            "    \"name\": \"x1_c_cov\",\n",
            "    \"type\": \"FLOAT\"\n",
            "  },\n",
            "  {\n",
            "    \"mode\": \"NULLABLE\",\n",
            "    \"name\": \"c_z_cov\",\n",
            "    \"type\": \"FLOAT\"\n",
            "  },\n",
            "  {\n",
            "    \"mode\": \"NULLABLE\",\n",
            "    \"name\": \"c_t0_cov\",\n",
            "    \"type\": \"FLOAT\"\n",
            "  },\n",
            "  {\n",
            "    \"mode\": \"NULLABLE\",\n",
            "    \"name\": \"c_x0_cov\",\n",
            "    \"type\": \"FLOAT\"\n",
            "  },\n",
            "  {\n",
            "    \"mode\": \"NULLABLE\",\n",
            "    \"name\": \"c_x1_cov\",\n",
            "    \"type\": \"FLOAT\"\n",
            "  },\n",
            "  {\n",
            "    \"mode\": \"NULLABLE\",\n",
            "    \"name\": \"c_c_cov\",\n",
            "    \"type\": \"FLOAT\"\n",
            "  },\n",
            "  {\n",
            "    \"mode\": \"NULLABLE\",\n",
            "    \"name\": \"plot_lc_bytes\",\n",
            "    \"type\": \"BYTES\"\n",
            "  }\n",
            "]\n",
            "\n"
          ],
          "name": "stdout"
        }
      ]
    },
    {
      "cell_type": "code",
      "metadata": {
        "id": "dFTI682_kAtG",
        "colab": {
          "base_uri": "https://localhost:8080/"
        },
        "outputId": "a2fe829c-746c-478f-cb24-e6aabb8c068c"
      },
      "source": [
        "# Query\n",
        "\n",
        "# Here we query the salt2 database, \n",
        "#   group results by objectId,\n",
        "#   and return the objectId, avg redshift, and average chi squared per degree of freedom\n",
        "\n",
        "# first we do a dry_run by including the flag --dry_run\n",
        "bq_query = \"\"\"bq query \\\n",
        "--dry_run \\\n",
        "--use_legacy_sql=false \\\n",
        "'SELECT \n",
        "    objectId, \n",
        "    AVG(z) as z_avg, \n",
        "    AVG(chisq/ndof) as chisq_per_dof_avg\n",
        "FROM \n",
        "    `ardent-cycling-243415.ztf_alerts.salt2`\n",
        "WHERE \n",
        "    ndof>0 and chisq/ndof<2\n",
        "GROUP BY \n",
        "    objectId'\n",
        "\"\"\"\n",
        "\n",
        "run(bq_query)\n",
        "# Note: to execute this directly in the command-line, enter everything \n",
        "# contained within the triple quotes."
      ],
      "execution_count": 45,
      "outputs": [
        {
          "output_type": "stream",
          "text": [
            ">> bq query --dry_run --use_legacy_sql=false 'SELECT \n",
            "    objectId, \n",
            "    AVG(z) as z_avg, \n",
            "    AVG(chisq/ndof) as chisq_per_dof_avg\n",
            "FROM \n",
            "    `ardent-cycling-243415.ztf_alerts.salt2`\n",
            "WHERE \n",
            "    ndof>0 and chisq/ndof<2\n",
            "GROUP BY \n",
            "    objectId'\n",
            "\n",
            "Query successfully validated. Assuming the tables are not modified, running this query will process 4754180 bytes of data.\n",
            "\n"
          ],
          "name": "stdout"
        }
      ]
    },
    {
      "cell_type": "code",
      "metadata": {
        "id": "cPuGfMbPiUPN",
        "colab": {
          "base_uri": "https://localhost:8080/"
        },
        "outputId": "ec24eab4-0af9-4f75-8ab0-5a2508a031af"
      },
      "source": [
        "# now let's execute the query\n",
        "\n",
        "bq_query = \"\"\"bq query \\\n",
        "--use_legacy_sql=false \\\n",
        "'SELECT \n",
        "    objectId, \n",
        "    AVG(z) as z_avg, \n",
        "    AVG(chisq/ndof) as chisq_per_dof_avg\n",
        "FROM \n",
        "    `ardent-cycling-243415.ztf_alerts.salt2`\n",
        "WHERE \n",
        "    ndof>0 and chisq/ndof<2\n",
        "GROUP BY \n",
        "    objectId\n",
        "LIMIT\n",
        "    10'\n",
        "\"\"\"\n",
        "\n",
        "run(bq_query)"
      ],
      "execution_count": 46,
      "outputs": [
        {
          "output_type": "stream",
          "text": [
            ">> bq query --use_legacy_sql=false 'SELECT \n",
            "    objectId, \n",
            "    AVG(z) as z_avg, \n",
            "    AVG(chisq/ndof) as chisq_per_dof_avg\n",
            "FROM \n",
            "    `ardent-cycling-243415.ztf_alerts.salt2`\n",
            "WHERE \n",
            "    ndof>0 and chisq/ndof<2\n",
            "GROUP BY \n",
            "    objectId\n",
            "LIMIT\n",
            "    10'\n",
            "\n",
            "Waiting on bqjob_r40d93fdca9c336d8_0000017891a4dc06_1 ... (0s) Current status: DONE   \n",
            "+--------------+---------------------+---------------------+\n",
            "|   objectId   |        z_avg        |  chisq_per_dof_avg  |\n",
            "+--------------+---------------------+---------------------+\n",
            "| ZTF18acedtrr | 0.11041207724930684 |   0.765894240925551 |\n",
            "| ZTF18acwgwjx |  0.0782981140542461 |  1.2391314442006995 |\n",
            "| ZTF20acurtpj | 0.07000531275558222 | 0.16031656945872366 |\n",
            "| ZTF18abuqhmh | 0.09126356957883959 |  1.0055375311096375 |\n",
            "| ZTF18aczvqcr | 0.15267833194935965 |  0.8574954970959167 |\n",
            "| ZTF20acpndgt | 0.10341712389258209 |  0.4774079108076841 |\n",
            "| ZTF18acexfph |  0.0869755266891918 |   1.315439791990906 |\n",
            "| ZTF18aadvwyz | 0.06711704624315813 | 0.18060054434423845 |\n",
            "| ZTF20acvjlev | 0.10763917087179575 |  1.0136973259814654 |\n",
            "| ZTF20achncvv | 0.10928037677296057 |  0.7850357863836193 |\n",
            "+--------------+---------------------+---------------------+\n",
            "\n"
          ],
          "name": "stdout"
        }
      ]
    },
    {
      "cell_type": "markdown",
      "metadata": {
        "id": "2Qu69YBOtfkM"
      },
      "source": [
        "---"
      ]
    },
    {
      "cell_type": "markdown",
      "metadata": {
        "id": "jwxBVDcgVsOZ"
      },
      "source": [
        "# 5) File Storage (Cloud Storage)"
      ]
    },
    {
      "cell_type": "markdown",
      "metadata": {
        "id": "DxcGxp_1WkK8"
      },
      "source": [
        "- grab cutouts from Cloud Storage\n",
        "\n",
        "- [Quickstart: Using the gsutil tool](https://cloud.google.com/storage/docs/quickstart-gsutil)"
      ]
    },
    {
      "cell_type": "code",
      "metadata": {
        "id": "HtBrGafqO7gr"
      },
      "source": [
        "#--- Download an alert from GCS bucket\n",
        "\n",
        "bucket_name = f'{pgb_project_id}_ztf_alert_avro_bucket'\n",
        "fname_prefix = 'ztf_20210402'  # this will get all alerts from this day\n",
        "delimiter = '/'\n",
        "\n",
        "# Note: I will be renaming all of the files (before the workshop) to:\n",
        "# {objectId}.{candid}.{ztf_topic}.avro\n",
        "# so they can be accessed more easily.\n",
        "\n",
        "storage_client = storage.Client(project=my_project_id)\n",
        "bucket = storage_client.get_bucket(bucket_name)\n",
        "blobs = bucket.list_blobs(prefix=fname_prefix, delimiter=delimiter)\n",
        "\n",
        "# Download the file to a destination\n",
        "# Iterating through for loop one by one using API call\n",
        "for b, blob in enumerate(blobs):\n",
        "    local_path = f'{colabpath_noesc}/{blob.name}'\n",
        "    blob.download_to_filename(local_path)\n",
        "    if b>10:\n",
        "        break"
      ],
      "execution_count": 48,
      "outputs": []
    },
    {
      "cell_type": "code",
      "metadata": {
        "id": "pEZuY3Gf8czB",
        "colab": {
          "base_uri": "https://localhost:8080/",
          "height": 1000
        },
        "outputId": "75ec08f4-25bd-45ad-df46-37ef9f36d0a2"
      },
      "source": [
        "# Open the files and make some plots\n",
        "paths = Path(colabpath_noesc).glob('*.avro')\n",
        "for path in paths:\n",
        "    with open(path, 'rb') as fin:\n",
        "        alert_list = [r for r in fastavro.reader(fin)]\n",
        "    alert_dict = alert_list[0]  # extract the single alert\n",
        "    \n",
        "    print(alert_dict['candid'])\n",
        "\n",
        "    # with warnings.catch_warnings():\n",
        "        # warnings.simplefilter(\"ignore\")\n",
        "\n",
        "    pgb.figures.plot_cutouts(alert_dict)  # science, template, and difference \n",
        "    \n",
        "    dflc = pgb.utils.alert_dict_to_dataframe(alert_dict)\n",
        "    pgb.figures.plot_lightcurve(dflc)\n",
        "    \n",
        "    pgb.figures.plot_lightcurve_cutouts(alert_dict)\n",
        "    \n",
        "    break"
      ],
      "execution_count": 10,
      "outputs": [
        {
          "output_type": "stream",
          "text": [
            "1551269912915010035\n",
            "INFO: Auto-setting vmin to -8.908e+02 [aplpy.core]\n",
            "INFO: Auto-setting vmax to  1.114e+04 [aplpy.core]\n"
          ],
          "name": "stdout"
        },
        {
          "output_type": "stream",
          "text": [
            "WARNING: No WCS information found in header - using pixel coordinates [aplpy.header]\n",
            "WARNING: No WCS information found in header - using pixel coordinates [aplpy.header]\n"
          ],
          "name": "stderr"
        },
        {
          "output_type": "stream",
          "text": [
            "INFO: Auto-setting vmin to -8.661e+02 [aplpy.core]\n",
            "INFO: Auto-setting vmax to  1.112e+04 [aplpy.core]\n"
          ],
          "name": "stdout"
        },
        {
          "output_type": "stream",
          "text": [
            "WARNING: No WCS information found in header - using pixel coordinates [aplpy.header]\n"
          ],
          "name": "stderr"
        },
        {
          "output_type": "stream",
          "text": [
            "INFO: Auto-setting vmin to -1.989e+02 [aplpy.core]\n",
            "INFO: Auto-setting vmax to  4.229e+02 [aplpy.core]\n"
          ],
          "name": "stdout"
        },
        {
          "output_type": "stream",
          "text": [
            "WARNING: No WCS information found in header - using pixel coordinates [aplpy.header]\n"
          ],
          "name": "stderr"
        },
        {
          "output_type": "stream",
          "text": [
            "INFO: Auto-setting vmin to -8.908e+02 [aplpy.core]\n",
            "INFO: Auto-setting vmax to  1.114e+04 [aplpy.core]\n"
          ],
          "name": "stdout"
        },
        {
          "output_type": "stream",
          "text": [
            "WARNING: No WCS information found in header - using pixel coordinates [aplpy.header]\n"
          ],
          "name": "stderr"
        },
        {
          "output_type": "stream",
          "text": [
            "INFO: Auto-setting vmin to -8.661e+02 [aplpy.core]\n",
            "INFO: Auto-setting vmax to  1.112e+04 [aplpy.core]\n"
          ],
          "name": "stdout"
        },
        {
          "output_type": "stream",
          "text": [
            "WARNING: No WCS information found in header - using pixel coordinates [aplpy.header]\n"
          ],
          "name": "stderr"
        },
        {
          "output_type": "stream",
          "text": [
            "INFO: Auto-setting vmin to -1.989e+02 [aplpy.core]\n",
            "INFO: Auto-setting vmax to  4.229e+02 [aplpy.core]\n"
          ],
          "name": "stdout"
        },
        {
          "output_type": "display_data",
          "data": {
            "image/png": "[encoded data removed]",
            "text/plain": [
              "<Figure size 864x288 with 3 Axes>"
            ]
          },
          "metadata": {
            "tags": [],
            "needs_background": "light"
          }
        },
        {
          "output_type": "display_data",
          "data": {
            "image/png": "[encoded data removed]",
            "text/plain": [
              "<Figure size 432x288 with 1 Axes>"
            ]
          },
          "metadata": {
            "tags": [],
            "needs_background": "light"
          }
        },
        {
          "output_type": "display_data",
          "data": {
            "image/png": "[encoded data removed]",
            "text/plain": [
              "<Figure size 1152x288 with 4 Axes>"
            ]
          },
          "metadata": {
            "tags": [],
            "needs_background": "light"
          }
        }
      ]
    },
    {
      "cell_type": "markdown",
      "metadata": {
        "id": "RlnP_NoGvnQt"
      },
      "source": [
        "---"
      ]
    },
    {
      "cell_type": "markdown",
      "metadata": {
        "id": "rm4lULOsVz3I"
      },
      "source": [
        "# 6) Message streams (Pub/Sub)"
      ]
    },
    {
      "cell_type": "markdown",
      "metadata": {
        "id": "bxdGsenapMZR"
      },
      "source": [
        "__This section is not ready for review.__ \n",
        "\n",
        "- Python\n",
        "  - unpack into dict"
      ]
    },
    {
      "cell_type": "markdown",
      "metadata": {
        "id": "hEXE5Ek8vkkX"
      },
      "source": [
        "---"
      ]
    },
    {
      "cell_type": "markdown",
      "metadata": {
        "id": "VbkGy7YPV8IH"
      },
      "source": [
        "# 7) Analyze: Using Apache Beam data pipelines (BigQuery and Pub/Sub)"
      ]
    },
    {
      "cell_type": "markdown",
      "metadata": {
        "id": "TEMBJBYKsiVW"
      },
      "source": [
        "[Apache Beam](https://beam.apache.org/) is an SDK that facilitates writing and executing data pipelines.\n",
        "The same pipeline can be attached to different sources (e.g., BigQuery and Pub/Sub) and run in batch or streaming mode.\n",
        "In this tutorial, we will demonstrate these pipelines and the\n",
        "`pgb_utils` tools that facilitate Beam access to our databases and streams.\n",
        "\n",
        "Links to more information:\n",
        "- [Apache Beam Programming Guide](https://beam.apache.org/documentation/programming-guide/) (very useful!)\n",
        "- [Colab Snippets: Apache Beam](https://colab.research.google.com/github/apache/beam/blob/master/examples/notebooks/get-started/try-apache-beam-py.ipynb)\n",
        "\n",
        "Note: We will execute pipelines directly in the notebook, but the same pipelines can be executed on a local machine or various distributed systems using different \"runners\". \n",
        "For example, see \n",
        "[Apache Flink](https://beam.apache.org/documentation/runners/flink/), \n",
        "[Apache Spark](https://beam.apache.org/documentation/runners/spark/), \n",
        "[Google Dataflow](https://beam.apache.org/documentation/runners/dataflow/), and\n",
        "[DirectRunner](https://beam.apache.org/documentation/runners/direct/) (the last being the default, which we use below).\n",
        "The user sets a few configurations and the runner manages the pipeline execution and the resources (e.g., VM's) and environments needed to run it."
      ]
    },
    {
      "cell_type": "markdown",
      "metadata": {
        "id": "uji-PPVDugcY"
      },
      "source": [
        "---"
      ]
    },
    {
      "cell_type": "markdown",
      "metadata": {
        "id": "O3yXrkBVlNKn"
      },
      "source": [
        "## 7a) Query object histories and run a Beam pipeline on the results"
      ]
    },
    {
      "cell_type": "code",
      "metadata": {
        "id": "FNnbCyEVqiZq"
      },
      "source": [
        "# Define some functions/classes to process our data.\n",
        "# The structure of these will be discussed later.\n",
        "\n",
        "# Filter for likely solar system objects\n",
        "def nearby_ssobject(lcdf):\n",
        "    \"\"\"Filter that keeps only objects that are within 5\" of a known \n",
        "    solar system object. \n",
        "    \"\"\"\n",
        "    ssdistnr = lcdf['ssdistnr'].mean()\n",
        "    ssobject_is_near = (ssdistnr > 0) and (ssdistnr < 5)\n",
        "    return ssobject_is_near\n",
        "\n",
        "\n",
        "# Calculate the mean magnitude, per passband\n",
        "class calc_mean_mags(beam.DoFn):\n",
        "    \"\"\"Class that wraps our processing function which calculates \n",
        "    mean magnitudes per passband (\"fid\" is filter ID).\n",
        "    \"\"\"\n",
        "    def process(self, lcdf):\n",
        "        meanmags = lcdf[['fid','magpsf']].groupby('fid').mean()\n",
        "\n",
        "        # We will write this to a file, so let's format it appropriately.\n",
        "        # One line per item in the list will be written.\n",
        "        output = [f\"{lcdf.objectId},{fid},{row['magpsf']}\" for fid, row in meanmags.iterrows()]\n",
        "\n",
        "        return output"
      ],
      "execution_count": 57,
      "outputs": []
    },
    {
      "cell_type": "code",
      "metadata": {
        "id": "Hng_ZsO4VDk3"
      },
      "source": [
        "# Set pipeline configs\n",
        "\n",
        "# Create a SQL query statement to retrieve some lightcurve info.\n",
        "# This query defines the data that will be input to the pipeline.\n",
        "columns = ['jd', 'fid', 'magpsf', 'sigmapsf', 'ssdistnr']\n",
        "limit = 2000\n",
        "query = pgb.bigquery.object_history_sql_statement(columns, limit=limit)  # str\n",
        "\n",
        "# some keyword args for our pipeline's \"read\" (input) function\n",
        "read_args = {\n",
        "    'query': query, \n",
        "    'project': pgb_project_id,  \n",
        "    'use_standard_sql': True, \n",
        "    'gcs_location': 'gs://ardent-cycling-243415_dataflow-test',\n",
        "        # used as temporary storage for the query results\n",
        "    # 'validate': True\n",
        "}\n",
        "\n",
        "# path to write the results\n",
        "outputs_prefix = f'{colabpath}/outputs/meanmags'\n",
        "beam_outputs_prefix = f'{colabpath_noesc}/outputs/meanmags'"
      ],
      "execution_count": 58,
      "outputs": []
    },
    {
      "cell_type": "code",
      "metadata": {
        "id": "fjV7ayLbH7fL",
        "colab": {
          "base_uri": "https://localhost:8080/",
          "height": 106
        },
        "outputId": "dd2051a8-0c30-457e-fd64-75c1d4e79cf1"
      },
      "source": [
        "# Run a batch pipeline based on our query statement\n",
        "\n",
        "with beam.Pipeline() as pipeline:\n",
        "    (\n",
        "        pipeline\n",
        "        # read lightcurves into the pipeline\n",
        "        | 'Read BigQuery' >> beam.io.ReadFromBigQuery(**read_args)\n",
        "        # extract the lightcurves into a DataFrame\n",
        "        | 'Extract Lightcurve df' >> beam.ParDo(pgb.beam.ExtractHistoryDf())\n",
        "        # filter, keep alerts likely to be a solar system object\n",
        "        | 'nearby ssobject' >> beam.Filter(nearby_ssobject)\n",
        "        # do some processing, calculate mean magnitudes per band\n",
        "        | 'calc mean mags' >> beam.ParDo(calc_mean_mags())\n",
        "        # save the results to a text file\n",
        "        | 'Write results' >> beam.io.WriteToText(beam_outputs_prefix)\n",
        "    )"
      ],
      "execution_count": 59,
      "outputs": [
        {
          "output_type": "stream",
          "text": [
            "WARNING:apache_beam.runners.interactive.interactive_environment:Dependencies required for Interactive Beam PCollection visualization are not available, please use: `pip install apache-beam[interactive]` to install necessary dependencies to enable all data visualization features.\n"
          ],
          "name": "stderr"
        },
        {
          "output_type": "display_data",
          "data": {
            "application/javascript": [
              "\n",
              "        if (typeof window.interactive_beam_jquery == 'undefined') {\n",
              "          var jqueryScript = document.createElement('script');\n",
              "          jqueryScript.src = 'https://code.jquery.com/jquery-3.4.1.slim.min.js';\n",
              "          jqueryScript.type = 'text/javascript';\n",
              "          jqueryScript.onload = function() {\n",
              "            var datatableScript = document.createElement('script');\n",
              "            datatableScript.src = 'https://cdn.datatables.net/1.10.20/js/jquery.dataTables.min.js';\n",
              "            datatableScript.type = 'text/javascript';\n",
              "            datatableScript.onload = function() {\n",
              "              window.interactive_beam_jquery = jQuery.noConflict(true);\n",
              "              window.interactive_beam_jquery(document).ready(function($){\n",
              "                \n",
              "              });\n",
              "            }\n",
              "            document.head.appendChild(datatableScript);\n",
              "          };\n",
              "          document.head.appendChild(jqueryScript);\n",
              "        } else {\n",
              "          window.interactive_beam_jquery(document).ready(function($){\n",
              "            \n",
              "          });\n",
              "        }"
            ]
          },
          "metadata": {
            "tags": []
          }
        },
        {
          "output_type": "stream",
          "text": [
            "/usr/local/lib/python3.7/dist-packages/apache_beam/io/gcp/bigquery.py:1881: BeamDeprecationWarning: options is deprecated since First stable release. References to <pipeline>.options will not be supported\n",
            "  temp_location = pcoll.pipeline.options.view_as(\n",
            "WARNING:apache_beam.io.gcp.bigquery_tools:Dataset ardent-cycling-243415:temp_dataset_6eae009fd9524ffb92b92e95ba4281fe does not exist so we will create it as temporary with location=US\n"
          ],
          "name": "stderr"
        }
      ]
    },
    {
      "cell_type": "code",
      "metadata": {
        "id": "wvqRrrFc1PXL",
        "colab": {
          "base_uri": "https://localhost:8080/"
        },
        "outputId": "228c53bf-6eb1-4a7b-91ed-7b6cd89b164d"
      },
      "source": [
        "# Sample the first 20 results, remember there are no ordering guarantees.\n",
        "run('head -n 20 {}-00000-of-*'.format(outputs_prefix))"
      ],
      "execution_count": 60,
      "outputs": [
        {
          "output_type": "stream",
          "text": [
            ">> head -n 20 /content/drive/MyDrive/Colab\\ Notebooks/PGB/outputs/meanmags-00000-of-*\n",
            "ZTF20acpkjpf,1,20.116558074951172\n",
            "ZTF20acpixou,1,19.511146545410156\n",
            "ZTF20acpmyej,1,20.21998405456543\n",
            "ZTF20acpkdqo,1,19.800033569335938\n",
            "ZTF20acrhznw,1,19.685880661010742\n",
            "ZTF20acllrep,1,19.79039764404297\n",
            "ZTF20acplfey,2,19.766691207885742\n",
            "ZTF20acpjhxb,2,18.87275505065918\n",
            "ZTF20acrfcfx,2,19.88528060913086\n",
            "ZTF20acpmdrz,2,19.91057586669922\n",
            "ZTF20acrevof,2,20.22295379638672\n",
            "ZTF20acpmdyu,2,20.09497833251953\n",
            "ZTF20acplaop,2,19.957326889038086\n",
            "ZTF20acpkwfe,2,20.26532554626465\n",
            "ZTF20acrfwnn,2,18.97828483581543\n",
            "ZTF20acpmayv,2,20.083660125732422\n",
            "ZTF20acqoozt,2,19.659231185913086\n",
            "ZTF20acrfzws,2,20.51703453063965\n",
            "ZTF20acpkysn,2,20.35500717163086\n",
            "ZTF20acpjfag,2,19.82427406311035\n",
            "\n"
          ],
          "name": "stdout"
        }
      ]
    },
    {
      "cell_type": "code",
      "metadata": {
        "id": "ONNdbUO3D38G"
      },
      "source": [
        "# Functions and classes for the user to experiment with.\n",
        "\n",
        "#--- Filters\n",
        "# https://beam.apache.org/documentation/transforms/python/elementwise/filter/\n",
        "def my_lightcurve_filter(lcdf):\n",
        "    \"\"\"\n",
        "    Args:\n",
        "        lcdf (pd.DataFrame): a single object's lightcurve data\n",
        "    Returns:\n",
        "        keep_lightcurve (bool): True to keep lcdf in the pipeline, \n",
        "                                False to filter it out\n",
        "    \"\"\"\n",
        "    # Define your keep_lightcurve bool here\n",
        "    # for example, we can simply keep everything with an average magpsf > 19\n",
        "    avg_mag = lcdf['magpsf'].mean()\n",
        "    keep_lightcurve = avg_mag > 19\n",
        "\n",
        "    return keep_lightcurve\n",
        "\n",
        "#--- Functions for processing data\n",
        "# [provide a link]\n",
        "class my_alert_function(beam.DoFn):\n",
        "    def process(self, alertDict):\n",
        "\n",
        "        # Do your processing here\n",
        "        # for example, we can simply extract the object and candidate ids\n",
        "        oid, cid = alertDict['objectId'], alertDict['candid']\n",
        "        ids = {'objectId': oid, 'candid': cid}\n",
        "\n",
        "        # Return your output as a list; each element in the list must be\n",
        "        # of the same type, and will be processed individually by the next \n",
        "        # stage in the pipeline.\n",
        "        return [ids]"
      ],
      "execution_count": null,
      "outputs": []
    },
    {
      "cell_type": "markdown",
      "metadata": {
        "id": "MIm-yRycqaS3"
      },
      "source": [
        "---\n",
        "__The rest of this section is not ready for review.__"
      ]
    },
    {
      "cell_type": "code",
      "metadata": {
        "id": "SATP2bLkFO43"
      },
      "source": [
        "# give them a pipeline that runs the functions in the previous cell"
      ],
      "execution_count": null,
      "outputs": []
    },
    {
      "cell_type": "markdown",
      "metadata": {
        "id": "rx5d5zYYwl0Q"
      },
      "source": [
        "Alert Pipelines"
      ]
    },
    {
      "cell_type": "code",
      "metadata": {
        "id": "Pd35b64Ge_BC"
      },
      "source": [
        "# Alert pipelines\n",
        "\n",
        "# example filter for likely solar system objects\n",
        "\n",
        "def nearby_ssobject(alert):\n",
        "    candidate = alert['candidate']\n",
        "    ssobject_is_near = (candidate['ssdistnr'] > 0) and (candidate['ssdistnr'] < 5)\n",
        "    return ssobject_is_near\n",
        "\n",
        "# Functions and classes for the user to experiment with.\n",
        "\n",
        "#--- Filters\n",
        "# https://beam.apache.org/documentation/transforms/python/elementwise/filter/\n",
        "\n",
        "# write your own filter\n",
        "def my_alert_filter(alert):\n",
        "    \"\"\"\n",
        "    Args:\n",
        "        alert (dict): a single alert\n",
        "    Returns:\n",
        "        keep_alert (bool): True to keep the alert, False to filter it out\n",
        "    \"\"\"\n",
        "\n",
        "class my_alert_function(beam.DoFn):\n",
        "    def process(self, alertDict):\n",
        "\n",
        "        # Process the alert however you want\n",
        "        # here we simply extract the object and candidate ids\n",
        "        oid, cid = alertDict['objectId'], alertDict['candid']\n",
        "        ids = {'objectId': oid, 'candid': cid}\n",
        "\n",
        "        # Return your output in a list\n",
        "        return [ids]\n"
      ],
      "execution_count": null,
      "outputs": []
    },
    {
      "cell_type": "code",
      "metadata": {
        "id": "n70K2POFNXdj"
      },
      "source": [
        "from apache_beam.options.pipeline_options import PipelineOptions\n",
        "\n",
        "pipeline_options = PipelineOptions(streaming=True)"
      ],
      "execution_count": null,
      "outputs": []
    },
    {
      "cell_type": "code",
      "metadata": {
        "id": "Klc4oXN3Wj2w"
      },
      "source": [
        "topic = f'projects/{pgb_project_id}/topics/ztf_alert_data'\n",
        "\n",
        "with beam.Pipeline(options=pipeline_options) as pipeline:\n",
        "    (\n",
        "        pipeline\n",
        "        # read Pub/Sub messages (bytes) into the pipeline\n",
        "        | 'ReadFromPubSub' >> beam.io.ReadFromPubSub(topic=topic)\n",
        "        # extract the alert bytes into a dict\n",
        "        | 'ExtractAlertDict' >> beam.ParDo(pgb.beam.ExtractAlertDict())\n",
        "        # filter, keep alerts likely to be a solar system object\n",
        "        | 'nearby_ssobject' >> beam.Filter(nearby_ssobject)\n",
        "        # do some processing\n",
        "        | 'my_function' >> beam.ParDo(my_alert_function())\n",
        "    )"
      ],
      "execution_count": null,
      "outputs": []
    },
    {
      "cell_type": "code",
      "metadata": {
        "id": "WmS2_DjrF40D"
      },
      "source": [
        "# Run a Streaming Beam pipeline\n",
        "\n",
        "topic = 'ztf_alert_data-tjr'\n",
        "\n",
        "with beam.Pipeline(options=pipeline_options) as pipeline:\n",
        "    (\n",
        "        pipeline\n",
        "        # read Pub/Sub messages (bytes) into the pipeline\n",
        "        | 'ReadFromPubSub' >> beam.io.ReadFromPubSub(topic=topic)\n",
        "        # extract the alert bytes into a dict\n",
        "        | 'ExtractAlertDict' >> beam.ParDo(extractAlertDict()))\n",
        "        # filter, keep alerts likely to be a solar system object\n",
        "        | 'nearby_ssobject' >> beam.Filter(nearby_ssobject)\n",
        "        # do some processing\n",
        "        | 'my_function' >> beam.ParDo(my_function())\n",
        "    )"
      ],
      "execution_count": null,
      "outputs": []
    },
    {
      "cell_type": "code",
      "metadata": {
        "id": "tlRxC6jHH718"
      },
      "source": [
        ""
      ],
      "execution_count": null,
      "outputs": []
    },
    {
      "cell_type": "code",
      "metadata": {
        "id": "iKb0EvIxH7uR"
      },
      "source": [
        ""
      ],
      "execution_count": null,
      "outputs": []
    },
    {
      "cell_type": "code",
      "metadata": {
        "id": "XHdumMvsPF5a"
      },
      "source": [
        "# Sample the first 20 results, remember there are no ordering guarantees.\n",
        "run('head -n 20 {}-00000-of-*'.format(outputs_prefix))"
      ],
      "execution_count": null,
      "outputs": []
    },
    {
      "cell_type": "markdown",
      "metadata": {
        "id": "YP2HVoo9wVqz"
      },
      "source": [
        "---"
      ]
    },
    {
      "cell_type": "code",
      "metadata": {
        "id": "vVz_RyMSwUzK"
      },
      "source": [
        "#--- Minimal word count (example)\n",
        "import re\n",
        "\n",
        "# download some King Lear data\n",
        "run(f'mkdir -p {colabpath}/data')\n",
        "run(f'gsutil cp gs://dataflow-samples/shakespeare/kinglear.txt {colabpath}/data/')\n",
        "\n",
        "# configs\n",
        "inputs_pattern = f'{colabpath}/data/*'\n",
        "outputs_prefix = f'{colabpath}/outputs/fromcolab3'\n",
        "\n",
        "# Running locally in the DirectRunner.\n",
        "with beam.Pipeline() as pipeline:\n",
        "  (\n",
        "      pipeline\n",
        "      | 'Read lines' >> beam.io.ReadFromText(inputs_pattern)\n",
        "      | 'Find words' >> beam.FlatMap(lambda line: re.findall(r\"[a-zA-Z']+\", line))\n",
        "      | 'Pair words with 1' >> beam.Map(lambda word: (word, 1))\n",
        "      | 'Group and sum' >> beam.CombinePerKey(sum)\n",
        "      | 'Format results' >> beam.Map(lambda word_count: str(word_count))\n",
        "      | 'Write results' >> beam.io.WriteToText(outputs_prefix)\n",
        "  )\n",
        "\n",
        "# Sample the first 20 results, remember there are no ordering guarantees.\n",
        "run('head -n 20 {}-00000-of-*'.format(outputs_prefix))"
      ],
      "execution_count": null,
      "outputs": []
    }
  ]
}