{
  "nbformat": 4,
  "nbformat_minor": 0,
  "metadata": {
    "colab": {
      "name": "PGB-Tutorial.ipynb",
      "provenance": [],
      "collapsed_sections": [
        "WZSn7nx19UVP",
        "aiak8JwvPfcL",
        "3nDSzXh1khgt",
        "jwxBVDcgVsOZ",
        "rm4lULOsVz3I",
        "O3yXrkBVlNKn"
      ],
      "toc_visible": true,
      "include_colab_link": true
    },
    "kernelspec": {
      "name": "python3",
      "display_name": "Python 3"
    }
  },
  "cells": [
    {
      "cell_type": "markdown",
      "metadata": {
        "id": "view-in-github",
        "colab_type": "text"
      },
      "source": [
        "<a href=\"https://colab.research.google.com/github/mwvgroup/Pitt-Google-Broker/blob/u%2Ftjr%2Ftutorials/pgb_utils/tutorials/PGB_Tutorial.ipynb\" target=\"_parent\"><img src=\"https://colab.research.google.com/assets/colab-badge.svg\" alt=\"Open In Colab\"/></a>"
      ]
    },
    {
      "cell_type": "markdown",
      "metadata": {
        "id": "J64Q6pkvYShu"
      },
      "source": [
        "# Pitt-Google Broker\n",
        "---"
      ]
    },
    {
      "cell_type": "markdown",
      "metadata": {
        "id": "WZSn7nx19UVP"
      },
      "source": [
        "# Notebook Outline\n",
        "\n",
        "1. Use Cases\n",
        "2. Overview: Data storage and access\n",
        "3. Setup\n",
        "    - \n",
        "4. Access: Databases\n",
        "    - Get object histories and lightcurves\n",
        "    - \n",
        "\n",
        "\n",
        "\n",
        "`pgb_utils` is a collection of helper functions for accessing, reading, and processing "
      ]
    },
    {
      "cell_type": "markdown",
      "metadata": {
        "id": "85-zdC8xVBci"
      },
      "source": [
        "# 1) Use cases"
      ]
    },
    {
      "cell_type": "markdown",
      "metadata": {
        "id": "4VqAPu3d9zJ5"
      },
      "source": [
        "| Use Case or Task | Section |\n",
        "|---|---|\n",
        "|1. found an object(s) and you want to get it's history | query db, section 3 |\n",
        "|2. ~found an object, want to know it's future~ we're not ready |~pubsub~ either a watchlist or model predictions (which Alerce is now doing).|\n",
        "\n",
        "3. You have found a small group of objects you want to study\n",
        "    - [sec \n",
        "    - you come up with a model and want to look for other objects that are similar: sec 7, use a Beam pipeline to query the db and analyze the results.\n",
        "    - you refine your model and want to monitor the alert stream for new objects displying similar behavior: sec 7 the Pub/Sub streams \n",
        "- don't know the object your looking for. want to do exploration/discover. do the query, then convert to pubsub streams.\n",
        "    - found 10 91-bg's, found particular type of rise behavior. query db, which \n",
        "- michael, statistics on all data.\n",
        "\n",
        "1. past\n",
        "2. future\n",
        "- convert past to future\n",
        "\n",
        "\n",
        "\n"
      ]
    },
    {
      "cell_type": "code",
      "metadata": {
        "id": "_p2K5YMe9DJh"
      },
      "source": [
        ""
      ],
      "execution_count": null,
      "outputs": []
    },
    {
      "cell_type": "markdown",
      "metadata": {
        "id": "whSWzS5yVTfR"
      },
      "source": [
        "# 2) Overview: Data storage and access"
      ]
    },
    {
      "cell_type": "markdown",
      "metadata": {
        "id": "Dnq45aCYshxk"
      },
      "source": [
        "- Databases are stored in [BigQuery](https://cloud.google.com/bigquery) and can be queried via the command-line, Python and other languages.\n",
        "- Alert Avro files are stored in [Cloud Storage](https://cloud.google.com/storage) and can be accessed via the command-line, Python and other languages.\n",
        "- Live alert streams are delivered via [Pub/Sub](https://cloud.google.com/pubsub/docs/overview) and can be accessed via Python.\n",
        "\n",
        "Specifics (e.g., schemas) are detailed in the relevant sections.\n",
        "\n",
        "Our data and services are public. You do not need special access or configuration files from us, but you will need an account on [Google Cloud Platform](https://cloud.google.com/gcp) and you must authenticate yourself to access anything in Google Cloud. The Setup section of this tutorial includes directions for doing this.\n",
        "\n",
        "Google provides command-line tools and APIs  in [Python](https://cloud.google.com/python/references/libraries), etc., which you can use to access our data and services.\n",
        "\n",
        "In addition, we have written a package of Python utilities, `pgb_utils`, which are a collection wrappers for Google's Python API tools and helper functions that give you some options for reading and process the data.\n",
        " \n",
        "Links to more information:\n",
        "- Working with ZTF alerts: [Filtering_alerts.ipynb](https://github.com/ZwickyTransientFacility/ztf-avro-alert/blob/master/notebooks/Filtering_alerts.ipynb)"
      ]
    },
    {
      "cell_type": "markdown",
      "metadata": {
        "id": "6NMjb0oOtxG7"
      },
      "source": [
        "---"
      ]
    },
    {
      "cell_type": "markdown",
      "metadata": {
        "id": "o26tYlYCVfKx"
      },
      "source": [
        "# 3) Setup"
      ]
    },
    {
      "cell_type": "markdown",
      "metadata": {
        "id": "D_FJ8LH4omNX"
      },
      "source": [
        "- Use the [Cloud Resource Manager](https://console.cloud.google.com/cloud-resource-manager) to Create a Cloud Platform project if you do not already have one.\n",
        "- [Enable billing](https://support.google.com/cloud/answer/6293499#enable-billing) for your project\n",
        "- Enable APIs for your project:\n",
        "    - [BigQuery](https://console.cloud.google.com/flows/enableapi?apiid=bigquery)\n",
        "\n",
        "Note: This notebook is intended to run in Google Colab which: \n",
        "1. provides an environment pre-configured with most of the libraries we need, and\n",
        "2. facilitates authentication, avoiding the need to download and configure credentials.\n",
        "\n",
        "(I should provide users with a little more info about how to connect outside of this notebook.)"
      ]
    },
    {
      "cell_type": "code",
      "metadata": {
        "id": "IaFC3geYYfyn"
      },
      "source": [
        "from matplotlib import pyplot as plt\n",
        "import pandas as pd\n",
        "\n",
        "from google.cloud import bigquery\n",
        "from google.cloud import storage\n",
        "from google.colab import auth\n",
        "from google.colab import drive\n"
      ],
      "execution_count": 1,
      "outputs": []
    },
    {
      "cell_type": "code",
      "metadata": {
        "id": "hm8S4HbIQlK1"
      },
      "source": [
        "#--- Colab Setup\n",
        "auth.authenticate_user()  # follow the instructions to authorize Google Cloud SDK \n",
        "\n",
        "\n",
        "#--- Local machine setup\n",
        "# [to do]"
      ],
      "execution_count": 4,
      "outputs": []
    },
    {
      "cell_type": "code",
      "metadata": {
        "id": "DKcureCHfJRu"
      },
      "source": [
        "# Create a function to run and print a shell command.\n",
        "def run(cmd: str):\n",
        "  print('>> {}'.format(cmd))\n",
        "  !{cmd}\n",
        "  print('')"
      ],
      "execution_count": 5,
      "outputs": []
    },
    {
      "cell_type": "code",
      "metadata": {
        "id": "Z2RAwDK1Pz-n",
        "colab": {
          "base_uri": "https://localhost:8080/"
        },
        "outputId": "241c293d-2f35-4e9c-d4df-69d62e091108"
      },
      "source": [
        "# Install apache-beam.\n",
        "run('pip install --quiet apache-beam')\n",
        "run('pip install google-apitools')"
      ],
      "execution_count": 6,
      "outputs": [
        {
          "output_type": "stream",
          "text": [
            ">> pip install --quiet apache-beam\n",
            "\u001b[K     |████████████████████████████████| 9.0MB 5.6MB/s \n",
            "\u001b[K     |████████████████████████████████| 153kB 53.0MB/s \n",
            "\u001b[K     |████████████████████████████████| 829kB 37.4MB/s \n",
            "\u001b[K     |████████████████████████████████| 61kB 6.4MB/s \n",
            "\u001b[K     |████████████████████████████████| 2.2MB 50.0MB/s \n",
            "\u001b[K     |████████████████████████████████| 61kB 6.6MB/s \n",
            "\u001b[K     |████████████████████████████████| 17.7MB 205kB/s \n",
            "\u001b[K     |████████████████████████████████| 112kB 39.2MB/s \n",
            "\u001b[?25h  Building wheel for dill (setup.py) ... \u001b[?25l\u001b[?25hdone\n",
            "  Building wheel for future (setup.py) ... \u001b[?25l\u001b[?25hdone\n",
            "  Building wheel for avro-python3 (setup.py) ... \u001b[?25l\u001b[?25hdone\n",
            "\u001b[31mERROR: multiprocess 0.70.11.1 has requirement dill>=0.3.3, but you'll have dill 0.3.1.1 which is incompatible.\u001b[0m\n",
            "\u001b[31mERROR: google-colab 1.0.0 has requirement requests~=2.23.0, but you'll have requests 2.25.1 which is incompatible.\u001b[0m\n",
            "\u001b[31mERROR: datascience 0.10.6 has requirement folium==0.2.1, but you'll have folium 0.8.3 which is incompatible.\u001b[0m\n",
            "\n",
            ">> pip install google-apitools\n",
            "Collecting google-apitools\n",
            "\u001b[?25l  Downloading https://files.pythonhosted.org/packages/19/da/aefc4cf4c168b5d875344cd9dddc77e3a2d11986b630251af5ce47dd2843/google-apitools-0.5.31.tar.gz (173kB)\n",
            "\u001b[K     |████████████████████████████████| 174kB 6.0MB/s \n",
            "\u001b[?25hRequirement already satisfied: httplib2>=0.8 in /usr/local/lib/python3.7/dist-packages (from google-apitools) (0.17.4)\n",
            "Collecting fasteners>=0.14\n",
            "  Downloading https://files.pythonhosted.org/packages/78/20/c862d765287e9e8b29f826749ebae8775bdca50b2cb2ca079346d5fbfd76/fasteners-0.16-py2.py3-none-any.whl\n",
            "Requirement already satisfied: oauth2client>=1.4.12 in /usr/local/lib/python3.7/dist-packages (from google-apitools) (4.1.3)\n",
            "Requirement already satisfied: six>=1.12.0 in /usr/local/lib/python3.7/dist-packages (from google-apitools) (1.15.0)\n",
            "Requirement already satisfied: rsa>=3.1.4 in /usr/local/lib/python3.7/dist-packages (from oauth2client>=1.4.12->google-apitools) (4.7.2)\n",
            "Requirement already satisfied: pyasn1-modules>=0.0.5 in /usr/local/lib/python3.7/dist-packages (from oauth2client>=1.4.12->google-apitools) (0.2.8)\n",
            "Requirement already satisfied: pyasn1>=0.1.7 in /usr/local/lib/python3.7/dist-packages (from oauth2client>=1.4.12->google-apitools) (0.4.8)\n",
            "Building wheels for collected packages: google-apitools\n",
            "  Building wheel for google-apitools (setup.py) ... \u001b[?25l\u001b[?25hdone\n",
            "  Created wheel for google-apitools: filename=google_apitools-0.5.31-cp37-none-any.whl size=131043 sha256=79b9aa840cee732937f230495a27a098d854dda3fdaa98c5dbe9e37cda7d42b5\n",
            "  Stored in directory: /root/.cache/pip/wheels/3b/43/31/09a9dad88d3aec6fed2d63bd35dfc532fca372e2edec5af5bf\n",
            "Successfully built google-apitools\n",
            "Installing collected packages: fasteners, google-apitools\n",
            "Successfully installed fasteners-0.16 google-apitools-0.5.31\n",
            "\n"
          ],
          "name": "stdout"
        }
      ]
    },
    {
      "cell_type": "code",
      "metadata": {
        "colab": {
          "base_uri": "https://localhost:8080/"
        },
        "id": "pL1HlPaGe5W5",
        "outputId": "46eb24e2-c885-4c64-8d7e-125a39439186"
      },
      "source": [
        "# Install the Pitt-Google Broker utilities package\n",
        "run('python3 -m pip install --index-url https://test.pypi.org/simple/ --no-deps pgb_utils')\n",
        "\n",
        "# This is currently on the test.pypi servers. I should publish to the actual\n",
        "# PyPI soon, but I'd like some code review first.\n",
        "\n",
        "# I have termporarily named this `pgb_utils`, but we should decide on something."
      ],
      "execution_count": 7,
      "outputs": [
        {
          "output_type": "stream",
          "text": [
            ">> python3 -m pip install --index-url https://test.pypi.org/simple/ --no-deps pgb_utils\n",
            "Looking in indexes: https://test.pypi.org/simple/\n",
            "Collecting pgb_utils\n",
            "  Downloading https://test-files.pythonhosted.org/packages/eb/fc/dc4b95a9e78e090e561a0f7cf3b22a822f5aa8a7d94ef81ccbd5b6efffbe/pgb_utils-0.0.3-py3-none-any.whl\n",
            "Installing collected packages: pgb-utils-alpha\n",
            "Successfully installed pgb-utils-alpha-0.0.3\n",
            "\n"
          ],
          "name": "stdout"
        }
      ]
    },
    {
      "cell_type": "code",
      "metadata": {
        "id": "ubkZqvJuuMrR"
      },
      "source": [
        "import pgb_utils as pgb\n",
        "\n",
        "my_project_id = 'ardent-cycling-243415'  # *\n",
        "pgb_project_id = 'ardent-cycling-243415'\n",
        "\n",
        "# *This notebook is written to take an arbitrary GCP project ID, \n",
        "# but I haven't tested it and I don't think the BigQuery tables are even\n",
        "# configured for that yet."
      ],
      "execution_count": 8,
      "outputs": []
    },
    {
      "cell_type": "code",
      "metadata": {
        "id": "XqvwOxg40f-e",
        "colab": {
          "base_uri": "https://localhost:8080/"
        },
        "outputId": "5ca9d7b2-e6a8-442c-f721-140bd3cc274e"
      },
      "source": [
        "# Connect your Google Drive file system\n",
        "# (this is only needed for the section on Apache Beam pipelines)\n",
        "drive.mount('/content/drive')  # follow the instructions to authorize access\n",
        "colabpath = '/content/drive/MyDrive/Colab\\ Notebooks'\n",
        "colabpath4beam = '/content/drive/MyDrive/Colab Notebooks'\n",
        "\n",
        "# Hint: Click the \"Files\" icon on the left to view a file browser.\n",
        "# Hint: Click the \"Code snippets\" icon (<>) on the left and search for \n",
        "#       \"access drive\" to learn how to interact with Drive."
      ],
      "execution_count": 3,
      "outputs": [
        {
          "output_type": "stream",
          "text": [
            "Mounted at /content/drive\n"
          ],
          "name": "stdout"
        }
      ]
    },
    {
      "cell_type": "markdown",
      "metadata": {
        "id": "feaPBbMmtaVu"
      },
      "source": [
        "---"
      ]
    },
    {
      "cell_type": "markdown",
      "metadata": {
        "id": "5IvoWYj6VlPw"
      },
      "source": [
        "# 4) Access: Databases"
      ]
    },
    {
      "cell_type": "markdown",
      "metadata": {
        "id": "5FrTV1deWZFN"
      },
      "source": [
        "We currently have the following database tables available to query (format: `dataset.table`):\n",
        "- `ztf_alerts.alerts`\n",
        "-`ztf_alerts.salt2`\n",
        "\n",
        "They are stored in [BigQuery](https://cloud.google.com/bigquery) and contain data since ~Nov 2020.\n",
        "Their schemas can be viewed using the code below. \n",
        "They can be queried using standard SQL from the command-line, Python, Java and other languages, as well as from the [Console](https://console.cloud.google.com).\n",
        "In this tutorial, we will demonstrate the following methods: 1) Python, including `pgb_utils` tools that facilitate access, and 2) command-line. \n",
        "\n",
        "Links to more information:\n",
        "- [Overview of querying BigQuery data](https://cloud.google.com/bigquery/docs/query-overview)\n",
        "\n",
        "\n",
        "- [BigQuery How-to guides](https://cloud.google.com/bigquery/docs/how-to). There are many! Here are some of note:\n",
        "\n",
        "    - [Introduction to interacting with BigQuery](https://cloud.google.com/bigquery/docs/interacting-with-bigquery)\n",
        "\n",
        "    - [Queries](https://cloud.google.com/bigquery/docs/running-queries) (this topic is covered in this tutorial)\n",
        "\n",
        "    - [Writing query results to your own BigQuery table](https://cloud.google.com/bigquery/docs/writing-results#permanent-table) (also see other sections on that page)\n",
        "\n",
        "    - [Export table data to a file in Google Cloud Storage](https://cloud.google.com/bigquery/docs/exporting-data)\n",
        "        - Note the [Exporting data stored in BigQuery](https://cloud.google.com/bigquery/docs/exporting-data#exporting_data_stored_in) section of that page.\n",
        "\n",
        "    - [Best practices](https://cloud.google.com/bigquery/docs/how-to#best-practices) (e.g., Controlling costs, Optimizing query performance)\n",
        "\n",
        "- Other Colab tutorials:\n",
        "\n",
        "    - [Getting started with BigQuery](https://colab.research.google.com/notebooks/bigquery.ipynb)\n",
        "\n",
        "- Pricing:\n",
        "    - [Overview of BigQuery pricing](https://cloud.google.com/bigquery/pricing)\n",
        "        - [Query pricing](https://cloud.google.com/bigquery/docs/query-overview#query_pricing)\n",
        "            - Query charges are based on number of bytes processed.\n",
        "            - __*The first 1 TB of data processed per month, per billing account, is free*__.\n",
        "        - [Storage pricing](https://cloud.google.com/bigquery/pricing#storage)\n",
        "            - The first 10 GB of BigQuery storage per month is free (you only pay for tables you create in your own project).\n",
        "\n",
        "    - [Using cached query results](https://cloud.google.com/bigquery/docs/cached-results)\n",
        "        - BigQuery writes all query results to a temporary (~24 hours), cached results table (unless you explicitly specify a destination table). When you run a duplicate query, BigQuery attempts to reuse cached results. If it is successful, you are not charged for the query."
      ]
    },
    {
      "cell_type": "markdown",
      "metadata": {
        "id": "JUjPP0ENkYlc"
      },
      "source": [
        "## 4a) Python\n",
        "\n",
        "<!-- standard SQL default ([change to legacy SQL](https://cloud.google.com/bigquery/docs/reference/standard-sql/enabling-standard-sql#changing_from_the_default_dialect)) -->\n",
        "\n",
        "Links to more information:\n",
        "- [Intro to BigQuery API Client Libraries](https://cloud.google.com/bigquery/docs/reference/libraries) (includes Python, Java, C#, Go, Node.js, PHP, and Ruby)\n",
        "- [BigQuery Python Client Documentation](https://googleapis.dev/python/bigquery/latest/index.html)\n",
        "- [Colab Snippets](https://colab.research.google.com/notebooks/snippets/bigquery.ipynb#scrollTo=jl97S3vfNHdz) (more examples)"
      ]
    },
    {
      "cell_type": "markdown",
      "metadata": {
        "id": "s2kX-kEJemYD"
      },
      "source": [
        "### 4a.a) View table names and schemas"
      ]
    },
    {
      "cell_type": "code",
      "metadata": {
        "id": "6sfxgU9AeuVY",
        "colab": {
          "base_uri": "https://localhost:8080/"
        },
        "outputId": "99208f55-d998-4582-8cc9-b2d6c89a5045"
      },
      "source": [
        "# Print list of table names and schemas\n",
        "pgb.bigquery.get_table_info()"
      ],
      "execution_count": 11,
      "outputs": [
        {
          "output_type": "stream",
          "text": [
            "ardent-cycling-243415.ztf_alerts.salt2\n",
            "+----+---------------+---------------+---------+\n",
            "|    | column_name   | description   | type    |\n",
            "+====+===============+===============+=========+\n",
            "|  0 | objectId      |               | STRING  |\n",
            "+----+---------------+---------------+---------+\n",
            "|  1 | candid        |               | INTEGER |\n",
            "+----+---------------+---------------+---------+\n",
            "|  2 | success       |               | INTEGER |\n",
            "+----+---------------+---------------+---------+\n",
            "|  3 | ncall         |               | INTEGER |\n",
            "+----+---------------+---------------+---------+\n",
            "|  4 | chisq         |               | FLOAT   |\n",
            "+----+---------------+---------------+---------+\n",
            "|  5 | ndof          |               | INTEGER |\n",
            "+----+---------------+---------------+---------+\n",
            "|  6 | z             |               | FLOAT   |\n",
            "+----+---------------+---------------+---------+\n",
            "|  7 | z_err         |               | FLOAT   |\n",
            "+----+---------------+---------------+---------+\n",
            "|  8 | t0            |               | FLOAT   |\n",
            "+----+---------------+---------------+---------+\n",
            "|  9 | t0_err        |               | FLOAT   |\n",
            "+----+---------------+---------------+---------+\n",
            "| 10 | x0            |               | FLOAT   |\n",
            "+----+---------------+---------------+---------+\n",
            "| 11 | x0_err        |               | FLOAT   |\n",
            "+----+---------------+---------------+---------+\n",
            "| 12 | x1            |               | FLOAT   |\n",
            "+----+---------------+---------------+---------+\n",
            "| 13 | x1_err        |               | FLOAT   |\n",
            "+----+---------------+---------------+---------+\n",
            "| 14 | c             |               | FLOAT   |\n",
            "+----+---------------+---------------+---------+\n",
            "| 15 | c_err         |               | FLOAT   |\n",
            "+----+---------------+---------------+---------+\n",
            "| 16 | z_z_cov       |               | FLOAT   |\n",
            "+----+---------------+---------------+---------+\n",
            "| 17 | z_t0_cov      |               | FLOAT   |\n",
            "+----+---------------+---------------+---------+\n",
            "| 18 | z_x0_cov      |               | FLOAT   |\n",
            "+----+---------------+---------------+---------+\n",
            "| 19 | z_x1_cov      |               | FLOAT   |\n",
            "+----+---------------+---------------+---------+\n",
            "| 20 | z_c_cov       |               | FLOAT   |\n",
            "+----+---------------+---------------+---------+\n",
            "| 21 | t0_z_cov      |               | FLOAT   |\n",
            "+----+---------------+---------------+---------+\n",
            "| 22 | t0_t0_cov     |               | FLOAT   |\n",
            "+----+---------------+---------------+---------+\n",
            "| 23 | t0_x0_cov     |               | FLOAT   |\n",
            "+----+---------------+---------------+---------+\n",
            "| 24 | t0_x1_cov     |               | FLOAT   |\n",
            "+----+---------------+---------------+---------+\n",
            "| 25 | t0_c_cov      |               | FLOAT   |\n",
            "+----+---------------+---------------+---------+\n",
            "| 26 | x0_z_cov      |               | FLOAT   |\n",
            "+----+---------------+---------------+---------+\n",
            "| 27 | x0_t0_cov     |               | FLOAT   |\n",
            "+----+---------------+---------------+---------+\n",
            "| 28 | x0_x0_cov     |               | FLOAT   |\n",
            "+----+---------------+---------------+---------+\n",
            "| 29 | x0_x1_cov     |               | FLOAT   |\n",
            "+----+---------------+---------------+---------+\n",
            "| 30 | x0_c_cov      |               | FLOAT   |\n",
            "+----+---------------+---------------+---------+\n",
            "| 31 | x1_z_cov      |               | FLOAT   |\n",
            "+----+---------------+---------------+---------+\n",
            "| 32 | x1_t0_cov     |               | FLOAT   |\n",
            "+----+---------------+---------------+---------+\n",
            "| 33 | x1_x0_cov     |               | FLOAT   |\n",
            "+----+---------------+---------------+---------+\n",
            "| 34 | x1_x1_cov     |               | FLOAT   |\n",
            "+----+---------------+---------------+---------+\n",
            "| 35 | x1_c_cov      |               | FLOAT   |\n",
            "+----+---------------+---------------+---------+\n",
            "| 36 | c_z_cov       |               | FLOAT   |\n",
            "+----+---------------+---------------+---------+\n",
            "| 37 | c_t0_cov      |               | FLOAT   |\n",
            "+----+---------------+---------------+---------+\n",
            "| 38 | c_x0_cov      |               | FLOAT   |\n",
            "+----+---------------+---------------+---------+\n",
            "| 39 | c_x1_cov      |               | FLOAT   |\n",
            "+----+---------------+---------------+---------+\n",
            "| 40 | c_c_cov       |               | FLOAT   |\n",
            "+----+---------------+---------------+---------+\n",
            "| 41 | plot_lc_bytes |               | BYTES   |\n",
            "+----+---------------+---------------+---------+\n",
            "\n",
            "ardent-cycling-243415.ztf_alerts.salt2 has 122661 rows.\n",
            "\n",
            "ardent-cycling-243415.ztf_alerts.alerts\n",
            "+-----+--------------------------------+------------------------------------------------------------------------------------------------------------------------------------------------------------------------------------------------------------------------------+---------+\n",
            "|     | column_name                    | description                                                                                                                                                                                                                  | type    |\n",
            "+=====+================================+==============================================================================================================================================================================================================================+=========+\n",
            "|   0 | schemavsn                      | schema version used                                                                                                                                                                                                          | STRING  |\n",
            "+-----+--------------------------------+------------------------------------------------------------------------------------------------------------------------------------------------------------------------------------------------------------------------------+---------+\n",
            "|   1 | publisher                      | origin of alert packet                                                                                                                                                                                                       | STRING  |\n",
            "+-----+--------------------------------+------------------------------------------------------------------------------------------------------------------------------------------------------------------------------------------------------------------------------+---------+\n",
            "|   2 | objectId                       | object identifier or name                                                                                                                                                                                                    | STRING  |\n",
            "+-----+--------------------------------+------------------------------------------------------------------------------------------------------------------------------------------------------------------------------------------------------------------------------+---------+\n",
            "|   3 | candid                         |                                                                                                                                                                                                                              | INTEGER |\n",
            "+-----+--------------------------------+------------------------------------------------------------------------------------------------------------------------------------------------------------------------------------------------------------------------------+---------+\n",
            "|   4 | candidate                      |                                                                                                                                                                                                                              | RECORD  |\n",
            "+-----+--------------------------------+------------------------------------------------------------------------------------------------------------------------------------------------------------------------------------------------------------------------------+---------+\n",
            "|   5 | candidate.jd                   | Observation Julian date at start of exposure [days]                                                                                                                                                                          | FLOAT   |\n",
            "+-----+--------------------------------+------------------------------------------------------------------------------------------------------------------------------------------------------------------------------------------------------------------------------+---------+\n",
            "|   6 | candidate.fid                  | Filter ID (1=g; 2=R; 3=i)                                                                                                                                                                                                    | INTEGER |\n",
            "+-----+--------------------------------+------------------------------------------------------------------------------------------------------------------------------------------------------------------------------------------------------------------------------+---------+\n",
            "|   7 | candidate.pid                  | Processing ID for science image to facilitate archive retrieval                                                                                                                                                              | INTEGER |\n",
            "+-----+--------------------------------+------------------------------------------------------------------------------------------------------------------------------------------------------------------------------------------------------------------------------+---------+\n",
            "|   8 | candidate.diffmaglim           | Expected 5-sigma mag limit in difference image based on global noise estimate [mag]                                                                                                                                          | FLOAT   |\n",
            "+-----+--------------------------------+------------------------------------------------------------------------------------------------------------------------------------------------------------------------------------------------------------------------------+---------+\n",
            "|   9 | candidate.pdiffimfilename      | filename of positive (sci minus ref) difference image                                                                                                                                                                        | STRING  |\n",
            "+-----+--------------------------------+------------------------------------------------------------------------------------------------------------------------------------------------------------------------------------------------------------------------------+---------+\n",
            "|  10 | candidate.programpi            | Principal investigator attached to program ID                                                                                                                                                                                | STRING  |\n",
            "+-----+--------------------------------+------------------------------------------------------------------------------------------------------------------------------------------------------------------------------------------------------------------------------+---------+\n",
            "|  11 | candidate.programid            | Program ID: encodes either public, collab, or caltech mode                                                                                                                                                                   | INTEGER |\n",
            "+-----+--------------------------------+------------------------------------------------------------------------------------------------------------------------------------------------------------------------------------------------------------------------------+---------+\n",
            "|  12 | candidate.candid               | Candidate ID from operations DB                                                                                                                                                                                              | INTEGER |\n",
            "+-----+--------------------------------+------------------------------------------------------------------------------------------------------------------------------------------------------------------------------------------------------------------------------+---------+\n",
            "|  13 | candidate.isdiffpos            | t or 1 => candidate is from positive (sci minus ref) subtraction; f or 0 => candidate is from negative (ref minus sci) subtraction                                                                                           | STRING  |\n",
            "+-----+--------------------------------+------------------------------------------------------------------------------------------------------------------------------------------------------------------------------------------------------------------------------+---------+\n",
            "|  14 | candidate.tblid                | Internal pipeline table extraction ID                                                                                                                                                                                        | INTEGER |\n",
            "+-----+--------------------------------+------------------------------------------------------------------------------------------------------------------------------------------------------------------------------------------------------------------------------+---------+\n",
            "|  15 | candidate.nid                  | Night ID                                                                                                                                                                                                                     | INTEGER |\n",
            "+-----+--------------------------------+------------------------------------------------------------------------------------------------------------------------------------------------------------------------------------------------------------------------------+---------+\n",
            "|  16 | candidate.rcid                 | Readout channel ID [00 .. 63]                                                                                                                                                                                                | INTEGER |\n",
            "+-----+--------------------------------+------------------------------------------------------------------------------------------------------------------------------------------------------------------------------------------------------------------------------+---------+\n",
            "|  17 | candidate.field                | ZTF field ID                                                                                                                                                                                                                 | INTEGER |\n",
            "+-----+--------------------------------+------------------------------------------------------------------------------------------------------------------------------------------------------------------------------------------------------------------------------+---------+\n",
            "|  18 | candidate.xpos                 | x-image position of candidate [pixels]                                                                                                                                                                                       | FLOAT   |\n",
            "+-----+--------------------------------+------------------------------------------------------------------------------------------------------------------------------------------------------------------------------------------------------------------------------+---------+\n",
            "|  19 | candidate.ypos                 | y-image position of candidate [pixels]                                                                                                                                                                                       | FLOAT   |\n",
            "+-----+--------------------------------+------------------------------------------------------------------------------------------------------------------------------------------------------------------------------------------------------------------------------+---------+\n",
            "|  20 | candidate.ra                   | Right Ascension of candidate; J2000 [deg]                                                                                                                                                                                    | FLOAT   |\n",
            "+-----+--------------------------------+------------------------------------------------------------------------------------------------------------------------------------------------------------------------------------------------------------------------------+---------+\n",
            "|  21 | candidate.dec                  | Declination of candidate; J2000 [deg]                                                                                                                                                                                        | FLOAT   |\n",
            "+-----+--------------------------------+------------------------------------------------------------------------------------------------------------------------------------------------------------------------------------------------------------------------------+---------+\n",
            "|  22 | candidate.magpsf               | Magnitude from PSF-fit photometry [mag]                                                                                                                                                                                      | FLOAT   |\n",
            "+-----+--------------------------------+------------------------------------------------------------------------------------------------------------------------------------------------------------------------------------------------------------------------------+---------+\n",
            "|  23 | candidate.sigmapsf             | 1-sigma uncertainty in magpsf [mag]                                                                                                                                                                                          | FLOAT   |\n",
            "+-----+--------------------------------+------------------------------------------------------------------------------------------------------------------------------------------------------------------------------------------------------------------------------+---------+\n",
            "|  24 | candidate.chipsf               | Reduced chi-square for PSF-fit                                                                                                                                                                                               | FLOAT   |\n",
            "+-----+--------------------------------+------------------------------------------------------------------------------------------------------------------------------------------------------------------------------------------------------------------------------+---------+\n",
            "|  25 | candidate.magap                | Aperture mag using 14 pixel diameter aperture [mag]                                                                                                                                                                          | FLOAT   |\n",
            "+-----+--------------------------------+------------------------------------------------------------------------------------------------------------------------------------------------------------------------------------------------------------------------------+---------+\n",
            "|  26 | candidate.sigmagap             | 1-sigma uncertainty in magap [mag]                                                                                                                                                                                           | FLOAT   |\n",
            "+-----+--------------------------------+------------------------------------------------------------------------------------------------------------------------------------------------------------------------------------------------------------------------------+---------+\n",
            "|  27 | candidate.distnr               | distance to nearest source in reference image PSF-catalog [pixels]                                                                                                                                                           | FLOAT   |\n",
            "+-----+--------------------------------+------------------------------------------------------------------------------------------------------------------------------------------------------------------------------------------------------------------------------+---------+\n",
            "|  28 | candidate.magnr                | magnitude of nearest source in reference image PSF-catalog [mag]                                                                                                                                                             | FLOAT   |\n",
            "+-----+--------------------------------+------------------------------------------------------------------------------------------------------------------------------------------------------------------------------------------------------------------------------+---------+\n",
            "|  29 | candidate.sigmagnr             | 1-sigma uncertainty in magnr [mag]                                                                                                                                                                                           | FLOAT   |\n",
            "+-----+--------------------------------+------------------------------------------------------------------------------------------------------------------------------------------------------------------------------------------------------------------------------+---------+\n",
            "|  30 | candidate.chinr                | DAOPhot chi parameter of nearest source in reference image PSF-catalog                                                                                                                                                       | FLOAT   |\n",
            "+-----+--------------------------------+------------------------------------------------------------------------------------------------------------------------------------------------------------------------------------------------------------------------------+---------+\n",
            "|  31 | candidate.sharpnr              | DAOPhot sharp parameter of nearest source in reference image PSF-catalog                                                                                                                                                     | FLOAT   |\n",
            "+-----+--------------------------------+------------------------------------------------------------------------------------------------------------------------------------------------------------------------------------------------------------------------------+---------+\n",
            "|  32 | candidate.sky                  | Local sky background estimate [DN]                                                                                                                                                                                           | FLOAT   |\n",
            "+-----+--------------------------------+------------------------------------------------------------------------------------------------------------------------------------------------------------------------------------------------------------------------------+---------+\n",
            "|  33 | candidate.magdiff              | Difference: magap - magpsf [mag]                                                                                                                                                                                             | FLOAT   |\n",
            "+-----+--------------------------------+------------------------------------------------------------------------------------------------------------------------------------------------------------------------------------------------------------------------------+---------+\n",
            "|  34 | candidate.fwhm                 | Full Width Half Max assuming a Gaussian core, from SExtractor [pixels]                                                                                                                                                       | FLOAT   |\n",
            "+-----+--------------------------------+------------------------------------------------------------------------------------------------------------------------------------------------------------------------------------------------------------------------------+---------+\n",
            "|  35 | candidate.classtar             | Star/Galaxy classification score from SExtractor                                                                                                                                                                             | FLOAT   |\n",
            "+-----+--------------------------------+------------------------------------------------------------------------------------------------------------------------------------------------------------------------------------------------------------------------------+---------+\n",
            "|  36 | candidate.mindtoedge           | Distance to nearest edge in image [pixels]                                                                                                                                                                                   | FLOAT   |\n",
            "+-----+--------------------------------+------------------------------------------------------------------------------------------------------------------------------------------------------------------------------------------------------------------------------+---------+\n",
            "|  37 | candidate.magfromlim           | Difference: diffmaglim - magap [mag]                                                                                                                                                                                         | FLOAT   |\n",
            "+-----+--------------------------------+------------------------------------------------------------------------------------------------------------------------------------------------------------------------------------------------------------------------------+---------+\n",
            "|  38 | candidate.seeratio             | Ratio: difffwhm / fwhm                                                                                                                                                                                                       | FLOAT   |\n",
            "+-----+--------------------------------+------------------------------------------------------------------------------------------------------------------------------------------------------------------------------------------------------------------------------+---------+\n",
            "|  39 | candidate.aimage               | Windowed profile RMS afloat major axis from SExtractor [pixels]                                                                                                                                                              | FLOAT   |\n",
            "+-----+--------------------------------+------------------------------------------------------------------------------------------------------------------------------------------------------------------------------------------------------------------------------+---------+\n",
            "|  40 | candidate.bimage               | Windowed profile RMS afloat minor axis from SExtractor [pixels]                                                                                                                                                              | FLOAT   |\n",
            "+-----+--------------------------------+------------------------------------------------------------------------------------------------------------------------------------------------------------------------------------------------------------------------------+---------+\n",
            "|  41 | candidate.aimagerat            | Ratio: aimage / fwhm                                                                                                                                                                                                         | FLOAT   |\n",
            "+-----+--------------------------------+------------------------------------------------------------------------------------------------------------------------------------------------------------------------------------------------------------------------------+---------+\n",
            "|  42 | candidate.bimagerat            | Ratio: bimage / fwhm                                                                                                                                                                                                         | FLOAT   |\n",
            "+-----+--------------------------------+------------------------------------------------------------------------------------------------------------------------------------------------------------------------------------------------------------------------------+---------+\n",
            "|  43 | candidate.elong                | Ratio: aimage / bimage                                                                                                                                                                                                       | FLOAT   |\n",
            "+-----+--------------------------------+------------------------------------------------------------------------------------------------------------------------------------------------------------------------------------------------------------------------------+---------+\n",
            "|  44 | candidate.nneg                 | number of negative pixels in a 5 x 5 pixel stamp                                                                                                                                                                             | INTEGER |\n",
            "+-----+--------------------------------+------------------------------------------------------------------------------------------------------------------------------------------------------------------------------------------------------------------------------+---------+\n",
            "|  45 | candidate.nbad                 | number of prior-tagged bad pixels in a 5 x 5 pixel stamp                                                                                                                                                                     | INTEGER |\n",
            "+-----+--------------------------------+------------------------------------------------------------------------------------------------------------------------------------------------------------------------------------------------------------------------------+---------+\n",
            "|  46 | candidate.rb                   | RealBogus quality score from Random Forest classifier; range is 0 to 1 where closer to 1 is more reliable                                                                                                                    | FLOAT   |\n",
            "+-----+--------------------------------+------------------------------------------------------------------------------------------------------------------------------------------------------------------------------------------------------------------------------+---------+\n",
            "|  47 | candidate.ssdistnr             | distance to nearest known solar system object if exists within 30 arcsec [arcsec]                                                                                                                                            | FLOAT   |\n",
            "+-----+--------------------------------+------------------------------------------------------------------------------------------------------------------------------------------------------------------------------------------------------------------------------+---------+\n",
            "|  48 | candidate.ssmagnr              | magnitude of nearest known solar system object if exists within 30 arcsec (usually V-band from MPC archive) [mag]                                                                                                            | FLOAT   |\n",
            "+-----+--------------------------------+------------------------------------------------------------------------------------------------------------------------------------------------------------------------------------------------------------------------------+---------+\n",
            "|  49 | candidate.ssnamenr             | name of nearest known solar system object if exists within 30 arcsec (from MPC archive)                                                                                                                                      | STRING  |\n",
            "+-----+--------------------------------+------------------------------------------------------------------------------------------------------------------------------------------------------------------------------------------------------------------------------+---------+\n",
            "|  50 | candidate.sumrat               | Ratio: sum(pixels) / sum(|pixels|) in a 5 x 5 pixel stamp where stamp is first median-filtered to mitigate outliers                                                                                                          | FLOAT   |\n",
            "+-----+--------------------------------+------------------------------------------------------------------------------------------------------------------------------------------------------------------------------------------------------------------------------+---------+\n",
            "|  51 | candidate.magapbig             | Aperture mag using 18 pixel diameter aperture [mag]                                                                                                                                                                          | FLOAT   |\n",
            "+-----+--------------------------------+------------------------------------------------------------------------------------------------------------------------------------------------------------------------------------------------------------------------------+---------+\n",
            "|  52 | candidate.sigmagapbig          | 1-sigma uncertainty in magapbig [mag]                                                                                                                                                                                        | FLOAT   |\n",
            "+-----+--------------------------------+------------------------------------------------------------------------------------------------------------------------------------------------------------------------------------------------------------------------------+---------+\n",
            "|  53 | candidate.ranr                 | Right Ascension of nearest source in reference image PSF-catalog; J2000 [deg]                                                                                                                                                | FLOAT   |\n",
            "+-----+--------------------------------+------------------------------------------------------------------------------------------------------------------------------------------------------------------------------------------------------------------------------+---------+\n",
            "|  54 | candidate.decnr                | Declination of nearest source in reference image PSF-catalog; J2000 [deg]                                                                                                                                                    | FLOAT   |\n",
            "+-----+--------------------------------+------------------------------------------------------------------------------------------------------------------------------------------------------------------------------------------------------------------------------+---------+\n",
            "|  55 | candidate.sgmag1               | g-band PSF-fit magnitude of closest source from PS1 catalog; if exists within 30 arcsec [mag]                                                                                                                                | FLOAT   |\n",
            "+-----+--------------------------------+------------------------------------------------------------------------------------------------------------------------------------------------------------------------------------------------------------------------------+---------+\n",
            "|  56 | candidate.srmag1               | r-band PSF-fit magnitude of closest source from PS1 catalog; if exists within 30 arcsec [mag]                                                                                                                                | FLOAT   |\n",
            "+-----+--------------------------------+------------------------------------------------------------------------------------------------------------------------------------------------------------------------------------------------------------------------------+---------+\n",
            "|  57 | candidate.simag1               | i-band PSF-fit magnitude of closest source from PS1 catalog; if exists within 30 arcsec [mag]                                                                                                                                | FLOAT   |\n",
            "+-----+--------------------------------+------------------------------------------------------------------------------------------------------------------------------------------------------------------------------------------------------------------------------+---------+\n",
            "|  58 | candidate.szmag1               | z-band PSF-fit magnitude of closest source from PS1 catalog; if exists within 30 arcsec [mag]                                                                                                                                | FLOAT   |\n",
            "+-----+--------------------------------+------------------------------------------------------------------------------------------------------------------------------------------------------------------------------------------------------------------------------+---------+\n",
            "|  59 | candidate.sgscore1             | Star/Galaxy score of closest source from PS1 catalog; if exists within 30 arcsec: 0 <= sgscore <= 1 where closer to 1 implies higher likelihood of being a star                                                              | FLOAT   |\n",
            "+-----+--------------------------------+------------------------------------------------------------------------------------------------------------------------------------------------------------------------------------------------------------------------------+---------+\n",
            "|  60 | candidate.distpsnr1            | Distance to closest source from PS1 catalog; if exists within 30 arcsec [arcsec]                                                                                                                                             | FLOAT   |\n",
            "+-----+--------------------------------+------------------------------------------------------------------------------------------------------------------------------------------------------------------------------------------------------------------------------+---------+\n",
            "|  61 | candidate.ndethist             | Number of spatially-coincident detections falling within 1.5 arcsec going back to beginning of survey; only detections that fell on the same field and readout-channel ID where the input candidate was observed are counted | INTEGER |\n",
            "+-----+--------------------------------+------------------------------------------------------------------------------------------------------------------------------------------------------------------------------------------------------------------------------+---------+\n",
            "|  62 | candidate.ncovhist             | Number of times input candidate position fell on any field and readout-channel going back to beginning of survey                                                                                                             | INTEGER |\n",
            "+-----+--------------------------------+------------------------------------------------------------------------------------------------------------------------------------------------------------------------------------------------------------------------------+---------+\n",
            "|  63 | candidate.jdstarthist          | Earliest Julian date of epoch corresponding to ndethist [days]                                                                                                                                                               | FLOAT   |\n",
            "+-----+--------------------------------+------------------------------------------------------------------------------------------------------------------------------------------------------------------------------------------------------------------------------+---------+\n",
            "|  64 | candidate.jdendhist            | Latest Julian date of epoch corresponding to ndethist [days]                                                                                                                                                                 | FLOAT   |\n",
            "+-----+--------------------------------+------------------------------------------------------------------------------------------------------------------------------------------------------------------------------------------------------------------------------+---------+\n",
            "|  65 | candidate.scorr                | Peak-pixel signal-to-noise ratio in point source matched-filtered detection image                                                                                                                                            | FLOAT   |\n",
            "+-----+--------------------------------+------------------------------------------------------------------------------------------------------------------------------------------------------------------------------------------------------------------------------+---------+\n",
            "|  66 | candidate.tooflag              | 1 => candidate is from a Target-of-Opportunity (ToO) exposure; 0 => candidate is from a non-ToO exposure                                                                                                                     | INTEGER |\n",
            "+-----+--------------------------------+------------------------------------------------------------------------------------------------------------------------------------------------------------------------------------------------------------------------------+---------+\n",
            "|  67 | candidate.objectidps1          | Object ID of closest source from PS1 catalog; if exists within 30 arcsec                                                                                                                                                     | INTEGER |\n",
            "+-----+--------------------------------+------------------------------------------------------------------------------------------------------------------------------------------------------------------------------------------------------------------------------+---------+\n",
            "|  68 | candidate.objectidps2          | Object ID of second closest source from PS1 catalog; if exists within 30 arcsec                                                                                                                                              | INTEGER |\n",
            "+-----+--------------------------------+------------------------------------------------------------------------------------------------------------------------------------------------------------------------------------------------------------------------------+---------+\n",
            "|  69 | candidate.sgmag2               | g-band PSF-fit magnitude of second closest source from PS1 catalog; if exists within 30 arcsec [mag]                                                                                                                         | FLOAT   |\n",
            "+-----+--------------------------------+------------------------------------------------------------------------------------------------------------------------------------------------------------------------------------------------------------------------------+---------+\n",
            "|  70 | candidate.srmag2               | r-band PSF-fit magnitude of second closest source from PS1 catalog; if exists within 30 arcsec [mag]                                                                                                                         | FLOAT   |\n",
            "+-----+--------------------------------+------------------------------------------------------------------------------------------------------------------------------------------------------------------------------------------------------------------------------+---------+\n",
            "|  71 | candidate.simag2               | i-band PSF-fit magnitude of second closest source from PS1 catalog; if exists within 30 arcsec [mag]                                                                                                                         | FLOAT   |\n",
            "+-----+--------------------------------+------------------------------------------------------------------------------------------------------------------------------------------------------------------------------------------------------------------------------+---------+\n",
            "|  72 | candidate.szmag2               | z-band PSF-fit magnitude of second closest source from PS1 catalog; if exists within 30 arcsec [mag]                                                                                                                         | FLOAT   |\n",
            "+-----+--------------------------------+------------------------------------------------------------------------------------------------------------------------------------------------------------------------------------------------------------------------------+---------+\n",
            "|  73 | candidate.sgscore2             | Star/Galaxy score of second closest source from PS1 catalog; if exists within 30 arcsec: 0 <= sgscore <= 1 where closer to 1 implies higher likelihood of being a star                                                       | FLOAT   |\n",
            "+-----+--------------------------------+------------------------------------------------------------------------------------------------------------------------------------------------------------------------------------------------------------------------------+---------+\n",
            "|  74 | candidate.distpsnr2            | Distance to second closest source from PS1 catalog; if exists within 30 arcsec [arcsec]                                                                                                                                      | FLOAT   |\n",
            "+-----+--------------------------------+------------------------------------------------------------------------------------------------------------------------------------------------------------------------------------------------------------------------------+---------+\n",
            "|  75 | candidate.objectidps3          | Object ID of third closest source from PS1 catalog; if exists within 30 arcsec                                                                                                                                               | INTEGER |\n",
            "+-----+--------------------------------+------------------------------------------------------------------------------------------------------------------------------------------------------------------------------------------------------------------------------+---------+\n",
            "|  76 | candidate.sgmag3               | g-band PSF-fit magnitude of third closest source from PS1 catalog; if exists within 30 arcsec [mag]                                                                                                                          | FLOAT   |\n",
            "+-----+--------------------------------+------------------------------------------------------------------------------------------------------------------------------------------------------------------------------------------------------------------------------+---------+\n",
            "|  77 | candidate.srmag3               | r-band PSF-fit magnitude of third closest source from PS1 catalog; if exists within 30 arcsec [mag]                                                                                                                          | FLOAT   |\n",
            "+-----+--------------------------------+------------------------------------------------------------------------------------------------------------------------------------------------------------------------------------------------------------------------------+---------+\n",
            "|  78 | candidate.simag3               | i-band PSF-fit magnitude of third closest source from PS1 catalog; if exists within 30 arcsec [mag]                                                                                                                          | FLOAT   |\n",
            "+-----+--------------------------------+------------------------------------------------------------------------------------------------------------------------------------------------------------------------------------------------------------------------------+---------+\n",
            "|  79 | candidate.szmag3               | z-band PSF-fit magnitude of third closest source from PS1 catalog; if exists within 30 arcsec [mag]                                                                                                                          | FLOAT   |\n",
            "+-----+--------------------------------+------------------------------------------------------------------------------------------------------------------------------------------------------------------------------------------------------------------------------+---------+\n",
            "|  80 | candidate.sgscore3             | Star/Galaxy score of third closest source from PS1 catalog; if exists within 30 arcsec: 0 <= sgscore <= 1 where closer to 1 implies higher likelihood of being a star                                                        | FLOAT   |\n",
            "+-----+--------------------------------+------------------------------------------------------------------------------------------------------------------------------------------------------------------------------------------------------------------------------+---------+\n",
            "|  81 | candidate.distpsnr3            | Distance to third closest source from PS1 catalog; if exists within 30 arcsec [arcsec]                                                                                                                                       | FLOAT   |\n",
            "+-----+--------------------------------+------------------------------------------------------------------------------------------------------------------------------------------------------------------------------------------------------------------------------+---------+\n",
            "|  82 | candidate.nmtchps              | Number of source matches from PS1 catalog falling within 30 arcsec                                                                                                                                                           | INTEGER |\n",
            "+-----+--------------------------------+------------------------------------------------------------------------------------------------------------------------------------------------------------------------------------------------------------------------------+---------+\n",
            "|  83 | candidate.rfid                 | Processing ID for reference image to facilitate archive retrieval                                                                                                                                                            | INTEGER |\n",
            "+-----+--------------------------------+------------------------------------------------------------------------------------------------------------------------------------------------------------------------------------------------------------------------------+---------+\n",
            "|  84 | candidate.jdstartref           | Observation Julian date of earliest exposure used to generate reference image [days]                                                                                                                                         | FLOAT   |\n",
            "+-----+--------------------------------+------------------------------------------------------------------------------------------------------------------------------------------------------------------------------------------------------------------------------+---------+\n",
            "|  85 | candidate.jdendref             | Observation Julian date of latest exposure used to generate reference image [days]                                                                                                                                           | FLOAT   |\n",
            "+-----+--------------------------------+------------------------------------------------------------------------------------------------------------------------------------------------------------------------------------------------------------------------------+---------+\n",
            "|  86 | candidate.nframesref           | Number of frames (epochal images) used to generate reference image                                                                                                                                                           | INTEGER |\n",
            "+-----+--------------------------------+------------------------------------------------------------------------------------------------------------------------------------------------------------------------------------------------------------------------------+---------+\n",
            "|  87 | candidate.rbversion            | version of Random Forest classifier model used to assign RealBogus (rb) quality score                                                                                                                                        | STRING  |\n",
            "+-----+--------------------------------+------------------------------------------------------------------------------------------------------------------------------------------------------------------------------------------------------------------------------+---------+\n",
            "|  88 | candidate.dsnrms               | Ratio: D/stddev(D) on event position where D = difference image                                                                                                                                                              | FLOAT   |\n",
            "+-----+--------------------------------+------------------------------------------------------------------------------------------------------------------------------------------------------------------------------------------------------------------------------+---------+\n",
            "|  89 | candidate.ssnrms               | Ratio: S/stddev(S) on event position where S = image of convolution: D (x) PSF(D)                                                                                                                                            | FLOAT   |\n",
            "+-----+--------------------------------+------------------------------------------------------------------------------------------------------------------------------------------------------------------------------------------------------------------------------+---------+\n",
            "|  90 | candidate.dsdiff               | Difference of statistics: dsnrms - ssnrms                                                                                                                                                                                    | FLOAT   |\n",
            "+-----+--------------------------------+------------------------------------------------------------------------------------------------------------------------------------------------------------------------------------------------------------------------------+---------+\n",
            "|  91 | candidate.magzpsci             | Magnitude zero point for photometry estimates [mag]                                                                                                                                                                          | FLOAT   |\n",
            "+-----+--------------------------------+------------------------------------------------------------------------------------------------------------------------------------------------------------------------------------------------------------------------------+---------+\n",
            "|  92 | candidate.magzpsciunc          | Magnitude zero point uncertainty (in magzpsci) [mag]                                                                                                                                                                         | FLOAT   |\n",
            "+-----+--------------------------------+------------------------------------------------------------------------------------------------------------------------------------------------------------------------------------------------------------------------------+---------+\n",
            "|  93 | candidate.magzpscirms          | RMS (deviation from average) in all differences between instrumental photometry and matched photometric calibrators from science image processing [mag]                                                                      | FLOAT   |\n",
            "+-----+--------------------------------+------------------------------------------------------------------------------------------------------------------------------------------------------------------------------------------------------------------------------+---------+\n",
            "|  94 | candidate.nmatches             | Number of PS1 photometric calibrators used to calibrate science image from science image processing                                                                                                                          | INTEGER |\n",
            "+-----+--------------------------------+------------------------------------------------------------------------------------------------------------------------------------------------------------------------------------------------------------------------------+---------+\n",
            "|  95 | candidate.clrcoeff             | Color coefficient from linear fit from photometric calibration of science image                                                                                                                                              | FLOAT   |\n",
            "+-----+--------------------------------+------------------------------------------------------------------------------------------------------------------------------------------------------------------------------------------------------------------------------+---------+\n",
            "|  96 | candidate.clrcounc             | Color coefficient uncertainty from linear fit (corresponding to clrcoeff)                                                                                                                                                    | FLOAT   |\n",
            "+-----+--------------------------------+------------------------------------------------------------------------------------------------------------------------------------------------------------------------------------------------------------------------------+---------+\n",
            "|  97 | candidate.zpclrcov             | Covariance in magzpsci and clrcoeff from science image processing [mag^2]                                                                                                                                                    | FLOAT   |\n",
            "+-----+--------------------------------+------------------------------------------------------------------------------------------------------------------------------------------------------------------------------------------------------------------------------+---------+\n",
            "|  98 | candidate.zpmed                | Magnitude zero point from median of all differences between instrumental photometry and matched photometric calibrators from science image processing [mag]                                                                  | FLOAT   |\n",
            "+-----+--------------------------------+------------------------------------------------------------------------------------------------------------------------------------------------------------------------------------------------------------------------------+---------+\n",
            "|  99 | candidate.clrmed               | Median color of all PS1 photometric calibrators used from science image processing [mag]: for filter (fid) = 1, 2, 3, PS1 color used = g-r, g-r, r-i respectively                                                            | FLOAT   |\n",
            "+-----+--------------------------------+------------------------------------------------------------------------------------------------------------------------------------------------------------------------------------------------------------------------------+---------+\n",
            "| 100 | candidate.clrrms               | RMS color (deviation from average) of all PS1 photometric calibrators used from science image processing [mag]                                                                                                               | FLOAT   |\n",
            "+-----+--------------------------------+------------------------------------------------------------------------------------------------------------------------------------------------------------------------------------------------------------------------------+---------+\n",
            "| 101 | candidate.neargaia             | Distance to closest source from Gaia DR1 catalog irrespective of magnitude; if exists within 90 arcsec [arcsec]                                                                                                              | FLOAT   |\n",
            "+-----+--------------------------------+------------------------------------------------------------------------------------------------------------------------------------------------------------------------------------------------------------------------------+---------+\n",
            "| 102 | candidate.neargaiabright       | Distance to closest source from Gaia DR1 catalog brighter than magnitude 14; if exists within 90 arcsec [arcsec]                                                                                                             | FLOAT   |\n",
            "+-----+--------------------------------+------------------------------------------------------------------------------------------------------------------------------------------------------------------------------------------------------------------------------+---------+\n",
            "| 103 | candidate.maggaia              | Gaia (G-band) magnitude of closest source from Gaia DR1 catalog irrespective of magnitude; if exists within 90 arcsec [mag]                                                                                                  | FLOAT   |\n",
            "+-----+--------------------------------+------------------------------------------------------------------------------------------------------------------------------------------------------------------------------------------------------------------------------+---------+\n",
            "| 104 | candidate.maggaiabright        | Gaia (G-band) magnitude of closest source from Gaia DR1 catalog brighter than magnitude 14; if exists within 90 arcsec [mag]                                                                                                 | FLOAT   |\n",
            "+-----+--------------------------------+------------------------------------------------------------------------------------------------------------------------------------------------------------------------------------------------------------------------------+---------+\n",
            "| 105 | candidate.exptime              | Integration time of camera exposure [sec]                                                                                                                                                                                    | FLOAT   |\n",
            "+-----+--------------------------------+------------------------------------------------------------------------------------------------------------------------------------------------------------------------------------------------------------------------------+---------+\n",
            "| 106 | candidate.drb                  | RealBogus quality score from Deep-Learning-based classifier; range is 0 to 1 where closer to 1 is more reliable                                                                                                              | FLOAT   |\n",
            "+-----+--------------------------------+------------------------------------------------------------------------------------------------------------------------------------------------------------------------------------------------------------------------------+---------+\n",
            "| 107 | candidate.drbversion           | version of Deep-Learning-based classifier model used to assign RealBogus (drb) quality score                                                                                                                                 | STRING  |\n",
            "+-----+--------------------------------+------------------------------------------------------------------------------------------------------------------------------------------------------------------------------------------------------------------------------+---------+\n",
            "| 108 | prv_candidates                 |                                                                                                                                                                                                                              | RECORD  |\n",
            "+-----+--------------------------------+------------------------------------------------------------------------------------------------------------------------------------------------------------------------------------------------------------------------------+---------+\n",
            "| 109 | prv_candidates.jd              | Observation Julian date at start of exposure [days]                                                                                                                                                                          | FLOAT   |\n",
            "+-----+--------------------------------+------------------------------------------------------------------------------------------------------------------------------------------------------------------------------------------------------------------------------+---------+\n",
            "| 110 | prv_candidates.fid             | Filter ID (1=g; 2=R; 3=i)                                                                                                                                                                                                    | INTEGER |\n",
            "+-----+--------------------------------+------------------------------------------------------------------------------------------------------------------------------------------------------------------------------------------------------------------------------+---------+\n",
            "| 111 | prv_candidates.pid             | Processing ID for image                                                                                                                                                                                                      | INTEGER |\n",
            "+-----+--------------------------------+------------------------------------------------------------------------------------------------------------------------------------------------------------------------------------------------------------------------------+---------+\n",
            "| 112 | prv_candidates.diffmaglim      | Expected 5-sigma mag limit in difference image based on global noise estimate [mag]                                                                                                                                          | FLOAT   |\n",
            "+-----+--------------------------------+------------------------------------------------------------------------------------------------------------------------------------------------------------------------------------------------------------------------------+---------+\n",
            "| 113 | prv_candidates.pdiffimfilename | filename of positive (sci minus ref) difference image                                                                                                                                                                        | STRING  |\n",
            "+-----+--------------------------------+------------------------------------------------------------------------------------------------------------------------------------------------------------------------------------------------------------------------------+---------+\n",
            "| 114 | prv_candidates.programpi       | Principal investigator attached to program ID                                                                                                                                                                                | STRING  |\n",
            "+-----+--------------------------------+------------------------------------------------------------------------------------------------------------------------------------------------------------------------------------------------------------------------------+---------+\n",
            "| 115 | prv_candidates.programid       | Program ID: encodes either public, collab, or caltech mode                                                                                                                                                                   | INTEGER |\n",
            "+-----+--------------------------------+------------------------------------------------------------------------------------------------------------------------------------------------------------------------------------------------------------------------------+---------+\n",
            "| 116 | prv_candidates.candid          | Candidate ID from operations DB                                                                                                                                                                                              | INTEGER |\n",
            "+-----+--------------------------------+------------------------------------------------------------------------------------------------------------------------------------------------------------------------------------------------------------------------------+---------+\n",
            "| 117 | prv_candidates.isdiffpos       | t or 1 => candidate is from positive (sci minus ref) subtraction; f or 0 => candidate is from negative (ref minus sci) subtraction                                                                                           | STRING  |\n",
            "+-----+--------------------------------+------------------------------------------------------------------------------------------------------------------------------------------------------------------------------------------------------------------------------+---------+\n",
            "| 118 | prv_candidates.tblid           | Internal pipeline table extraction ID                                                                                                                                                                                        | INTEGER |\n",
            "+-----+--------------------------------+------------------------------------------------------------------------------------------------------------------------------------------------------------------------------------------------------------------------------+---------+\n",
            "| 119 | prv_candidates.nid             | Night ID                                                                                                                                                                                                                     | INTEGER |\n",
            "+-----+--------------------------------+------------------------------------------------------------------------------------------------------------------------------------------------------------------------------------------------------------------------------+---------+\n",
            "| 120 | prv_candidates.rcid            | Readout channel ID [00 .. 63]                                                                                                                                                                                                | INTEGER |\n",
            "+-----+--------------------------------+------------------------------------------------------------------------------------------------------------------------------------------------------------------------------------------------------------------------------+---------+\n",
            "| 121 | prv_candidates.field           | ZTF field ID                                                                                                                                                                                                                 | INTEGER |\n",
            "+-----+--------------------------------+------------------------------------------------------------------------------------------------------------------------------------------------------------------------------------------------------------------------------+---------+\n",
            "| 122 | prv_candidates.xpos            | x-image position of candidate [pixels]                                                                                                                                                                                       | FLOAT   |\n",
            "+-----+--------------------------------+------------------------------------------------------------------------------------------------------------------------------------------------------------------------------------------------------------------------------+---------+\n",
            "| 123 | prv_candidates.ypos            | y-image position of candidate [pixels]                                                                                                                                                                                       | FLOAT   |\n",
            "+-----+--------------------------------+------------------------------------------------------------------------------------------------------------------------------------------------------------------------------------------------------------------------------+---------+\n",
            "| 124 | prv_candidates.ra              | Right Ascension of candidate; J2000 [deg]                                                                                                                                                                                    | FLOAT   |\n",
            "+-----+--------------------------------+------------------------------------------------------------------------------------------------------------------------------------------------------------------------------------------------------------------------------+---------+\n",
            "| 125 | prv_candidates.dec             | Declination of candidate; J2000 [deg]                                                                                                                                                                                        | FLOAT   |\n",
            "+-----+--------------------------------+------------------------------------------------------------------------------------------------------------------------------------------------------------------------------------------------------------------------------+---------+\n",
            "| 126 | prv_candidates.magpsf          | Magnitude from PSF-fit photometry [mag]                                                                                                                                                                                      | FLOAT   |\n",
            "+-----+--------------------------------+------------------------------------------------------------------------------------------------------------------------------------------------------------------------------------------------------------------------------+---------+\n",
            "| 127 | prv_candidates.sigmapsf        | 1-sigma uncertainty in magpsf [mag]                                                                                                                                                                                          | FLOAT   |\n",
            "+-----+--------------------------------+------------------------------------------------------------------------------------------------------------------------------------------------------------------------------------------------------------------------------+---------+\n",
            "| 128 | prv_candidates.chipsf          | Reduced chi-square for PSF-fit                                                                                                                                                                                               | FLOAT   |\n",
            "+-----+--------------------------------+------------------------------------------------------------------------------------------------------------------------------------------------------------------------------------------------------------------------------+---------+\n",
            "| 129 | prv_candidates.magap           | Aperture mag using 14 pixel diameter aperture [mag]                                                                                                                                                                          | FLOAT   |\n",
            "+-----+--------------------------------+------------------------------------------------------------------------------------------------------------------------------------------------------------------------------------------------------------------------------+---------+\n",
            "| 130 | prv_candidates.sigmagap        | 1-sigma uncertainty in magap [mag]                                                                                                                                                                                           | FLOAT   |\n",
            "+-----+--------------------------------+------------------------------------------------------------------------------------------------------------------------------------------------------------------------------------------------------------------------------+---------+\n",
            "| 131 | prv_candidates.distnr          | distance to nearest source in reference image PSF-catalog [pixels]                                                                                                                                                           | FLOAT   |\n",
            "+-----+--------------------------------+------------------------------------------------------------------------------------------------------------------------------------------------------------------------------------------------------------------------------+---------+\n",
            "| 132 | prv_candidates.magnr           | magnitude of nearest source in reference image PSF-catalog [mag]                                                                                                                                                             | FLOAT   |\n",
            "+-----+--------------------------------+------------------------------------------------------------------------------------------------------------------------------------------------------------------------------------------------------------------------------+---------+\n",
            "| 133 | prv_candidates.sigmagnr        | 1-sigma uncertainty in magnr [mag]                                                                                                                                                                                           | FLOAT   |\n",
            "+-----+--------------------------------+------------------------------------------------------------------------------------------------------------------------------------------------------------------------------------------------------------------------------+---------+\n",
            "| 134 | prv_candidates.chinr           | DAOPhot chi parameter of nearest source in reference image PSF-catalog                                                                                                                                                       | FLOAT   |\n",
            "+-----+--------------------------------+------------------------------------------------------------------------------------------------------------------------------------------------------------------------------------------------------------------------------+---------+\n",
            "| 135 | prv_candidates.sharpnr         | DAOPhot sharp parameter of nearest source in reference image PSF-catalog                                                                                                                                                     | FLOAT   |\n",
            "+-----+--------------------------------+------------------------------------------------------------------------------------------------------------------------------------------------------------------------------------------------------------------------------+---------+\n",
            "| 136 | prv_candidates.sky             | Local sky background estimate [DN]                                                                                                                                                                                           | FLOAT   |\n",
            "+-----+--------------------------------+------------------------------------------------------------------------------------------------------------------------------------------------------------------------------------------------------------------------------+---------+\n",
            "| 137 | prv_candidates.magdiff         | Difference: magap - magpsf [mag]                                                                                                                                                                                             | FLOAT   |\n",
            "+-----+--------------------------------+------------------------------------------------------------------------------------------------------------------------------------------------------------------------------------------------------------------------------+---------+\n",
            "| 138 | prv_candidates.fwhm            | Full Width Half Max assuming a Gaussian core, from SExtractor [pixels]                                                                                                                                                       | FLOAT   |\n",
            "+-----+--------------------------------+------------------------------------------------------------------------------------------------------------------------------------------------------------------------------------------------------------------------------+---------+\n",
            "| 139 | prv_candidates.classtar        | Star/Galaxy classification score from SExtractor                                                                                                                                                                             | FLOAT   |\n",
            "+-----+--------------------------------+------------------------------------------------------------------------------------------------------------------------------------------------------------------------------------------------------------------------------+---------+\n",
            "| 140 | prv_candidates.mindtoedge      | Distance to nearest edge in image [pixels]                                                                                                                                                                                   | FLOAT   |\n",
            "+-----+--------------------------------+------------------------------------------------------------------------------------------------------------------------------------------------------------------------------------------------------------------------------+---------+\n",
            "| 141 | prv_candidates.magfromlim      | Difference: diffmaglim - magap [mag]                                                                                                                                                                                         | FLOAT   |\n",
            "+-----+--------------------------------+------------------------------------------------------------------------------------------------------------------------------------------------------------------------------------------------------------------------------+---------+\n",
            "| 142 | prv_candidates.seeratio        | Ratio: difffwhm / fwhm                                                                                                                                                                                                       | FLOAT   |\n",
            "+-----+--------------------------------+------------------------------------------------------------------------------------------------------------------------------------------------------------------------------------------------------------------------------+---------+\n",
            "| 143 | prv_candidates.aimage          | Windowed profile RMS afloat major axis from SExtractor [pixels]                                                                                                                                                              | FLOAT   |\n",
            "+-----+--------------------------------+------------------------------------------------------------------------------------------------------------------------------------------------------------------------------------------------------------------------------+---------+\n",
            "| 144 | prv_candidates.bimage          | Windowed profile RMS afloat minor axis from SExtractor [pixels]                                                                                                                                                              | FLOAT   |\n",
            "+-----+--------------------------------+------------------------------------------------------------------------------------------------------------------------------------------------------------------------------------------------------------------------------+---------+\n",
            "| 145 | prv_candidates.aimagerat       | Ratio: aimage / fwhm                                                                                                                                                                                                         | FLOAT   |\n",
            "+-----+--------------------------------+------------------------------------------------------------------------------------------------------------------------------------------------------------------------------------------------------------------------------+---------+\n",
            "| 146 | prv_candidates.bimagerat       | Ratio: bimage / fwhm                                                                                                                                                                                                         | FLOAT   |\n",
            "+-----+--------------------------------+------------------------------------------------------------------------------------------------------------------------------------------------------------------------------------------------------------------------------+---------+\n",
            "| 147 | prv_candidates.elong           | Ratio: aimage / bimage                                                                                                                                                                                                       | FLOAT   |\n",
            "+-----+--------------------------------+------------------------------------------------------------------------------------------------------------------------------------------------------------------------------------------------------------------------------+---------+\n",
            "| 148 | prv_candidates.nneg            | number of negative pixels in a 5 x 5 pixel stamp                                                                                                                                                                             | INTEGER |\n",
            "+-----+--------------------------------+------------------------------------------------------------------------------------------------------------------------------------------------------------------------------------------------------------------------------+---------+\n",
            "| 149 | prv_candidates.nbad            | number of prior-tagged bad pixels in a 5 x 5 pixel stamp                                                                                                                                                                     | INTEGER |\n",
            "+-----+--------------------------------+------------------------------------------------------------------------------------------------------------------------------------------------------------------------------------------------------------------------------+---------+\n",
            "| 150 | prv_candidates.rb              | RealBogus quality score; range is 0 to 1 where closer to 1 is more reliable                                                                                                                                                  | FLOAT   |\n",
            "+-----+--------------------------------+------------------------------------------------------------------------------------------------------------------------------------------------------------------------------------------------------------------------------+---------+\n",
            "| 151 | prv_candidates.ssdistnr        | distance to nearest known solar system object if exists within 30 arcsec [arcsec]                                                                                                                                            | FLOAT   |\n",
            "+-----+--------------------------------+------------------------------------------------------------------------------------------------------------------------------------------------------------------------------------------------------------------------------+---------+\n",
            "| 152 | prv_candidates.ssmagnr         | magnitude of nearest known solar system object if exists within 30 arcsec (usually V-band from MPC archive) [mag]                                                                                                            | FLOAT   |\n",
            "+-----+--------------------------------+------------------------------------------------------------------------------------------------------------------------------------------------------------------------------------------------------------------------------+---------+\n",
            "| 153 | prv_candidates.ssnamenr        | name of nearest known solar system object if exists within 30 arcsec (from MPC archive)                                                                                                                                      | STRING  |\n",
            "+-----+--------------------------------+------------------------------------------------------------------------------------------------------------------------------------------------------------------------------------------------------------------------------+---------+\n",
            "| 154 | prv_candidates.sumrat          | Ratio: sum(pixels) / sum(|pixels|) in a 5 x 5 pixel stamp where stamp is first median-filtered to mitigate outliers                                                                                                          | FLOAT   |\n",
            "+-----+--------------------------------+------------------------------------------------------------------------------------------------------------------------------------------------------------------------------------------------------------------------------+---------+\n",
            "| 155 | prv_candidates.magapbig        | Aperture mag using 18 pixel diameter aperture [mag]                                                                                                                                                                          | FLOAT   |\n",
            "+-----+--------------------------------+------------------------------------------------------------------------------------------------------------------------------------------------------------------------------------------------------------------------------+---------+\n",
            "| 156 | prv_candidates.sigmagapbig     | 1-sigma uncertainty in magapbig [mag]                                                                                                                                                                                        | FLOAT   |\n",
            "+-----+--------------------------------+------------------------------------------------------------------------------------------------------------------------------------------------------------------------------------------------------------------------------+---------+\n",
            "| 157 | prv_candidates.ranr            | Right Ascension of nearest source in reference image PSF-catalog; J2000 [deg]                                                                                                                                                | FLOAT   |\n",
            "+-----+--------------------------------+------------------------------------------------------------------------------------------------------------------------------------------------------------------------------------------------------------------------------+---------+\n",
            "| 158 | prv_candidates.decnr           | Declination of nearest source in reference image PSF-catalog; J2000 [deg]                                                                                                                                                    | FLOAT   |\n",
            "+-----+--------------------------------+------------------------------------------------------------------------------------------------------------------------------------------------------------------------------------------------------------------------------+---------+\n",
            "| 159 | prv_candidates.scorr           | Peak-pixel signal-to-noise ratio in point source matched-filtered detection image                                                                                                                                            | FLOAT   |\n",
            "+-----+--------------------------------+------------------------------------------------------------------------------------------------------------------------------------------------------------------------------------------------------------------------------+---------+\n",
            "| 160 | prv_candidates.magzpsci        | Magnitude zero point for photometry estimates [mag]                                                                                                                                                                          | FLOAT   |\n",
            "+-----+--------------------------------+------------------------------------------------------------------------------------------------------------------------------------------------------------------------------------------------------------------------------+---------+\n",
            "| 161 | prv_candidates.magzpsciunc     | Magnitude zero point uncertainty (in magzpsci) [mag]                                                                                                                                                                         | FLOAT   |\n",
            "+-----+--------------------------------+------------------------------------------------------------------------------------------------------------------------------------------------------------------------------------------------------------------------------+---------+\n",
            "| 162 | prv_candidates.magzpscirms     | RMS (deviation from average) in all differences between instrumental photometry and matched photometric calibrators from science image processing [mag]                                                                      | FLOAT   |\n",
            "+-----+--------------------------------+------------------------------------------------------------------------------------------------------------------------------------------------------------------------------------------------------------------------------+---------+\n",
            "| 163 | prv_candidates.clrcoeff        | Color coefficient from linear fit from photometric calibration of science image                                                                                                                                              | FLOAT   |\n",
            "+-----+--------------------------------+------------------------------------------------------------------------------------------------------------------------------------------------------------------------------------------------------------------------------+---------+\n",
            "| 164 | prv_candidates.clrcounc        | Color coefficient uncertainty from linear fit (corresponding to clrcoeff)                                                                                                                                                    | FLOAT   |\n",
            "+-----+--------------------------------+------------------------------------------------------------------------------------------------------------------------------------------------------------------------------------------------------------------------------+---------+\n",
            "| 165 | prv_candidates.rbversion       | version of RealBogus model/classifier used to assign rb quality score                                                                                                                                                        | STRING  |\n",
            "+-----+--------------------------------+------------------------------------------------------------------------------------------------------------------------------------------------------------------------------------------------------------------------------+---------+\n",
            "| 166 | cutoutScience                  |                                                                                                                                                                                                                              | RECORD  |\n",
            "+-----+--------------------------------+------------------------------------------------------------------------------------------------------------------------------------------------------------------------------------------------------------------------------+---------+\n",
            "| 167 | cutoutScience.fileName         |                                                                                                                                                                                                                              | STRING  |\n",
            "+-----+--------------------------------+------------------------------------------------------------------------------------------------------------------------------------------------------------------------------------------------------------------------------+---------+\n",
            "| 168 | cutoutScience.stampData        | fits.gz                                                                                                                                                                                                                      | BYTES   |\n",
            "+-----+--------------------------------+------------------------------------------------------------------------------------------------------------------------------------------------------------------------------------------------------------------------------+---------+\n",
            "| 169 | cutoutTemplate                 |                                                                                                                                                                                                                              | RECORD  |\n",
            "+-----+--------------------------------+------------------------------------------------------------------------------------------------------------------------------------------------------------------------------------------------------------------------------+---------+\n",
            "| 170 | cutoutTemplate.fileName        |                                                                                                                                                                                                                              | STRING  |\n",
            "+-----+--------------------------------+------------------------------------------------------------------------------------------------------------------------------------------------------------------------------------------------------------------------------+---------+\n",
            "| 171 | cutoutTemplate.stampData       | fits.gz                                                                                                                                                                                                                      | BYTES   |\n",
            "+-----+--------------------------------+------------------------------------------------------------------------------------------------------------------------------------------------------------------------------------------------------------------------------+---------+\n",
            "| 172 | cutoutDifference               |                                                                                                                                                                                                                              | RECORD  |\n",
            "+-----+--------------------------------+------------------------------------------------------------------------------------------------------------------------------------------------------------------------------------------------------------------------------+---------+\n",
            "| 173 | cutoutDifference.fileName      |                                                                                                                                                                                                                              | STRING  |\n",
            "+-----+--------------------------------+------------------------------------------------------------------------------------------------------------------------------------------------------------------------------------------------------------------------------+---------+\n",
            "| 174 | cutoutDifference.stampData     | fits.gz                                                                                                                                                                                                                      | BYTES   |\n",
            "+-----+--------------------------------+------------------------------------------------------------------------------------------------------------------------------------------------------------------------------------------------------------------------------+---------+\n",
            "\n",
            "ardent-cycling-243415.ztf_alerts.alerts has 26391376 rows.\n",
            "\n"
          ],
          "name": "stdout"
        }
      ]
    },
    {
      "cell_type": "markdown",
      "metadata": {
        "id": "cdy9BeSKT60F"
      },
      "source": [
        "---"
      ]
    },
    {
      "cell_type": "markdown",
      "metadata": {
        "id": "id1fk4u06Bcq"
      },
      "source": [
        "### 4a.b) Query [standard SQL + `google.cloud.bigquery`]\n",
        "\n",
        "Here we demonstrate how to query a database directly using standard SQL and the `google.cloud.bigquery` Python API. \n",
        "In the next section we will demonstrate our `pgb.bigquery` module which provides helper functions for common tasks (e.g., querying for lightcurves), many of which are simply convience wrappers for the methods and calls we introduce here.\n",
        "\n",
        "Links to more information:\n",
        "- [Query syntax in Standard SQL](https://cloud.google.com/bigquery/docs/reference/standard-sql/query-syntax)\n",
        "- [`google.cloud.bigquery` docs](https://googleapis.dev/python/bigquery/latest/index.html)"
      ]
    },
    {
      "cell_type": "markdown",
      "metadata": {
        "id": "H7jO3I0HTbyc"
      },
      "source": [
        "Query setup:"
      ]
    },
    {
      "cell_type": "code",
      "metadata": {
        "id": "GTDYNIUMCN_m"
      },
      "source": [
        "# Create a function to execute a \"dry run\" query \n",
        "# and tell us how much data will be processed\n",
        "def dry_run(query: str):\n",
        "    \"\"\"Perform a dry run to find out how many bytes the query will process.\n",
        "    Args:\n",
        "        query: SQL query statement\n",
        "    \"\"\"\n",
        "    job_config = bigquery.QueryJobConfig(dry_run=True, use_query_cache=False)\n",
        "    query_job = bq_client.query(query, job_config=job_config)\n",
        "\n",
        "    nbytes, TB = query_job.total_bytes_processed, 1e12\n",
        "    print(f'\\nQuery statement:')\n",
        "    print(f'\\n\"{query}\"\\n')\n",
        "    print(f'will process {nbytes} bytes of data.')\n",
        "    print(f'({nbytes/TB*100:.3}% of your 1 TB free monthly allotment.)')"
      ],
      "execution_count": 12,
      "outputs": []
    },
    {
      "cell_type": "code",
      "metadata": {
        "id": "ixkW53SiCR6N"
      },
      "source": [
        "# Create a BigQuery client\n",
        "bq_client = bigquery.Client(project=my_project_id)"
      ],
      "execution_count": 13,
      "outputs": []
    },
    {
      "cell_type": "code",
      "metadata": {
        "id": "ZhhHT9YArfyd",
        "colab": {
          "base_uri": "https://localhost:8080/"
        },
        "outputId": "12e9ff33-c79f-40f5-e048-49e6f4a8b4a0"
      },
      "source": [
        "# Write the standard SQL query statement as a string\n",
        "\n",
        "# View a list of available tables using\n",
        "# pgb.bigquery.get_dataset_table_names()\n",
        "# Hint: click \"Insert\" -> \"Scratch code cell\" and run this command in the new \"Scratch cell\"\n",
        "\n",
        "# View available column names using\n",
        "# pgb.bigquery.get_table_info(table)\n",
        "\n",
        "# construct the full table name\n",
        "dataset = 'ztf_alerts'\n",
        "table = 'salt2'\n",
        "full_table_name = f'{pgb_project_id}.{dataset}.{table}'\n",
        "\n",
        "# construct the query\n",
        "# Here we query the salt2 database, \n",
        "#   group results by objectId,\n",
        "#   and return the objectId, avg redshift, and average chi squared per degree of freedom\n",
        "query = (\n",
        "    f'SELECT objectId, AVG(z) as z_avg, AVG(chisq/ndof) as chisq_per_dof_avg '\n",
        "    f'FROM `{full_table_name}` '\n",
        "    f'WHERE ndof>0 and chisq/ndof<2 '\n",
        "    f'GROUP BY objectId'\n",
        ")\n",
        "\n",
        "# Find out how much data will be processed\n",
        "dry_run(query)"
      ],
      "execution_count": 14,
      "outputs": [
        {
          "output_type": "stream",
          "text": [
            "\n",
            "Query statement:\n",
            "\n",
            "\"SELECT objectId, AVG(z) as z_avg, AVG(chisq/ndof) as chisq_per_dof_avg FROM `ardent-cycling-243415.ztf_alerts.salt2` WHERE ndof>0 and chisq/ndof<2 GROUP BY objectId\"\n",
            "\n",
            "will process 4661118 bytes of data.\n",
            "(0.000466% of your 1 TB free monthly allotment.)\n"
          ],
          "name": "stdout"
        }
      ]
    },
    {
      "cell_type": "markdown",
      "metadata": {
        "id": "PRVGtyuPTjR3"
      },
      "source": [
        "Query:"
      ]
    },
    {
      "cell_type": "code",
      "metadata": {
        "id": "w9eAAoLTouXM"
      },
      "source": [
        "# Make the API request\n",
        "query_job = bq_client.query(query)\n",
        "# Beware: the results may contain duplicate entries"
      ],
      "execution_count": 15,
      "outputs": []
    },
    {
      "cell_type": "markdown",
      "metadata": {
        "id": "Zb9wSsGhTmwX"
      },
      "source": [
        "Format and view results:"
      ]
    },
    {
      "cell_type": "code",
      "metadata": {
        "id": "EUvYkm0cQS0a",
        "colab": {
          "base_uri": "https://localhost:8080/",
          "height": 462
        },
        "outputId": "a0727dd5-4632-48c8-a4dc-f4c7c06892db"
      },
      "source": [
        "# Option 1: dump results to a pandas.DataFrame\n",
        "df = query_job.to_dataframe()\n",
        "\n",
        "# look at some things\n",
        "df.hist()\n",
        "df.head()"
      ],
      "execution_count": 16,
      "outputs": [
        {
          "output_type": "execute_result",
          "data": {
            "text/html": [
              "<div>\n",
              "<style scoped>\n",
              "    .dataframe tbody tr th:only-of-type {\n",
              "        vertical-align: middle;\n",
              "    }\n",
              "\n",
              "    .dataframe tbody tr th {\n",
              "        vertical-align: top;\n",
              "    }\n",
              "\n",
              "    .dataframe thead th {\n",
              "        text-align: right;\n",
              "    }\n",
              "</style>\n",
              "<table border=\"1\" class=\"dataframe\">\n",
              "  <thead>\n",
              "    <tr style=\"text-align: right;\">\n",
              "      <th></th>\n",
              "      <th>objectId</th>\n",
              "      <th>z_avg</th>\n",
              "      <th>chisq_per_dof_avg</th>\n",
              "    </tr>\n",
              "  </thead>\n",
              "  <tbody>\n",
              "    <tr>\n",
              "      <th>0</th>\n",
              "      <td>ZTF20acpwjus</td>\n",
              "      <td>0.125645</td>\n",
              "      <td>0.260774</td>\n",
              "    </tr>\n",
              "    <tr>\n",
              "      <th>1</th>\n",
              "      <td>ZTF19aalcuwu</td>\n",
              "      <td>0.088871</td>\n",
              "      <td>1.177646</td>\n",
              "    </tr>\n",
              "    <tr>\n",
              "      <th>2</th>\n",
              "      <td>ZTF20aadwhwo</td>\n",
              "      <td>0.123881</td>\n",
              "      <td>0.741822</td>\n",
              "    </tr>\n",
              "    <tr>\n",
              "      <th>3</th>\n",
              "      <td>ZTF19abxvtlw</td>\n",
              "      <td>0.105010</td>\n",
              "      <td>0.967316</td>\n",
              "    </tr>\n",
              "    <tr>\n",
              "      <th>4</th>\n",
              "      <td>ZTF20acnvfzm</td>\n",
              "      <td>0.160182</td>\n",
              "      <td>0.507394</td>\n",
              "    </tr>\n",
              "  </tbody>\n",
              "</table>\n",
              "</div>"
            ],
            "text/plain": [
              "       objectId     z_avg  chisq_per_dof_avg\n",
              "0  ZTF20acpwjus  0.125645           0.260774\n",
              "1  ZTF19aalcuwu  0.088871           1.177646\n",
              "2  ZTF20aadwhwo  0.123881           0.741822\n",
              "3  ZTF19abxvtlw  0.105010           0.967316\n",
              "4  ZTF20acnvfzm  0.160182           0.507394"
            ]
          },
          "metadata": {
            "tags": []
          },
          "execution_count": 16
        },
        {
          "output_type": "display_data",
          "data": {
            "image/png": "[encoded data removed]",
            "text/plain": [
              "<Figure size 432x288 with 2 Axes>"
            ]
          },
          "metadata": {
            "tags": [],
            "needs_background": "light"
          }
        }
      ]
    },
    {
      "cell_type": "code",
      "metadata": {
        "id": "HaLecK6YYWJI",
        "colab": {
          "base_uri": "https://localhost:8080/"
        },
        "outputId": "8968ee95-9b2f-4215-c2d9-099b0c3724d2"
      },
      "source": [
        "# Option 2: parse results row by row\n",
        "for r, row in enumerate(query_job):\n",
        "    \n",
        "    # row values can be accessed by field name or index\n",
        "    print(f\"objectId={row[0]}, z_avg={row['z_avg']}\")\n",
        "\n",
        "    if r>5: break"
      ],
      "execution_count": 17,
      "outputs": [
        {
          "output_type": "stream",
          "text": [
            "objectId=ZTF20acpwjus, z_avg=0.12564467001350713\n",
            "objectId=ZTF19aalcuwu, z_avg=0.08887082652554652\n",
            "objectId=ZTF20aadwhwo, z_avg=0.12388102102402986\n",
            "objectId=ZTF19abxvtlw, z_avg=0.10501007919822207\n",
            "objectId=ZTF20acnvfzm, z_avg=0.1601822325649473\n",
            "objectId=ZTF20actkoic, z_avg=0.1216103844861559\n",
            "objectId=ZTF19adcbaly, z_avg=0.034705676606653225\n"
          ],
          "name": "stdout"
        }
      ]
    },
    {
      "cell_type": "markdown",
      "metadata": {
        "id": "dirLfrvCT3lt"
      },
      "source": [
        "---"
      ]
    },
    {
      "cell_type": "markdown",
      "metadata": {
        "id": "AbTyVXUko6-d"
      },
      "source": [
        "### 4a.c) Query [`pgb_utils`]"
      ]
    },
    {
      "cell_type": "markdown",
      "metadata": {
        "id": "EMBaYJn2-72F"
      },
      "source": [
        "To query the alerts database for an object's _history_, one must group the query results by the `objectId` and aggregate the remaining data.\n",
        "You can do this yourself using the methods in the previous section, or you can let the `pgb.bigquery` helper functions do some or all of the work for you."
      ]
    },
    {
      "cell_type": "markdown",
      "metadata": {
        "id": "nJpnrqMwrToR"
      },
      "source": [
        "Overview of noteable functions:"
      ]
    },
    {
      "cell_type": "code",
      "metadata": {
        "id": "MYtS-dNzrZ1D"
      },
      "source": [
        "pgb.bigquery.query_objects(columns, objectIds=objectIds)"
      ],
      "execution_count": null,
      "outputs": []
    },
    {
      "cell_type": "markdown",
      "metadata": {
        "id": "AUc8MzWYSdFT"
      },
      "source": [
        "Query Setup:"
      ]
    },
    {
      "cell_type": "code",
      "metadata": {
        "id": "-7VY4RP6748V"
      },
      "source": [
        "# Choose the history data you want returned\n",
        "\n",
        "# View available column names using\n",
        "# pgb.bigquery.get_history_column_names()\n",
        "\n",
        "columns = ['jd', 'fid', 'magpsf', 'sigmapsf']  # some lightcurve info\n",
        "# 'objectId' and 'candid' will be included automatically"
      ],
      "execution_count": 19,
      "outputs": []
    },
    {
      "cell_type": "code",
      "metadata": {
        "id": "pn4PFoPRRkXN"
      },
      "source": [
        "# Optional: Choose the objects you want returned\n",
        "# If you do not pass an `objectIds` argument to `query_objects()` (below)\n",
        "# you will get every object in our database.\n",
        "\n",
        "# choose some objects based on the results of the salt2 query above\n",
        "objectIds = ['ZTF18aczuwfe', 'ZTF18aczvqcr', 'ZTF20acqgklx', 'ZTF18acexdlh']"
      ],
      "execution_count": 20,
      "outputs": []
    },
    {
      "cell_type": "markdown",
      "metadata": {
        "id": "5tU9KNMJSlWt"
      },
      "source": [
        "Query object histories:"
      ]
    },
    {
      "cell_type": "code",
      "metadata": {
        "colab": {
          "base_uri": "https://localhost:8080/"
        },
        "id": "xFwWuisxEGrH",
        "outputId": "59afa204-eb9d-43aa-9761-a7d40776b850"
      },
      "source": [
        "# Option 0: Let pgb generate the required SQL statement, \n",
        "#           then execute the query yourself using methods from the previous section.\n",
        "\n",
        "query = pgb.bigquery.object_history_sql_statement(columns, objectIds=objectIds)\n",
        "print(query)\n",
        "\n",
        "# dry_run(query)\n",
        "# query_job = bq_client.query(query)"
      ],
      "execution_count": 24,
      "outputs": [
        {
          "output_type": "stream",
          "text": [
            "SELECT objectId, ARRAY_AGG(candid ORDER BY candidate.jd) AS candid, ARRAY_AGG(candidate.jd ORDER BY candidate.jd) AS jd, ARRAY_AGG(candidate.magpsf ORDER BY candidate.jd) AS magpsf, ARRAY_AGG(candidate.fid ORDER BY candidate.jd) AS fid, ARRAY_AGG(candidate.sigmapsf ORDER BY candidate.jd) AS sigmapsf FROM `ardent-cycling-243415.ztf_alerts.alerts` WHERE objectId IN (\"ZTF18aczuwfe\",\"ZTF18aczvqcr\",\"ZTF20acqgklx\",\"ZTF18acexdlh\") GROUP BY objectId\n"
          ],
          "name": "stdout"
        }
      ]
    },
    {
      "cell_type": "markdown",
      "metadata": {
        "id": "03EYWzWoEHbV"
      },
      "source": [
        "Note: The first time you query using `pgb_utils` you will be prompted to open a BigQuery Client. \n",
        "Enter your project_id in plain text when instructed; do not wrap the id in quotes."
      ]
    },
    {
      "cell_type": "code",
      "metadata": {
        "id": "YtJ2C1gS9vdC",
        "colab": {
          "base_uri": "https://localhost:8080/",
          "height": 536
        },
        "outputId": "8017d125-7f0d-4f30-fb21-0e87d9277e09"
      },
      "source": [
        "# Option 1: Get a single DataFrame of all results\n",
        "\n",
        "lcsdf = pgb.bigquery.query_objects(columns, objectIds=objectIds)\n",
        "# This will execute a dry run and tell you how much data will be processed.\n",
        "# You will be asked to confirm before proceeding.\n",
        "# In the future we will skip the dry run and confirmation with `dry_run=False`.\n",
        "\n",
        "lcsdf.sample(10)\n",
        "# cleaned of duplicates"
      ],
      "execution_count": 25,
      "outputs": [
        {
          "output_type": "stream",
          "text": [
            "\n",
            "Query statement:\n",
            "\n",
            "\"SELECT objectId, ARRAY_AGG(candid ORDER BY candidate.jd) AS candid, ARRAY_AGG(candidate.jd ORDER BY candidate.jd) AS jd, ARRAY_AGG(candidate.magpsf ORDER BY candidate.jd) AS magpsf, ARRAY_AGG(candidate.fid ORDER BY candidate.jd) AS fid, ARRAY_AGG(candidate.sigmapsf ORDER BY candidate.jd) AS sigmapsf FROM `ardent-cycling-243415.ztf_alerts.alerts` WHERE objectId IN (\"ZTF18aczuwfe\",\"ZTF18aczvqcr\",\"ZTF20acqgklx\",\"ZTF18acexdlh\") GROUP BY objectId\"\n",
            "\n",
            "will process 1425336912 bytes of data.\n",
            "(0.143% of your 1 TB free monthly allotment.)\n",
            "Continue? [y/N]: y\n"
          ],
          "name": "stdout"
        },
        {
          "output_type": "execute_result",
          "data": {
            "text/html": [
              "<div>\n",
              "<style scoped>\n",
              "    .dataframe tbody tr th:only-of-type {\n",
              "        vertical-align: middle;\n",
              "    }\n",
              "\n",
              "    .dataframe tbody tr th {\n",
              "        vertical-align: top;\n",
              "    }\n",
              "\n",
              "    .dataframe thead th {\n",
              "        text-align: right;\n",
              "    }\n",
              "</style>\n",
              "<table border=\"1\" class=\"dataframe\">\n",
              "  <thead>\n",
              "    <tr style=\"text-align: right;\">\n",
              "      <th></th>\n",
              "      <th></th>\n",
              "      <th>jd</th>\n",
              "      <th>magpsf</th>\n",
              "      <th>fid</th>\n",
              "      <th>sigmapsf</th>\n",
              "    </tr>\n",
              "    <tr>\n",
              "      <th>objectId</th>\n",
              "      <th>candid</th>\n",
              "      <th></th>\n",
              "      <th></th>\n",
              "      <th></th>\n",
              "      <th></th>\n",
              "    </tr>\n",
              "  </thead>\n",
              "  <tbody>\n",
              "    <tr>\n",
              "      <th rowspan=\"3\" valign=\"top\">ZTF18acexdlh</th>\n",
              "      <th>1514253651415015005</th>\n",
              "      <td>2.459269e+06</td>\n",
              "      <td>18.971836</td>\n",
              "      <td>2</td>\n",
              "      <td>0.137007</td>\n",
              "    </tr>\n",
              "    <tr>\n",
              "      <th>1549151215615010007</th>\n",
              "      <td>2.459304e+06</td>\n",
              "      <td>18.831125</td>\n",
              "      <td>2</td>\n",
              "      <td>0.088465</td>\n",
              "    </tr>\n",
              "    <tr>\n",
              "      <th>1462325575615015004</th>\n",
              "      <td>2.459217e+06</td>\n",
              "      <td>19.165098</td>\n",
              "      <td>2</td>\n",
              "      <td>0.141370</td>\n",
              "    </tr>\n",
              "    <tr>\n",
              "      <th>ZTF20acqgklx</th>\n",
              "      <th>1438294975215015018</th>\n",
              "      <td>2.459193e+06</td>\n",
              "      <td>19.228207</td>\n",
              "      <td>1</td>\n",
              "      <td>0.191553</td>\n",
              "    </tr>\n",
              "    <tr>\n",
              "      <th rowspan=\"2\" valign=\"top\">ZTF18acexdlh</th>\n",
              "      <th>1450323131415015015</th>\n",
              "      <td>2.459205e+06</td>\n",
              "      <td>19.424927</td>\n",
              "      <td>1</td>\n",
              "      <td>0.159461</td>\n",
              "    </tr>\n",
              "    <tr>\n",
              "      <th>1439302740315010057</th>\n",
              "      <td>2.459194e+06</td>\n",
              "      <td>19.093370</td>\n",
              "      <td>2</td>\n",
              "      <td>0.133488</td>\n",
              "    </tr>\n",
              "    <tr>\n",
              "      <th>ZTF20acqgklx</th>\n",
              "      <th>1451204595215015021</th>\n",
              "      <td>2.459206e+06</td>\n",
              "      <td>18.839638</td>\n",
              "      <td>2</td>\n",
              "      <td>0.106252</td>\n",
              "    </tr>\n",
              "    <tr>\n",
              "      <th>ZTF18acexdlh</th>\n",
              "      <th>1503213471415010084</th>\n",
              "      <td>2.459258e+06</td>\n",
              "      <td>19.181339</td>\n",
              "      <td>2</td>\n",
              "      <td>0.145436</td>\n",
              "    </tr>\n",
              "    <tr>\n",
              "      <th>ZTF18aczvqcr</th>\n",
              "      <th>1410421083615015027</th>\n",
              "      <td>2.459165e+06</td>\n",
              "      <td>20.126310</td>\n",
              "      <td>1</td>\n",
              "      <td>0.147839</td>\n",
              "    </tr>\n",
              "    <tr>\n",
              "      <th>ZTF20acqgklx</th>\n",
              "      <th>1440322515215015022</th>\n",
              "      <td>2.459195e+06</td>\n",
              "      <td>19.242628</td>\n",
              "      <td>1</td>\n",
              "      <td>0.108532</td>\n",
              "    </tr>\n",
              "  </tbody>\n",
              "</table>\n",
              "</div>"
            ],
            "text/plain": [
              "                                            jd     magpsf  fid  sigmapsf\n",
              "objectId     candid                                                     \n",
              "ZTF18acexdlh 1514253651415015005  2.459269e+06  18.971836    2  0.137007\n",
              "             1549151215615010007  2.459304e+06  18.831125    2  0.088465\n",
              "             1462325575615015004  2.459217e+06  19.165098    2  0.141370\n",
              "ZTF20acqgklx 1438294975215015018  2.459193e+06  19.228207    1  0.191553\n",
              "ZTF18acexdlh 1450323131415015015  2.459205e+06  19.424927    1  0.159461\n",
              "             1439302740315010057  2.459194e+06  19.093370    2  0.133488\n",
              "ZTF20acqgklx 1451204595215015021  2.459206e+06  18.839638    2  0.106252\n",
              "ZTF18acexdlh 1503213471415010084  2.459258e+06  19.181339    2  0.145436\n",
              "ZTF18aczvqcr 1410421083615015027  2.459165e+06  20.126310    1  0.147839\n",
              "ZTF20acqgklx 1440322515215015022  2.459195e+06  19.242628    1  0.108532"
            ]
          },
          "metadata": {
            "tags": []
          },
          "execution_count": 25
        }
      ]
    },
    {
      "cell_type": "code",
      "metadata": {
        "id": "kEBGXlyM_P33",
        "colab": {
          "base_uri": "https://localhost:8080/"
        },
        "outputId": "b63b9ba4-651e-448b-8be8-d503edd5187c"
      },
      "source": [
        "# Option 2: Get a generator that yields a DataFrame for each objectId\n",
        "\n",
        "objects = pgb.bigquery.query_objects(columns, \n",
        "                                     objectIds=objectIds, \n",
        "                                     iterator=True,\n",
        "                                     dry_run=False\n",
        "                                     )\n",
        "                                     # cleaned of duplicates\n",
        "\n",
        "for lcdf in objects:\n",
        "    print(f'\\nobjectId: {lcdf.objectId}')\n",
        "    print(lcdf.sample(5))\n",
        "\n",
        "# Help! \n",
        "# query_objects() (with these params) returns a GENERATOR EXPRESSION\n",
        "# which may not be the right way to do this.\n",
        "# I'm not very familiar with creating generator functions.\n",
        "# The resulting `objects` generator can only be used once. This was \n",
        "# unexpected behavior to me.\n",
        "# I've also named the keyword \"iterator\" which might contribute confusion.\n",
        "# I tried using a yield statement instead, but ran into trouble because I \n",
        "# want this function to return something other than a generator when given \n",
        "# different params."
      ],
      "execution_count": 28,
      "outputs": [
        {
          "output_type": "stream",
          "text": [
            "\n",
            "objectId: ZTF18aczuwfe\n",
            "                               jd     magpsf  fid  sigmapsf\n",
            "candid                                                     \n",
            "1510148923415015004  2.459265e+06  20.099720    2  0.175255\n",
            "1469258283415015005  2.459224e+06  20.287066    2  0.212321\n",
            "1479213073415015001  2.459234e+06  19.893818    2  0.178393\n",
            "1510206363415015002  2.459265e+06  19.803467    1  0.164810\n",
            "1451204593415015000  2.459206e+06  20.036793    2  0.181526\n",
            "\n",
            "objectId: ZTF18aczvqcr\n",
            "                               jd     magpsf  fid  sigmapsf\n",
            "candid                                                     \n",
            "1410421083615015027  2.459165e+06  20.126310    1  0.147839\n",
            "1469312763615015029  2.459224e+06  19.705523    2  0.122980\n",
            "1416402323615015029  2.459171e+06  19.717068    2  0.120142\n",
            "1471254023615015025  2.459226e+06  19.591162    2  0.183519\n",
            "1416428113615015031  2.459171e+06  20.324043    1  0.213728\n",
            "\n",
            "objectId: ZTF18acexdlh\n",
            "                               jd     magpsf  fid  sigmapsf\n",
            "candid                                                     \n",
            "1498210305615015006  2.459253e+06  19.491119    2  0.164705\n",
            "1444421735615010004  2.459199e+06  18.782455    2  0.085394\n",
            "1466295465615010001  2.459221e+06  19.039642    2  0.102151\n",
            "1451221995615015009  2.459206e+06  19.552464    2  0.147900\n",
            "1415503721415015012  2.459170e+06  19.295223    2  0.143628\n",
            "\n",
            "objectId: ZTF20acqgklx\n",
            "                               jd     magpsf  fid  sigmapsf\n",
            "candid                                                     \n",
            "1451280085215015013  2.459206e+06  19.161543    1  0.128571\n",
            "1442282165215015017  2.459197e+06  18.957773    2  0.146518\n",
            "1414351235215015023  2.459169e+06  19.898302    2  0.171336\n",
            "1438294975215015018  2.459193e+06  19.228207    1  0.191553\n",
            "1497208625215015030  2.459252e+06  19.296221    2  0.094788\n"
          ],
          "name": "stdout"
        }
      ]
    },
    {
      "cell_type": "code",
      "metadata": {
        "id": "wOtHmRP7_Pvm",
        "colab": {
          "base_uri": "https://localhost:8080/",
          "height": 215
        },
        "outputId": "67965c24-f90d-4906-f102-164fa79e697d"
      },
      "source": [
        "# Option 3: Get a single json string with all the results\n",
        "\n",
        "lcsjson = pgb.bigquery.query_objects(columns, \n",
        "                                     objectIds=objectIds, \n",
        "                                     format='json',\n",
        "                                     dry_run=False\n",
        "                                     )\n",
        "                                     # cleaned of duplicates\n",
        "print(lcsjson[0:100])\n",
        "\n",
        "# read it back in\n",
        "df = pd.read_json(lcsjson)\n",
        "df.head()\n",
        "\n",
        "# Help!\n",
        "# There are many json format options. I haven't worked with json before, so I \n",
        "# don't know the best ones to choose. I chose the defaults. The result doesn't \n",
        "# look pretty if you print it out, but has the advantage that it reads back\n",
        "# in to a dataframe nicely.\n",
        "# BTW, I chose to offer this option in the first place because ALeRCE does it\n",
        "# and it seemed easy. I don't know how useful it is."
      ],
      "execution_count": 29,
      "outputs": [
        {
          "output_type": "stream",
          "text": [
            "{\"objectId\":{\"0\":\"ZTF18acexdlh\",\"1\":\"ZTF18acexdlh\",\"2\":\"ZTF18acexdlh\",\"3\":\"ZTF18acexdlh\",\"4\":\"ZTF18a\n"
          ],
          "name": "stdout"
        },
        {
          "output_type": "execute_result",
          "data": {
            "text/html": [
              "<div>\n",
              "<style scoped>\n",
              "    .dataframe tbody tr th:only-of-type {\n",
              "        vertical-align: middle;\n",
              "    }\n",
              "\n",
              "    .dataframe tbody tr th {\n",
              "        vertical-align: top;\n",
              "    }\n",
              "\n",
              "    .dataframe thead th {\n",
              "        text-align: right;\n",
              "    }\n",
              "</style>\n",
              "<table border=\"1\" class=\"dataframe\">\n",
              "  <thead>\n",
              "    <tr style=\"text-align: right;\">\n",
              "      <th></th>\n",
              "      <th>objectId</th>\n",
              "      <th>candid</th>\n",
              "      <th>jd</th>\n",
              "      <th>magpsf</th>\n",
              "      <th>fid</th>\n",
              "      <th>sigmapsf</th>\n",
              "    </tr>\n",
              "  </thead>\n",
              "  <tbody>\n",
              "    <tr>\n",
              "      <th>0</th>\n",
              "      <td>ZTF18acexdlh</td>\n",
              "      <td>1413467435615010006</td>\n",
              "      <td>2.459168e+06</td>\n",
              "      <td>19.826857</td>\n",
              "      <td>2</td>\n",
              "      <td>0.166471</td>\n",
              "    </tr>\n",
              "    <tr>\n",
              "      <th>1</th>\n",
              "      <td>ZTF18acexdlh</td>\n",
              "      <td>1413504165615010011</td>\n",
              "      <td>2.459168e+06</td>\n",
              "      <td>19.802505</td>\n",
              "      <td>1</td>\n",
              "      <td>0.198211</td>\n",
              "    </tr>\n",
              "    <tr>\n",
              "      <th>2</th>\n",
              "      <td>ZTF18acexdlh</td>\n",
              "      <td>1415503721415015012</td>\n",
              "      <td>2.459170e+06</td>\n",
              "      <td>19.295223</td>\n",
              "      <td>2</td>\n",
              "      <td>0.143628</td>\n",
              "    </tr>\n",
              "    <tr>\n",
              "      <th>3</th>\n",
              "      <td>ZTF18acexdlh</td>\n",
              "      <td>1415504180315015015</td>\n",
              "      <td>2.459170e+06</td>\n",
              "      <td>19.323833</td>\n",
              "      <td>2</td>\n",
              "      <td>0.182748</td>\n",
              "    </tr>\n",
              "    <tr>\n",
              "      <th>4</th>\n",
              "      <td>ZTF18acexdlh</td>\n",
              "      <td>1436373241415015008</td>\n",
              "      <td>2.459191e+06</td>\n",
              "      <td>19.320747</td>\n",
              "      <td>1</td>\n",
              "      <td>0.173271</td>\n",
              "    </tr>\n",
              "  </tbody>\n",
              "</table>\n",
              "</div>"
            ],
            "text/plain": [
              "       objectId               candid            jd     magpsf  fid  sigmapsf\n",
              "0  ZTF18acexdlh  1413467435615010006  2.459168e+06  19.826857    2  0.166471\n",
              "1  ZTF18acexdlh  1413504165615010011  2.459168e+06  19.802505    1  0.198211\n",
              "2  ZTF18acexdlh  1415503721415015012  2.459170e+06  19.295223    2  0.143628\n",
              "3  ZTF18acexdlh  1415504180315015015  2.459170e+06  19.323833    2  0.182748\n",
              "4  ZTF18acexdlh  1436373241415015008  2.459191e+06  19.320747    1  0.173271"
            ]
          },
          "metadata": {
            "tags": []
          },
          "execution_count": 29
        }
      ]
    },
    {
      "cell_type": "code",
      "metadata": {
        "id": "_lumcgl6_RsY",
        "colab": {
          "base_uri": "https://localhost:8080/"
        },
        "outputId": "af071dc1-f60c-49fe-8023-d0290b918682"
      },
      "source": [
        "# Option 4: Get a generator that yields a json string for a single objectId\n",
        "\n",
        "jobj = pgb.bigquery.query_objects(columns, \n",
        "                                  objectIds=objectIds, \n",
        "                                  format='json', \n",
        "                                  iterator=True,\n",
        "                                  dry_run=False\n",
        "                                  )\n",
        "                                  # cleaned of duplicates\n",
        "\n",
        "for lcjson in jobj:\n",
        "    print(lcjson[0:50])\n",
        "    # lcdf = pd.read_json(lcjson)  # read back to a df"
      ],
      "execution_count": 31,
      "outputs": [
        {
          "output_type": "stream",
          "text": [
            "{\"candid\":{\"0\":1414351235215015023,\"1\":14143659352\n",
            "       objectId               candid            jd     magpsf  fid  sigmapsf\n",
            "0  ZTF18acexdlh  1413467435615010006  2.459168e+06  19.826857    2  0.166471\n",
            "1  ZTF18acexdlh  1413504165615010011  2.459168e+06  19.802505    1  0.198211\n",
            "2  ZTF18acexdlh  1415503721415015012  2.459170e+06  19.295223    2  0.143628\n",
            "3  ZTF18acexdlh  1415504180315015015  2.459170e+06  19.323833    2  0.182748\n",
            "4  ZTF18acexdlh  1436373241415015008  2.459191e+06  19.320747    1  0.173271\n",
            "{\"candid\":{\"0\":1440303993415015003,\"1\":14403225134\n",
            "       objectId               candid            jd     magpsf  fid  sigmapsf\n",
            "0  ZTF18acexdlh  1413467435615010006  2.459168e+06  19.826857    2  0.166471\n",
            "1  ZTF18acexdlh  1413504165615010011  2.459168e+06  19.802505    1  0.198211\n",
            "2  ZTF18acexdlh  1415503721415015012  2.459170e+06  19.295223    2  0.143628\n",
            "3  ZTF18acexdlh  1415504180315015015  2.459170e+06  19.323833    2  0.182748\n",
            "4  ZTF18acexdlh  1436373241415015008  2.459191e+06  19.320747    1  0.173271\n",
            "{\"candid\":{\"0\":1413467435615010006,\"1\":14135041656\n",
            "       objectId               candid            jd     magpsf  fid  sigmapsf\n",
            "0  ZTF18acexdlh  1413467435615010006  2.459168e+06  19.826857    2  0.166471\n",
            "1  ZTF18acexdlh  1413504165615010011  2.459168e+06  19.802505    1  0.198211\n",
            "2  ZTF18acexdlh  1415503721415015012  2.459170e+06  19.295223    2  0.143628\n",
            "3  ZTF18acexdlh  1415504180315015015  2.459170e+06  19.323833    2  0.182748\n",
            "4  ZTF18acexdlh  1436373241415015008  2.459191e+06  19.320747    1  0.173271\n",
            "{\"candid\":{\"0\":1410421083615015027,\"1\":14143507436\n",
            "       objectId               candid            jd     magpsf  fid  sigmapsf\n",
            "0  ZTF18acexdlh  1413467435615010006  2.459168e+06  19.826857    2  0.166471\n",
            "1  ZTF18acexdlh  1413504165615010011  2.459168e+06  19.802505    1  0.198211\n",
            "2  ZTF18acexdlh  1415503721415015012  2.459170e+06  19.295223    2  0.143628\n",
            "3  ZTF18acexdlh  1415504180315015015  2.459170e+06  19.323833    2  0.182748\n",
            "4  ZTF18acexdlh  1436373241415015008  2.459191e+06  19.320747    1  0.173271\n"
          ],
          "name": "stdout"
        }
      ]
    },
    {
      "cell_type": "code",
      "metadata": {
        "id": "BsY_T60i8YjT"
      },
      "source": [
        "# Option 5: Get the raw query_job (see previous section) object\n",
        "\n",
        "query_job = pgb.bigquery.query_objects(columns, \n",
        "                                       objectIds=objectIds, \n",
        "                                       format='query_job',\n",
        "                                       dry_run=False\n",
        "                                       )\n",
        "# query_job is iterable; each element contains the aggregated history for a single objectId\n",
        "# Beware: this has not been cleaned of duplicate entries"
      ],
      "execution_count": 32,
      "outputs": []
    },
    {
      "cell_type": "code",
      "metadata": {
        "colab": {
          "base_uri": "https://localhost:8080/"
        },
        "id": "vNwVq3kkpf7t",
        "outputId": "92163a9b-ac39-446e-85e9-f429ba74d9e2"
      },
      "source": [
        "# Option 5 (continued): parse query_job results row by row\n",
        "\n",
        "for row in query_job:\n",
        "    # values can be accessed by field name or index\n",
        "    print(f\"objectId={row[0]}, magpsf={row['magpsf']}\")\n",
        "\n",
        "    # pgb can cast to a DataFrame or json string\n",
        "    # this also cleans the duplicates\n",
        "    lcdf = pgb.bigquery.format_history_query_results(row=row)\n",
        "    print(f'\\nobjectId: {lcdf.objectId}')  # objectId in metadata\n",
        "    print(lcdf.head(1))\n",
        "    lcjson = pgb.bigquery.format_history_query_results(row=row, format='json')\n",
        "    print('\\n', lcjson[0:100])\n",
        "\n",
        "    break"
      ],
      "execution_count": 33,
      "outputs": [
        {
          "output_type": "stream",
          "text": [
            "objectId=ZTF18aczvqcr, magpsf=[20.126310348510742, 19.64371109008789, 19.71706771850586, 20.32404327392578, 19.552291870117188, 20.146791458129883, 19.952713012695312, 19.952713012695312, 19.403717041015625, 19.403717041015625, 19.54031753540039, 19.54031753540039, 20.161224365234375, 20.161224365234375, 19.499542236328125, 19.690040588378906, 19.648038864135742, 19.705522537231445, 19.591161727905273, 19.856361389160156, 19.771814346313477, 20.00579071044922, 19.85091781616211, 19.847415924072266, 20.478899002075195, 19.79427146911621, 20.005157470703125, 19.90910530090332, 19.76837158203125, 19.721454620361328]\n",
            "\n",
            "objectId: ZTF18aczvqcr\n",
            "                               jd    magpsf  fid  sigmapsf\n",
            "candid                                                    \n",
            "1410421083615015027  2.459165e+06  20.12631    1  0.147839\n",
            "\n",
            " {\"candid\":{\"0\":1410421083615015027,\"1\":1414350743615015012,\"2\":1416402323615015029,\"3\":1416428113615\n"
          ],
          "name": "stdout"
        }
      ]
    },
    {
      "cell_type": "code",
      "metadata": {
        "id": "RxWJxfIvqClt"
      },
      "source": [
        "# Option 5 (continued): convert the full query_job to a different format\n",
        "lcsdf = pgb.bigquery.format_history_query_results(query_job=query_job)\n",
        "lcsjson = pgb.bigquery.format_history_query_results(query_job=query_job, format='json')\n",
        "\n",
        "# This is just the long way around to get Options 1 and 3, \n",
        "# but we demonstrate it for completeness."
      ],
      "execution_count": 34,
      "outputs": []
    },
    {
      "cell_type": "markdown",
      "metadata": {
        "id": "wmeLC30rPwKF"
      },
      "source": [
        "---"
      ]
    },
    {
      "cell_type": "markdown",
      "metadata": {
        "id": "aiak8JwvPfcL"
      },
      "source": [
        "#### Plot a lightcurve\n",
        "\n",
        "`pgb` can plot lightcurves, given a DataFrame with the following columns: `['jd','fid','magpsf','sigmapsf','diffmaglim']`"
      ]
    },
    {
      "cell_type": "code",
      "metadata": {
        "id": "NqJAkLgxBO7H",
        "colab": {
          "base_uri": "https://localhost:8080/",
          "height": 295
        },
        "outputId": "2446c97c-a105-4bf6-81a2-7fc30a7bcaa4"
      },
      "source": [
        "# Get a DataFrame with the required lightcurve data\n",
        "columns = ['jd','fid','magpsf','sigmapsf','diffmaglim']\n",
        "objectId = 'ZTF20acqgklx'\n",
        "lcdf = pgb.bigquery.query_objects(columns, objectIds=[objectId], dry_run=False)\n",
        "\n",
        "# make the plot\n",
        "pgb.figures.plot_lightcurve(lcdf, objectId=objectId)\n",
        "# function was adapted from:\n",
        "# https://github.com/ZwickyTransientFacility/ztf-avro-alert/blob/master/notebooks/Filtering_alerts.ipynb"
      ],
      "execution_count": 35,
      "outputs": [
        {
          "output_type": "display_data",
          "data": {
            "image/png": "[encoded data removed]",
            "text/plain": [
              "<Figure size 432x288 with 1 Axes>"
            ]
          },
          "metadata": {
            "tags": [],
            "needs_background": "light"
          }
        }
      ]
    },
    {
      "cell_type": "markdown",
      "metadata": {
        "id": "eAKV_dWBGata"
      },
      "source": [
        "---"
      ]
    },
    {
      "cell_type": "markdown",
      "metadata": {
        "id": "3nDSzXh1khgt"
      },
      "source": [
        "## 3b) Command-line tool `bq`\n",
        "\n",
        "All commands in this section are executed using the `run` function we created earlier to run commands on the command-line.\n",
        "\n",
        "`bq`'s default dialect is legacy SQL. Here we use standard SQL by passing `--use_legacy_sql=false`.\n",
        "<!-- (see [change to standard SQL](https://cloud.google.com/bigquery/docs/reference/standard-sql/enabling-standard-sql#changing_from_the_default_dialect)) -->\n",
        "\n",
        "Links to more information:\n",
        "- [Quickstart using the bq command-line tool](https://cloud.google.com/bigquery/docs/quickstarts/quickstart-command-line)\n",
        "- [Reference of all `bq` commands and flags](https://cloud.google.com/bigquery/docs/reference/bq-cli-reference)\n",
        "- [Query syntax in Standard SQL](https://cloud.google.com/bigquery/docs/reference/standard-sql/query-syntax)"
      ]
    },
    {
      "cell_type": "code",
      "metadata": {
        "id": "qaUD-I_uJV3h",
        "colab": {
          "base_uri": "https://localhost:8080/"
        },
        "outputId": "85ef9631-9508-43f0-9300-61892ced85e4"
      },
      "source": [
        "# Get help\n",
        "run('bq help query')"
      ],
      "execution_count": 36,
      "outputs": [
        {
          "output_type": "stream",
          "text": [
            ">> bq help query\n",
            "Python script for interacting with BigQuery.\n",
            "\n",
            "\n",
            "USAGE: bq.py [--global_flags] <command> [--command_flags] [args]\n",
            "\n",
            "\n",
            "query                      Execute a query.\n",
            "\n",
            "                           Query should be specified on command line, or passed\n",
            "                           on stdin.\n",
            "\n",
            "                           Examples:\n",
            "                           bq query 'select count(*) from\n",
            "                           publicdata:samples.shakespeare'\n",
            "                           echo 'select count(*) from\n",
            "                           publicdata:samples.shakespeare' | bq query\n",
            "\n",
            "                           Usage:\n",
            "                           query [<sql_query>]\n",
            "\n",
            "                           Flags for query:\n",
            "\n",
            "                             /tools/google-cloud-sdk/platform/bq/bq.py:\n",
            "                               --[no]allow_large_results: Enables larger\n",
            "                                 destination table sizes for legacy SQL queries.\n",
            "                               --[no]append_table: When a destination table is\n",
            "                                 specified, whether or not to append.\n",
            "                                 (default: 'false')\n",
            "                               --[no]batch: Whether to run the query in batch\n",
            "                                 mode.\n",
            "                                 (default: 'false')\n",
            "                               --clustering_fields: Comma separated field names.\n",
            "                                 Can only be specified with time based\n",
            "                                 partitioning. Data will be first partitioned\n",
            "                                 and subsequently \"clustered on these fields.\n",
            "                               --destination_kms_key: Cloud KMS key for\n",
            "                                 encryption of the destination table data.\n",
            "                               --destination_schema: Schema for the destination\n",
            "                                 table. Either a filename or a comma-separated\n",
            "                                 list of fields in the form name[:type].\n",
            "                                 (default: '')\n",
            "                               --destination_table: Name of destination table\n",
            "                                 for query results.\n",
            "                                 (default: '')\n",
            "                               --display_name: Display name for the created\n",
            "                                 scheduled query configuration.\n",
            "                                 (default: '')\n",
            "                               --[no]dry_run: Whether the query should be\n",
            "                                 validated without executing.\n",
            "                               --external_table_definition: Specifies a table\n",
            "                                 name and either an inline table definition or a\n",
            "                                 path to a file containing a JSON table\n",
            "                                 definition to use in the query. The format is\n",
            "                                 \"table_name::path_to_file_with_json_def\" or\n",
            "                                 \"table_name::schema@format=uri@connection\".\n",
            "                                 Note using connection is an experimental\n",
            "                                 feature and is still under development.For\n",
            "                                 example, \"--external_table_definition=Example::\n",
            "                                 /tmp/example_table_def.txt\" will define a table\n",
            "                                 named \"Example\" using the URIs and schema\n",
            "                                 encoded in example_table_def.txt.;\n",
            "                                 repeat this option to specify a list of values\n",
            "                               --[no]flatten_results: Whether to flatten nested\n",
            "                                 and repeated fields in the result schema for\n",
            "                                 legacy SQL queries. If not set, the default\n",
            "                                 behavior is to flatten.\n",
            "                               --job_timeout_ms: Maximum time to run the entire\n",
            "                                 script.\n",
            "                               --label: A label to set on a query job. The\n",
            "                                 format is \"key:value\";\n",
            "                                 repeat this option to specify a list of values\n",
            "                               --max_child_jobs: Maximum number of child jobs to\n",
            "                                 fetch results from after executing a script.\n",
            "                                 If the number of child jobs exceeds this limit,\n",
            "                                 only the final result will be displayed.\n",
            "                                 (default: '1000')\n",
            "                                 (an integer)\n",
            "                               -n,--max_rows: How many rows to return in the\n",
            "                                 result.\n",
            "                                 (default: '100')\n",
            "                                 (an integer)\n",
            "                               --max_statement_results: Maximum number of script\n",
            "                                 statements to display the results for.\n",
            "                                 (default: '100')\n",
            "                                 (an integer)\n",
            "                               --maximum_billing_tier: The upper limit of\n",
            "                                 billing tier for the query.\n",
            "                                 (an integer)\n",
            "                               --maximum_bytes_billed: The upper limit of bytes\n",
            "                                 billed for the query.\n",
            "                                 (an integer)\n",
            "                               --min_completion_ratio: [Experimental] The\n",
            "                                 minimum fraction of data that must be scanned\n",
            "                                 before a query returns. If not set, the default\n",
            "                                 server value (1.0) will be used.\n",
            "                                 (a number in the range [0, 1.0])\n",
            "                               --parameter: Either a file containing a JSON list\n",
            "                                 of query parameters, or a query parameter in\n",
            "                                 the form \"name:type:value\". An empty name\n",
            "                                 produces a positional parameter. The type may\n",
            "                                 be omitted to assume STRING: name::value or\n",
            "                                 ::value. The value \"NULL\" produces a null\n",
            "                                 value.;\n",
            "                                 repeat this option to specify a list of values\n",
            "                               --range_partitioning: Enables range partitioning\n",
            "                                 on the table. The format should be\n",
            "                                 \"field,start,end,interval\". The table will be\n",
            "                                 partitioned based on the value of the field.\n",
            "                                 Field must be a top-level, non-repeated INT64\n",
            "                                 field. Start, end, and interval are INT64\n",
            "                                 values defining the ranges.\n",
            "                               --[no]replace: If true, erase existing contents\n",
            "                                 before loading new data.\n",
            "                                 (default: 'false')\n",
            "                               --request_id: The request_id to use for the\n",
            "                                 jobs.query request. Only valid when used in\n",
            "                                 combination with --rpc.\n",
            "                               --[no]require_cache: Whether to only run the\n",
            "                                 query if it is already cached.\n",
            "                               --[no]require_partition_filter: Whether to\n",
            "                                 require partition filter for queries over this\n",
            "                                 table. Only apply to partitioned table.\n",
            "                               --[no]rpc: If true, use rpc-style query API\n",
            "                                 instead of jobs.insert().\n",
            "                                 (default: 'false')\n",
            "                               --schedule: Scheduled query schedule. If non-\n",
            "                                 empty, this query requests could create a\n",
            "                                 scheduled query understand the customer\n",
            "                                 project. See https://cloud.google.com/appengine\n",
            "                                 /docs/flexible/python/scheduling-jobs-with-\n",
            "                                 cron-yaml#the_schedule_format for the schedule\n",
            "                                 format\n",
            "                               --schema_update_option: Can be specified when\n",
            "                                 append to a table, or replace a table\n",
            "                                 partition. When specified, the schema of the\n",
            "                                 destination table will be updated with the\n",
            "                                 schema of the new data. One or more of the\n",
            "                                 following options can be specified:\n",
            "                                 ALLOW_FIELD_ADDITION: allow new fields to be\n",
            "                                 added\n",
            "                                 ALLOW_FIELD_RELAXATION: allow relaxing required\n",
            "                                 fields to nullable;\n",
            "                                 repeat this option to specify a list of values\n",
            "                               --script_statement_byte_budget: Maximum bytes\n",
            "                                 that can be billed for any statement in a\n",
            "                                 script.\n",
            "                               --script_statement_timeout_ms: Maximum time to\n",
            "                                 complete each statement in a script.\n",
            "                               -s,--start_row: First row to return in the\n",
            "                                 result.\n",
            "                                 (default: '0')\n",
            "                                 (an integer)\n",
            "                               --target_dataset: Target dataset used to create\n",
            "                                 scheduled query.\n",
            "                               --time_partitioning_expiration: Enables time\n",
            "                                 based partitioning on the table and sets the\n",
            "                                 number of seconds for which to keep the storage\n",
            "                                 for the partitions in the table. The storage in\n",
            "                                 a partition will have an expiration time of its\n",
            "                                 partition time plus this value.\n",
            "                                 (an integer)\n",
            "                               --time_partitioning_field: Enables time based\n",
            "                                 partitioning on the table and the table will be\n",
            "                                 partitioned based on the value of this field.\n",
            "                                 If time based partitioning is enabled without\n",
            "                                 this value, the table will be partitioned based\n",
            "                                 on the loading time.\n",
            "                               --time_partitioning_type: Enables time based\n",
            "                                 partitioning on the table and set the type. The\n",
            "                                 default value is DAY, which will generate one\n",
            "                                 partition per day. Other supported values are\n",
            "                                 HOUR, MONTH, and YEAR.\n",
            "                               --udf_resource: The URI or local filesystem path\n",
            "                                 of a code file to load and evaluate immediately\n",
            "                                 as a User-Defined Function resource.;\n",
            "                                 repeat this option to specify a list of values\n",
            "                               --[no]use_cache: Whether to use the query cache\n",
            "                                 to avoid rerunning cached queries.\n",
            "                               --[no]use_legacy_sql: Whether to use Legacy SQL\n",
            "                                 for the query. If not set, the default value is\n",
            "                                 true.\n",
            "\n",
            "                             absl.flags:\n",
            "                               --flagfile: Insert flag definitions from the\n",
            "                                 given file into the command line.\n",
            "                                 (default: '')\n",
            "                               --undefok: comma-separated list of flag names\n",
            "                                 that it is okay to specify on the command line\n",
            "                                 even if the program does not define a flag with\n",
            "                                 that name.  IMPORTANT: flags in this list that\n",
            "                                 have arguments MUST use the --flag=value\n",
            "                                 format.\n",
            "                                 (default: '')\n",
            "\n",
            "\n",
            "Run 'bq.py --help' to get help for global flags.\n",
            "Run 'bq.py help' to see the list of available commands.\n",
            "\n"
          ],
          "name": "stdout"
        }
      ]
    },
    {
      "cell_type": "code",
      "metadata": {
        "id": "XhAlHJaPH5FY",
        "colab": {
          "base_uri": "https://localhost:8080/"
        },
        "outputId": "fc4443db-8e67-4ac0-c6b8-ea58b5084f00"
      },
      "source": [
        "# view the schema of a table\n",
        "run('bq show --schema --format=prettyjson ardent-cycling-243415:ztf_alerts.salt2')\n",
        "# run('bq show --schema --format=prettyjson ardent-cycling-243415:ztf_alerts.alerts')\n",
        "\n",
        "# Note: The first time you make a call with `bq` you will ask you to \n",
        "# initialize a .bigqueryrc configuration file. Follow the directions."
      ],
      "execution_count": 37,
      "outputs": [
        {
          "output_type": "stream",
          "text": [
            ">> bq show --schema --format=prettyjson ardent-cycling-243415:ztf_alerts.salt2\n",
            "\n",
            "Welcome to BigQuery! This script will walk you through the \n",
            "process of initializing your .bigqueryrc configuration file.\n",
            "\n",
            "First, we need to set up your credentials if they do not \n",
            "already exist.\n",
            "\n",
            "Credential creation complete. Now we will select a default project.\n",
            "\n",
            "List of projects:\n",
            "[\n",
            "  {\n",
            "    \"#\": 1, \n",
            "    \"friendlyName\": \"Budget\", \n",
            "    \"projectId\": \"budget-242622\"\n",
            "  }, \n",
            "  {\n",
            "    \"#\": 2, \n",
            "    \"friendlyName\": \"Kafka to BigQuery\", \n",
            "    \"projectId\": \"kafka-to-bigquery\"\n",
            "  }, \n",
            "  {\n",
            "    \"#\": 3, \n",
            "    \"friendlyName\": \"My First Project\", \n",
            "    \"projectId\": \"smiling-timing-239918\"\n",
            "  }, \n",
            "  {\n",
            "    \"#\": 4, \n",
            "    \"friendlyName\": \"Pitt-Broker\", \n",
            "    \"projectId\": \"pitt-broker\"\n",
            "  }, \n",
            "  {\n",
            "    \"#\": 5, \n",
            "    \"friendlyName\": \"pitt-google-broker-prototype\", \n",
            "    \"projectId\": \"ardent-cycling-243415\"\n",
            "  }\n",
            "]\n",
            "Found multiple projects. Please enter a selection for \n",
            "which should be the default, or leave blank to not \n",
            "set a default.\n",
            "\n",
            "Enter a selection (1 - 5): 5\n",
            "\n",
            "BigQuery configuration complete! Type \"bq\" to get started.\n",
            "\n",
            "[\n",
            "  {\n",
            "    \"mode\": \"NULLABLE\",\n",
            "    \"name\": \"objectId\",\n",
            "    \"type\": \"STRING\"\n",
            "  },\n",
            "  {\n",
            "    \"mode\": \"NULLABLE\",\n",
            "    \"name\": \"candid\",\n",
            "    \"type\": \"INTEGER\"\n",
            "  },\n",
            "  {\n",
            "    \"mode\": \"NULLABLE\",\n",
            "    \"name\": \"success\",\n",
            "    \"type\": \"INTEGER\"\n",
            "  },\n",
            "  {\n",
            "    \"mode\": \"NULLABLE\",\n",
            "    \"name\": \"ncall\",\n",
            "    \"type\": \"INTEGER\"\n",
            "  },\n",
            "  {\n",
            "    \"mode\": \"NULLABLE\",\n",
            "    \"name\": \"chisq\",\n",
            "    \"type\": \"FLOAT\"\n",
            "  },\n",
            "  {\n",
            "    \"mode\": \"NULLABLE\",\n",
            "    \"name\": \"ndof\",\n",
            "    \"type\": \"INTEGER\"\n",
            "  },\n",
            "  {\n",
            "    \"mode\": \"NULLABLE\",\n",
            "    \"name\": \"z\",\n",
            "    \"type\": \"FLOAT\"\n",
            "  },\n",
            "  {\n",
            "    \"mode\": \"NULLABLE\",\n",
            "    \"name\": \"z_err\",\n",
            "    \"type\": \"FLOAT\"\n",
            "  },\n",
            "  {\n",
            "    \"mode\": \"NULLABLE\",\n",
            "    \"name\": \"t0\",\n",
            "    \"type\": \"FLOAT\"\n",
            "  },\n",
            "  {\n",
            "    \"mode\": \"NULLABLE\",\n",
            "    \"name\": \"t0_err\",\n",
            "    \"type\": \"FLOAT\"\n",
            "  },\n",
            "  {\n",
            "    \"mode\": \"NULLABLE\",\n",
            "    \"name\": \"x0\",\n",
            "    \"type\": \"FLOAT\"\n",
            "  },\n",
            "  {\n",
            "    \"mode\": \"NULLABLE\",\n",
            "    \"name\": \"x0_err\",\n",
            "    \"type\": \"FLOAT\"\n",
            "  },\n",
            "  {\n",
            "    \"mode\": \"NULLABLE\",\n",
            "    \"name\": \"x1\",\n",
            "    \"type\": \"FLOAT\"\n",
            "  },\n",
            "  {\n",
            "    \"mode\": \"NULLABLE\",\n",
            "    \"name\": \"x1_err\",\n",
            "    \"type\": \"FLOAT\"\n",
            "  },\n",
            "  {\n",
            "    \"mode\": \"NULLABLE\",\n",
            "    \"name\": \"c\",\n",
            "    \"type\": \"FLOAT\"\n",
            "  },\n",
            "  {\n",
            "    \"mode\": \"NULLABLE\",\n",
            "    \"name\": \"c_err\",\n",
            "    \"type\": \"FLOAT\"\n",
            "  },\n",
            "  {\n",
            "    \"mode\": \"NULLABLE\",\n",
            "    \"name\": \"z_z_cov\",\n",
            "    \"type\": \"FLOAT\"\n",
            "  },\n",
            "  {\n",
            "    \"mode\": \"NULLABLE\",\n",
            "    \"name\": \"z_t0_cov\",\n",
            "    \"type\": \"FLOAT\"\n",
            "  },\n",
            "  {\n",
            "    \"mode\": \"NULLABLE\",\n",
            "    \"name\": \"z_x0_cov\",\n",
            "    \"type\": \"FLOAT\"\n",
            "  },\n",
            "  {\n",
            "    \"mode\": \"NULLABLE\",\n",
            "    \"name\": \"z_x1_cov\",\n",
            "    \"type\": \"FLOAT\"\n",
            "  },\n",
            "  {\n",
            "    \"mode\": \"NULLABLE\",\n",
            "    \"name\": \"z_c_cov\",\n",
            "    \"type\": \"FLOAT\"\n",
            "  },\n",
            "  {\n",
            "    \"mode\": \"NULLABLE\",\n",
            "    \"name\": \"t0_z_cov\",\n",
            "    \"type\": \"FLOAT\"\n",
            "  },\n",
            "  {\n",
            "    \"mode\": \"NULLABLE\",\n",
            "    \"name\": \"t0_t0_cov\",\n",
            "    \"type\": \"FLOAT\"\n",
            "  },\n",
            "  {\n",
            "    \"mode\": \"NULLABLE\",\n",
            "    \"name\": \"t0_x0_cov\",\n",
            "    \"type\": \"FLOAT\"\n",
            "  },\n",
            "  {\n",
            "    \"mode\": \"NULLABLE\",\n",
            "    \"name\": \"t0_x1_cov\",\n",
            "    \"type\": \"FLOAT\"\n",
            "  },\n",
            "  {\n",
            "    \"mode\": \"NULLABLE\",\n",
            "    \"name\": \"t0_c_cov\",\n",
            "    \"type\": \"FLOAT\"\n",
            "  },\n",
            "  {\n",
            "    \"mode\": \"NULLABLE\",\n",
            "    \"name\": \"x0_z_cov\",\n",
            "    \"type\": \"FLOAT\"\n",
            "  },\n",
            "  {\n",
            "    \"mode\": \"NULLABLE\",\n",
            "    \"name\": \"x0_t0_cov\",\n",
            "    \"type\": \"FLOAT\"\n",
            "  },\n",
            "  {\n",
            "    \"mode\": \"NULLABLE\",\n",
            "    \"name\": \"x0_x0_cov\",\n",
            "    \"type\": \"FLOAT\"\n",
            "  },\n",
            "  {\n",
            "    \"mode\": \"NULLABLE\",\n",
            "    \"name\": \"x0_x1_cov\",\n",
            "    \"type\": \"FLOAT\"\n",
            "  },\n",
            "  {\n",
            "    \"mode\": \"NULLABLE\",\n",
            "    \"name\": \"x0_c_cov\",\n",
            "    \"type\": \"FLOAT\"\n",
            "  },\n",
            "  {\n",
            "    \"mode\": \"NULLABLE\",\n",
            "    \"name\": \"x1_z_cov\",\n",
            "    \"type\": \"FLOAT\"\n",
            "  },\n",
            "  {\n",
            "    \"mode\": \"NULLABLE\",\n",
            "    \"name\": \"x1_t0_cov\",\n",
            "    \"type\": \"FLOAT\"\n",
            "  },\n",
            "  {\n",
            "    \"mode\": \"NULLABLE\",\n",
            "    \"name\": \"x1_x0_cov\",\n",
            "    \"type\": \"FLOAT\"\n",
            "  },\n",
            "  {\n",
            "    \"mode\": \"NULLABLE\",\n",
            "    \"name\": \"x1_x1_cov\",\n",
            "    \"type\": \"FLOAT\"\n",
            "  },\n",
            "  {\n",
            "    \"mode\": \"NULLABLE\",\n",
            "    \"name\": \"x1_c_cov\",\n",
            "    \"type\": \"FLOAT\"\n",
            "  },\n",
            "  {\n",
            "    \"mode\": \"NULLABLE\",\n",
            "    \"name\": \"c_z_cov\",\n",
            "    \"type\": \"FLOAT\"\n",
            "  },\n",
            "  {\n",
            "    \"mode\": \"NULLABLE\",\n",
            "    \"name\": \"c_t0_cov\",\n",
            "    \"type\": \"FLOAT\"\n",
            "  },\n",
            "  {\n",
            "    \"mode\": \"NULLABLE\",\n",
            "    \"name\": \"c_x0_cov\",\n",
            "    \"type\": \"FLOAT\"\n",
            "  },\n",
            "  {\n",
            "    \"mode\": \"NULLABLE\",\n",
            "    \"name\": \"c_x1_cov\",\n",
            "    \"type\": \"FLOAT\"\n",
            "  },\n",
            "  {\n",
            "    \"mode\": \"NULLABLE\",\n",
            "    \"name\": \"c_c_cov\",\n",
            "    \"type\": \"FLOAT\"\n",
            "  },\n",
            "  {\n",
            "    \"mode\": \"NULLABLE\",\n",
            "    \"name\": \"plot_lc_bytes\",\n",
            "    \"type\": \"BYTES\"\n",
            "  }\n",
            "]\n",
            "\n"
          ],
          "name": "stdout"
        }
      ]
    },
    {
      "cell_type": "code",
      "metadata": {
        "id": "dFTI682_kAtG",
        "colab": {
          "base_uri": "https://localhost:8080/"
        },
        "outputId": "c58ebe01-a9cb-4b64-9a5e-bbcf4db200fd"
      },
      "source": [
        "# Query\n",
        "\n",
        "# Here we query the salt2 database, \n",
        "#   group results by objectId,\n",
        "#   and return the objectId, avg redshift, and average chi squared per degree of freedom\n",
        "\n",
        "# first we do a dry_run by including the flag --dry_run\n",
        "bq_query = \"\"\"bq query \\\n",
        "--dry_run \\\n",
        "--use_legacy_sql=false \\\n",
        "'SELECT \n",
        "    objectId, \n",
        "    AVG(z) as z_avg, \n",
        "    AVG(chisq/ndof) as chisq_per_dof_avg\n",
        "FROM \n",
        "    `ardent-cycling-243415.ztf_alerts.salt2`\n",
        "WHERE \n",
        "    ndof>0 and chisq/ndof<2\n",
        "GROUP BY \n",
        "    objectId'\n",
        "\"\"\"\n",
        "\n",
        "run(bq_query)\n",
        "# Note: to execute this directly in the command-line, enter everything \n",
        "# contained within the triple quotes."
      ],
      "execution_count": 38,
      "outputs": [
        {
          "output_type": "stream",
          "text": [
            ">> bq query --dry_run --use_legacy_sql=false 'SELECT \n",
            "    objectId, \n",
            "    AVG(z) as z_avg, \n",
            "    AVG(chisq/ndof) as chisq_per_dof_avg\n",
            "FROM \n",
            "    `ardent-cycling-243415.ztf_alerts.salt2`\n",
            "WHERE \n",
            "    ndof>0 and chisq/ndof<2\n",
            "GROUP BY \n",
            "    objectId'\n",
            "\n",
            "Query successfully validated. Assuming the tables are not modified, running this query will process 4661118 bytes of data.\n",
            "\n"
          ],
          "name": "stdout"
        }
      ]
    },
    {
      "cell_type": "code",
      "metadata": {
        "colab": {
          "base_uri": "https://localhost:8080/"
        },
        "id": "cPuGfMbPiUPN",
        "outputId": "3d730b29-bc5f-481f-8d8f-ff67c38c3314"
      },
      "source": [
        "# now let's execute the query\n",
        "\n",
        "bq_query = \"\"\"bq query \\\n",
        "--use_legacy_sql=false \\\n",
        "'SELECT \n",
        "    objectId, \n",
        "    AVG(z) as z_avg, \n",
        "    AVG(chisq/ndof) as chisq_per_dof_avg\n",
        "FROM \n",
        "    `ardent-cycling-243415.ztf_alerts.salt2`\n",
        "WHERE \n",
        "    ndof>0 and chisq/ndof<2\n",
        "GROUP BY \n",
        "    objectId\n",
        "LIMIT\n",
        "    10'\n",
        "\"\"\"\n",
        "\n",
        "run(bq_query)"
      ],
      "execution_count": 39,
      "outputs": [
        {
          "output_type": "stream",
          "text": [
            ">> bq query --use_legacy_sql=false 'SELECT \n",
            "    objectId, \n",
            "    AVG(z) as z_avg, \n",
            "    AVG(chisq/ndof) as chisq_per_dof_avg\n",
            "FROM \n",
            "    `ardent-cycling-243415.ztf_alerts.salt2`\n",
            "WHERE \n",
            "    ndof>0 and chisq/ndof<2\n",
            "GROUP BY \n",
            "    objectId\n",
            "LIMIT\n",
            "    10'\n",
            "\n",
            "Waiting on bqjob_r1c24f758beb1833b_0000017887fc36a8_1 ... (0s) Current status: DONE   \n",
            "+--------------+---------------------+---------------------+\n",
            "|   objectId   |        z_avg        |  chisq_per_dof_avg  |\n",
            "+--------------+---------------------+---------------------+\n",
            "| ZTF18acedtrr | 0.11041207724930682 |   0.765894240925551 |\n",
            "| ZTF18acwgwjx |  0.0782981140542461 |  1.2391314442006995 |\n",
            "| ZTF20acurtpj | 0.07000531275558222 | 0.16031656945872366 |\n",
            "| ZTF18abuqhmh | 0.08990690410424898 |  0.9928244133196046 |\n",
            "| ZTF18aczvqcr | 0.15267833194935965 |  0.8574954970959167 |\n",
            "| ZTF20acpndgt |  0.1034171238925821 | 0.47740791080768413 |\n",
            "| ZTF18acexfph |  0.0869755266891918 |   1.315439791990906 |\n",
            "| ZTF18aadvwyz | 0.06711704624315813 | 0.18060054434423845 |\n",
            "| ZTF20acvjlev | 0.10831501428416489 |  1.0158219198517155 |\n",
            "| ZTF20achncvv | 0.10910642277379048 |  0.8046820519141633 |\n",
            "+--------------+---------------------+---------------------+\n",
            "\n"
          ],
          "name": "stdout"
        }
      ]
    },
    {
      "cell_type": "code",
      "metadata": {
        "id": "lLYViCWjiUFt"
      },
      "source": [
        "# Help!\n",
        "# Not sure what else to demonstrate here.\n",
        "# I looked for flags to change the format of the results, but didn't see anything.\n",
        "# I could show them how to create their own BigQuery table and save the results there.\n",
        "# I could also show how to create their own Cloud Storage bucket and export an entire table there."
      ],
      "execution_count": null,
      "outputs": []
    },
    {
      "cell_type": "markdown",
      "metadata": {
        "id": "2Qu69YBOtfkM"
      },
      "source": [
        "---"
      ]
    },
    {
      "cell_type": "markdown",
      "metadata": {
        "id": "jwxBVDcgVsOZ"
      },
      "source": [
        "# 5) Download a file from Cloud Storage"
      ]
    },
    {
      "cell_type": "markdown",
      "metadata": {
        "id": "DxcGxp_1WkK8"
      },
      "source": [
        "__This section is not ready for review.__ \n",
        "\n",
        "- grab cutouts from Cloud Storage\n",
        "\n",
        "- [Quickstart: Using the gsutil tool](https://cloud.google.com/storage/docs/quickstart-gsutil)"
      ]
    },
    {
      "cell_type": "code",
      "metadata": {
        "id": "HtBrGafqO7gr"
      },
      "source": [
        "#--- Download an alert from GCS bucket\n",
        "\n",
        "import logging\n",
        "import os\n",
        "\n",
        "bucket_name = f'{pgb_project_id}_ztf_alert_avro_bucket'\n",
        "fname_prefix = '1605062619785'  # recently ingested avro file name, get from logging\n",
        "local_dir = './testdownload'\n",
        "delimiter = '/'\n",
        "\n",
        "storage_client = storage.Client.from_service_account_json('GCPauth_pitt-google-broker-prototype-0679b75dded0.json')\n",
        "bucket = storage_client.get_bucket(bucket_name)\n",
        "blobs = bucket.list_blobs(prefix=fname_prefix, delimiter=delimiter) #List all objects that satisfy the filter.\n",
        "# Download the file to a destination\n",
        "# Iterating through for loop one by one using API call\n",
        "for blob in blobs:\n",
        "    destination_uri = '{}/{}'.format(local_dir, blob.name)\n",
        "    blob.download_to_filename(destination_uri)"
      ],
      "execution_count": null,
      "outputs": []
    },
    {
      "cell_type": "markdown",
      "metadata": {
        "id": "RlnP_NoGvnQt"
      },
      "source": [
        "---"
      ]
    },
    {
      "cell_type": "markdown",
      "metadata": {
        "id": "rm4lULOsVz3I"
      },
      "source": [
        "# 6) Listen to Pub/Sub Streams"
      ]
    },
    {
      "cell_type": "markdown",
      "metadata": {
        "id": "bxdGsenapMZR"
      },
      "source": [
        "__This section is not ready for review.__ \n",
        "\n",
        "- Python\n",
        "  - unpack into dict"
      ]
    },
    {
      "cell_type": "markdown",
      "metadata": {
        "id": "hEXE5Ek8vkkX"
      },
      "source": [
        "---"
      ]
    },
    {
      "cell_type": "markdown",
      "metadata": {
        "id": "mh5GTskUm-lH"
      },
      "source": [
        "---"
      ]
    },
    {
      "cell_type": "markdown",
      "metadata": {
        "id": "VbkGy7YPV8IH"
      },
      "source": [
        "# 7) Run an Apache Beam data pipeline to analyze BigQuery or Pub/Sub data"
      ]
    },
    {
      "cell_type": "markdown",
      "metadata": {
        "id": "TEMBJBYKsiVW"
      },
      "source": [
        "[Apache Beam](https://beam.apache.org/) is an SDK that facilitates writing and executing data pipelines.\n",
        "The same pipeline can be attached to different sources (e.g., BigQuery and Pub/Sub) and run in batch or streaming mode.\n",
        "In this tutorial, we will demonstrate these pipelines and the\n",
        "`pgb_utils` tools that facilitate Beam access to our databases and streams.\n",
        "\n",
        "We will execute pipelines directly in the notebook, but the same pipelines can be executed on a local machine or various distributed systems using different \"runners\". \n",
        "For example, see \n",
        "[Apache Flink](https://beam.apache.org/documentation/runners/flink/), \n",
        "[Apache Spark](https://beam.apache.org/documentation/runners/spark/), \n",
        "[Google Dataflow](https://beam.apache.org/documentation/runners/dataflow/), and\n",
        "[DirectRunner](https://beam.apache.org/documentation/runners/direct/) (the last being the default, which we use below).\n",
        "The user sets a few configurations and the runner manages the pipeline execution and the resources (e.g., VM's) and environments needed to run it.\n",
        "\n",
        "Links to more information:\n",
        "- [Apache Beam Programming Guide](https://beam.apache.org/documentation/programming-guide/) (very useful!)\n",
        "- [Colab Snippets: Apache Beam](https://colab.research.google.com/github/apache/beam/blob/master/examples/notebooks/get-started/try-apache-beam-py.ipynb)\n",
        "\n",
        "<!-- We use the [Apache Beam](https://beam.apache.org/) (Python) SDK to write the data pipeline (see also [Apache Beam Programming Guide](https://beam.apache.org/documentation/programming-guide/)). This has the following advantages:\n",
        "\n",
        "1. Convenience: Native I/O functions for Pub/Sub, BigQuery, and Cloud Storage.\n",
        "2. Flexiblity: The same pipeline can accept streaming and batch inputs. -> Use the same pipeline to process the live stream and reprocess the database.\n",
        "3. Portability: The same pipeline can be run/executed in multiple environments (Google Cloud, AWS, local machine) via an execution \"runner\" ([Apache Flink](https://beam.apache.org/documentation/runners/flink/), [Apache Spark](https://beam.apache.org/documentation/runners/spark/), [Google Dataflow](https://beam.apache.org/documentation/runners/dataflow/), or [direct/local](https://beam.apache.org/documentation/runners/direct/)). -->"
      ]
    },
    {
      "cell_type": "code",
      "metadata": {
        "id": "QdOe6LyQWFei"
      },
      "source": [
        "import apache_beam as beam\n",
        "# if you get an error, try again"
      ],
      "execution_count": 40,
      "outputs": []
    },
    {
      "cell_type": "markdown",
      "metadata": {
        "id": "uji-PPVDugcY"
      },
      "source": [
        "---"
      ]
    },
    {
      "cell_type": "markdown",
      "metadata": {
        "id": "O3yXrkBVlNKn"
      },
      "source": [
        "## 7a) Query object histories and run a Beam pipeline on the results"
      ]
    },
    {
      "cell_type": "code",
      "metadata": {
        "id": "FNnbCyEVqiZq"
      },
      "source": [
        "# Define some functions/classes to process our data.\n",
        "# The structure of these will be discussed later.\n",
        "\n",
        "# Filter for likely solar system objects\n",
        "def nearby_ssobject(lcdf):\n",
        "    \"\"\"Filter that keeps only objects that are within 5\" of a known \n",
        "    solar system object. \n",
        "    \"\"\"\n",
        "    ssdistnr = lcdf['ssdistnr'].mean()\n",
        "    ssobject_is_near = (ssdistnr > 0) and (ssdistnr < 5)\n",
        "    return ssobject_is_near\n",
        "\n",
        "\n",
        "# Calculate the mean magnitude, per passband\n",
        "class calc_mean_mags(beam.DoFn):\n",
        "    \"\"\"Class that wraps our processing function which calculates \n",
        "    mean magnitudes per passband (\"fid\" is filter ID).\n",
        "    \"\"\"\n",
        "    def process(self, lcdf):\n",
        "        meanmags = lcdf[['fid','magpsf']].groupby('fid').mean()\n",
        "\n",
        "        # We will write this to a file, so let's format it appropriately.\n",
        "        # One line per item in the list will be written.\n",
        "        output = [f\"{lcdf.objectId},{fid},{row['magpsf']}\" for fid, row in meanmags.iterrows()]\n",
        "\n",
        "        return output"
      ],
      "execution_count": 41,
      "outputs": []
    },
    {
      "cell_type": "code",
      "metadata": {
        "id": "Hng_ZsO4VDk3"
      },
      "source": [
        "# Set pipeline configs\n",
        "\n",
        "# Create a SQL query statement to retrieve some lightcurve info.\n",
        "# This query defines the data that will be input to the pipeline.\n",
        "columns = ['jd', 'fid', 'magpsf', 'sigmapsf', 'ssdistnr']\n",
        "limit = 2000\n",
        "query = pgb.bigquery.object_history_sql_statement(columns, limit=limit)  # str\n",
        "\n",
        "# some keyword args for our pipeline's \"read\" (input) function\n",
        "read_args = {\n",
        "    'query': query, \n",
        "    'project': pgb_project_id,  \n",
        "    'use_standard_sql': True, \n",
        "    'gcs_location': 'gs://ardent-cycling-243415_dataflow-test',\n",
        "        # used as temporary storage for the query results\n",
        "    # 'validate': True\n",
        "}\n",
        "\n",
        "# path to write the results\n",
        "outputs_prefix = f'{colabpath}/outputs/meanmags'\n",
        "beam_outputs_prefix = f'{colabpath4beam}/outputs/meanmags'"
      ],
      "execution_count": 48,
      "outputs": []
    },
    {
      "cell_type": "code",
      "metadata": {
        "id": "fjV7ayLbH7fL",
        "colab": {
          "base_uri": "https://localhost:8080/"
        },
        "outputId": "6d36a9ba-82d9-4fc0-e869-01116e9adef9"
      },
      "source": [
        "# Run a batch pipeline based on our query statement\n",
        "\n",
        "with beam.Pipeline() as pipeline:\n",
        "    (\n",
        "        pipeline\n",
        "        # read lightcurves into the pipeline\n",
        "        | 'Read BigQuery' >> beam.io.ReadFromBigQuery(**read_args)\n",
        "        # extract the lightcurves into a DataFrame\n",
        "        | 'Extract Lightcurve df' >> beam.ParDo(pgb.beam.ExtractHistoryDf())\n",
        "        # filter, keep alerts likely to be a solar system object\n",
        "        | 'nearby ssobject' >> beam.Filter(nearby_ssobject)\n",
        "        # do some processing, calculate mean magnitudes per band\n",
        "        | 'calc mean mags' >> beam.ParDo(calc_mean_mags())\n",
        "        # save the results to a text file\n",
        "        | 'Write results' >> beam.io.WriteToText(beam_outputs_prefix)\n",
        "    )"
      ],
      "execution_count": 49,
      "outputs": [
        {
          "output_type": "stream",
          "text": [
            "/usr/local/lib/python3.7/dist-packages/apache_beam/io/gcp/bigquery.py:1881: BeamDeprecationWarning: options is deprecated since First stable release. References to <pipeline>.options will not be supported\n",
            "  temp_location = pcoll.pipeline.options.view_as(\n",
            "WARNING:apache_beam.io.gcp.bigquery_tools:Dataset ardent-cycling-243415:temp_dataset_33d81c666e3a462db9eab1cbc1d8dc75 does not exist so we will create it as temporary with location=US\n"
          ],
          "name": "stderr"
        }
      ]
    },
    {
      "cell_type": "code",
      "metadata": {
        "colab": {
          "base_uri": "https://localhost:8080/"
        },
        "id": "wvqRrrFc1PXL",
        "outputId": "66b02fe7-a745-4ef2-ccee-3611d1c9bd94"
      },
      "source": [
        "# Sample the first 20 results, remember there are no ordering guarantees.\n",
        "run('head -n 20 {}-00000-of-*'.format(outputs_prefix))"
      ],
      "execution_count": 51,
      "outputs": [
        {
          "output_type": "stream",
          "text": [
            ">> head -n 20 /content/drive/MyDrive/Colab\\ Notebooks/outputs/meanmags-00000-of-*\n",
            "ZTF20acpnlxl,1,20.476266860961914\n",
            "ZTF20acpkokh,1,19.425607681274414\n",
            "ZTF20acpkkoa,1,17.820716857910156\n",
            "ZTF20acreden,1,20.69711685180664\n",
            "ZTF20acpkngm,1,19.552305221557617\n",
            "ZTF20acqqedh,1,18.35369300842285\n",
            "ZTF20acpjwgr,1,19.26227569580078\n",
            "ZTF20acpmldm,1,20.396682739257812\n",
            "ZTF20acpkodm,1,19.991302490234375\n",
            "ZTF20acriegy,1,18.424522399902344\n",
            "ZTF20acrdzqx,1,18.979814529418945\n",
            "ZTF20acquoky,1,19.2310733795166\n",
            "ZTF20acpixfe,1,18.898263931274414\n",
            "ZTF20acpmqlk,1,20.033496856689453\n",
            "ZTF20acrhyjw,1,17.41057586669922\n",
            "ZTF20acpmpir,1,20.357805252075195\n",
            "ZTF20acpnjro,1,20.119626998901367\n",
            "ZTF20acphbis,1,20.567005157470703\n",
            "ZTF20acpkeyh,1,17.735126495361328\n",
            "ZTF20acpmwxo,1,20.166893005371094\n",
            "\n"
          ],
          "name": "stdout"
        }
      ]
    },
    {
      "cell_type": "code",
      "metadata": {
        "id": "ONNdbUO3D38G"
      },
      "source": [
        "# Functions and classes for the user to experiment with.\n",
        "\n",
        "#--- Filters\n",
        "# https://beam.apache.org/documentation/transforms/python/elementwise/filter/\n",
        "def my_lightcurve_filter(lcdf):\n",
        "    \"\"\"\n",
        "    Args:\n",
        "        lcdf (pd.DataFrame): a single object's lightcurve data\n",
        "    Returns:\n",
        "        keep_lightcurve (bool): True to keep lcdf in the pipeline, \n",
        "                                False to filter it out\n",
        "    \"\"\"\n",
        "    # Define your keep_lightcurve bool here\n",
        "    # for example, we can simply keep everything with an average magpsf > 19\n",
        "    avg_mag = lcdf['magpsf'].mean()\n",
        "    keep_lightcurve = avg_mag > 19\n",
        "\n",
        "    return keep_lightcurve\n",
        "\n",
        "#--- Functions for processing data\n",
        "# [provide a link]\n",
        "class my_alert_function(beam.DoFn):\n",
        "    def process(self, alertDict):\n",
        "\n",
        "        # Do your processing here\n",
        "        # for example, we can simply extract the object and candidate ids\n",
        "        oid, cid = alertDict['objectId'], alertDict['candid']\n",
        "        ids = {'objectId': oid, 'candid': cid}\n",
        "\n",
        "        # Return your output as a list; each element in the list must be\n",
        "        # of the same type, and will be processed individually by the next \n",
        "        # stage in the pipeline.\n",
        "        return [ids]"
      ],
      "execution_count": 54,
      "outputs": []
    },
    {
      "cell_type": "markdown",
      "metadata": {
        "id": "MIm-yRycqaS3"
      },
      "source": [
        "---\n",
        "__The rest of this section is not ready for review.__"
      ]
    },
    {
      "cell_type": "code",
      "metadata": {
        "id": "SATP2bLkFO43"
      },
      "source": [
        "# give them a pipeline that runs the functions in the previous cell"
      ],
      "execution_count": null,
      "outputs": []
    },
    {
      "cell_type": "markdown",
      "metadata": {
        "id": "rx5d5zYYwl0Q"
      },
      "source": [
        "Alert Pipelines"
      ]
    },
    {
      "cell_type": "code",
      "metadata": {
        "id": "Pd35b64Ge_BC"
      },
      "source": [
        "# Alert pipelines\n",
        "\n",
        "# example filter for likely solar system objects\n",
        "\n",
        "def nearby_ssobject(alert):\n",
        "    candidate = alert['candidate']\n",
        "    ssobject_is_near = (candidate['ssdistnr'] > 0) and (candidate['ssdistnr'] < 5)\n",
        "    return ssobject_is_near\n",
        "\n",
        "# Functions and classes for the user to experiment with.\n",
        "\n",
        "#--- Filters\n",
        "# https://beam.apache.org/documentation/transforms/python/elementwise/filter/\n",
        "\n",
        "# write your own filter\n",
        "def my_alert_filter(alert):\n",
        "    \"\"\"\n",
        "    Args:\n",
        "        alert (dict): a single alert\n",
        "    Returns:\n",
        "        keep_alert (bool): True to keep the alert, False to filter it out\n",
        "    \"\"\"\n",
        "\n",
        "class my_alert_function(beam.DoFn):\n",
        "    def process(self, alertDict):\n",
        "\n",
        "        # Process the alert however you want\n",
        "        # here we simply extract the object and candidate ids\n",
        "        oid, cid = alertDict['objectId'], alertDict['candid']\n",
        "        ids = {'objectId': oid, 'candid': cid}\n",
        "\n",
        "        # Return your output in a list\n",
        "        return [ids]\n"
      ],
      "execution_count": null,
      "outputs": []
    },
    {
      "cell_type": "code",
      "metadata": {
        "id": "Klc4oXN3Wj2w"
      },
      "source": [
        "topic = 'ztf_alert_data-tjr'\n",
        "\n",
        "with beam.Pipeline(options=pipeline_options) as pipeline:\n",
        "    (\n",
        "        pipeline\n",
        "        # read Pub/Sub messages (bytes) into the pipeline\n",
        "        | 'ReadFromPubSub' >> beam.io.ReadFromPubSub(topic=topic)\n",
        "        # extract the alert bytes into a dict\n",
        "        | 'ExtractAlertDict' >> beam.ParDo(extractAlertDict()))\n",
        "        # filter, keep alerts likely to be a solar system object\n",
        "        | 'nearby_ssobject' >> beam.Filter(nearby_ssobject)\n",
        "        # do some processing\n",
        "        | 'my_function' >> beam.ParDo(my_function())\n",
        "    )"
      ],
      "execution_count": null,
      "outputs": []
    },
    {
      "cell_type": "code",
      "metadata": {
        "id": "WmS2_DjrF40D"
      },
      "source": [
        "# Run a Streaming Beam pipeline\n",
        "\n",
        "topic = 'ztf_alert_data-tjr'\n",
        "\n",
        "with beam.Pipeline(options=pipeline_options) as pipeline:\n",
        "    (\n",
        "        pipeline\n",
        "        # read Pub/Sub messages (bytes) into the pipeline\n",
        "        | 'ReadFromPubSub' >> beam.io.ReadFromPubSub(topic=topic)\n",
        "        # extract the alert bytes into a dict\n",
        "        | 'ExtractAlertDict' >> beam.ParDo(extractAlertDict()))\n",
        "        # filter, keep alerts likely to be a solar system object\n",
        "        | 'nearby_ssobject' >> beam.Filter(nearby_ssobject)\n",
        "        # do some processing\n",
        "        | 'my_function' >> beam.ParDo(my_function())\n",
        "    )"
      ],
      "execution_count": null,
      "outputs": []
    },
    {
      "cell_type": "code",
      "metadata": {
        "id": "tlRxC6jHH718"
      },
      "source": [
        ""
      ],
      "execution_count": null,
      "outputs": []
    },
    {
      "cell_type": "code",
      "metadata": {
        "id": "iKb0EvIxH7uR"
      },
      "source": [
        ""
      ],
      "execution_count": null,
      "outputs": []
    },
    {
      "cell_type": "code",
      "metadata": {
        "id": "XHdumMvsPF5a"
      },
      "source": [
        "# Sample the first 20 results, remember there are no ordering guarantees.\n",
        "run('head -n 20 {}-00000-of-*'.format(outputs_prefix))"
      ],
      "execution_count": null,
      "outputs": []
    },
    {
      "cell_type": "markdown",
      "metadata": {
        "id": "YP2HVoo9wVqz"
      },
      "source": [
        "---"
      ]
    },
    {
      "cell_type": "code",
      "metadata": {
        "id": "vVz_RyMSwUzK"
      },
      "source": [
        "#--- Minimal word count (example)\n",
        "import re\n",
        "\n",
        "# download some King Lear data\n",
        "run(f'mkdir -p {colabpath}/data')\n",
        "run(f'gsutil cp gs://dataflow-samples/shakespeare/kinglear.txt {colabpath}/data/')\n",
        "\n",
        "# configs\n",
        "inputs_pattern = f'{colabpath}/data/*'\n",
        "outputs_prefix = f'{colabpath}/outputs/fromcolab3'\n",
        "\n",
        "# Running locally in the DirectRunner.\n",
        "with beam.Pipeline() as pipeline:\n",
        "  (\n",
        "      pipeline\n",
        "      | 'Read lines' >> beam.io.ReadFromText(inputs_pattern)\n",
        "      | 'Find words' >> beam.FlatMap(lambda line: re.findall(r\"[a-zA-Z']+\", line))\n",
        "      | 'Pair words with 1' >> beam.Map(lambda word: (word, 1))\n",
        "      | 'Group and sum' >> beam.CombinePerKey(sum)\n",
        "      | 'Format results' >> beam.Map(lambda word_count: str(word_count))\n",
        "      | 'Write results' >> beam.io.WriteToText(outputs_prefix)\n",
        "  )\n",
        "\n",
        "# Sample the first 20 results, remember there are no ordering guarantees.\n",
        "run('head -n 20 {}-00000-of-*'.format(outputs_prefix))"
      ],
      "execution_count": null,
      "outputs": []
    }
  ]
}
